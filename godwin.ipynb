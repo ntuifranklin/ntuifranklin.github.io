{
 "cells": [
  {
   "cell_type": "markdown",
   "id": "WIA7q1DfXIQC",
   "metadata": {
    "id": "WIA7q1DfXIQC"
   },
   "source": [
    "# Heart Failure Prediction\n",
    "# Group Members: Godwin Karngong, Temitope Adetunji, Franklin Nkokam Ngongang"
   ]
  },
  {
   "cell_type": "code",
   "execution_count": 88,
   "id": "AKebDb5SXkPG",
   "metadata": {
    "colab": {
     "base_uri": "https://localhost:8080/"
    },
    "executionInfo": {
     "elapsed": 17915,
     "status": "ok",
     "timestamp": 1670899498897,
     "user": {
      "displayName": "Franklin Nkokam Ngongang",
      "userId": "07081789311912667597"
     },
     "user_tz": 300
    },
    "id": "AKebDb5SXkPG",
    "outputId": "54f772b3-54a7-4767-e335-97c55071d792"
   },
   "outputs": [
    {
     "name": "stdout",
     "output_type": "stream",
     "text": [
      "Mounted at /content/drive\n"
     ]
    }
   ],
   "source": [
    "from google.colab import drive\n",
    "drive.mount('/content/drive')"
   ]
  },
  {
   "cell_type": "code",
   "execution_count": 1,
   "id": "0e984316",
   "metadata": {
    "colab": {
     "base_uri": "https://localhost:8080/"
    },
    "executionInfo": {
     "elapsed": 414,
     "status": "ok",
     "timestamp": 1670899518798,
     "user": {
      "displayName": "Franklin Nkokam Ngongang",
      "userId": "07081789311912667597"
     },
     "user_tz": 300
    },
    "id": "0e984316",
    "outputId": "1f1ba551-0ee5-4dfe-9885-ed8b6d13a2fb",
    "papermill": {
     "duration": 2.506823,
     "end_time": "2022-12-04T11:40:36.054617",
     "exception": false,
     "start_time": "2022-12-04T11:40:33.547794",
     "status": "completed"
    },
    "tags": []
   },
   "outputs": [
    {
     "name": "stdout",
     "output_type": "stream",
     "text": [
      "/Users/godinho_21/Desktop/CMSC 320\r\n"
     ]
    }
   ],
   "source": [
    "! pwd"
   ]
  },
  {
   "cell_type": "code",
   "execution_count": 2,
   "id": "ArIKFiViX6PO",
   "metadata": {
    "colab": {
     "base_uri": "https://localhost:8080/"
    },
    "executionInfo": {
     "elapsed": 2268,
     "status": "ok",
     "timestamp": 1670899679624,
     "user": {
      "displayName": "Franklin Nkokam Ngongang",
      "userId": "07081789311912667597"
     },
     "user_tz": 300
    },
    "id": "ArIKFiViX6PO",
    "outputId": "641a29e9-edda-46f8-d3ea-03004d7fba04"
   },
   "outputs": [
    {
     "name": "stderr",
     "output_type": "stream",
     "text": [
      "UsageError: Cell magic `%%shell` not found.\n"
     ]
    }
   ],
   "source": [
    "%%shell\n",
    "jupyter nbconvert --to html /content/*.ipynb"
   ]
  },
  {
   "cell_type": "markdown",
   "id": "cZSQZlzKW06t",
   "metadata": {
    "id": "cZSQZlzKW06t"
   },
   "source": []
  },
  {
   "cell_type": "code",
   "execution_count": 20,
   "id": "Mxs7Zc1xWucL",
   "metadata": {
    "id": "Mxs7Zc1xWucL"
   },
   "outputs": [],
   "source": [
    "import pandas as pd\n",
    "import numpy as np\n",
    "import seaborn as sns\n",
    "import matplotlib.pylab as plt\n",
    "import warnings\n",
    "warnings.filterwarnings(\"ignore\")"
   ]
  },
  {
   "cell_type": "code",
   "execution_count": 21,
   "id": "581f4ad1-9fa1-4d3b-adcc-af8679cabda5",
   "metadata": {
    "executionInfo": {
     "elapsed": 216,
     "status": "ok",
     "timestamp": 1670897284087,
     "user": {
      "displayName": "Franklin Nkokam Ngongang",
      "userId": "07081789311912667597"
     },
     "user_tz": 300
    },
    "id": "581f4ad1-9fa1-4d3b-adcc-af8679cabda5"
   },
   "outputs": [],
   "source": [
    "dataset = 'heart_failure_clinical_records_dataset.csv'"
   ]
  },
  {
   "cell_type": "code",
   "execution_count": null,
   "id": "afac6956-1a88-4872-8b45-60544f6822f0",
   "metadata": {
    "executionInfo": {
     "elapsed": 162,
     "status": "ok",
     "timestamp": 1670897297389,
     "user": {
      "displayName": "Franklin Nkokam Ngongang",
      "userId": "07081789311912667597"
     },
     "user_tz": 300
    },
    "id": "afac6956-1a88-4872-8b45-60544f6822f0"
   },
   "outputs": [],
   "source": []
  },
  {
   "cell_type": "code",
   "execution_count": 22,
   "id": "2b8277d8-5ed6-4569-a26a-64570ddce5e3",
   "metadata": {
    "executionInfo": {
     "elapsed": 145,
     "status": "ok",
     "timestamp": 1670897299843,
     "user": {
      "displayName": "Franklin Nkokam Ngongang",
      "userId": "07081789311912667597"
     },
     "user_tz": 300
    },
    "id": "2b8277d8-5ed6-4569-a26a-64570ddce5e3"
   },
   "outputs": [],
   "source": [
    "import plotly.express as px\n",
    "import plotly.graph_objs as go"
   ]
  },
  {
   "cell_type": "code",
   "execution_count": 23,
   "id": "39456b15",
   "metadata": {
    "executionInfo": {
     "elapsed": 5,
     "status": "ok",
     "timestamp": 1670897301789,
     "user": {
      "displayName": "Franklin Nkokam Ngongang",
      "userId": "07081789311912667597"
     },
     "user_tz": 300
    },
    "id": "39456b15",
    "papermill": {
     "duration": 0.038158,
     "end_time": "2022-12-04T11:40:36.102244",
     "exception": false,
     "start_time": "2022-12-04T11:40:36.064086",
     "status": "completed"
    },
    "tags": []
   },
   "outputs": [],
   "source": [
    "df=pd.read_csv(dataset)"
   ]
  },
  {
   "cell_type": "code",
   "execution_count": 24,
   "id": "2bba0374",
   "metadata": {
    "colab": {
     "base_uri": "https://localhost:8080/",
     "height": 364
    },
    "executionInfo": {
     "elapsed": 228,
     "status": "ok",
     "timestamp": 1670897303495,
     "user": {
      "displayName": "Franklin Nkokam Ngongang",
      "userId": "07081789311912667597"
     },
     "user_tz": 300
    },
    "id": "2bba0374",
    "outputId": "4a70269a-7078-4f26-c727-0d250878f13b",
    "papermill": {
     "duration": 0.046681,
     "end_time": "2022-12-04T11:40:36.158477",
     "exception": false,
     "start_time": "2022-12-04T11:40:36.111796",
     "status": "completed"
    },
    "tags": []
   },
   "outputs": [
    {
     "data": {
      "text/html": [
       "<div>\n",
       "<style scoped>\n",
       "    .dataframe tbody tr th:only-of-type {\n",
       "        vertical-align: middle;\n",
       "    }\n",
       "\n",
       "    .dataframe tbody tr th {\n",
       "        vertical-align: top;\n",
       "    }\n",
       "\n",
       "    .dataframe thead th {\n",
       "        text-align: right;\n",
       "    }\n",
       "</style>\n",
       "<table border=\"1\" class=\"dataframe\">\n",
       "  <thead>\n",
       "    <tr style=\"text-align: right;\">\n",
       "      <th></th>\n",
       "      <th>age</th>\n",
       "      <th>anaemia</th>\n",
       "      <th>creatinine_phosphokinase</th>\n",
       "      <th>diabetes</th>\n",
       "      <th>ejection_fraction</th>\n",
       "      <th>high_blood_pressure</th>\n",
       "      <th>platelets</th>\n",
       "      <th>serum_creatinine</th>\n",
       "      <th>serum_sodium</th>\n",
       "      <th>sex</th>\n",
       "      <th>smoking</th>\n",
       "      <th>time</th>\n",
       "      <th>DEATH_EVENT</th>\n",
       "    </tr>\n",
       "  </thead>\n",
       "  <tbody>\n",
       "    <tr>\n",
       "      <th>0</th>\n",
       "      <td>75.0</td>\n",
       "      <td>0</td>\n",
       "      <td>582</td>\n",
       "      <td>0</td>\n",
       "      <td>20</td>\n",
       "      <td>1</td>\n",
       "      <td>265000.00</td>\n",
       "      <td>1.9</td>\n",
       "      <td>130</td>\n",
       "      <td>1</td>\n",
       "      <td>0</td>\n",
       "      <td>4</td>\n",
       "      <td>1</td>\n",
       "    </tr>\n",
       "    <tr>\n",
       "      <th>1</th>\n",
       "      <td>55.0</td>\n",
       "      <td>0</td>\n",
       "      <td>7861</td>\n",
       "      <td>0</td>\n",
       "      <td>38</td>\n",
       "      <td>0</td>\n",
       "      <td>263358.03</td>\n",
       "      <td>1.1</td>\n",
       "      <td>136</td>\n",
       "      <td>1</td>\n",
       "      <td>0</td>\n",
       "      <td>6</td>\n",
       "      <td>1</td>\n",
       "    </tr>\n",
       "    <tr>\n",
       "      <th>2</th>\n",
       "      <td>65.0</td>\n",
       "      <td>0</td>\n",
       "      <td>146</td>\n",
       "      <td>0</td>\n",
       "      <td>20</td>\n",
       "      <td>0</td>\n",
       "      <td>162000.00</td>\n",
       "      <td>1.3</td>\n",
       "      <td>129</td>\n",
       "      <td>1</td>\n",
       "      <td>1</td>\n",
       "      <td>7</td>\n",
       "      <td>1</td>\n",
       "    </tr>\n",
       "    <tr>\n",
       "      <th>3</th>\n",
       "      <td>50.0</td>\n",
       "      <td>1</td>\n",
       "      <td>111</td>\n",
       "      <td>0</td>\n",
       "      <td>20</td>\n",
       "      <td>0</td>\n",
       "      <td>210000.00</td>\n",
       "      <td>1.9</td>\n",
       "      <td>137</td>\n",
       "      <td>1</td>\n",
       "      <td>0</td>\n",
       "      <td>7</td>\n",
       "      <td>1</td>\n",
       "    </tr>\n",
       "    <tr>\n",
       "      <th>4</th>\n",
       "      <td>65.0</td>\n",
       "      <td>1</td>\n",
       "      <td>160</td>\n",
       "      <td>1</td>\n",
       "      <td>20</td>\n",
       "      <td>0</td>\n",
       "      <td>327000.00</td>\n",
       "      <td>2.7</td>\n",
       "      <td>116</td>\n",
       "      <td>0</td>\n",
       "      <td>0</td>\n",
       "      <td>8</td>\n",
       "      <td>1</td>\n",
       "    </tr>\n",
       "    <tr>\n",
       "      <th>5</th>\n",
       "      <td>90.0</td>\n",
       "      <td>1</td>\n",
       "      <td>47</td>\n",
       "      <td>0</td>\n",
       "      <td>40</td>\n",
       "      <td>1</td>\n",
       "      <td>204000.00</td>\n",
       "      <td>2.1</td>\n",
       "      <td>132</td>\n",
       "      <td>1</td>\n",
       "      <td>1</td>\n",
       "      <td>8</td>\n",
       "      <td>1</td>\n",
       "    </tr>\n",
       "    <tr>\n",
       "      <th>6</th>\n",
       "      <td>75.0</td>\n",
       "      <td>1</td>\n",
       "      <td>246</td>\n",
       "      <td>0</td>\n",
       "      <td>15</td>\n",
       "      <td>0</td>\n",
       "      <td>127000.00</td>\n",
       "      <td>1.2</td>\n",
       "      <td>137</td>\n",
       "      <td>1</td>\n",
       "      <td>0</td>\n",
       "      <td>10</td>\n",
       "      <td>1</td>\n",
       "    </tr>\n",
       "    <tr>\n",
       "      <th>7</th>\n",
       "      <td>60.0</td>\n",
       "      <td>1</td>\n",
       "      <td>315</td>\n",
       "      <td>1</td>\n",
       "      <td>60</td>\n",
       "      <td>0</td>\n",
       "      <td>454000.00</td>\n",
       "      <td>1.1</td>\n",
       "      <td>131</td>\n",
       "      <td>1</td>\n",
       "      <td>1</td>\n",
       "      <td>10</td>\n",
       "      <td>1</td>\n",
       "    </tr>\n",
       "  </tbody>\n",
       "</table>\n",
       "</div>"
      ],
      "text/plain": [
       "    age  anaemia  creatinine_phosphokinase  diabetes  ejection_fraction  \\\n",
       "0  75.0        0                       582         0                 20   \n",
       "1  55.0        0                      7861         0                 38   \n",
       "2  65.0        0                       146         0                 20   \n",
       "3  50.0        1                       111         0                 20   \n",
       "4  65.0        1                       160         1                 20   \n",
       "5  90.0        1                        47         0                 40   \n",
       "6  75.0        1                       246         0                 15   \n",
       "7  60.0        1                       315         1                 60   \n",
       "\n",
       "   high_blood_pressure  platelets  serum_creatinine  serum_sodium  sex  \\\n",
       "0                    1  265000.00               1.9           130    1   \n",
       "1                    0  263358.03               1.1           136    1   \n",
       "2                    0  162000.00               1.3           129    1   \n",
       "3                    0  210000.00               1.9           137    1   \n",
       "4                    0  327000.00               2.7           116    0   \n",
       "5                    1  204000.00               2.1           132    1   \n",
       "6                    0  127000.00               1.2           137    1   \n",
       "7                    0  454000.00               1.1           131    1   \n",
       "\n",
       "   smoking  time  DEATH_EVENT  \n",
       "0        0     4            1  \n",
       "1        0     6            1  \n",
       "2        1     7            1  \n",
       "3        0     7            1  \n",
       "4        0     8            1  \n",
       "5        1     8            1  \n",
       "6        0    10            1  \n",
       "7        1    10            1  "
      ]
     },
     "execution_count": 24,
     "metadata": {},
     "output_type": "execute_result"
    }
   ],
   "source": [
    "df.head(8)"
   ]
  },
  {
   "cell_type": "code",
   "execution_count": 25,
   "id": "87945a6b",
   "metadata": {
    "colab": {
     "base_uri": "https://localhost:8080/"
    },
    "execution": {
     "iopub.execute_input": "2022-12-04T11:40:36.180923Z",
     "iopub.status.busy": "2022-12-04T11:40:36.179617Z",
     "iopub.status.idle": "2022-12-04T11:40:36.213217Z",
     "shell.execute_reply": "2022-12-04T11:40:36.211453Z"
    },
    "executionInfo": {
     "elapsed": 282,
     "status": "ok",
     "timestamp": 1670897332477,
     "user": {
      "displayName": "Franklin Nkokam Ngongang",
      "userId": "07081789311912667597"
     },
     "user_tz": 300
    },
    "id": "87945a6b",
    "outputId": "76ae31f8-67e1-4cd2-f4c5-db9a541258cd",
    "papermill": {
     "duration": 0.047944,
     "end_time": "2022-12-04T11:40:36.216212",
     "exception": false,
     "start_time": "2022-12-04T11:40:36.168268",
     "status": "completed"
    },
    "tags": []
   },
   "outputs": [
    {
     "name": "stdout",
     "output_type": "stream",
     "text": [
      "<class 'pandas.core.frame.DataFrame'>\n",
      "RangeIndex: 299 entries, 0 to 298\n",
      "Data columns (total 13 columns):\n",
      " #   Column                    Non-Null Count  Dtype  \n",
      "---  ------                    --------------  -----  \n",
      " 0   age                       299 non-null    float64\n",
      " 1   anaemia                   299 non-null    int64  \n",
      " 2   creatinine_phosphokinase  299 non-null    int64  \n",
      " 3   diabetes                  299 non-null    int64  \n",
      " 4   ejection_fraction         299 non-null    int64  \n",
      " 5   high_blood_pressure       299 non-null    int64  \n",
      " 6   platelets                 299 non-null    float64\n",
      " 7   serum_creatinine          299 non-null    float64\n",
      " 8   serum_sodium              299 non-null    int64  \n",
      " 9   sex                       299 non-null    int64  \n",
      " 10  smoking                   299 non-null    int64  \n",
      " 11  time                      299 non-null    int64  \n",
      " 12  DEATH_EVENT               299 non-null    int64  \n",
      "dtypes: float64(3), int64(10)\n",
      "memory usage: 30.5 KB\n"
     ]
    }
   ],
   "source": [
    "df.info()"
   ]
  },
  {
   "cell_type": "code",
   "execution_count": 26,
   "id": "41622633",
   "metadata": {
    "colab": {
     "base_uri": "https://localhost:8080/"
    },
    "execution": {
     "iopub.execute_input": "2022-12-04T11:40:36.238389Z",
     "iopub.status.busy": "2022-12-04T11:40:36.237880Z",
     "iopub.status.idle": "2022-12-04T11:40:36.245689Z",
     "shell.execute_reply": "2022-12-04T11:40:36.244817Z"
    },
    "executionInfo": {
     "elapsed": 8,
     "status": "ok",
     "timestamp": 1670897332783,
     "user": {
      "displayName": "Franklin Nkokam Ngongang",
      "userId": "07081789311912667597"
     },
     "user_tz": 300
    },
    "id": "41622633",
    "outputId": "3c10ca18-5d93-467f-a1dd-bf1cd4df1a6d",
    "papermill": {
     "duration": 0.021592,
     "end_time": "2022-12-04T11:40:36.247985",
     "exception": false,
     "start_time": "2022-12-04T11:40:36.226393",
     "status": "completed"
    },
    "tags": []
   },
   "outputs": [
    {
     "data": {
      "text/plain": [
       "(299, 13)"
      ]
     },
     "execution_count": 26,
     "metadata": {},
     "output_type": "execute_result"
    }
   ],
   "source": [
    "df.shape"
   ]
  },
  {
   "cell_type": "code",
   "execution_count": 27,
   "id": "a0d52972",
   "metadata": {
    "colab": {
     "base_uri": "https://localhost:8080/"
    },
    "execution": {
     "iopub.execute_input": "2022-12-04T11:40:36.272937Z",
     "iopub.status.busy": "2022-12-04T11:40:36.272122Z",
     "iopub.status.idle": "2022-12-04T11:40:36.282721Z",
     "shell.execute_reply": "2022-12-04T11:40:36.281397Z"
    },
    "executionInfo": {
     "elapsed": 9,
     "status": "ok",
     "timestamp": 1670897333642,
     "user": {
      "displayName": "Franklin Nkokam Ngongang",
      "userId": "07081789311912667597"
     },
     "user_tz": 300
    },
    "id": "a0d52972",
    "outputId": "f78a87d5-9fa4-4a04-e452-c874af1b29c8",
    "papermill": {
     "duration": 0.025857,
     "end_time": "2022-12-04T11:40:36.285340",
     "exception": false,
     "start_time": "2022-12-04T11:40:36.259483",
     "status": "completed"
    },
    "tags": []
   },
   "outputs": [
    {
     "data": {
      "text/plain": [
       "age                         0\n",
       "anaemia                     0\n",
       "creatinine_phosphokinase    0\n",
       "diabetes                    0\n",
       "ejection_fraction           0\n",
       "high_blood_pressure         0\n",
       "platelets                   0\n",
       "serum_creatinine            0\n",
       "serum_sodium                0\n",
       "sex                         0\n",
       "smoking                     0\n",
       "time                        0\n",
       "DEATH_EVENT                 0\n",
       "dtype: int64"
      ]
     },
     "execution_count": 27,
     "metadata": {},
     "output_type": "execute_result"
    }
   ],
   "source": [
    "df.isnull().sum()"
   ]
  },
  {
   "cell_type": "code",
   "execution_count": 28,
   "id": "5e4a6ddd",
   "metadata": {
    "colab": {
     "base_uri": "https://localhost:8080/"
    },
    "execution": {
     "iopub.execute_input": "2022-12-04T11:40:36.309000Z",
     "iopub.status.busy": "2022-12-04T11:40:36.308040Z",
     "iopub.status.idle": "2022-12-04T11:40:36.319970Z",
     "shell.execute_reply": "2022-12-04T11:40:36.318660Z"
    },
    "executionInfo": {
     "elapsed": 8,
     "status": "ok",
     "timestamp": 1670897333921,
     "user": {
      "displayName": "Franklin Nkokam Ngongang",
      "userId": "07081789311912667597"
     },
     "user_tz": 300
    },
    "id": "5e4a6ddd",
    "outputId": "498c2065-2c55-4ef1-87ca-2c5c42659ea5",
    "papermill": {
     "duration": 0.026545,
     "end_time": "2022-12-04T11:40:36.322525",
     "exception": false,
     "start_time": "2022-12-04T11:40:36.295980",
     "status": "completed"
    },
    "tags": []
   },
   "outputs": [
    {
     "data": {
      "text/plain": [
       "0"
      ]
     },
     "execution_count": 28,
     "metadata": {},
     "output_type": "execute_result"
    }
   ],
   "source": [
    "df.duplicated().sum()"
   ]
  },
  {
   "cell_type": "code",
   "execution_count": 29,
   "id": "d3025f3e",
   "metadata": {
    "colab": {
     "base_uri": "https://localhost:8080/"
    },
    "execution": {
     "iopub.execute_input": "2022-12-04T11:40:36.346793Z",
     "iopub.status.busy": "2022-12-04T11:40:36.345143Z",
     "iopub.status.idle": "2022-12-04T11:40:36.355617Z",
     "shell.execute_reply": "2022-12-04T11:40:36.354514Z"
    },
    "executionInfo": {
     "elapsed": 12,
     "status": "ok",
     "timestamp": 1670897334893,
     "user": {
      "displayName": "Franklin Nkokam Ngongang",
      "userId": "07081789311912667597"
     },
     "user_tz": 300
    },
    "id": "d3025f3e",
    "outputId": "2ec4ca5f-6a97-4573-eae4-bb6395c811ee",
    "papermill": {
     "duration": 0.025557,
     "end_time": "2022-12-04T11:40:36.358769",
     "exception": false,
     "start_time": "2022-12-04T11:40:36.333212",
     "status": "completed"
    },
    "tags": []
   },
   "outputs": [
    {
     "name": "stdout",
     "output_type": "stream",
     "text": [
      "age--->47\n",
      "anaemia--->2\n",
      "creatinine_phosphokinase--->208\n",
      "diabetes--->2\n",
      "ejection_fraction--->17\n",
      "high_blood_pressure--->2\n",
      "platelets--->176\n",
      "serum_creatinine--->40\n",
      "serum_sodium--->27\n",
      "sex--->2\n",
      "smoking--->2\n",
      "time--->148\n",
      "DEATH_EVENT--->2\n"
     ]
    }
   ],
   "source": [
    "features=df.columns\n",
    "for feature in features:\n",
    "     print(f'{feature}--->{df[feature].nunique()}')"
   ]
  },
  {
   "cell_type": "code",
   "execution_count": 30,
   "id": "40b00ecf",
   "metadata": {
    "colab": {
     "base_uri": "https://localhost:8080/",
     "height": 457
    },
    "execution": {
     "iopub.execute_input": "2022-12-04T11:40:36.382941Z",
     "iopub.status.busy": "2022-12-04T11:40:36.382471Z",
     "iopub.status.idle": "2022-12-04T11:40:36.522142Z",
     "shell.execute_reply": "2022-12-04T11:40:36.521160Z"
    },
    "executionInfo": {
     "elapsed": 10,
     "status": "ok",
     "timestamp": 1670897335840,
     "user": {
      "displayName": "Franklin Nkokam Ngongang",
      "userId": "07081789311912667597"
     },
     "user_tz": 300
    },
    "id": "40b00ecf",
    "outputId": "f81843b2-82ff-4e07-c843-549a744f59ad",
    "papermill": {
     "duration": 0.154635,
     "end_time": "2022-12-04T11:40:36.524529",
     "exception": false,
     "start_time": "2022-12-04T11:40:36.369894",
     "status": "completed"
    },
    "tags": []
   },
   "outputs": [
    {
     "data": {
      "text/html": [
       "<style type=\"text/css\">\n",
       "#T_5dd88_row0_col0, #T_5dd88_row1_col0, #T_5dd88_row1_col3, #T_5dd88_row1_col4, #T_5dd88_row1_col5, #T_5dd88_row1_col6, #T_5dd88_row2_col0, #T_5dd88_row2_col4, #T_5dd88_row2_col5, #T_5dd88_row2_col6, #T_5dd88_row2_col7, #T_5dd88_row3_col0, #T_5dd88_row3_col3, #T_5dd88_row3_col4, #T_5dd88_row3_col5, #T_5dd88_row3_col6, #T_5dd88_row3_col7, #T_5dd88_row4_col0, #T_5dd88_row4_col3, #T_5dd88_row4_col4, #T_5dd88_row4_col5, #T_5dd88_row4_col6, #T_5dd88_row4_col7, #T_5dd88_row5_col0, #T_5dd88_row5_col3, #T_5dd88_row5_col4, #T_5dd88_row5_col5, #T_5dd88_row5_col6, #T_5dd88_row5_col7, #T_5dd88_row6_col0, #T_5dd88_row6_col3, #T_5dd88_row6_col4, #T_5dd88_row6_col5, #T_5dd88_row6_col6, #T_5dd88_row6_col7, #T_5dd88_row7_col0, #T_5dd88_row7_col3, #T_5dd88_row7_col4, #T_5dd88_row7_col5, #T_5dd88_row7_col6, #T_5dd88_row7_col7, #T_5dd88_row8_col0, #T_5dd88_row8_col3, #T_5dd88_row8_col4, #T_5dd88_row8_col5, #T_5dd88_row8_col6, #T_5dd88_row8_col7, #T_5dd88_row9_col0, #T_5dd88_row9_col3, #T_5dd88_row9_col4, #T_5dd88_row9_col5, #T_5dd88_row9_col6, #T_5dd88_row9_col7, #T_5dd88_row10_col0, #T_5dd88_row10_col3, #T_5dd88_row10_col4, #T_5dd88_row10_col5, #T_5dd88_row10_col6, #T_5dd88_row10_col7, #T_5dd88_row11_col0, #T_5dd88_row11_col3, #T_5dd88_row11_col4, #T_5dd88_row11_col5, #T_5dd88_row11_col6, #T_5dd88_row11_col7, #T_5dd88_row12_col0, #T_5dd88_row12_col3, #T_5dd88_row12_col4, #T_5dd88_row12_col5, #T_5dd88_row12_col6, #T_5dd88_row12_col7 {\n",
       "  background-color: #f7fcfd;\n",
       "  color: #000000;\n",
       "}\n",
       "#T_5dd88_row0_col1 {\n",
       "  background-color: #00441b;\n",
       "  color: #f1f1f1;\n",
       "  width: 10em;\n",
       "  background: linear-gradient(90deg, blue 100.0%, transparent 100.0%);\n",
       "}\n",
       "#T_5dd88_row0_col2 {\n",
       "  background-color: #00441b;\n",
       "  color: #f1f1f1;\n",
       "  width: 10em;\n",
       "  background: linear-gradient(90deg, red 100.0%, transparent 100.0%);\n",
       "}\n",
       "#T_5dd88_row0_col3, #T_5dd88_row0_col4, #T_5dd88_row0_col5, #T_5dd88_row0_col6, #T_5dd88_row0_col7 {\n",
       "  background-color: #00441b;\n",
       "  color: #f1f1f1;\n",
       "}\n",
       "#T_5dd88_row1_col1 {\n",
       "  background-color: #f7fcfd;\n",
       "  color: #000000;\n",
       "  width: 10em;\n",
       "  background: linear-gradient(90deg, blue 0.2%, transparent 0.2%);\n",
       "}\n",
       "#T_5dd88_row1_col2 {\n",
       "  background-color: #f6fcfd;\n",
       "  color: #000000;\n",
       "  width: 10em;\n",
       "  background: linear-gradient(90deg, red 1.0%, transparent 1.0%);\n",
       "}\n",
       "#T_5dd88_row1_col7, #T_5dd88_row2_col3 {\n",
       "  background-color: #f6fcfd;\n",
       "  color: #000000;\n",
       "}\n",
       "#T_5dd88_row2_col1 {\n",
       "  background-color: #f7fcfd;\n",
       "  color: #000000;\n",
       "  width: 10em;\n",
       "  background: linear-gradient(90deg, blue 0.1%, transparent 0.1%);\n",
       "}\n",
       "#T_5dd88_row2_col2, #T_5dd88_row4_col2, #T_5dd88_row5_col2, #T_5dd88_row6_col2, #T_5dd88_row7_col2, #T_5dd88_row8_col2, #T_5dd88_row9_col2, #T_5dd88_row10_col2, #T_5dd88_row11_col2, #T_5dd88_row12_col2 {\n",
       "  background-color: #f7fcfd;\n",
       "  color: #000000;\n",
       "  width: 10em;\n",
       "  background: linear-gradient(90deg, red 0.0%, transparent 0.0%);\n",
       "}\n",
       "#T_5dd88_row3_col1, #T_5dd88_row4_col1, #T_5dd88_row5_col1, #T_5dd88_row6_col1, #T_5dd88_row7_col1, #T_5dd88_row8_col1, #T_5dd88_row9_col1, #T_5dd88_row10_col1, #T_5dd88_row11_col1, #T_5dd88_row12_col1 {\n",
       "  background-color: #f7fcfd;\n",
       "  color: #000000;\n",
       "  width: 10em;\n",
       "  background: linear-gradient(90deg, blue 0.0%, transparent 0.0%);\n",
       "}\n",
       "#T_5dd88_row3_col2 {\n",
       "  background-color: #f7fcfd;\n",
       "  color: #000000;\n",
       "  width: 10em;\n",
       "  background: linear-gradient(90deg, red 0.1%, transparent 0.1%);\n",
       "}\n",
       "</style>\n",
       "<table id=\"T_5dd88\">\n",
       "  <thead>\n",
       "    <tr>\n",
       "      <th class=\"blank level0\" >&nbsp;</th>\n",
       "      <th id=\"T_5dd88_level0_col0\" class=\"col_heading level0 col0\" >count</th>\n",
       "      <th id=\"T_5dd88_level0_col1\" class=\"col_heading level0 col1\" >mean</th>\n",
       "      <th id=\"T_5dd88_level0_col2\" class=\"col_heading level0 col2\" >std</th>\n",
       "      <th id=\"T_5dd88_level0_col3\" class=\"col_heading level0 col3\" >min</th>\n",
       "      <th id=\"T_5dd88_level0_col4\" class=\"col_heading level0 col4\" >25%</th>\n",
       "      <th id=\"T_5dd88_level0_col5\" class=\"col_heading level0 col5\" >50%</th>\n",
       "      <th id=\"T_5dd88_level0_col6\" class=\"col_heading level0 col6\" >75%</th>\n",
       "      <th id=\"T_5dd88_level0_col7\" class=\"col_heading level0 col7\" >max</th>\n",
       "    </tr>\n",
       "  </thead>\n",
       "  <tbody>\n",
       "    <tr>\n",
       "      <th id=\"T_5dd88_level0_row0\" class=\"row_heading level0 row0\" >platelets</th>\n",
       "      <td id=\"T_5dd88_row0_col0\" class=\"data row0 col0\" >299.000000</td>\n",
       "      <td id=\"T_5dd88_row0_col1\" class=\"data row0 col1\" >263358.029264</td>\n",
       "      <td id=\"T_5dd88_row0_col2\" class=\"data row0 col2\" >97804.236869</td>\n",
       "      <td id=\"T_5dd88_row0_col3\" class=\"data row0 col3\" >25100.000000</td>\n",
       "      <td id=\"T_5dd88_row0_col4\" class=\"data row0 col4\" >212500.000000</td>\n",
       "      <td id=\"T_5dd88_row0_col5\" class=\"data row0 col5\" >262000.000000</td>\n",
       "      <td id=\"T_5dd88_row0_col6\" class=\"data row0 col6\" >303500.000000</td>\n",
       "      <td id=\"T_5dd88_row0_col7\" class=\"data row0 col7\" >850000.000000</td>\n",
       "    </tr>\n",
       "    <tr>\n",
       "      <th id=\"T_5dd88_level0_row1\" class=\"row_heading level0 row1\" >creatinine_phosphokinase</th>\n",
       "      <td id=\"T_5dd88_row1_col0\" class=\"data row1 col0\" >299.000000</td>\n",
       "      <td id=\"T_5dd88_row1_col1\" class=\"data row1 col1\" >581.839465</td>\n",
       "      <td id=\"T_5dd88_row1_col2\" class=\"data row1 col2\" >970.287881</td>\n",
       "      <td id=\"T_5dd88_row1_col3\" class=\"data row1 col3\" >23.000000</td>\n",
       "      <td id=\"T_5dd88_row1_col4\" class=\"data row1 col4\" >116.500000</td>\n",
       "      <td id=\"T_5dd88_row1_col5\" class=\"data row1 col5\" >250.000000</td>\n",
       "      <td id=\"T_5dd88_row1_col6\" class=\"data row1 col6\" >582.000000</td>\n",
       "      <td id=\"T_5dd88_row1_col7\" class=\"data row1 col7\" >7861.000000</td>\n",
       "    </tr>\n",
       "    <tr>\n",
       "      <th id=\"T_5dd88_level0_row2\" class=\"row_heading level0 row2\" >serum_sodium</th>\n",
       "      <td id=\"T_5dd88_row2_col0\" class=\"data row2 col0\" >299.000000</td>\n",
       "      <td id=\"T_5dd88_row2_col1\" class=\"data row2 col1\" >136.625418</td>\n",
       "      <td id=\"T_5dd88_row2_col2\" class=\"data row2 col2\" >4.412477</td>\n",
       "      <td id=\"T_5dd88_row2_col3\" class=\"data row2 col3\" >113.000000</td>\n",
       "      <td id=\"T_5dd88_row2_col4\" class=\"data row2 col4\" >134.000000</td>\n",
       "      <td id=\"T_5dd88_row2_col5\" class=\"data row2 col5\" >137.000000</td>\n",
       "      <td id=\"T_5dd88_row2_col6\" class=\"data row2 col6\" >140.000000</td>\n",
       "      <td id=\"T_5dd88_row2_col7\" class=\"data row2 col7\" >148.000000</td>\n",
       "    </tr>\n",
       "    <tr>\n",
       "      <th id=\"T_5dd88_level0_row3\" class=\"row_heading level0 row3\" >time</th>\n",
       "      <td id=\"T_5dd88_row3_col0\" class=\"data row3 col0\" >299.000000</td>\n",
       "      <td id=\"T_5dd88_row3_col1\" class=\"data row3 col1\" >130.260870</td>\n",
       "      <td id=\"T_5dd88_row3_col2\" class=\"data row3 col2\" >77.614208</td>\n",
       "      <td id=\"T_5dd88_row3_col3\" class=\"data row3 col3\" >4.000000</td>\n",
       "      <td id=\"T_5dd88_row3_col4\" class=\"data row3 col4\" >73.000000</td>\n",
       "      <td id=\"T_5dd88_row3_col5\" class=\"data row3 col5\" >115.000000</td>\n",
       "      <td id=\"T_5dd88_row3_col6\" class=\"data row3 col6\" >203.000000</td>\n",
       "      <td id=\"T_5dd88_row3_col7\" class=\"data row3 col7\" >285.000000</td>\n",
       "    </tr>\n",
       "    <tr>\n",
       "      <th id=\"T_5dd88_level0_row4\" class=\"row_heading level0 row4\" >age</th>\n",
       "      <td id=\"T_5dd88_row4_col0\" class=\"data row4 col0\" >299.000000</td>\n",
       "      <td id=\"T_5dd88_row4_col1\" class=\"data row4 col1\" >60.833893</td>\n",
       "      <td id=\"T_5dd88_row4_col2\" class=\"data row4 col2\" >11.894809</td>\n",
       "      <td id=\"T_5dd88_row4_col3\" class=\"data row4 col3\" >40.000000</td>\n",
       "      <td id=\"T_5dd88_row4_col4\" class=\"data row4 col4\" >51.000000</td>\n",
       "      <td id=\"T_5dd88_row4_col5\" class=\"data row4 col5\" >60.000000</td>\n",
       "      <td id=\"T_5dd88_row4_col6\" class=\"data row4 col6\" >70.000000</td>\n",
       "      <td id=\"T_5dd88_row4_col7\" class=\"data row4 col7\" >95.000000</td>\n",
       "    </tr>\n",
       "    <tr>\n",
       "      <th id=\"T_5dd88_level0_row5\" class=\"row_heading level0 row5\" >ejection_fraction</th>\n",
       "      <td id=\"T_5dd88_row5_col0\" class=\"data row5 col0\" >299.000000</td>\n",
       "      <td id=\"T_5dd88_row5_col1\" class=\"data row5 col1\" >38.083612</td>\n",
       "      <td id=\"T_5dd88_row5_col2\" class=\"data row5 col2\" >11.834841</td>\n",
       "      <td id=\"T_5dd88_row5_col3\" class=\"data row5 col3\" >14.000000</td>\n",
       "      <td id=\"T_5dd88_row5_col4\" class=\"data row5 col4\" >30.000000</td>\n",
       "      <td id=\"T_5dd88_row5_col5\" class=\"data row5 col5\" >38.000000</td>\n",
       "      <td id=\"T_5dd88_row5_col6\" class=\"data row5 col6\" >45.000000</td>\n",
       "      <td id=\"T_5dd88_row5_col7\" class=\"data row5 col7\" >80.000000</td>\n",
       "    </tr>\n",
       "    <tr>\n",
       "      <th id=\"T_5dd88_level0_row6\" class=\"row_heading level0 row6\" >serum_creatinine</th>\n",
       "      <td id=\"T_5dd88_row6_col0\" class=\"data row6 col0\" >299.000000</td>\n",
       "      <td id=\"T_5dd88_row6_col1\" class=\"data row6 col1\" >1.393880</td>\n",
       "      <td id=\"T_5dd88_row6_col2\" class=\"data row6 col2\" >1.034510</td>\n",
       "      <td id=\"T_5dd88_row6_col3\" class=\"data row6 col3\" >0.500000</td>\n",
       "      <td id=\"T_5dd88_row6_col4\" class=\"data row6 col4\" >0.900000</td>\n",
       "      <td id=\"T_5dd88_row6_col5\" class=\"data row6 col5\" >1.100000</td>\n",
       "      <td id=\"T_5dd88_row6_col6\" class=\"data row6 col6\" >1.400000</td>\n",
       "      <td id=\"T_5dd88_row6_col7\" class=\"data row6 col7\" >9.400000</td>\n",
       "    </tr>\n",
       "    <tr>\n",
       "      <th id=\"T_5dd88_level0_row7\" class=\"row_heading level0 row7\" >sex</th>\n",
       "      <td id=\"T_5dd88_row7_col0\" class=\"data row7 col0\" >299.000000</td>\n",
       "      <td id=\"T_5dd88_row7_col1\" class=\"data row7 col1\" >0.648829</td>\n",
       "      <td id=\"T_5dd88_row7_col2\" class=\"data row7 col2\" >0.478136</td>\n",
       "      <td id=\"T_5dd88_row7_col3\" class=\"data row7 col3\" >0.000000</td>\n",
       "      <td id=\"T_5dd88_row7_col4\" class=\"data row7 col4\" >0.000000</td>\n",
       "      <td id=\"T_5dd88_row7_col5\" class=\"data row7 col5\" >1.000000</td>\n",
       "      <td id=\"T_5dd88_row7_col6\" class=\"data row7 col6\" >1.000000</td>\n",
       "      <td id=\"T_5dd88_row7_col7\" class=\"data row7 col7\" >1.000000</td>\n",
       "    </tr>\n",
       "    <tr>\n",
       "      <th id=\"T_5dd88_level0_row8\" class=\"row_heading level0 row8\" >anaemia</th>\n",
       "      <td id=\"T_5dd88_row8_col0\" class=\"data row8 col0\" >299.000000</td>\n",
       "      <td id=\"T_5dd88_row8_col1\" class=\"data row8 col1\" >0.431438</td>\n",
       "      <td id=\"T_5dd88_row8_col2\" class=\"data row8 col2\" >0.496107</td>\n",
       "      <td id=\"T_5dd88_row8_col3\" class=\"data row8 col3\" >0.000000</td>\n",
       "      <td id=\"T_5dd88_row8_col4\" class=\"data row8 col4\" >0.000000</td>\n",
       "      <td id=\"T_5dd88_row8_col5\" class=\"data row8 col5\" >0.000000</td>\n",
       "      <td id=\"T_5dd88_row8_col6\" class=\"data row8 col6\" >1.000000</td>\n",
       "      <td id=\"T_5dd88_row8_col7\" class=\"data row8 col7\" >1.000000</td>\n",
       "    </tr>\n",
       "    <tr>\n",
       "      <th id=\"T_5dd88_level0_row9\" class=\"row_heading level0 row9\" >diabetes</th>\n",
       "      <td id=\"T_5dd88_row9_col0\" class=\"data row9 col0\" >299.000000</td>\n",
       "      <td id=\"T_5dd88_row9_col1\" class=\"data row9 col1\" >0.418060</td>\n",
       "      <td id=\"T_5dd88_row9_col2\" class=\"data row9 col2\" >0.494067</td>\n",
       "      <td id=\"T_5dd88_row9_col3\" class=\"data row9 col3\" >0.000000</td>\n",
       "      <td id=\"T_5dd88_row9_col4\" class=\"data row9 col4\" >0.000000</td>\n",
       "      <td id=\"T_5dd88_row9_col5\" class=\"data row9 col5\" >0.000000</td>\n",
       "      <td id=\"T_5dd88_row9_col6\" class=\"data row9 col6\" >1.000000</td>\n",
       "      <td id=\"T_5dd88_row9_col7\" class=\"data row9 col7\" >1.000000</td>\n",
       "    </tr>\n",
       "    <tr>\n",
       "      <th id=\"T_5dd88_level0_row10\" class=\"row_heading level0 row10\" >high_blood_pressure</th>\n",
       "      <td id=\"T_5dd88_row10_col0\" class=\"data row10 col0\" >299.000000</td>\n",
       "      <td id=\"T_5dd88_row10_col1\" class=\"data row10 col1\" >0.351171</td>\n",
       "      <td id=\"T_5dd88_row10_col2\" class=\"data row10 col2\" >0.478136</td>\n",
       "      <td id=\"T_5dd88_row10_col3\" class=\"data row10 col3\" >0.000000</td>\n",
       "      <td id=\"T_5dd88_row10_col4\" class=\"data row10 col4\" >0.000000</td>\n",
       "      <td id=\"T_5dd88_row10_col5\" class=\"data row10 col5\" >0.000000</td>\n",
       "      <td id=\"T_5dd88_row10_col6\" class=\"data row10 col6\" >1.000000</td>\n",
       "      <td id=\"T_5dd88_row10_col7\" class=\"data row10 col7\" >1.000000</td>\n",
       "    </tr>\n",
       "    <tr>\n",
       "      <th id=\"T_5dd88_level0_row11\" class=\"row_heading level0 row11\" >smoking</th>\n",
       "      <td id=\"T_5dd88_row11_col0\" class=\"data row11 col0\" >299.000000</td>\n",
       "      <td id=\"T_5dd88_row11_col1\" class=\"data row11 col1\" >0.321070</td>\n",
       "      <td id=\"T_5dd88_row11_col2\" class=\"data row11 col2\" >0.467670</td>\n",
       "      <td id=\"T_5dd88_row11_col3\" class=\"data row11 col3\" >0.000000</td>\n",
       "      <td id=\"T_5dd88_row11_col4\" class=\"data row11 col4\" >0.000000</td>\n",
       "      <td id=\"T_5dd88_row11_col5\" class=\"data row11 col5\" >0.000000</td>\n",
       "      <td id=\"T_5dd88_row11_col6\" class=\"data row11 col6\" >1.000000</td>\n",
       "      <td id=\"T_5dd88_row11_col7\" class=\"data row11 col7\" >1.000000</td>\n",
       "    </tr>\n",
       "    <tr>\n",
       "      <th id=\"T_5dd88_level0_row12\" class=\"row_heading level0 row12\" >DEATH_EVENT</th>\n",
       "      <td id=\"T_5dd88_row12_col0\" class=\"data row12 col0\" >299.000000</td>\n",
       "      <td id=\"T_5dd88_row12_col1\" class=\"data row12 col1\" >0.321070</td>\n",
       "      <td id=\"T_5dd88_row12_col2\" class=\"data row12 col2\" >0.467670</td>\n",
       "      <td id=\"T_5dd88_row12_col3\" class=\"data row12 col3\" >0.000000</td>\n",
       "      <td id=\"T_5dd88_row12_col4\" class=\"data row12 col4\" >0.000000</td>\n",
       "      <td id=\"T_5dd88_row12_col5\" class=\"data row12 col5\" >0.000000</td>\n",
       "      <td id=\"T_5dd88_row12_col6\" class=\"data row12 col6\" >1.000000</td>\n",
       "      <td id=\"T_5dd88_row12_col7\" class=\"data row12 col7\" >1.000000</td>\n",
       "    </tr>\n",
       "  </tbody>\n",
       "</table>\n"
      ],
      "text/plain": [
       "<pandas.io.formats.style.Styler at 0x7fc51bd55550>"
      ]
     },
     "execution_count": 30,
     "metadata": {},
     "output_type": "execute_result"
    }
   ],
   "source": [
    "df.describe().T.sort_values(ascending =0,by='mean').style.background_gradient(cmap='BuGn').bar(subset=['std'], color='red').bar(subset=['mean'], color='blue')"
   ]
  },
  {
   "cell_type": "code",
   "execution_count": 33,
   "id": "31d9806c",
   "metadata": {
    "colab": {
     "base_uri": "https://localhost:8080/",
     "height": 477
    },
    "execution": {
     "iopub.execute_input": "2022-12-04T11:40:36.550310Z",
     "iopub.status.busy": "2022-12-04T11:40:36.549218Z",
     "iopub.status.idle": "2022-12-04T11:40:36.593886Z",
     "shell.execute_reply": "2022-12-04T11:40:36.592682Z"
    },
    "executionInfo": {
     "elapsed": 9,
     "status": "ok",
     "timestamp": 1670897336585,
     "user": {
      "displayName": "Franklin Nkokam Ngongang",
      "userId": "07081789311912667597"
     },
     "user_tz": 300
    },
    "id": "31d9806c",
    "outputId": "74d528b8-6da4-4772-823f-da1b2fcbfcd8",
    "papermill": {
     "duration": 0.061205,
     "end_time": "2022-12-04T11:40:36.597164",
     "exception": false,
     "start_time": "2022-12-04T11:40:36.535959",
     "status": "completed"
    },
    "tags": []
   },
   "outputs": [
    {
     "data": {
      "text/html": [
       "<style type=\"text/css\">\n",
       "#T_31e34_row0_col0, #T_31e34_row1_col1, #T_31e34_row2_col2, #T_31e34_row3_col3, #T_31e34_row4_col4, #T_31e34_row5_col5, #T_31e34_row6_col6, #T_31e34_row7_col7, #T_31e34_row8_col8, #T_31e34_row9_col9, #T_31e34_row10_col10, #T_31e34_row11_col11, #T_31e34_row12_col12 {\n",
       "  background-color: #fde725;\n",
       "  color: #000000;\n",
       "}\n",
       "#T_31e34_row0_col1, #T_31e34_row4_col0, #T_31e34_row5_col4, #T_31e34_row12_col5 {\n",
       "  background-color: #3d4d8a;\n",
       "  color: #f1f1f1;\n",
       "}\n",
       "#T_31e34_row0_col2 {\n",
       "  background-color: #482173;\n",
       "  color: #f1f1f1;\n",
       "}\n",
       "#T_31e34_row0_col3 {\n",
       "  background-color: #471365;\n",
       "  color: #f1f1f1;\n",
       "}\n",
       "#T_31e34_row0_col4, #T_31e34_row5_col0 {\n",
       "  background-color: #3a548c;\n",
       "  color: #f1f1f1;\n",
       "}\n",
       "#T_31e34_row0_col5 {\n",
       "  background-color: #3c4f8a;\n",
       "  color: #f1f1f1;\n",
       "}\n",
       "#T_31e34_row0_col6 {\n",
       "  background-color: #48186a;\n",
       "  color: #f1f1f1;\n",
       "}\n",
       "#T_31e34_row0_col7 {\n",
       "  background-color: #365d8d;\n",
       "  color: #f1f1f1;\n",
       "}\n",
       "#T_31e34_row0_col8, #T_31e34_row4_col2, #T_31e34_row6_col1, #T_31e34_row6_col7, #T_31e34_row11_col9 {\n",
       "  background-color: #472c7a;\n",
       "  color: #f1f1f1;\n",
       "}\n",
       "#T_31e34_row0_col9, #T_31e34_row3_col6, #T_31e34_row5_col1, #T_31e34_row5_col8, #T_31e34_row8_col5 {\n",
       "  background-color: #424186;\n",
       "  color: #f1f1f1;\n",
       "}\n",
       "#T_31e34_row0_col10, #T_31e34_row2_col7, #T_31e34_row7_col2, #T_31e34_row8_col0 {\n",
       "  background-color: #46337f;\n",
       "  color: #f1f1f1;\n",
       "}\n",
       "#T_31e34_row0_col11, #T_31e34_row1_col5, #T_31e34_row1_col8, #T_31e34_row8_col1, #T_31e34_row10_col0 {\n",
       "  background-color: #414287;\n",
       "  color: #f1f1f1;\n",
       "}\n",
       "#T_31e34_row0_col12 {\n",
       "  background-color: #20928c;\n",
       "  color: #f1f1f1;\n",
       "}\n",
       "#T_31e34_row1_col0 {\n",
       "  background-color: #3a538b;\n",
       "  color: #f1f1f1;\n",
       "}\n",
       "#T_31e34_row1_col2, #T_31e34_row2_col1, #T_31e34_row3_col9, #T_31e34_row3_col10, #T_31e34_row8_col7, #T_31e34_row9_col3, #T_31e34_row9_col6, #T_31e34_row11_col0, #T_31e34_row11_col5, #T_31e34_row11_col12, #T_31e34_row12_col4, #T_31e34_row12_col8, #T_31e34_row12_col11 {\n",
       "  background-color: #440154;\n",
       "  color: #f1f1f1;\n",
       "}\n",
       "#T_31e34_row1_col3, #T_31e34_row2_col3, #T_31e34_row5_col3 {\n",
       "  background-color: #472d7b;\n",
       "  color: #f1f1f1;\n",
       "}\n",
       "#T_31e34_row1_col4, #T_31e34_row9_col0, #T_31e34_row11_col8 {\n",
       "  background-color: #3d4e8a;\n",
       "  color: #f1f1f1;\n",
       "}\n",
       "#T_31e34_row1_col6 {\n",
       "  background-color: #481b6d;\n",
       "  color: #f1f1f1;\n",
       "}\n",
       "#T_31e34_row1_col7, #T_31e34_row7_col4 {\n",
       "  background-color: #414487;\n",
       "  color: #f1f1f1;\n",
       "}\n",
       "#T_31e34_row1_col9 {\n",
       "  background-color: #481467;\n",
       "  color: #f1f1f1;\n",
       "}\n",
       "#T_31e34_row1_col10, #T_31e34_row11_col7 {\n",
       "  background-color: #470d60;\n",
       "  color: #f1f1f1;\n",
       "}\n",
       "#T_31e34_row1_col11 {\n",
       "  background-color: #3b528b;\n",
       "  color: #f1f1f1;\n",
       "}\n",
       "#T_31e34_row1_col12, #T_31e34_row12_col0 {\n",
       "  background-color: #2b758e;\n",
       "  color: #f1f1f1;\n",
       "}\n",
       "#T_31e34_row2_col0 {\n",
       "  background-color: #482979;\n",
       "  color: #f1f1f1;\n",
       "}\n",
       "#T_31e34_row2_col4 {\n",
       "  background-color: #433d84;\n",
       "  color: #f1f1f1;\n",
       "}\n",
       "#T_31e34_row2_col5, #T_31e34_row7_col10 {\n",
       "  background-color: #482576;\n",
       "  color: #f1f1f1;\n",
       "}\n",
       "#T_31e34_row2_col6, #T_31e34_row10_col6, #T_31e34_row10_col7, #T_31e34_row12_col3 {\n",
       "  background-color: #472f7d;\n",
       "  color: #f1f1f1;\n",
       "}\n",
       "#T_31e34_row2_col8, #T_31e34_row12_col2 {\n",
       "  background-color: #3f4788;\n",
       "  color: #f1f1f1;\n",
       "}\n",
       "#T_31e34_row2_col9, #T_31e34_row6_col5, #T_31e34_row7_col1 {\n",
       "  background-color: #404588;\n",
       "  color: #f1f1f1;\n",
       "}\n",
       "#T_31e34_row2_col10, #T_31e34_row4_col3, #T_31e34_row8_col10, #T_31e34_row12_col9 {\n",
       "  background-color: #472e7c;\n",
       "  color: #f1f1f1;\n",
       "}\n",
       "#T_31e34_row2_col11, #T_31e34_row10_col12 {\n",
       "  background-color: #30698e;\n",
       "  color: #f1f1f1;\n",
       "}\n",
       "#T_31e34_row2_col12 {\n",
       "  background-color: #2b748e;\n",
       "  color: #f1f1f1;\n",
       "}\n",
       "#T_31e34_row3_col0, #T_31e34_row5_col2 {\n",
       "  background-color: #482475;\n",
       "  color: #f1f1f1;\n",
       "}\n",
       "#T_31e34_row3_col1, #T_31e34_row3_col2, #T_31e34_row4_col7, #T_31e34_row11_col2 {\n",
       "  background-color: #463480;\n",
       "  color: #f1f1f1;\n",
       "}\n",
       "#T_31e34_row3_col4, #T_31e34_row8_col2 {\n",
       "  background-color: #404688;\n",
       "  color: #f1f1f1;\n",
       "}\n",
       "#T_31e34_row3_col5, #T_31e34_row5_col6, #T_31e34_row5_col7, #T_31e34_row6_col10 {\n",
       "  background-color: #453581;\n",
       "  color: #f1f1f1;\n",
       "}\n",
       "#T_31e34_row3_col7, #T_31e34_row10_col5, #T_31e34_row11_col6, #T_31e34_row12_col10 {\n",
       "  background-color: #472a7a;\n",
       "  color: #f1f1f1;\n",
       "}\n",
       "#T_31e34_row3_col8 {\n",
       "  background-color: #482071;\n",
       "  color: #f1f1f1;\n",
       "}\n",
       "#T_31e34_row3_col11 {\n",
       "  background-color: #2d718e;\n",
       "  color: #f1f1f1;\n",
       "}\n",
       "#T_31e34_row3_col12 {\n",
       "  background-color: #2f6b8e;\n",
       "  color: #f1f1f1;\n",
       "}\n",
       "#T_31e34_row4_col1, #T_31e34_row4_col5 {\n",
       "  background-color: #423f85;\n",
       "  color: #f1f1f1;\n",
       "}\n",
       "#T_31e34_row4_col6 {\n",
       "  background-color: #443b84;\n",
       "  color: #f1f1f1;\n",
       "}\n",
       "#T_31e34_row4_col8 {\n",
       "  background-color: #33628d;\n",
       "  color: #f1f1f1;\n",
       "}\n",
       "#T_31e34_row4_col9, #T_31e34_row10_col3 {\n",
       "  background-color: #450457;\n",
       "  color: #f1f1f1;\n",
       "}\n",
       "#T_31e34_row4_col10, #T_31e34_row10_col1, #T_31e34_row12_col6 {\n",
       "  background-color: #481a6c;\n",
       "  color: #f1f1f1;\n",
       "}\n",
       "#T_31e34_row4_col11 {\n",
       "  background-color: #2c718e;\n",
       "  color: #f1f1f1;\n",
       "}\n",
       "#T_31e34_row4_col12 {\n",
       "  background-color: #443a83;\n",
       "  color: #f1f1f1;\n",
       "}\n",
       "#T_31e34_row5_col9 {\n",
       "  background-color: #471164;\n",
       "  color: #f1f1f1;\n",
       "}\n",
       "#T_31e34_row5_col10, #T_31e34_row9_col1 {\n",
       "  background-color: #481d6f;\n",
       "  color: #f1f1f1;\n",
       "}\n",
       "#T_31e34_row5_col11, #T_31e34_row6_col3, #T_31e34_row6_col8, #T_31e34_row8_col12, #T_31e34_row12_col1 {\n",
       "  background-color: #3f4889;\n",
       "  color: #f1f1f1;\n",
       "}\n",
       "#T_31e34_row5_col12 {\n",
       "  background-color: #2a778e;\n",
       "  color: #f1f1f1;\n",
       "}\n",
       "#T_31e34_row6_col0, #T_31e34_row9_col8 {\n",
       "  background-color: #46307e;\n",
       "  color: #f1f1f1;\n",
       "}\n",
       "#T_31e34_row6_col2 {\n",
       "  background-color: #433e85;\n",
       "  color: #f1f1f1;\n",
       "}\n",
       "#T_31e34_row6_col4 {\n",
       "  background-color: #39568c;\n",
       "  color: #f1f1f1;\n",
       "}\n",
       "#T_31e34_row6_col9 {\n",
       "  background-color: #460b5e;\n",
       "  color: #f1f1f1;\n",
       "}\n",
       "#T_31e34_row6_col11 {\n",
       "  background-color: #2e6d8e;\n",
       "  color: #f1f1f1;\n",
       "}\n",
       "#T_31e34_row6_col12, #T_31e34_row7_col0 {\n",
       "  background-color: #33638d;\n",
       "  color: #f1f1f1;\n",
       "}\n",
       "#T_31e34_row7_col3, #T_31e34_row9_col4 {\n",
       "  background-color: #482374;\n",
       "  color: #f1f1f1;\n",
       "}\n",
       "#T_31e34_row7_col5, #T_31e34_row10_col4 {\n",
       "  background-color: #453781;\n",
       "  color: #f1f1f1;\n",
       "}\n",
       "#T_31e34_row7_col6, #T_31e34_row9_col5 {\n",
       "  background-color: #481c6e;\n",
       "  color: #f1f1f1;\n",
       "}\n",
       "#T_31e34_row7_col8 {\n",
       "  background-color: #440256;\n",
       "  color: #f1f1f1;\n",
       "}\n",
       "#T_31e34_row7_col9 {\n",
       "  background-color: #46327e;\n",
       "  color: #f1f1f1;\n",
       "}\n",
       "#T_31e34_row7_col11 {\n",
       "  background-color: #3b518b;\n",
       "  color: #f1f1f1;\n",
       "}\n",
       "#T_31e34_row7_col12 {\n",
       "  background-color: #1f998a;\n",
       "  color: #f1f1f1;\n",
       "}\n",
       "#T_31e34_row8_col3 {\n",
       "  background-color: #481769;\n",
       "  color: #f1f1f1;\n",
       "}\n",
       "#T_31e34_row8_col4 {\n",
       "  background-color: #2f6c8e;\n",
       "  color: #f1f1f1;\n",
       "}\n",
       "#T_31e34_row8_col6, #T_31e34_row9_col7, #T_31e34_row10_col8, #T_31e34_row11_col3 {\n",
       "  background-color: #443983;\n",
       "  color: #f1f1f1;\n",
       "}\n",
       "#T_31e34_row8_col9 {\n",
       "  background-color: #482878;\n",
       "  color: #f1f1f1;\n",
       "}\n",
       "#T_31e34_row8_col11 {\n",
       "  background-color: #29798e;\n",
       "  color: #f1f1f1;\n",
       "}\n",
       "#T_31e34_row9_col2 {\n",
       "  background-color: #3e4c8a;\n",
       "  color: #f1f1f1;\n",
       "}\n",
       "#T_31e34_row9_col10 {\n",
       "  background-color: #1f948c;\n",
       "  color: #f1f1f1;\n",
       "}\n",
       "#T_31e34_row9_col11 {\n",
       "  background-color: #31688e;\n",
       "  color: #f1f1f1;\n",
       "}\n",
       "#T_31e34_row9_col12 {\n",
       "  background-color: #306a8e;\n",
       "  color: #f1f1f1;\n",
       "}\n",
       "#T_31e34_row10_col2 {\n",
       "  background-color: #453882;\n",
       "  color: #f1f1f1;\n",
       "}\n",
       "#T_31e34_row10_col9 {\n",
       "  background-color: #1f958b;\n",
       "  color: #f1f1f1;\n",
       "}\n",
       "#T_31e34_row10_col11 {\n",
       "  background-color: #31678e;\n",
       "  color: #f1f1f1;\n",
       "}\n",
       "#T_31e34_row11_col1 {\n",
       "  background-color: #471063;\n",
       "  color: #f1f1f1;\n",
       "}\n",
       "#T_31e34_row11_col4 {\n",
       "  background-color: #3c508b;\n",
       "  color: #f1f1f1;\n",
       "}\n",
       "#T_31e34_row11_col10 {\n",
       "  background-color: #482677;\n",
       "  color: #f1f1f1;\n",
       "}\n",
       "#T_31e34_row12_col7 {\n",
       "  background-color: #297a8e;\n",
       "  color: #f1f1f1;\n",
       "}\n",
       "</style>\n",
       "<table id=\"T_31e34\">\n",
       "  <thead>\n",
       "    <tr>\n",
       "      <th class=\"blank level0\" >&nbsp;</th>\n",
       "      <th id=\"T_31e34_level0_col0\" class=\"col_heading level0 col0\" >age</th>\n",
       "      <th id=\"T_31e34_level0_col1\" class=\"col_heading level0 col1\" >anaemia</th>\n",
       "      <th id=\"T_31e34_level0_col2\" class=\"col_heading level0 col2\" >creatinine_phosphokinase</th>\n",
       "      <th id=\"T_31e34_level0_col3\" class=\"col_heading level0 col3\" >diabetes</th>\n",
       "      <th id=\"T_31e34_level0_col4\" class=\"col_heading level0 col4\" >ejection_fraction</th>\n",
       "      <th id=\"T_31e34_level0_col5\" class=\"col_heading level0 col5\" >high_blood_pressure</th>\n",
       "      <th id=\"T_31e34_level0_col6\" class=\"col_heading level0 col6\" >platelets</th>\n",
       "      <th id=\"T_31e34_level0_col7\" class=\"col_heading level0 col7\" >serum_creatinine</th>\n",
       "      <th id=\"T_31e34_level0_col8\" class=\"col_heading level0 col8\" >serum_sodium</th>\n",
       "      <th id=\"T_31e34_level0_col9\" class=\"col_heading level0 col9\" >sex</th>\n",
       "      <th id=\"T_31e34_level0_col10\" class=\"col_heading level0 col10\" >smoking</th>\n",
       "      <th id=\"T_31e34_level0_col11\" class=\"col_heading level0 col11\" >time</th>\n",
       "      <th id=\"T_31e34_level0_col12\" class=\"col_heading level0 col12\" >DEATH_EVENT</th>\n",
       "    </tr>\n",
       "  </thead>\n",
       "  <tbody>\n",
       "    <tr>\n",
       "      <th id=\"T_31e34_level0_row0\" class=\"row_heading level0 row0\" >age</th>\n",
       "      <td id=\"T_31e34_row0_col0\" class=\"data row0 col0\" >1.000000</td>\n",
       "      <td id=\"T_31e34_row0_col1\" class=\"data row0 col1\" >0.088006</td>\n",
       "      <td id=\"T_31e34_row0_col2\" class=\"data row0 col2\" >-0.081584</td>\n",
       "      <td id=\"T_31e34_row0_col3\" class=\"data row0 col3\" >-0.101012</td>\n",
       "      <td id=\"T_31e34_row0_col4\" class=\"data row0 col4\" >0.060098</td>\n",
       "      <td id=\"T_31e34_row0_col5\" class=\"data row0 col5\" >0.093289</td>\n",
       "      <td id=\"T_31e34_row0_col6\" class=\"data row0 col6\" >-0.052354</td>\n",
       "      <td id=\"T_31e34_row0_col7\" class=\"data row0 col7\" >0.159187</td>\n",
       "      <td id=\"T_31e34_row0_col8\" class=\"data row0 col8\" >-0.045966</td>\n",
       "      <td id=\"T_31e34_row0_col9\" class=\"data row0 col9\" >0.065430</td>\n",
       "      <td id=\"T_31e34_row0_col10\" class=\"data row0 col10\" >0.018668</td>\n",
       "      <td id=\"T_31e34_row0_col11\" class=\"data row0 col11\" >-0.224068</td>\n",
       "      <td id=\"T_31e34_row0_col12\" class=\"data row0 col12\" >0.253729</td>\n",
       "    </tr>\n",
       "    <tr>\n",
       "      <th id=\"T_31e34_level0_row1\" class=\"row_heading level0 row1\" >anaemia</th>\n",
       "      <td id=\"T_31e34_row1_col0\" class=\"data row1 col0\" >0.088006</td>\n",
       "      <td id=\"T_31e34_row1_col1\" class=\"data row1 col1\" >1.000000</td>\n",
       "      <td id=\"T_31e34_row1_col2\" class=\"data row1 col2\" >-0.190741</td>\n",
       "      <td id=\"T_31e34_row1_col3\" class=\"data row1 col3\" >-0.012729</td>\n",
       "      <td id=\"T_31e34_row1_col4\" class=\"data row1 col4\" >0.031557</td>\n",
       "      <td id=\"T_31e34_row1_col5\" class=\"data row1 col5\" >0.038182</td>\n",
       "      <td id=\"T_31e34_row1_col6\" class=\"data row1 col6\" >-0.043786</td>\n",
       "      <td id=\"T_31e34_row1_col7\" class=\"data row1 col7\" >0.052174</td>\n",
       "      <td id=\"T_31e34_row1_col8\" class=\"data row1 col8\" >0.041882</td>\n",
       "      <td id=\"T_31e34_row1_col9\" class=\"data row1 col9\" >-0.094769</td>\n",
       "      <td id=\"T_31e34_row1_col10\" class=\"data row1 col10\" >-0.107290</td>\n",
       "      <td id=\"T_31e34_row1_col11\" class=\"data row1 col11\" >-0.141414</td>\n",
       "      <td id=\"T_31e34_row1_col12\" class=\"data row1 col12\" >0.066270</td>\n",
       "    </tr>\n",
       "    <tr>\n",
       "      <th id=\"T_31e34_level0_row2\" class=\"row_heading level0 row2\" >creatinine_phosphokinase</th>\n",
       "      <td id=\"T_31e34_row2_col0\" class=\"data row2 col0\" >-0.081584</td>\n",
       "      <td id=\"T_31e34_row2_col1\" class=\"data row2 col1\" >-0.190741</td>\n",
       "      <td id=\"T_31e34_row2_col2\" class=\"data row2 col2\" >1.000000</td>\n",
       "      <td id=\"T_31e34_row2_col3\" class=\"data row2 col3\" >-0.009639</td>\n",
       "      <td id=\"T_31e34_row2_col4\" class=\"data row2 col4\" >-0.044080</td>\n",
       "      <td id=\"T_31e34_row2_col5\" class=\"data row2 col5\" >-0.070590</td>\n",
       "      <td id=\"T_31e34_row2_col6\" class=\"data row2 col6\" >0.024463</td>\n",
       "      <td id=\"T_31e34_row2_col7\" class=\"data row2 col7\" >-0.016408</td>\n",
       "      <td id=\"T_31e34_row2_col8\" class=\"data row2 col8\" >0.059550</td>\n",
       "      <td id=\"T_31e34_row2_col9\" class=\"data row2 col9\" >0.079791</td>\n",
       "      <td id=\"T_31e34_row2_col10\" class=\"data row2 col10\" >0.002421</td>\n",
       "      <td id=\"T_31e34_row2_col11\" class=\"data row2 col11\" >-0.009346</td>\n",
       "      <td id=\"T_31e34_row2_col12\" class=\"data row2 col12\" >0.062728</td>\n",
       "    </tr>\n",
       "    <tr>\n",
       "      <th id=\"T_31e34_level0_row3\" class=\"row_heading level0 row3\" >diabetes</th>\n",
       "      <td id=\"T_31e34_row3_col0\" class=\"data row3 col0\" >-0.101012</td>\n",
       "      <td id=\"T_31e34_row3_col1\" class=\"data row3 col1\" >-0.012729</td>\n",
       "      <td id=\"T_31e34_row3_col2\" class=\"data row3 col2\" >-0.009639</td>\n",
       "      <td id=\"T_31e34_row3_col3\" class=\"data row3 col3\" >1.000000</td>\n",
       "      <td id=\"T_31e34_row3_col4\" class=\"data row3 col4\" >-0.004850</td>\n",
       "      <td id=\"T_31e34_row3_col5\" class=\"data row3 col5\" >-0.012732</td>\n",
       "      <td id=\"T_31e34_row3_col6\" class=\"data row3 col6\" >0.092193</td>\n",
       "      <td id=\"T_31e34_row3_col7\" class=\"data row3 col7\" >-0.046975</td>\n",
       "      <td id=\"T_31e34_row3_col8\" class=\"data row3 col8\" >-0.089551</td>\n",
       "      <td id=\"T_31e34_row3_col9\" class=\"data row3 col9\" >-0.157730</td>\n",
       "      <td id=\"T_31e34_row3_col10\" class=\"data row3 col10\" >-0.147173</td>\n",
       "      <td id=\"T_31e34_row3_col11\" class=\"data row3 col11\" >0.033726</td>\n",
       "      <td id=\"T_31e34_row3_col12\" class=\"data row3 col12\" >-0.001943</td>\n",
       "    </tr>\n",
       "    <tr>\n",
       "      <th id=\"T_31e34_level0_row4\" class=\"row_heading level0 row4\" >ejection_fraction</th>\n",
       "      <td id=\"T_31e34_row4_col0\" class=\"data row4 col0\" >0.060098</td>\n",
       "      <td id=\"T_31e34_row4_col1\" class=\"data row4 col1\" >0.031557</td>\n",
       "      <td id=\"T_31e34_row4_col2\" class=\"data row4 col2\" >-0.044080</td>\n",
       "      <td id=\"T_31e34_row4_col3\" class=\"data row4 col3\" >-0.004850</td>\n",
       "      <td id=\"T_31e34_row4_col4\" class=\"data row4 col4\" >1.000000</td>\n",
       "      <td id=\"T_31e34_row4_col5\" class=\"data row4 col5\" >0.024445</td>\n",
       "      <td id=\"T_31e34_row4_col6\" class=\"data row4 col6\" >0.072177</td>\n",
       "      <td id=\"T_31e34_row4_col7\" class=\"data row4 col7\" >-0.011302</td>\n",
       "      <td id=\"T_31e34_row4_col8\" class=\"data row4 col8\" >0.175902</td>\n",
       "      <td id=\"T_31e34_row4_col9\" class=\"data row4 col9\" >-0.148386</td>\n",
       "      <td id=\"T_31e34_row4_col10\" class=\"data row4 col10\" >-0.067315</td>\n",
       "      <td id=\"T_31e34_row4_col11\" class=\"data row4 col11\" >0.041729</td>\n",
       "      <td id=\"T_31e34_row4_col12\" class=\"data row4 col12\" >-0.268603</td>\n",
       "    </tr>\n",
       "    <tr>\n",
       "      <th id=\"T_31e34_level0_row5\" class=\"row_heading level0 row5\" >high_blood_pressure</th>\n",
       "      <td id=\"T_31e34_row5_col0\" class=\"data row5 col0\" >0.093289</td>\n",
       "      <td id=\"T_31e34_row5_col1\" class=\"data row5 col1\" >0.038182</td>\n",
       "      <td id=\"T_31e34_row5_col2\" class=\"data row5 col2\" >-0.070590</td>\n",
       "      <td id=\"T_31e34_row5_col3\" class=\"data row5 col3\" >-0.012732</td>\n",
       "      <td id=\"T_31e34_row5_col4\" class=\"data row5 col4\" >0.024445</td>\n",
       "      <td id=\"T_31e34_row5_col5\" class=\"data row5 col5\" >1.000000</td>\n",
       "      <td id=\"T_31e34_row5_col6\" class=\"data row5 col6\" >0.049963</td>\n",
       "      <td id=\"T_31e34_row5_col7\" class=\"data row5 col7\" >-0.004935</td>\n",
       "      <td id=\"T_31e34_row5_col8\" class=\"data row5 col8\" >0.037109</td>\n",
       "      <td id=\"T_31e34_row5_col9\" class=\"data row5 col9\" >-0.104615</td>\n",
       "      <td id=\"T_31e34_row5_col10\" class=\"data row5 col10\" >-0.055711</td>\n",
       "      <td id=\"T_31e34_row5_col11\" class=\"data row5 col11\" >-0.196439</td>\n",
       "      <td id=\"T_31e34_row5_col12\" class=\"data row5 col12\" >0.079351</td>\n",
       "    </tr>\n",
       "    <tr>\n",
       "      <th id=\"T_31e34_level0_row6\" class=\"row_heading level0 row6\" >platelets</th>\n",
       "      <td id=\"T_31e34_row6_col0\" class=\"data row6 col0\" >-0.052354</td>\n",
       "      <td id=\"T_31e34_row6_col1\" class=\"data row6 col1\" >-0.043786</td>\n",
       "      <td id=\"T_31e34_row6_col2\" class=\"data row6 col2\" >0.024463</td>\n",
       "      <td id=\"T_31e34_row6_col3\" class=\"data row6 col3\" >0.092193</td>\n",
       "      <td id=\"T_31e34_row6_col4\" class=\"data row6 col4\" >0.072177</td>\n",
       "      <td id=\"T_31e34_row6_col5\" class=\"data row6 col5\" >0.049963</td>\n",
       "      <td id=\"T_31e34_row6_col6\" class=\"data row6 col6\" >1.000000</td>\n",
       "      <td id=\"T_31e34_row6_col7\" class=\"data row6 col7\" >-0.041198</td>\n",
       "      <td id=\"T_31e34_row6_col8\" class=\"data row6 col8\" >0.062125</td>\n",
       "      <td id=\"T_31e34_row6_col9\" class=\"data row6 col9\" >-0.125120</td>\n",
       "      <td id=\"T_31e34_row6_col10\" class=\"data row6 col10\" >0.028234</td>\n",
       "      <td id=\"T_31e34_row6_col11\" class=\"data row6 col11\" >0.010514</td>\n",
       "      <td id=\"T_31e34_row6_col12\" class=\"data row6 col12\" >-0.049139</td>\n",
       "    </tr>\n",
       "    <tr>\n",
       "      <th id=\"T_31e34_level0_row7\" class=\"row_heading level0 row7\" >serum_creatinine</th>\n",
       "      <td id=\"T_31e34_row7_col0\" class=\"data row7 col0\" >0.159187</td>\n",
       "      <td id=\"T_31e34_row7_col1\" class=\"data row7 col1\" >0.052174</td>\n",
       "      <td id=\"T_31e34_row7_col2\" class=\"data row7 col2\" >-0.016408</td>\n",
       "      <td id=\"T_31e34_row7_col3\" class=\"data row7 col3\" >-0.046975</td>\n",
       "      <td id=\"T_31e34_row7_col4\" class=\"data row7 col4\" >-0.011302</td>\n",
       "      <td id=\"T_31e34_row7_col5\" class=\"data row7 col5\" >-0.004935</td>\n",
       "      <td id=\"T_31e34_row7_col6\" class=\"data row7 col6\" >-0.041198</td>\n",
       "      <td id=\"T_31e34_row7_col7\" class=\"data row7 col7\" >1.000000</td>\n",
       "      <td id=\"T_31e34_row7_col8\" class=\"data row7 col8\" >-0.189095</td>\n",
       "      <td id=\"T_31e34_row7_col9\" class=\"data row7 col9\" >0.006970</td>\n",
       "      <td id=\"T_31e34_row7_col10\" class=\"data row7 col10\" >-0.027414</td>\n",
       "      <td id=\"T_31e34_row7_col11\" class=\"data row7 col11\" >-0.149315</td>\n",
       "      <td id=\"T_31e34_row7_col12\" class=\"data row7 col12\" >0.294278</td>\n",
       "    </tr>\n",
       "    <tr>\n",
       "      <th id=\"T_31e34_level0_row8\" class=\"row_heading level0 row8\" >serum_sodium</th>\n",
       "      <td id=\"T_31e34_row8_col0\" class=\"data row8 col0\" >-0.045966</td>\n",
       "      <td id=\"T_31e34_row8_col1\" class=\"data row8 col1\" >0.041882</td>\n",
       "      <td id=\"T_31e34_row8_col2\" class=\"data row8 col2\" >0.059550</td>\n",
       "      <td id=\"T_31e34_row8_col3\" class=\"data row8 col3\" >-0.089551</td>\n",
       "      <td id=\"T_31e34_row8_col4\" class=\"data row8 col4\" >0.175902</td>\n",
       "      <td id=\"T_31e34_row8_col5\" class=\"data row8 col5\" >0.037109</td>\n",
       "      <td id=\"T_31e34_row8_col6\" class=\"data row8 col6\" >0.062125</td>\n",
       "      <td id=\"T_31e34_row8_col7\" class=\"data row8 col7\" >-0.189095</td>\n",
       "      <td id=\"T_31e34_row8_col8\" class=\"data row8 col8\" >1.000000</td>\n",
       "      <td id=\"T_31e34_row8_col9\" class=\"data row8 col9\" >-0.027566</td>\n",
       "      <td id=\"T_31e34_row8_col10\" class=\"data row8 col10\" >0.004813</td>\n",
       "      <td id=\"T_31e34_row8_col11\" class=\"data row8 col11\" >0.087640</td>\n",
       "      <td id=\"T_31e34_row8_col12\" class=\"data row8 col12\" >-0.195204</td>\n",
       "    </tr>\n",
       "    <tr>\n",
       "      <th id=\"T_31e34_level0_row9\" class=\"row_heading level0 row9\" >sex</th>\n",
       "      <td id=\"T_31e34_row9_col0\" class=\"data row9 col0\" >0.065430</td>\n",
       "      <td id=\"T_31e34_row9_col1\" class=\"data row9 col1\" >-0.094769</td>\n",
       "      <td id=\"T_31e34_row9_col2\" class=\"data row9 col2\" >0.079791</td>\n",
       "      <td id=\"T_31e34_row9_col3\" class=\"data row9 col3\" >-0.157730</td>\n",
       "      <td id=\"T_31e34_row9_col4\" class=\"data row9 col4\" >-0.148386</td>\n",
       "      <td id=\"T_31e34_row9_col5\" class=\"data row9 col5\" >-0.104615</td>\n",
       "      <td id=\"T_31e34_row9_col6\" class=\"data row9 col6\" >-0.125120</td>\n",
       "      <td id=\"T_31e34_row9_col7\" class=\"data row9 col7\" >0.006970</td>\n",
       "      <td id=\"T_31e34_row9_col8\" class=\"data row9 col8\" >-0.027566</td>\n",
       "      <td id=\"T_31e34_row9_col9\" class=\"data row9 col9\" >1.000000</td>\n",
       "      <td id=\"T_31e34_row9_col10\" class=\"data row9 col10\" >0.445892</td>\n",
       "      <td id=\"T_31e34_row9_col11\" class=\"data row9 col11\" >-0.015608</td>\n",
       "      <td id=\"T_31e34_row9_col12\" class=\"data row9 col12\" >-0.004316</td>\n",
       "    </tr>\n",
       "    <tr>\n",
       "      <th id=\"T_31e34_level0_row10\" class=\"row_heading level0 row10\" >smoking</th>\n",
       "      <td id=\"T_31e34_row10_col0\" class=\"data row10 col0\" >0.018668</td>\n",
       "      <td id=\"T_31e34_row10_col1\" class=\"data row10 col1\" >-0.107290</td>\n",
       "      <td id=\"T_31e34_row10_col2\" class=\"data row10 col2\" >0.002421</td>\n",
       "      <td id=\"T_31e34_row10_col3\" class=\"data row10 col3\" >-0.147173</td>\n",
       "      <td id=\"T_31e34_row10_col4\" class=\"data row10 col4\" >-0.067315</td>\n",
       "      <td id=\"T_31e34_row10_col5\" class=\"data row10 col5\" >-0.055711</td>\n",
       "      <td id=\"T_31e34_row10_col6\" class=\"data row10 col6\" >0.028234</td>\n",
       "      <td id=\"T_31e34_row10_col7\" class=\"data row10 col7\" >-0.027414</td>\n",
       "      <td id=\"T_31e34_row10_col8\" class=\"data row10 col8\" >0.004813</td>\n",
       "      <td id=\"T_31e34_row10_col9\" class=\"data row10 col9\" >0.445892</td>\n",
       "      <td id=\"T_31e34_row10_col10\" class=\"data row10 col10\" >1.000000</td>\n",
       "      <td id=\"T_31e34_row10_col11\" class=\"data row10 col11\" >-0.022839</td>\n",
       "      <td id=\"T_31e34_row10_col12\" class=\"data row10 col12\" >-0.012623</td>\n",
       "    </tr>\n",
       "    <tr>\n",
       "      <th id=\"T_31e34_level0_row11\" class=\"row_heading level0 row11\" >time</th>\n",
       "      <td id=\"T_31e34_row11_col0\" class=\"data row11 col0\" >-0.224068</td>\n",
       "      <td id=\"T_31e34_row11_col1\" class=\"data row11 col1\" >-0.141414</td>\n",
       "      <td id=\"T_31e34_row11_col2\" class=\"data row11 col2\" >-0.009346</td>\n",
       "      <td id=\"T_31e34_row11_col3\" class=\"data row11 col3\" >0.033726</td>\n",
       "      <td id=\"T_31e34_row11_col4\" class=\"data row11 col4\" >0.041729</td>\n",
       "      <td id=\"T_31e34_row11_col5\" class=\"data row11 col5\" >-0.196439</td>\n",
       "      <td id=\"T_31e34_row11_col6\" class=\"data row11 col6\" >0.010514</td>\n",
       "      <td id=\"T_31e34_row11_col7\" class=\"data row11 col7\" >-0.149315</td>\n",
       "      <td id=\"T_31e34_row11_col8\" class=\"data row11 col8\" >0.087640</td>\n",
       "      <td id=\"T_31e34_row11_col9\" class=\"data row11 col9\" >-0.015608</td>\n",
       "      <td id=\"T_31e34_row11_col10\" class=\"data row11 col10\" >-0.022839</td>\n",
       "      <td id=\"T_31e34_row11_col11\" class=\"data row11 col11\" >1.000000</td>\n",
       "      <td id=\"T_31e34_row11_col12\" class=\"data row11 col12\" >-0.526964</td>\n",
       "    </tr>\n",
       "    <tr>\n",
       "      <th id=\"T_31e34_level0_row12\" class=\"row_heading level0 row12\" >DEATH_EVENT</th>\n",
       "      <td id=\"T_31e34_row12_col0\" class=\"data row12 col0\" >0.253729</td>\n",
       "      <td id=\"T_31e34_row12_col1\" class=\"data row12 col1\" >0.066270</td>\n",
       "      <td id=\"T_31e34_row12_col2\" class=\"data row12 col2\" >0.062728</td>\n",
       "      <td id=\"T_31e34_row12_col3\" class=\"data row12 col3\" >-0.001943</td>\n",
       "      <td id=\"T_31e34_row12_col4\" class=\"data row12 col4\" >-0.268603</td>\n",
       "      <td id=\"T_31e34_row12_col5\" class=\"data row12 col5\" >0.079351</td>\n",
       "      <td id=\"T_31e34_row12_col6\" class=\"data row12 col6\" >-0.049139</td>\n",
       "      <td id=\"T_31e34_row12_col7\" class=\"data row12 col7\" >0.294278</td>\n",
       "      <td id=\"T_31e34_row12_col8\" class=\"data row12 col8\" >-0.195204</td>\n",
       "      <td id=\"T_31e34_row12_col9\" class=\"data row12 col9\" >-0.004316</td>\n",
       "      <td id=\"T_31e34_row12_col10\" class=\"data row12 col10\" >-0.012623</td>\n",
       "      <td id=\"T_31e34_row12_col11\" class=\"data row12 col11\" >-0.526964</td>\n",
       "      <td id=\"T_31e34_row12_col12\" class=\"data row12 col12\" >1.000000</td>\n",
       "    </tr>\n",
       "  </tbody>\n",
       "</table>\n"
      ],
      "text/plain": [
       "<pandas.io.formats.style.Styler at 0x7fc5293291f0>"
      ]
     },
     "execution_count": 33,
     "metadata": {},
     "output_type": "execute_result"
    }
   ],
   "source": [
    "df.corr().style.background_gradient(cmap='viridis')"
   ]
  },
  {
   "cell_type": "code",
   "execution_count": 34,
   "id": "9f4e96a4",
   "metadata": {
    "colab": {
     "base_uri": "https://localhost:8080/",
     "height": 322
    },
    "execution": {
     "iopub.execute_input": "2022-12-04T11:40:36.623634Z",
     "iopub.status.busy": "2022-12-04T11:40:36.622847Z",
     "iopub.status.idle": "2022-12-04T11:40:37.464668Z",
     "shell.execute_reply": "2022-12-04T11:40:37.463624Z"
    },
    "executionInfo": {
     "elapsed": 686,
     "status": "ok",
     "timestamp": 1670897338514,
     "user": {
      "displayName": "Franklin Nkokam Ngongang",
      "userId": "07081789311912667597"
     },
     "user_tz": 300
    },
    "id": "9f4e96a4",
    "outputId": "5821bd37-989b-413b-fe43-5b23bcd1522c",
    "papermill": {
     "duration": 0.858016,
     "end_time": "2022-12-04T11:40:37.467328",
     "exception": false,
     "start_time": "2022-12-04T11:40:36.609312",
     "status": "completed"
    },
    "tags": []
   },
   "outputs": [
    {
     "data": {
      "text/plain": [
       "Text(0, 0.5, 'Number of Death Events')"
      ]
     },
     "execution_count": 34,
     "metadata": {},
     "output_type": "execute_result"
    },
    {
     "data": {
      "image/png": "[encoded data removed]",
      "text/plain": [
       "<Figure size 720x360 with 1 Axes>"
      ]
     },
     "metadata": {
      "needs_background": "light"
     },
     "output_type": "display_data"
    }
   ],
   "source": [
    "### This code will create a bar chart using the plot method of the DataFrame object returned by pd.crosstab(df['age'], df['DEATH_EVENT']).\n",
    "\n",
    "## pd.crosstab is a function that generates a cross-tabulation table for two or more factors. \n",
    "## It takes in two or more arrays of variables and returns a DataFrame with the counts of the unique combinations of the variables.\n",
    "\n",
    "## In this case, pd.crosstab(df['age'], df['DEATH_EVENT']) will create a cross-tabulation table with the age values in the rows and \n",
    "## the DEATH_EVENT values in the columns. The resulting table will show the count of each unique combination of age and DEATH_EVENT values in the input data.\n",
    "\n",
    "## The kind parameter of the plot method specifies the type of chart to create. In this case, kind='bar' will create a bar chart.\n",
    "\n",
    "## This code will create a bar chart that shows the counts of each unique combination of age and DEATH_EVENT values in the input data. \n",
    "## The age values will be used as the x-axis labels and the DEATH_EVENT values will be used as the y-axis values. \n",
    "## The chart will show the count of each unique combination of age and DEATH_EVENT values as the height of the bars.\n",
    "\n",
    "\n",
    "\n",
    "\n",
    "# pd.crosstab(df['age'], df['DEATH_EVENT']).plot(kind='bar')\n",
    "\n",
    "plot_data = pd.crosstab(df['age'], df['DEATH_EVENT']).unstack().reset_index(name='count')\n",
    "\n",
    "# Plot the x and y values as a scatter plot\n",
    "plot = plot_data.plot(kind='scatter', x='age', y='count', title='Death Events by Age', figsize=(10, 5), color='red', marker='x', s=50)\n",
    "plot.set_xlabel('Age')\n",
    "plot.set_ylabel('Number of Death Events')"
   ]
  },
  {
   "cell_type": "code",
   "execution_count": 43,
   "id": "23f52941",
   "metadata": {
    "colab": {
     "base_uri": "https://localhost:8080/"
    },
    "execution": {
     "iopub.execute_input": "2022-12-04T11:40:37.495418Z",
     "iopub.status.busy": "2022-12-04T11:40:37.494654Z",
     "iopub.status.idle": "2022-12-04T11:40:37.503076Z",
     "shell.execute_reply": "2022-12-04T11:40:37.502233Z"
    },
    "executionInfo": {
     "elapsed": 5,
     "status": "ok",
     "timestamp": 1670897339014,
     "user": {
      "displayName": "Franklin Nkokam Ngongang",
      "userId": "07081789311912667597"
     },
     "user_tz": 300
    },
    "id": "23f52941",
    "outputId": "d0c41d3e-a247-46aa-c987-4c6cd3b2987e",
    "papermill": {
     "duration": 0.02501,
     "end_time": "2022-12-04T11:40:37.505552",
     "exception": false,
     "start_time": "2022-12-04T11:40:37.480542",
     "status": "completed"
    },
    "tags": []
   },
   "outputs": [
    {
     "name": "stdout",
     "output_type": "stream",
     "text": [
      "age\n",
      "anaemia\n",
      "creatinine_phosphokinase\n",
      "diabetes\n",
      "ejection_fraction\n",
      "high_blood_pressure\n",
      "platelets\n",
      "serum_creatinine\n",
      "serum_sodium\n",
      "sex\n",
      "smoking\n",
      "time\n",
      "DEATH_EVENT\n"
     ]
    }
   ],
   "source": [
    "for col in df.columns:\n",
    "    print(col)"
   ]
  },
  {
   "cell_type": "code",
   "execution_count": 50,
   "id": "1f039d8d",
   "metadata": {
    "colab": {
     "base_uri": "https://localhost:8080/",
     "height": 896
    },
    "execution": {
     "iopub.execute_input": "2022-12-04T11:40:37.533404Z",
     "iopub.status.busy": "2022-12-04T11:40:37.532514Z",
     "iopub.status.idle": "2022-12-04T11:40:38.599408Z",
     "shell.execute_reply": "2022-12-04T11:40:38.597958Z"
    },
    "executionInfo": {
     "elapsed": 992,
     "status": "ok",
     "timestamp": 1670897340836,
     "user": {
      "displayName": "Franklin Nkokam Ngongang",
      "userId": "07081789311912667597"
     },
     "user_tz": 300
    },
    "id": "1f039d8d",
    "outputId": "6b8c899b-408a-4da4-814b-9b7503b87930",
    "papermill": {
     "duration": 1.083897,
     "end_time": "2022-12-04T11:40:38.602219",
     "exception": false,
     "start_time": "2022-12-04T11:40:37.518322",
     "status": "completed"
    },
    "scrolled": false,
    "tags": []
   },
   "outputs": [
    {
     "data": {
      "text/plain": [
       "Text(0.5, 1.0, 'Time')"
      ]
     },
     "execution_count": 50,
     "metadata": {},
     "output_type": "execute_result"
    },
    {
     "data": {
      "image/png": "[encoded data removed]",
      "text/plain": [
       "<Figure size 1080x1080 with 6 Axes>"
      ]
     },
     "metadata": {
      "needs_background": "light"
     },
     "output_type": "display_data"
    }
   ],
   "source": [
    "f, ax = plt.subplots(nrows=2, ncols=3, figsize=(15, 15))\n",
    "\n",
    "# Plot bar chart for 'anaemia' column, grouped by 'DEATH_EVENT' column\n",
    "sns.countplot(x='anaemia', hue='DEATH_EVENT', data=df, palette='Set1', ax=ax[0,0])\n",
    "\n",
    "# Plot bar chart for 'creatinine_phosphokinase' column, grouped by 'DEATH_EVENT' column\n",
    "sns.countplot(x='creatinine_phosphokinase', hue='DEATH_EVENT', data=df, palette='Set1', ax=ax[1,0])\n",
    "\n",
    "# Plot bar chart for 'diabetes' column\n",
    "sns.countplot(x='diabetes', data=df, ax=ax[1,0])\n",
    "\n",
    "# Plot bar chart for 'ejection_fraction' column\n",
    "sns.countplot(x='ejection_fraction', data=df, ax=ax[0,1])\n",
    "\n",
    "# Plot bar chart for 'high_blood_pressure' column\n",
    "sns.countplot(x='high_blood_pressure', data=df, ax=ax[1,1])\n",
    "\n",
    "# Plot bar chart for 'platelets' column\n",
    "sns.countplot(x='platelets', data=df, ax=ax[1,1])  # modify index to access element within bounds\n",
    "\n",
    "# Plot bar chart for 'serum_creatinine' column\n",
    "sns.countplot(x='serum_creatinine', data=df, ax=ax[1,1])  # modify index to access element within bounds\n",
    "\n",
    "# Plot bar chart for 'serum_sodium' column\n",
    "sns.countplot(x='serum_sodium', data=df, ax=ax[0,2])\n",
    "\n",
    "# Plot bar chart for 'sex' column\n",
    "sns.countplot(x='sex', data=df, ax=ax[0,2])\n",
    "\n",
    "# Plot bar chart for 'smoking' column\n",
    "sns.countplot(x='smoking', data=df, ax=ax[1,2])\n",
    "\n",
    "# Plot bar chart for 'time' column\n",
    "sns.countplot(x='time', data=df, ax=ax[1,2])  # modify index to access element within bounds\n",
    "\n",
    "# Set title for each subplot\n",
    "ax[0,0].set_title('Anaemia')\n",
    "ax[1,0].set_title('Creatinine Phosphokinase')\n",
    "ax[1,0].set_title('Diabetes')\n",
    "ax[0,1].set_title('Ejection Fraction')\n",
    "ax[1,1].set_title('High Blood Pressure')\n",
    "ax[1,1].set_title('Platelets')  # modify index to access element within bounds\n",
    "ax[1,1].set_title('Serum Creatinine')  # modify index to access element within bounds\n",
    "ax[0,2].set_title('Serum Sodium')\n",
    "ax[0,2].set_title('Sex')\n",
    "ax[1,2].set_title('Smoking')\n",
    "ax[1,2].set_title('Time')  # modify index to access element within bounds\n"
   ]
  },
  {
   "cell_type": "code",
   "execution_count": 81,
   "id": "c0e1da3f",
   "metadata": {
    "colab": {
     "base_uri": "https://localhost:8080/",
     "height": 542
    },
    "execution": {
     "iopub.execute_input": "2022-12-04T11:40:38.632268Z",
     "iopub.status.busy": "2022-12-04T11:40:38.631797Z",
     "iopub.status.idle": "2022-12-04T11:40:39.901569Z",
     "shell.execute_reply": "2022-12-04T11:40:39.900222Z"
    },
    "executionInfo": {
     "elapsed": 24,
     "status": "ok",
     "timestamp": 1670897340841,
     "user": {
      "displayName": "Franklin Nkokam Ngongang",
      "userId": "07081789311912667597"
     },
     "user_tz": 300
    },
    "id": "c0e1da3f",
    "outputId": "be67e663-d801-489d-b110-0f2da55ff207",
    "papermill": {
     "duration": 1.288973,
     "end_time": "2022-12-04T11:40:39.904380",
     "exception": false,
     "start_time": "2022-12-04T11:40:38.615407",
     "status": "completed"
    },
    "tags": []
   },
   "outputs": [
    {
     "data": {
      "application/vnd.plotly.v1+json": {
       "config": {
        "plotlyServerURL": "https://plot.ly"
       },
       "data": [
        {
         "alignmentgroup": "True",
         "boxpoints": "all",
         "customdata": [
          [
           0,
           582,
           0,
           20,
           1,
           265000,
           1.9,
           130,
           1,
           4,
           1
          ],
          [
           0,
           7861,
           0,
           38,
           0,
           263358.03,
           1.1,
           136,
           1,
           6,
           1
          ],
          [
           0,
           146,
           0,
           20,
           0,
           162000,
           1.3,
           129,
           1,
           7,
           1
          ],
          [
           1,
           111,
           0,
           20,
           0,
           210000,
           1.9,
           137,
           1,
           7,
           1
          ],
          [
           1,
           160,
           1,
           20,
           0,
           327000,
           2.7,
           116,
           0,
           8,
           1
          ],
          [
           1,
           47,
           0,
           40,
           1,
           204000,
           2.1,
           132,
           1,
           8,
           1
          ],
          [
           1,
           246,
           0,
           15,
           0,
           127000,
           1.2,
           137,
           1,
           10,
           1
          ],
          [
           1,
           315,
           1,
           60,
           0,
           454000,
           1.1,
           131,
           1,
           10,
           1
          ],
          [
           0,
           157,
           0,
           65,
           0,
           263358.03,
           1.5,
           138,
           0,
           10,
           1
          ],
          [
           1,
           123,
           0,
           35,
           1,
           388000,
           9.4,
           133,
           1,
           10,
           1
          ],
          [
           1,
           81,
           0,
           38,
           1,
           368000,
           4,
           131,
           1,
           10,
           1
          ],
          [
           0,
           231,
           0,
           25,
           1,
           253000,
           0.9,
           140,
           1,
           10,
           1
          ],
          [
           1,
           981,
           0,
           30,
           0,
           136000,
           1.1,
           137,
           1,
           11,
           1
          ],
          [
           1,
           168,
           0,
           38,
           1,
           276000,
           1.1,
           137,
           1,
           11,
           1
          ],
          [
           1,
           379,
           0,
           50,
           0,
           47000,
           1.3,
           136,
           1,
           13,
           1
          ],
          [
           1,
           149,
           0,
           38,
           0,
           262000,
           0.9,
           140,
           1,
           14,
           1
          ],
          [
           0,
           582,
           0,
           14,
           0,
           166000,
           0.8,
           127,
           1,
           14,
           1
          ],
          [
           1,
           125,
           0,
           25,
           1,
           237000,
           1,
           140,
           0,
           15,
           1
          ],
          [
           1,
           582,
           1,
           55,
           0,
           87000,
           1.9,
           121,
           0,
           15,
           1
          ],
          [
           1,
           128,
           1,
           30,
           1,
           297000,
           1.6,
           136,
           0,
           20,
           1
          ],
          [
           1,
           220,
           0,
           35,
           1,
           289000,
           0.9,
           140,
           1,
           20,
           1
          ],
          [
           0,
           582,
           1,
           30,
           1,
           263358.03,
           1.83,
           134,
           0,
           23,
           1
          ],
          [
           0,
           148,
           1,
           38,
           0,
           149000,
           1.9,
           144,
           1,
           23,
           1
          ],
          [
           1,
           112,
           0,
           40,
           1,
           196000,
           1,
           138,
           0,
           24,
           1
          ],
          [
           0,
           122,
           1,
           45,
           1,
           284000,
           1.3,
           136,
           1,
           26,
           1
          ],
          [
           1,
           60,
           0,
           38,
           0,
           153000,
           5.8,
           134,
           1,
           26,
           1
          ],
          [
           0,
           70,
           1,
           30,
           0,
           200000,
           1.2,
           132,
           1,
           26,
           1
          ],
          [
           0,
           582,
           1,
           38,
           1,
           263358.03,
           1.83,
           134,
           1,
           27,
           1
          ],
          [
           0,
           23,
           0,
           45,
           0,
           360000,
           3,
           132,
           1,
           28,
           1
          ],
          [
           1,
           249,
           1,
           35,
           1,
           319000,
           1,
           128,
           0,
           28,
           1
          ],
          [
           0,
           94,
           1,
           50,
           1,
           188000,
           1,
           140,
           1,
           29,
           1
          ],
          [
           0,
           582,
           1,
           35,
           0,
           228000,
           3.5,
           134,
           1,
           30,
           1
          ],
          [
           1,
           60,
           1,
           50,
           0,
           226000,
           1,
           134,
           1,
           30,
           1
          ],
          [
           1,
           855,
           1,
           50,
           1,
           321000,
           1,
           145,
           0,
           30,
           1
          ],
          [
           0,
           235,
           1,
           38,
           0,
           329000,
           3,
           142,
           0,
           30,
           1
          ],
          [
           0,
           582,
           0,
           20,
           1,
           263358.03,
           1.83,
           134,
           1,
           31,
           1
          ],
          [
           0,
           124,
           1,
           30,
           1,
           153000,
           1.2,
           136,
           0,
           32,
           1
          ],
          [
           0,
           571,
           1,
           45,
           1,
           185000,
           1.2,
           139,
           1,
           33,
           1
          ],
          [
           1,
           588,
           1,
           60,
           0,
           194000,
           1.1,
           142,
           0,
           33,
           1
          ],
          [
           0,
           582,
           1,
           38,
           0,
           310000,
           1.9,
           135,
           1,
           35,
           1
          ],
          [
           0,
           1380,
           0,
           25,
           1,
           271000,
           0.9,
           130,
           1,
           38,
           1
          ],
          [
           0,
           582,
           1,
           38,
           1,
           451000,
           0.6,
           138,
           1,
           40,
           1
          ],
          [
           1,
           553,
           0,
           20,
           1,
           140000,
           4.4,
           133,
           1,
           41,
           1
          ],
          [
           1,
           129,
           0,
           30,
           0,
           395000,
           1,
           140,
           0,
           42,
           1
          ],
          [
           1,
           577,
           0,
           25,
           1,
           166000,
           1,
           138,
           1,
           43,
           1
          ],
          [
           1,
           91,
           0,
           20,
           1,
           418000,
           1.4,
           139,
           0,
           43,
           1
          ],
          [
           0,
           3964,
           1,
           62,
           0,
           263358.03,
           6.8,
           146,
           0,
           43,
           1
          ],
          [
           1,
           69,
           1,
           50,
           1,
           351000,
           1,
           134,
           0,
           44,
           1
          ],
          [
           1,
           260,
           1,
           38,
           0,
           255000,
           2.2,
           132,
           0,
           45,
           1
          ],
          [
           1,
           371,
           0,
           30,
           0,
           461000,
           2,
           132,
           1,
           50,
           1
          ],
          [
           0,
           789,
           0,
           20,
           1,
           319000,
           1.1,
           136,
           1,
           55,
           1
          ],
          [
           0,
           364,
           1,
           20,
           1,
           254000,
           1.3,
           136,
           1,
           59,
           1
          ],
          [
           0,
           7702,
           1,
           25,
           1,
           390000,
           1,
           139,
           1,
           60,
           1
          ],
          [
           0,
           318,
           0,
           40,
           1,
           216000,
           2.3,
           131,
           0,
           60,
           1
          ],
          [
           0,
           582,
           0,
           35,
           0,
           385000,
           1,
           145,
           1,
           61,
           1
          ],
          [
           0,
           68,
           0,
           20,
           0,
           119000,
           2.9,
           127,
           1,
           64,
           1
          ],
          [
           1,
           250,
           1,
           15,
           0,
           213000,
           1.3,
           136,
           0,
           65,
           1
          ],
          [
           1,
           110,
           0,
           25,
           0,
           274000,
           1,
           140,
           1,
           65,
           1
          ],
          [
           0,
           161,
           0,
           25,
           0,
           244000,
           1.2,
           142,
           0,
           66,
           1
          ],
          [
           0,
           113,
           1,
           25,
           0,
           497000,
           1.83,
           135,
           1,
           67,
           1
          ],
          [
           0,
           5882,
           0,
           35,
           0,
           243000,
           1,
           132,
           1,
           72,
           1
          ],
          [
           0,
           582,
           0,
           20,
           0,
           266000,
           1.2,
           134,
           1,
           73,
           1
          ],
          [
           1,
           47,
           0,
           20,
           0,
           204000,
           0.7,
           139,
           1,
           73,
           1
          ],
          [
           1,
           76,
           1,
           25,
           0,
           196000,
           2.5,
           132,
           0,
           77,
           1
          ],
          [
           1,
           280,
           1,
           25,
           1,
           302000,
           1,
           141,
           0,
           78,
           1
          ],
          [
           1,
           154,
           0,
           25,
           0,
           210000,
           1.7,
           135,
           1,
           82,
           1
          ],
          [
           1,
           328,
           0,
           30,
           1,
           621000,
           1.7,
           138,
           0,
           88,
           1
          ],
          [
           0,
           129,
           0,
           60,
           0,
           306000,
           1.2,
           132,
           1,
           90,
           1
          ],
          [
           1,
           143,
           0,
           60,
           0,
           351000,
           1.3,
           137,
           0,
           90,
           1
          ],
          [
           0,
           582,
           0,
           38,
           0,
           263358.03,
           1.83,
           134,
           0,
           95,
           1
          ],
          [
           0,
           582,
           0,
           40,
           0,
           217000,
           3.7,
           134,
           1,
           96,
           1
          ],
          [
           0,
           168,
           1,
           17,
           1,
           271000,
           2.1,
           124,
           0,
           100,
           1
          ],
          [
           0,
           805,
           0,
           38,
           0,
           263358.03,
           1.1,
           134,
           1,
           109,
           1
          ],
          [
           1,
           943,
           0,
           25,
           1,
           338000,
           1.7,
           139,
           1,
           111,
           1
          ],
          [
           1,
           582,
           0,
           30,
           0,
           225000,
           1.83,
           134,
           1,
           113,
           1
          ],
          [
           0,
           233,
           0,
           45,
           1,
           235000,
           2.5,
           135,
           0,
           115,
           1
          ],
          [
           1,
           2334,
           1,
           35,
           0,
           75000,
           0.9,
           142,
           0,
           126,
           1
          ],
          [
           0,
           2442,
           1,
           30,
           0,
           334000,
           1.1,
           139,
           1,
           129,
           1
          ],
          [
           0,
           776,
           1,
           38,
           1,
           192000,
           1.3,
           135,
           0,
           130,
           1
          ],
          [
           0,
           66,
           1,
           20,
           0,
           70000,
           2.4,
           134,
           1,
           135,
           1
          ],
          [
           1,
           176,
           1,
           25,
           0,
           221000,
           1,
           136,
           1,
           150,
           1
          ],
          [
           0,
           395,
           1,
           25,
           0,
           265000,
           1.2,
           136,
           1,
           154,
           1
          ],
          [
           0,
           99,
           0,
           38,
           1,
           224000,
           2.5,
           134,
           1,
           162,
           1
          ],
          [
           1,
           145,
           0,
           25,
           0,
           219000,
           1.2,
           137,
           1,
           170,
           1
          ],
          [
           1,
           104,
           1,
           30,
           0,
           389000,
           1.5,
           136,
           1,
           171,
           1
          ],
          [
           0,
           582,
           0,
           50,
           0,
           153000,
           0.6,
           134,
           0,
           172,
           1
          ],
          [
           0,
           1896,
           1,
           25,
           0,
           365000,
           2.1,
           144,
           0,
           172,
           1
          ],
          [
           0,
           582,
           0,
           20,
           1,
           126000,
           1.6,
           135,
           1,
           180,
           1
          ],
          [
           1,
           418,
           0,
           45,
           0,
           223000,
           1.8,
           145,
           1,
           180,
           1
          ],
          [
           1,
           131,
           1,
           30,
           1,
           244000,
           1.6,
           130,
           0,
           193,
           1
          ],
          [
           1,
           427,
           0,
           70,
           1,
           151000,
           9,
           137,
           0,
           196,
           1
          ],
          [
           0,
           582,
           0,
           20,
           0,
           263358.03,
           1.83,
           134,
           1,
           198,
           1
          ],
          [
           0,
           166,
           0,
           30,
           0,
           62000,
           1.7,
           127,
           0,
           207,
           1
          ],
          [
           0,
           2017,
           0,
           25,
           0,
           314000,
           1.1,
           138,
           1,
           214,
           1
          ],
          [
           1,
           258,
           1,
           25,
           0,
           198000,
           1.4,
           129,
           1,
           235,
           1
          ],
          [
           0,
           1199,
           0,
           20,
           0,
           263358.03,
           1.83,
           134,
           1,
           241,
           1
          ]
         ],
         "hovertemplate": "DEATH_EVENT=%{customdata[10]}<br>smoking=%{x}<br>age=%{y}<br>anaemia=%{customdata[0]}<br>creatinine_phosphokinase=%{customdata[1]}<br>diabetes=%{customdata[2]}<br>ejection_fraction=%{customdata[3]}<br>high_blood_pressure=%{customdata[4]}<br>platelets=%{customdata[5]}<br>serum_creatinine=%{customdata[6]}<br>serum_sodium=%{customdata[7]}<br>sex=%{customdata[8]}<br>time=%{customdata[9]}<extra></extra>",
         "legendgroup": "1",
         "marker": {
          "color": "#636efa"
         },
         "name": "1",
         "notched": false,
         "offsetgroup": "1",
         "orientation": "v",
         "showlegend": true,
         "type": "box",
         "x": [
          0,
          0,
          1,
          0,
          0,
          1,
          0,
          1,
          0,
          1,
          1,
          1,
          0,
          0,
          0,
          0,
          0,
          0,
          0,
          0,
          1,
          0,
          1,
          0,
          1,
          0,
          1,
          0,
          0,
          0,
          0,
          0,
          0,
          0,
          0,
          1,
          1,
          1,
          0,
          1,
          0,
          1,
          0,
          0,
          0,
          0,
          0,
          0,
          1,
          0,
          1,
          1,
          0,
          0,
          0,
          1,
          0,
          1,
          0,
          0,
          1,
          1,
          1,
          0,
          0,
          0,
          1,
          1,
          0,
          0,
          0,
          0,
          0,
          1,
          0,
          0,
          0,
          0,
          0,
          0,
          1,
          1,
          0,
          1,
          0,
          0,
          0,
          0,
          0,
          0,
          0,
          0,
          0,
          0,
          0,
          1
         ],
         "x0": " ",
         "xaxis": "x",
         "y": [
          75,
          55,
          65,
          50,
          65,
          90,
          75,
          60,
          65,
          80,
          75,
          62,
          45,
          50,
          82,
          87,
          45,
          70,
          48,
          65,
          68,
          75,
          80,
          95,
          70,
          58,
          82,
          94,
          85,
          50,
          65,
          69,
          90,
          82,
          60,
          70,
          50,
          70,
          60,
          50,
          51,
          60,
          80,
          57,
          68,
          53,
          60,
          70,
          60,
          95,
          49,
          72,
          45,
          50,
          45,
          60,
          42,
          72,
          70,
          65,
          85,
          69,
          60,
          60,
          59,
          60,
          72,
          85,
          70,
          86,
          60,
          46,
          80,
          72,
          75,
          72,
          50,
          45,
          80,
          59,
          59,
          65,
          75,
          58,
          60.667,
          50,
          60,
          45,
          77,
          48,
          54,
          73,
          60,
          55,
          65,
          55
         ],
         "y0": " ",
         "yaxis": "y"
        },
        {
         "alignmentgroup": "True",
         "boxpoints": "all",
         "customdata": [
          [
           1,
           80,
           0,
           30,
           1,
           427000,
           1,
           138,
           0,
           12,
           0
          ],
          [
           1,
           52,
           0,
           25,
           1,
           276000,
           1.3,
           137,
           0,
           16,
           0
          ],
          [
           0,
           63,
           1,
           60,
           0,
           368000,
           0.8,
           135,
           1,
           22,
           0
          ],
          [
           1,
           159,
           1,
           30,
           0,
           302000,
           1.2,
           138,
           0,
           29,
           0
          ],
          [
           0,
           2656,
           1,
           30,
           0,
           305000,
           2.3,
           137,
           1,
           30,
           0
          ],
          [
           0,
           127,
           1,
           50,
           1,
           218000,
           1,
           134,
           1,
           33,
           0
          ],
          [
           1,
           75,
           0,
           35,
           0,
           223000,
           2.7,
           138,
           1,
           54,
           0
          ],
          [
           1,
           607,
           0,
           40,
           0,
           216000,
           0.6,
           138,
           1,
           54,
           0
          ],
          [
           0,
           109,
           0,
           35,
           0,
           254000,
           1.1,
           139,
           1,
           60,
           0
          ],
          [
           0,
           582,
           0,
           80,
           0,
           263358.03,
           1.18,
           137,
           0,
           63,
           0
          ],
          [
           0,
           148,
           0,
           40,
           0,
           374000,
           0.8,
           140,
           1,
           68,
           0
          ],
          [
           0,
           582,
           1,
           35,
           0,
           122000,
           0.9,
           139,
           1,
           71,
           0
          ],
          [
           0,
           224,
           1,
           50,
           0,
           149000,
           1.3,
           137,
           1,
           72,
           0
          ],
          [
           0,
           92,
           0,
           60,
           1,
           317000,
           0.8,
           140,
           0,
           74,
           0
          ],
          [
           0,
           102,
           1,
           40,
           0,
           237000,
           1.2,
           140,
           1,
           74,
           0
          ],
          [
           1,
           203,
           1,
           38,
           1,
           283000,
           0.6,
           131,
           1,
           74,
           0
          ],
          [
           0,
           336,
           0,
           45,
           1,
           324000,
           0.9,
           140,
           0,
           74,
           0
          ],
          [
           0,
           69,
           0,
           40,
           0,
           293000,
           1.7,
           136,
           0,
           75,
           0
          ],
          [
           0,
           582,
           0,
           50,
           0,
           263358.03,
           1.18,
           137,
           1,
           76,
           0
          ],
          [
           1,
           55,
           0,
           50,
           1,
           172000,
           1.8,
           133,
           1,
           78,
           0
          ],
          [
           0,
           78,
           0,
           50,
           0,
           406000,
           0.7,
           140,
           1,
           79,
           0
          ],
          [
           0,
           47,
           0,
           35,
           1,
           173000,
           1.1,
           137,
           1,
           79,
           0
          ],
          [
           1,
           68,
           1,
           60,
           1,
           304000,
           0.8,
           140,
           1,
           79,
           0
          ],
          [
           0,
           84,
           1,
           40,
           1,
           235000,
           0.7,
           139,
           1,
           79,
           0
          ],
          [
           1,
           115,
           0,
           25,
           1,
           181000,
           1.1,
           144,
           1,
           79,
           0
          ],
          [
           0,
           66,
           1,
           45,
           0,
           249000,
           0.8,
           136,
           1,
           80,
           0
          ],
          [
           0,
           897,
           1,
           45,
           0,
           297000,
           1,
           133,
           1,
           80,
           0
          ],
          [
           0,
           582,
           0,
           60,
           0,
           263358.03,
           1.18,
           137,
           0,
           82,
           0
          ],
          [
           0,
           144,
           1,
           38,
           1,
           327000,
           0.7,
           142,
           0,
           83,
           0
          ],
          [
           1,
           133,
           0,
           60,
           1,
           219000,
           1,
           141,
           1,
           83,
           0
          ],
          [
           1,
           514,
           1,
           25,
           1,
           254000,
           1.3,
           134,
           1,
           83,
           0
          ],
          [
           1,
           59,
           0,
           60,
           0,
           255000,
           1.1,
           136,
           0,
           85,
           0
          ],
          [
           1,
           156,
           1,
           25,
           1,
           318000,
           1.2,
           137,
           0,
           85,
           0
          ],
          [
           1,
           61,
           1,
           40,
           0,
           221000,
           1.1,
           140,
           0,
           86,
           0
          ],
          [
           1,
           305,
           0,
           25,
           0,
           298000,
           1.1,
           141,
           1,
           87,
           0
          ],
          [
           0,
           582,
           0,
           45,
           1,
           263358.03,
           1.18,
           137,
           1,
           87,
           0
          ],
          [
           0,
           898,
           0,
           25,
           0,
           149000,
           1.1,
           144,
           1,
           87,
           0
          ],
          [
           0,
           5209,
           0,
           30,
           0,
           226000,
           1,
           140,
           1,
           87,
           0
          ],
          [
           0,
           53,
           0,
           50,
           1,
           286000,
           2.3,
           143,
           0,
           87,
           0
          ],
          [
           0,
           748,
           0,
           45,
           0,
           263000,
           1.3,
           137,
           1,
           88,
           0
          ],
          [
           1,
           1876,
           1,
           35,
           0,
           226000,
           0.9,
           138,
           1,
           88,
           0
          ],
          [
           0,
           936,
           0,
           38,
           0,
           304000,
           1.1,
           133,
           1,
           88,
           0
          ],
          [
           0,
           292,
           1,
           35,
           0,
           850000,
           1.3,
           142,
           1,
           88,
           0
          ],
          [
           0,
           60,
           0,
           35,
           0,
           228000,
           1.2,
           135,
           1,
           90,
           0
          ],
          [
           0,
           369,
           1,
           25,
           0,
           252000,
           1.6,
           136,
           1,
           90,
           0
          ],
          [
           1,
           754,
           1,
           40,
           1,
           328000,
           1.2,
           126,
           1,
           91,
           0
          ],
          [
           1,
           400,
           0,
           40,
           0,
           164000,
           1,
           139,
           0,
           91,
           0
          ],
          [
           1,
           96,
           1,
           60,
           1,
           271000,
           0.7,
           136,
           0,
           94,
           0
          ],
          [
           1,
           102,
           0,
           60,
           0,
           507000,
           3.2,
           138,
           0,
           94,
           0
          ],
          [
           1,
           113,
           1,
           60,
           1,
           203000,
           0.9,
           140,
           0,
           94,
           0
          ],
          [
           1,
           737,
           0,
           60,
           1,
           210000,
           1.5,
           135,
           1,
           95,
           0
          ],
          [
           1,
           68,
           1,
           38,
           1,
           162000,
           1,
           136,
           0,
           95,
           0
          ],
          [
           0,
           96,
           1,
           38,
           0,
           228000,
           0.75,
           140,
           0,
           95,
           0
          ],
          [
           1,
           582,
           0,
           30,
           1,
           127000,
           0.9,
           145,
           0,
           95,
           0
          ],
          [
           1,
           358,
           0,
           50,
           0,
           237000,
           1.3,
           135,
           0,
           97,
           0
          ],
          [
           1,
           200,
           1,
           60,
           0,
           300000,
           0.8,
           137,
           0,
           104,
           0
          ],
          [
           0,
           248,
           0,
           30,
           1,
           267000,
           0.7,
           136,
           1,
           104,
           0
          ],
          [
           1,
           270,
           1,
           35,
           0,
           227000,
           3.4,
           145,
           1,
           105,
           0
          ],
          [
           1,
           1808,
           0,
           60,
           1,
           249000,
           0.7,
           138,
           1,
           106,
           0
          ],
          [
           1,
           1082,
           1,
           45,
           0,
           250000,
           6.1,
           131,
           1,
           107,
           0
          ],
          [
           0,
           719,
           0,
           40,
           1,
           263358.03,
           1.18,
           137,
           0,
           107,
           0
          ],
          [
           0,
           193,
           0,
           60,
           1,
           295000,
           1.3,
           145,
           1,
           107,
           0
          ],
          [
           0,
           4540,
           0,
           35,
           0,
           231000,
           1.18,
           137,
           1,
           107,
           0
          ],
          [
           0,
           582,
           0,
           40,
           0,
           263358.03,
           1.18,
           137,
           1,
           107,
           0
          ],
          [
           1,
           59,
           1,
           60,
           0,
           172000,
           0.9,
           137,
           0,
           107,
           0
          ],
          [
           1,
           646,
           0,
           25,
           0,
           305000,
           2.1,
           130,
           1,
           108,
           0
          ],
          [
           0,
           281,
           1,
           35,
           0,
           221000,
           1,
           136,
           0,
           108,
           0
          ],
          [
           0,
           1548,
           0,
           30,
           1,
           211000,
           0.8,
           138,
           1,
           108,
           0
          ],
          [
           1,
           291,
           0,
           35,
           0,
           348000,
           0.9,
           140,
           0,
           109,
           0
          ],
          [
           0,
           482,
           1,
           30,
           0,
           329000,
           0.9,
           132,
           0,
           109,
           0
          ],
          [
           1,
           84,
           0,
           40,
           1,
           229000,
           0.9,
           141,
           0,
           110,
           0
          ],
          [
           0,
           185,
           0,
           30,
           0,
           266000,
           0.7,
           141,
           1,
           112,
           0
          ],
          [
           0,
           132,
           0,
           30,
           0,
           218000,
           0.7,
           136,
           1,
           112,
           0
          ],
          [
           0,
           1610,
           0,
           60,
           0,
           242000,
           1,
           137,
           1,
           113,
           0
          ],
          [
           0,
           2261,
           0,
           35,
           1,
           228000,
           0.9,
           136,
           1,
           115,
           0
          ],
          [
           0,
           30,
           1,
           60,
           1,
           244000,
           0.9,
           139,
           1,
           117,
           0
          ],
          [
           0,
           115,
           0,
           45,
           1,
           184000,
           0.9,
           134,
           1,
           118,
           0
          ],
          [
           0,
           1846,
           1,
           35,
           0,
           263358.03,
           1.18,
           137,
           1,
           119,
           0
          ],
          [
           1,
           335,
           0,
           35,
           1,
           235000,
           0.8,
           136,
           0,
           120,
           0
          ],
          [
           1,
           231,
           1,
           25,
           0,
           194000,
           1.7,
           140,
           1,
           120,
           0
          ],
          [
           1,
           58,
           0,
           35,
           0,
           277000,
           1.4,
           136,
           0,
           120,
           0
          ],
          [
           0,
           250,
           0,
           25,
           0,
           262000,
           1,
           136,
           1,
           120,
           0
          ],
          [
           1,
           910,
           0,
           50,
           0,
           235000,
           1.3,
           134,
           1,
           121,
           0
          ],
          [
           1,
           129,
           0,
           45,
           1,
           362000,
           1.1,
           139,
           1,
           121,
           0
          ],
          [
           1,
           72,
           0,
           40,
           1,
           242000,
           1.2,
           134,
           1,
           121,
           0
          ],
          [
           1,
           130,
           0,
           35,
           0,
           174000,
           0.8,
           139,
           1,
           121,
           0
          ],
          [
           1,
           582,
           0,
           40,
           0,
           448000,
           0.9,
           137,
           1,
           123,
           0
          ],
          [
           0,
           196,
           0,
           60,
           0,
           220000,
           0.7,
           133,
           1,
           134,
           0
          ],
          [
           0,
           582,
           1,
           40,
           0,
           270000,
           1,
           138,
           0,
           140,
           0
          ],
          [
           0,
           835,
           0,
           35,
           1,
           305000,
           0.8,
           133,
           0,
           145,
           0
          ],
          [
           1,
           582,
           1,
           35,
           0,
           263358.03,
           1.5,
           136,
           1,
           145,
           0
          ],
          [
           0,
           3966,
           0,
           40,
           0,
           325000,
           0.9,
           140,
           1,
           146,
           0
          ],
          [
           1,
           171,
           0,
           60,
           1,
           176000,
           1.1,
           145,
           1,
           146,
           0
          ],
          [
           1,
           115,
           0,
           20,
           0,
           189000,
           0.8,
           139,
           1,
           146,
           0
          ],
          [
           0,
           198,
           1,
           35,
           1,
           281000,
           0.9,
           137,
           1,
           146,
           0
          ],
          [
           1,
           95,
           0,
           60,
           0,
           337000,
           1,
           138,
           1,
           146,
           0
          ],
          [
           0,
           1419,
           0,
           40,
           0,
           105000,
           1,
           135,
           1,
           147,
           0
          ],
          [
           1,
           69,
           0,
           50,
           0,
           132000,
           1,
           140,
           0,
           147,
           0
          ],
          [
           1,
           122,
           1,
           60,
           0,
           267000,
           1.2,
           145,
           1,
           147,
           0
          ],
          [
           0,
           835,
           0,
           40,
           0,
           279000,
           0.7,
           140,
           1,
           147,
           0
          ],
          [
           0,
           478,
           1,
           30,
           0,
           303000,
           0.9,
           136,
           1,
           148,
           0
          ],
          [
           1,
           151,
           1,
           40,
           1,
           201000,
           1,
           136,
           0,
           172,
           0
          ],
          [
           0,
           244,
           0,
           45,
           1,
           275000,
           0.9,
           140,
           0,
           174,
           0
          ],
          [
           0,
           582,
           1,
           35,
           0,
           350000,
           2.1,
           134,
           1,
           174,
           0
          ],
          [
           1,
           62,
           0,
           60,
           0,
           309000,
           1.5,
           135,
           0,
           174,
           0
          ],
          [
           1,
           121,
           1,
           40,
           0,
           260000,
           0.7,
           130,
           1,
           175,
           0
          ],
          [
           1,
           231,
           1,
           30,
           0,
           160000,
           1.18,
           142,
           1,
           180,
           0
          ],
          [
           0,
           582,
           1,
           38,
           1,
           263358.03,
           1.18,
           137,
           0,
           185,
           0
          ],
          [
           0,
           167,
           0,
           30,
           0,
           259000,
           0.8,
           138,
           0,
           186,
           0
          ],
          [
           1,
           582,
           1,
           20,
           1,
           279000,
           1,
           134,
           0,
           186,
           0
          ],
          [
           0,
           1211,
           1,
           35,
           0,
           263358.03,
           1.8,
           113,
           1,
           186,
           0
          ],
          [
           1,
           1767,
           0,
           45,
           0,
           73000,
           0.7,
           137,
           1,
           186,
           0
          ],
          [
           0,
           308,
           1,
           60,
           1,
           377000,
           1,
           136,
           1,
           186,
           0
          ],
          [
           0,
           97,
           0,
           60,
           1,
           220000,
           0.9,
           138,
           1,
           186,
           0
          ],
          [
           0,
           59,
           0,
           25,
           1,
           212000,
           3.5,
           136,
           1,
           187,
           0
          ],
          [
           1,
           64,
           0,
           40,
           0,
           277000,
           0.7,
           137,
           1,
           187,
           0
          ],
          [
           1,
           167,
           1,
           45,
           0,
           362000,
           1,
           136,
           0,
           187,
           0
          ],
          [
           1,
           101,
           0,
           40,
           0,
           226000,
           0.8,
           141,
           0,
           187,
           0
          ],
          [
           0,
           212,
           0,
           38,
           0,
           186000,
           0.9,
           136,
           1,
           187,
           0
          ],
          [
           1,
           2281,
           1,
           40,
           0,
           283000,
           1,
           141,
           0,
           187,
           0
          ],
          [
           0,
           972,
           1,
           35,
           1,
           268000,
           0.8,
           130,
           0,
           187,
           0
          ],
          [
           0,
           212,
           1,
           17,
           1,
           389000,
           1,
           136,
           1,
           188,
           0
          ],
          [
           0,
           582,
           0,
           62,
           1,
           147000,
           0.8,
           140,
           1,
           192,
           0
          ],
          [
           0,
           224,
           0,
           50,
           0,
           481000,
           1.4,
           138,
           1,
           192,
           0
          ],
          [
           1,
           135,
           0,
           35,
           1,
           290000,
           0.8,
           134,
           1,
           194,
           0
          ],
          [
           0,
           582,
           0,
           35,
           1,
           203000,
           1.3,
           134,
           1,
           195,
           0
          ],
          [
           0,
           1202,
           0,
           50,
           1,
           358000,
           0.9,
           141,
           0,
           196,
           0
          ],
          [
           1,
           1021,
           1,
           35,
           0,
           271000,
           1.1,
           134,
           1,
           197,
           0
          ],
          [
           0,
           582,
           1,
           35,
           1,
           371000,
           0.7,
           140,
           0,
           197,
           0
          ],
          [
           0,
           118,
           0,
           50,
           0,
           194000,
           1.1,
           145,
           1,
           200,
           0
          ],
          [
           1,
           86,
           0,
           35,
           0,
           365000,
           1.1,
           139,
           1,
           201,
           0
          ],
          [
           0,
           582,
           0,
           25,
           0,
           130000,
           0.8,
           134,
           1,
           201,
           0
          ],
          [
           0,
           582,
           1,
           25,
           0,
           504000,
           1,
           138,
           1,
           205,
           0
          ],
          [
           0,
           675,
           1,
           60,
           0,
           265000,
           1.4,
           125,
           0,
           205,
           0
          ],
          [
           1,
           57,
           0,
           25,
           0,
           189000,
           1.3,
           132,
           1,
           205,
           0
          ],
          [
           1,
           2794,
           0,
           35,
           1,
           141000,
           1,
           140,
           1,
           206,
           0
          ],
          [
           0,
           56,
           0,
           25,
           0,
           237000,
           5,
           130,
           0,
           207,
           0
          ],
          [
           0,
           211,
           0,
           25,
           0,
           274000,
           1.2,
           134,
           0,
           207,
           0
          ],
          [
           0,
           93,
           0,
           35,
           0,
           185000,
           1.1,
           134,
           1,
           208,
           0
          ],
          [
           1,
           129,
           0,
           35,
           0,
           255000,
           0.9,
           137,
           1,
           209,
           0
          ],
          [
           1,
           707,
           0,
           38,
           0,
           330000,
           1.4,
           137,
           1,
           209,
           0
          ],
          [
           1,
           582,
           0,
           45,
           0,
           305000,
           1.1,
           137,
           1,
           209,
           0
          ],
          [
           1,
           109,
           0,
           50,
           1,
           406000,
           1.1,
           137,
           1,
           209,
           0
          ],
          [
           0,
           119,
           0,
           50,
           1,
           248000,
           1.1,
           148,
           1,
           209,
           0
          ],
          [
           0,
           232,
           0,
           30,
           0,
           173000,
           1.2,
           132,
           1,
           210,
           0
          ],
          [
           1,
           720,
           1,
           40,
           0,
           257000,
           1,
           136,
           0,
           210,
           0
          ],
          [
           1,
           180,
           0,
           45,
           0,
           263358.03,
           1.18,
           137,
           1,
           211,
           0
          ],
          [
           0,
           81,
           1,
           35,
           1,
           533000,
           1.3,
           139,
           0,
           212,
           0
          ],
          [
           0,
           582,
           1,
           30,
           0,
           249000,
           1.3,
           136,
           1,
           212,
           0
          ],
          [
           0,
           90,
           0,
           35,
           0,
           255000,
           1.1,
           136,
           1,
           212,
           0
          ],
          [
           1,
           1185,
           0,
           40,
           1,
           220000,
           0.9,
           141,
           0,
           213,
           0
          ],
          [
           0,
           582,
           1,
           38,
           0,
           264000,
           1.8,
           134,
           1,
           213,
           0
          ],
          [
           1,
           80,
           1,
           38,
           0,
           282000,
           1.4,
           137,
           1,
           213,
           0
          ],
          [
           0,
           143,
           0,
           25,
           0,
           246000,
           2.4,
           135,
           1,
           214,
           0
          ],
          [
           0,
           624,
           0,
           35,
           0,
           301000,
           1,
           142,
           1,
           214,
           0
          ],
          [
           0,
           207,
           1,
           40,
           0,
           223000,
           1.2,
           130,
           0,
           214,
           0
          ],
          [
           0,
           2522,
           0,
           30,
           1,
           404000,
           0.5,
           139,
           0,
           214,
           0
          ],
          [
           0,
           572,
           1,
           35,
           0,
           231000,
           0.8,
           143,
           0,
           215,
           0
          ],
          [
           0,
           245,
           0,
           45,
           1,
           274000,
           1,
           133,
           1,
           215,
           0
          ],
          [
           0,
           88,
           1,
           35,
           1,
           236000,
           1.2,
           132,
           0,
           215,
           0
          ],
          [
           1,
           446,
           0,
           60,
           1,
           263358.03,
           1,
           139,
           1,
           215,
           0
          ],
          [
           1,
           191,
           1,
           30,
           1,
           334000,
           1,
           142,
           1,
           216,
           0
          ],
          [
           0,
           326,
           0,
           38,
           0,
           294000,
           1.7,
           139,
           0,
           220,
           0
          ],
          [
           0,
           132,
           1,
           38,
           1,
           253000,
           1,
           139,
           1,
           230,
           0
          ],
          [
           1,
           66,
           1,
           25,
           0,
           233000,
           0.8,
           135,
           1,
           230,
           0
          ],
          [
           0,
           56,
           0,
           50,
           0,
           308000,
           0.7,
           135,
           1,
           231,
           0
          ],
          [
           0,
           66,
           0,
           40,
           0,
           203000,
           1,
           138,
           1,
           233,
           0
          ],
          [
           1,
           655,
           0,
           40,
           0,
           283000,
           0.7,
           133,
           0,
           233,
           0
          ],
          [
           1,
           157,
           1,
           60,
           0,
           208000,
           1,
           140,
           0,
           237,
           0
          ],
          [
           0,
           582,
           1,
           38,
           0,
           147000,
           1.2,
           141,
           1,
           237,
           0
          ],
          [
           1,
           298,
           0,
           35,
           0,
           362000,
           0.9,
           140,
           1,
           240,
           0
          ],
          [
           1,
           135,
           1,
           38,
           0,
           133000,
           1.7,
           140,
           1,
           244,
           0
          ],
          [
           0,
           582,
           1,
           38,
           0,
           302000,
           0.9,
           140,
           0,
           244,
           0
          ],
          [
           0,
           582,
           1,
           35,
           0,
           222000,
           1,
           132,
           1,
           244,
           0
          ],
          [
           0,
           582,
           1,
           30,
           1,
           263358.03,
           1.6,
           130,
           1,
           244,
           0
          ],
          [
           0,
           582,
           1,
           40,
           0,
           221000,
           0.9,
           134,
           0,
           244,
           0
          ],
          [
           0,
           213,
           0,
           38,
           0,
           215000,
           1.2,
           133,
           0,
           245,
           0
          ],
          [
           0,
           64,
           0,
           40,
           0,
           189000,
           0.7,
           140,
           1,
           245,
           0
          ],
          [
           1,
           257,
           1,
           30,
           0,
           150000,
           1,
           137,
           1,
           245,
           0
          ],
          [
           0,
           582,
           0,
           38,
           1,
           422000,
           0.8,
           137,
           0,
           245,
           0
          ],
          [
           0,
           618,
           0,
           35,
           0,
           327000,
           1.1,
           142,
           0,
           245,
           0
          ],
          [
           0,
           582,
           1,
           38,
           0,
           25100,
           1.1,
           140,
           1,
           246,
           0
          ],
          [
           1,
           1051,
           1,
           30,
           0,
           232000,
           0.7,
           136,
           0,
           246,
           0
          ],
          [
           0,
           84,
           1,
           38,
           0,
           451000,
           1.3,
           136,
           0,
           246,
           0
          ],
          [
           0,
           2695,
           1,
           40,
           0,
           241000,
           1,
           137,
           1,
           247,
           0
          ],
          [
           0,
           582,
           0,
           40,
           0,
           51000,
           2.7,
           136,
           1,
           250,
           0
          ],
          [
           0,
           64,
           0,
           30,
           0,
           215000,
           3.8,
           128,
           1,
           250,
           0
          ],
          [
           0,
           1688,
           0,
           38,
           0,
           263358.03,
           1.1,
           138,
           1,
           250,
           0
          ],
          [
           1,
           54,
           0,
           40,
           0,
           279000,
           0.8,
           141,
           1,
           250,
           0
          ],
          [
           1,
           170,
           1,
           40,
           0,
           336000,
           1.2,
           135,
           1,
           250,
           0
          ],
          [
           0,
           253,
           0,
           35,
           0,
           279000,
           1.7,
           140,
           1,
           250,
           0
          ],
          [
           0,
           582,
           1,
           55,
           0,
           543000,
           1,
           132,
           0,
           250,
           0
          ],
          [
           0,
           892,
           1,
           35,
           0,
           263358.03,
           1.1,
           142,
           0,
           256,
           0
          ],
          [
           1,
           337,
           0,
           38,
           0,
           390000,
           0.9,
           144,
           0,
           256,
           0
          ],
          [
           0,
           615,
           1,
           55,
           0,
           222000,
           0.8,
           141,
           0,
           257,
           0
          ],
          [
           0,
           320,
           0,
           35,
           0,
           133000,
           1.4,
           139,
           1,
           258,
           0
          ],
          [
           0,
           190,
           1,
           38,
           0,
           382000,
           1,
           140,
           1,
           258,
           0
          ],
          [
           1,
           103,
           1,
           35,
           0,
           179000,
           0.9,
           136,
           1,
           270,
           0
          ],
          [
           0,
           61,
           1,
           38,
           1,
           155000,
           1.1,
           143,
           1,
           270,
           0
          ],
          [
           0,
           1820,
           0,
           38,
           0,
           270000,
           1.2,
           139,
           0,
           271,
           0
          ],
          [
           0,
           2060,
           1,
           60,
           0,
           742000,
           0.8,
           138,
           0,
           278,
           0
          ],
          [
           0,
           2413,
           0,
           38,
           0,
           140000,
           1.4,
           140,
           1,
           280,
           0
          ],
          [
           0,
           196,
           0,
           45,
           0,
           395000,
           1.6,
           136,
           1,
           285,
           0
          ]
         ],
         "hovertemplate": "DEATH_EVENT=%{customdata[10]}<br>smoking=%{x}<br>age=%{y}<br>anaemia=%{customdata[0]}<br>creatinine_phosphokinase=%{customdata[1]}<br>diabetes=%{customdata[2]}<br>ejection_fraction=%{customdata[3]}<br>high_blood_pressure=%{customdata[4]}<br>platelets=%{customdata[5]}<br>serum_creatinine=%{customdata[6]}<br>serum_sodium=%{customdata[7]}<br>sex=%{customdata[8]}<br>time=%{customdata[9]}<extra></extra>",
         "legendgroup": "0",
         "marker": {
          "color": "#EF553B"
         },
         "name": "0",
         "notched": false,
         "offsetgroup": "0",
         "orientation": "v",
         "showlegend": true,
         "type": "box",
         "x": [
          0,
          0,
          0,
          0,
          0,
          0,
          1,
          1,
          1,
          0,
          1,
          1,
          1,
          1,
          0,
          1,
          0,
          0,
          1,
          0,
          0,
          0,
          0,
          0,
          0,
          1,
          0,
          0,
          0,
          0,
          0,
          0,
          0,
          0,
          0,
          0,
          1,
          1,
          0,
          0,
          0,
          1,
          1,
          1,
          0,
          0,
          0,
          0,
          0,
          0,
          1,
          0,
          0,
          0,
          0,
          0,
          1,
          0,
          1,
          0,
          0,
          1,
          1,
          0,
          0,
          0,
          0,
          0,
          0,
          0,
          0,
          1,
          1,
          0,
          0,
          0,
          1,
          1,
          0,
          0,
          0,
          1,
          0,
          1,
          0,
          1,
          1,
          1,
          0,
          0,
          1,
          1,
          1,
          0,
          1,
          1,
          1,
          0,
          0,
          1,
          0,
          0,
          0,
          0,
          0,
          0,
          1,
          0,
          0,
          0,
          1,
          0,
          0,
          0,
          1,
          1,
          0,
          0,
          0,
          0,
          0,
          1,
          1,
          1,
          0,
          0,
          0,
          0,
          0,
          1,
          1,
          0,
          0,
          0,
          1,
          0,
          0,
          0,
          1,
          0,
          1,
          1,
          0,
          0,
          0,
          0,
          1,
          0,
          1,
          1,
          0,
          0,
          0,
          0,
          1,
          0,
          0,
          0,
          0,
          0,
          0,
          1,
          0,
          0,
          0,
          1,
          0,
          0,
          0,
          0,
          1,
          0,
          0,
          0,
          1,
          0,
          0,
          0,
          1,
          0,
          0,
          0,
          0,
          0,
          0,
          1,
          1,
          1,
          0,
          0,
          0,
          0,
          0,
          0,
          0,
          0,
          1,
          1,
          1,
          0,
          0,
          1,
          1
         ],
         "x0": " ",
         "xaxis": "x",
         "y": [
          49,
          65,
          53,
          50,
          60,
          72,
          70,
          60,
          55,
          45,
          41,
          58,
          65,
          70,
          42,
          75,
          55,
          70,
          67,
          79,
          51,
          55,
          65,
          44,
          57,
          70,
          60,
          42,
          58,
          58,
          63,
          70,
          60,
          63,
          65,
          75,
          80,
          42,
          60,
          55,
          45,
          63,
          45,
          55,
          50,
          60,
          58,
          60,
          85,
          65,
          60,
          66,
          60,
          60,
          43,
          58,
          61,
          53,
          53,
          60,
          46,
          63,
          81,
          75,
          65,
          68,
          62,
          50,
          46,
          50,
          61,
          50,
          52,
          64,
          60,
          62,
          50,
          50,
          65,
          60,
          52,
          50,
          85,
          59,
          66,
          45,
          63,
          53,
          65,
          70,
          51,
          52,
          70,
          50,
          65,
          60,
          69,
          49,
          63,
          55,
          40,
          60.667,
          40,
          80,
          64,
          50,
          73,
          45,
          65,
          50,
          60,
          63,
          45,
          70,
          60,
          78,
          50,
          40,
          85,
          60,
          49,
          70,
          50,
          78,
          65,
          73,
          70,
          68,
          55,
          65,
          42,
          47,
          58,
          75,
          58,
          55,
          65,
          72,
          70,
          40,
          53,
          53,
          77,
          75,
          70,
          65,
          55,
          70,
          65,
          40,
          73,
          54,
          61,
          64,
          40,
          53,
          50,
          55,
          50,
          70,
          53,
          52,
          65,
          58,
          45,
          53,
          55,
          62,
          68,
          61,
          50,
          56,
          45,
          40,
          44,
          51,
          67,
          42,
          60,
          45,
          70,
          70,
          50,
          55,
          70,
          70,
          42,
          65,
          50,
          55,
          60,
          45,
          65,
          90,
          45,
          60,
          52,
          63,
          62,
          55,
          45,
          45,
          50
         ],
         "y0": " ",
         "yaxis": "y"
        }
       ],
       "layout": {
        "boxmode": "group",
        "legend": {
         "title": {
          "text": "DEATH_EVENT"
         },
         "tracegroupgap": 0
        },
        "margin": {
         "t": 60
        },
        "template": {
         "data": {
          "bar": [
           {
            "error_x": {
             "color": "#2a3f5f"
            },
            "error_y": {
             "color": "#2a3f5f"
            },
            "marker": {
             "line": {
              "color": "#E5ECF6",
              "width": 0.5
             },
             "pattern": {
              "fillmode": "overlay",
              "size": 10,
              "solidity": 0.2
             }
            },
            "type": "bar"
           }
          ],
          "barpolar": [
           {
            "marker": {
             "line": {
              "color": "#E5ECF6",
              "width": 0.5
             },
             "pattern": {
              "fillmode": "overlay",
              "size": 10,
              "solidity": 0.2
             }
            },
            "type": "barpolar"
           }
          ],
          "carpet": [
           {
            "aaxis": {
             "endlinecolor": "#2a3f5f",
             "gridcolor": "white",
             "linecolor": "white",
             "minorgridcolor": "white",
             "startlinecolor": "#2a3f5f"
            },
            "baxis": {
             "endlinecolor": "#2a3f5f",
             "gridcolor": "white",
             "linecolor": "white",
             "minorgridcolor": "white",
             "startlinecolor": "#2a3f5f"
            },
            "type": "carpet"
           }
          ],
          "choropleth": [
           {
            "colorbar": {
             "outlinewidth": 0,
             "ticks": ""
            },
            "type": "choropleth"
           }
          ],
          "contour": [
           {
            "colorbar": {
             "outlinewidth": 0,
             "ticks": ""
            },
            "colorscale": [
             [
              0,
              "#0d0887"
             ],
             [
              0.1111111111111111,
              "#46039f"
             ],
             [
              0.2222222222222222,
              "#7201a8"
             ],
             [
              0.3333333333333333,
              "#9c179e"
             ],
             [
              0.4444444444444444,
              "#bd3786"
             ],
             [
              0.5555555555555556,
              "#d8576b"
             ],
             [
              0.6666666666666666,
              "#ed7953"
             ],
             [
              0.7777777777777778,
              "#fb9f3a"
             ],
             [
              0.8888888888888888,
              "#fdca26"
             ],
             [
              1,
              "#f0f921"
             ]
            ],
            "type": "contour"
           }
          ],
          "contourcarpet": [
           {
            "colorbar": {
             "outlinewidth": 0,
             "ticks": ""
            },
            "type": "contourcarpet"
           }
          ],
          "heatmap": [
           {
            "colorbar": {
             "outlinewidth": 0,
             "ticks": ""
            },
            "colorscale": [
             [
              0,
              "#0d0887"
             ],
             [
              0.1111111111111111,
              "#46039f"
             ],
             [
              0.2222222222222222,
              "#7201a8"
             ],
             [
              0.3333333333333333,
              "#9c179e"
             ],
             [
              0.4444444444444444,
              "#bd3786"
             ],
             [
              0.5555555555555556,
              "#d8576b"
             ],
             [
              0.6666666666666666,
              "#ed7953"
             ],
             [
              0.7777777777777778,
              "#fb9f3a"
             ],
             [
              0.8888888888888888,
              "#fdca26"
             ],
             [
              1,
              "#f0f921"
             ]
            ],
            "type": "heatmap"
           }
          ],
          "heatmapgl": [
           {
            "colorbar": {
             "outlinewidth": 0,
             "ticks": ""
            },
            "colorscale": [
             [
              0,
              "#0d0887"
             ],
             [
              0.1111111111111111,
              "#46039f"
             ],
             [
              0.2222222222222222,
              "#7201a8"
             ],
             [
              0.3333333333333333,
              "#9c179e"
             ],
             [
              0.4444444444444444,
              "#bd3786"
             ],
             [
              0.5555555555555556,
              "#d8576b"
             ],
             [
              0.6666666666666666,
              "#ed7953"
             ],
             [
              0.7777777777777778,
              "#fb9f3a"
             ],
             [
              0.8888888888888888,
              "#fdca26"
             ],
             [
              1,
              "#f0f921"
             ]
            ],
            "type": "heatmapgl"
           }
          ],
          "histogram": [
           {
            "marker": {
             "pattern": {
              "fillmode": "overlay",
              "size": 10,
              "solidity": 0.2
             }
            },
            "type": "histogram"
           }
          ],
          "histogram2d": [
           {
            "colorbar": {
             "outlinewidth": 0,
             "ticks": ""
            },
            "colorscale": [
             [
              0,
              "#0d0887"
             ],
             [
              0.1111111111111111,
              "#46039f"
             ],
             [
              0.2222222222222222,
              "#7201a8"
             ],
             [
              0.3333333333333333,
              "#9c179e"
             ],
             [
              0.4444444444444444,
              "#bd3786"
             ],
             [
              0.5555555555555556,
              "#d8576b"
             ],
             [
              0.6666666666666666,
              "#ed7953"
             ],
             [
              0.7777777777777778,
              "#fb9f3a"
             ],
             [
              0.8888888888888888,
              "#fdca26"
             ],
             [
              1,
              "#f0f921"
             ]
            ],
            "type": "histogram2d"
           }
          ],
          "histogram2dcontour": [
           {
            "colorbar": {
             "outlinewidth": 0,
             "ticks": ""
            },
            "colorscale": [
             [
              0,
              "#0d0887"
             ],
             [
              0.1111111111111111,
              "#46039f"
             ],
             [
              0.2222222222222222,
              "#7201a8"
             ],
             [
              0.3333333333333333,
              "#9c179e"
             ],
             [
              0.4444444444444444,
              "#bd3786"
             ],
             [
              0.5555555555555556,
              "#d8576b"
             ],
             [
              0.6666666666666666,
              "#ed7953"
             ],
             [
              0.7777777777777778,
              "#fb9f3a"
             ],
             [
              0.8888888888888888,
              "#fdca26"
             ],
             [
              1,
              "#f0f921"
             ]
            ],
            "type": "histogram2dcontour"
           }
          ],
          "mesh3d": [
           {
            "colorbar": {
             "outlinewidth": 0,
             "ticks": ""
            },
            "type": "mesh3d"
           }
          ],
          "parcoords": [
           {
            "line": {
             "colorbar": {
              "outlinewidth": 0,
              "ticks": ""
             }
            },
            "type": "parcoords"
           }
          ],
          "pie": [
           {
            "automargin": true,
            "type": "pie"
           }
          ],
          "scatter": [
           {
            "marker": {
             "colorbar": {
              "outlinewidth": 0,
              "ticks": ""
             }
            },
            "type": "scatter"
           }
          ],
          "scatter3d": [
           {
            "line": {
             "colorbar": {
              "outlinewidth": 0,
              "ticks": ""
             }
            },
            "marker": {
             "colorbar": {
              "outlinewidth": 0,
              "ticks": ""
             }
            },
            "type": "scatter3d"
           }
          ],
          "scattercarpet": [
           {
            "marker": {
             "colorbar": {
              "outlinewidth": 0,
              "ticks": ""
             }
            },
            "type": "scattercarpet"
           }
          ],
          "scattergeo": [
           {
            "marker": {
             "colorbar": {
              "outlinewidth": 0,
              "ticks": ""
             }
            },
            "type": "scattergeo"
           }
          ],
          "scattergl": [
           {
            "marker": {
             "colorbar": {
              "outlinewidth": 0,
              "ticks": ""
             }
            },
            "type": "scattergl"
           }
          ],
          "scattermapbox": [
           {
            "marker": {
             "colorbar": {
              "outlinewidth": 0,
              "ticks": ""
             }
            },
            "type": "scattermapbox"
           }
          ],
          "scatterpolar": [
           {
            "marker": {
             "colorbar": {
              "outlinewidth": 0,
              "ticks": ""
             }
            },
            "type": "scatterpolar"
           }
          ],
          "scatterpolargl": [
           {
            "marker": {
             "colorbar": {
              "outlinewidth": 0,
              "ticks": ""
             }
            },
            "type": "scatterpolargl"
           }
          ],
          "scatterternary": [
           {
            "marker": {
             "colorbar": {
              "outlinewidth": 0,
              "ticks": ""
             }
            },
            "type": "scatterternary"
           }
          ],
          "surface": [
           {
            "colorbar": {
             "outlinewidth": 0,
             "ticks": ""
            },
            "colorscale": [
             [
              0,
              "#0d0887"
             ],
             [
              0.1111111111111111,
              "#46039f"
             ],
             [
              0.2222222222222222,
              "#7201a8"
             ],
             [
              0.3333333333333333,
              "#9c179e"
             ],
             [
              0.4444444444444444,
              "#bd3786"
             ],
             [
              0.5555555555555556,
              "#d8576b"
             ],
             [
              0.6666666666666666,
              "#ed7953"
             ],
             [
              0.7777777777777778,
              "#fb9f3a"
             ],
             [
              0.8888888888888888,
              "#fdca26"
             ],
             [
              1,
              "#f0f921"
             ]
            ],
            "type": "surface"
           }
          ],
          "table": [
           {
            "cells": {
             "fill": {
              "color": "#EBF0F8"
             },
             "line": {
              "color": "white"
             }
            },
            "header": {
             "fill": {
              "color": "#C8D4E3"
             },
             "line": {
              "color": "white"
             }
            },
            "type": "table"
           }
          ]
         },
         "layout": {
          "annotationdefaults": {
           "arrowcolor": "#2a3f5f",
           "arrowhead": 0,
           "arrowwidth": 1
          },
          "autotypenumbers": "strict",
          "coloraxis": {
           "colorbar": {
            "outlinewidth": 0,
            "ticks": ""
           }
          },
          "colorscale": {
           "diverging": [
            [
             0,
             "#8e0152"
            ],
            [
             0.1,
             "#c51b7d"
            ],
            [
             0.2,
             "#de77ae"
            ],
            [
             0.3,
             "#f1b6da"
            ],
            [
             0.4,
             "#fde0ef"
            ],
            [
             0.5,
             "#f7f7f7"
            ],
            [
             0.6,
             "#e6f5d0"
            ],
            [
             0.7,
             "#b8e186"
            ],
            [
             0.8,
             "#7fbc41"
            ],
            [
             0.9,
             "#4d9221"
            ],
            [
             1,
             "#276419"
            ]
           ],
           "sequential": [
            [
             0,
             "#0d0887"
            ],
            [
             0.1111111111111111,
             "#46039f"
            ],
            [
             0.2222222222222222,
             "#7201a8"
            ],
            [
             0.3333333333333333,
             "#9c179e"
            ],
            [
             0.4444444444444444,
             "#bd3786"
            ],
            [
             0.5555555555555556,
             "#d8576b"
            ],
            [
             0.6666666666666666,
             "#ed7953"
            ],
            [
             0.7777777777777778,
             "#fb9f3a"
            ],
            [
             0.8888888888888888,
             "#fdca26"
            ],
            [
             1,
             "#f0f921"
            ]
           ],
           "sequentialminus": [
            [
             0,
             "#0d0887"
            ],
            [
             0.1111111111111111,
             "#46039f"
            ],
            [
             0.2222222222222222,
             "#7201a8"
            ],
            [
             0.3333333333333333,
             "#9c179e"
            ],
            [
             0.4444444444444444,
             "#bd3786"
            ],
            [
             0.5555555555555556,
             "#d8576b"
            ],
            [
             0.6666666666666666,
             "#ed7953"
            ],
            [
             0.7777777777777778,
             "#fb9f3a"
            ],
            [
             0.8888888888888888,
             "#fdca26"
            ],
            [
             1,
             "#f0f921"
            ]
           ]
          },
          "colorway": [
           "#636efa",
           "#EF553B",
           "#00cc96",
           "#ab63fa",
           "#FFA15A",
           "#19d3f3",
           "#FF6692",
           "#B6E880",
           "#FF97FF",
           "#FECB52"
          ],
          "font": {
           "color": "#2a3f5f"
          },
          "geo": {
           "bgcolor": "white",
           "lakecolor": "white",
           "landcolor": "#E5ECF6",
           "showlakes": true,
           "showland": true,
           "subunitcolor": "white"
          },
          "hoverlabel": {
           "align": "left"
          },
          "hovermode": "closest",
          "mapbox": {
           "style": "light"
          },
          "paper_bgcolor": "white",
          "plot_bgcolor": "#E5ECF6",
          "polar": {
           "angularaxis": {
            "gridcolor": "white",
            "linecolor": "white",
            "ticks": ""
           },
           "bgcolor": "#E5ECF6",
           "radialaxis": {
            "gridcolor": "white",
            "linecolor": "white",
            "ticks": ""
           }
          },
          "scene": {
           "xaxis": {
            "backgroundcolor": "#E5ECF6",
            "gridcolor": "white",
            "gridwidth": 2,
            "linecolor": "white",
            "showbackground": true,
            "ticks": "",
            "zerolinecolor": "white"
           },
           "yaxis": {
            "backgroundcolor": "#E5ECF6",
            "gridcolor": "white",
            "gridwidth": 2,
            "linecolor": "white",
            "showbackground": true,
            "ticks": "",
            "zerolinecolor": "white"
           },
           "zaxis": {
            "backgroundcolor": "#E5ECF6",
            "gridcolor": "white",
            "gridwidth": 2,
            "linecolor": "white",
            "showbackground": true,
            "ticks": "",
            "zerolinecolor": "white"
           }
          },
          "shapedefaults": {
           "line": {
            "color": "#2a3f5f"
           }
          },
          "ternary": {
           "aaxis": {
            "gridcolor": "white",
            "linecolor": "white",
            "ticks": ""
           },
           "baxis": {
            "gridcolor": "white",
            "linecolor": "white",
            "ticks": ""
           },
           "bgcolor": "#E5ECF6",
           "caxis": {
            "gridcolor": "white",
            "linecolor": "white",
            "ticks": ""
           }
          },
          "title": {
           "x": 0.05
          },
          "xaxis": {
           "automargin": true,
           "gridcolor": "white",
           "linecolor": "white",
           "ticks": "",
           "title": {
            "standoff": 15
           },
           "zerolinecolor": "white",
           "zerolinewidth": 2
          },
          "yaxis": {
           "automargin": true,
           "gridcolor": "white",
           "linecolor": "white",
           "ticks": "",
           "title": {
            "standoff": 15
           },
           "zerolinecolor": "white",
           "zerolinewidth": 2
          }
         }
        },
        "title": {
         "text": "Death dependance on diabetes and smoking"
        },
        "xaxis": {
         "anchor": "y",
         "domain": [
          0,
          1
         ],
         "title": {
          "text": "smoking"
         }
        },
        "yaxis": {
         "anchor": "x",
         "domain": [
          0,
          1
         ],
         "title": {
          "text": "age"
         }
        }
       }
      },
      "text/html": [
       "<div>                            <div id=\"6a254219-2efe-4cb7-a892-681bf3d06d98\" class=\"plotly-graph-div\" style=\"height:525px; width:100%;\"></div>            <script type=\"text/javascript\">                require([\"plotly\"], function(Plotly) {                    window.PLOTLYENV=window.PLOTLYENV || {};                                    if (document.getElementById(\"6a254219-2efe-4cb7-a892-681bf3d06d98\")) {                    Plotly.newPlot(                        \"6a254219-2efe-4cb7-a892-681bf3d06d98\",                        [{\"alignmentgroup\":\"True\",\"boxpoints\":\"all\",\"customdata\":[[0.0,582.0,0.0,20.0,1.0,265000.0,1.9,130.0,1.0,4.0,1.0],[0.0,7861.0,0.0,38.0,0.0,263358.03,1.1,136.0,1.0,6.0,1.0],[0.0,146.0,0.0,20.0,0.0,162000.0,1.3,129.0,1.0,7.0,1.0],[1.0,111.0,0.0,20.0,0.0,210000.0,1.9,137.0,1.0,7.0,1.0],[1.0,160.0,1.0,20.0,0.0,327000.0,2.7,116.0,0.0,8.0,1.0],[1.0,47.0,0.0,40.0,1.0,204000.0,2.1,132.0,1.0,8.0,1.0],[1.0,246.0,0.0,15.0,0.0,127000.0,1.2,137.0,1.0,10.0,1.0],[1.0,315.0,1.0,60.0,0.0,454000.0,1.1,131.0,1.0,10.0,1.0],[0.0,157.0,0.0,65.0,0.0,263358.03,1.5,138.0,0.0,10.0,1.0],[1.0,123.0,0.0,35.0,1.0,388000.0,9.4,133.0,1.0,10.0,1.0],[1.0,81.0,0.0,38.0,1.0,368000.0,4.0,131.0,1.0,10.0,1.0],[0.0,231.0,0.0,25.0,1.0,253000.0,0.9,140.0,1.0,10.0,1.0],[1.0,981.0,0.0,30.0,0.0,136000.0,1.1,137.0,1.0,11.0,1.0],[1.0,168.0,0.0,38.0,1.0,276000.0,1.1,137.0,1.0,11.0,1.0],[1.0,379.0,0.0,50.0,0.0,47000.0,1.3,136.0,1.0,13.0,1.0],[1.0,149.0,0.0,38.0,0.0,262000.0,0.9,140.0,1.0,14.0,1.0],[0.0,582.0,0.0,14.0,0.0,166000.0,0.8,127.0,1.0,14.0,1.0],[1.0,125.0,0.0,25.0,1.0,237000.0,1.0,140.0,0.0,15.0,1.0],[1.0,582.0,1.0,55.0,0.0,87000.0,1.9,121.0,0.0,15.0,1.0],[1.0,128.0,1.0,30.0,1.0,297000.0,1.6,136.0,0.0,20.0,1.0],[1.0,220.0,0.0,35.0,1.0,289000.0,0.9,140.0,1.0,20.0,1.0],[0.0,582.0,1.0,30.0,1.0,263358.03,1.83,134.0,0.0,23.0,1.0],[0.0,148.0,1.0,38.0,0.0,149000.0,1.9,144.0,1.0,23.0,1.0],[1.0,112.0,0.0,40.0,1.0,196000.0,1.0,138.0,0.0,24.0,1.0],[0.0,122.0,1.0,45.0,1.0,284000.0,1.3,136.0,1.0,26.0,1.0],[1.0,60.0,0.0,38.0,0.0,153000.0,5.8,134.0,1.0,26.0,1.0],[0.0,70.0,1.0,30.0,0.0,200000.0,1.2,132.0,1.0,26.0,1.0],[0.0,582.0,1.0,38.0,1.0,263358.03,1.83,134.0,1.0,27.0,1.0],[0.0,23.0,0.0,45.0,0.0,360000.0,3.0,132.0,1.0,28.0,1.0],[1.0,249.0,1.0,35.0,1.0,319000.0,1.0,128.0,0.0,28.0,1.0],[0.0,94.0,1.0,50.0,1.0,188000.0,1.0,140.0,1.0,29.0,1.0],[0.0,582.0,1.0,35.0,0.0,228000.0,3.5,134.0,1.0,30.0,1.0],[1.0,60.0,1.0,50.0,0.0,226000.0,1.0,134.0,1.0,30.0,1.0],[1.0,855.0,1.0,50.0,1.0,321000.0,1.0,145.0,0.0,30.0,1.0],[0.0,235.0,1.0,38.0,0.0,329000.0,3.0,142.0,0.0,30.0,1.0],[0.0,582.0,0.0,20.0,1.0,263358.03,1.83,134.0,1.0,31.0,1.0],[0.0,124.0,1.0,30.0,1.0,153000.0,1.2,136.0,0.0,32.0,1.0],[0.0,571.0,1.0,45.0,1.0,185000.0,1.2,139.0,1.0,33.0,1.0],[1.0,588.0,1.0,60.0,0.0,194000.0,1.1,142.0,0.0,33.0,1.0],[0.0,582.0,1.0,38.0,0.0,310000.0,1.9,135.0,1.0,35.0,1.0],[0.0,1380.0,0.0,25.0,1.0,271000.0,0.9,130.0,1.0,38.0,1.0],[0.0,582.0,1.0,38.0,1.0,451000.0,0.6,138.0,1.0,40.0,1.0],[1.0,553.0,0.0,20.0,1.0,140000.0,4.4,133.0,1.0,41.0,1.0],[1.0,129.0,0.0,30.0,0.0,395000.0,1.0,140.0,0.0,42.0,1.0],[1.0,577.0,0.0,25.0,1.0,166000.0,1.0,138.0,1.0,43.0,1.0],[1.0,91.0,0.0,20.0,1.0,418000.0,1.4,139.0,0.0,43.0,1.0],[0.0,3964.0,1.0,62.0,0.0,263358.03,6.8,146.0,0.0,43.0,1.0],[1.0,69.0,1.0,50.0,1.0,351000.0,1.0,134.0,0.0,44.0,1.0],[1.0,260.0,1.0,38.0,0.0,255000.0,2.2,132.0,0.0,45.0,1.0],[1.0,371.0,0.0,30.0,0.0,461000.0,2.0,132.0,1.0,50.0,1.0],[0.0,789.0,0.0,20.0,1.0,319000.0,1.1,136.0,1.0,55.0,1.0],[0.0,364.0,1.0,20.0,1.0,254000.0,1.3,136.0,1.0,59.0,1.0],[0.0,7702.0,1.0,25.0,1.0,390000.0,1.0,139.0,1.0,60.0,1.0],[0.0,318.0,0.0,40.0,1.0,216000.0,2.3,131.0,0.0,60.0,1.0],[0.0,582.0,0.0,35.0,0.0,385000.0,1.0,145.0,1.0,61.0,1.0],[0.0,68.0,0.0,20.0,0.0,119000.0,2.9,127.0,1.0,64.0,1.0],[1.0,250.0,1.0,15.0,0.0,213000.0,1.3,136.0,0.0,65.0,1.0],[1.0,110.0,0.0,25.0,0.0,274000.0,1.0,140.0,1.0,65.0,1.0],[0.0,161.0,0.0,25.0,0.0,244000.0,1.2,142.0,0.0,66.0,1.0],[0.0,113.0,1.0,25.0,0.0,497000.0,1.83,135.0,1.0,67.0,1.0],[0.0,5882.0,0.0,35.0,0.0,243000.0,1.0,132.0,1.0,72.0,1.0],[0.0,582.0,0.0,20.0,0.0,266000.0,1.2,134.0,1.0,73.0,1.0],[1.0,47.0,0.0,20.0,0.0,204000.0,0.7,139.0,1.0,73.0,1.0],[1.0,76.0,1.0,25.0,0.0,196000.0,2.5,132.0,0.0,77.0,1.0],[1.0,280.0,1.0,25.0,1.0,302000.0,1.0,141.0,0.0,78.0,1.0],[1.0,154.0,0.0,25.0,0.0,210000.0,1.7,135.0,1.0,82.0,1.0],[1.0,328.0,0.0,30.0,1.0,621000.0,1.7,138.0,0.0,88.0,1.0],[0.0,129.0,0.0,60.0,0.0,306000.0,1.2,132.0,1.0,90.0,1.0],[1.0,143.0,0.0,60.0,0.0,351000.0,1.3,137.0,0.0,90.0,1.0],[0.0,582.0,0.0,38.0,0.0,263358.03,1.83,134.0,0.0,95.0,1.0],[0.0,582.0,0.0,40.0,0.0,217000.0,3.7,134.0,1.0,96.0,1.0],[0.0,168.0,1.0,17.0,1.0,271000.0,2.1,124.0,0.0,100.0,1.0],[0.0,805.0,0.0,38.0,0.0,263358.03,1.1,134.0,1.0,109.0,1.0],[1.0,943.0,0.0,25.0,1.0,338000.0,1.7,139.0,1.0,111.0,1.0],[1.0,582.0,0.0,30.0,0.0,225000.0,1.83,134.0,1.0,113.0,1.0],[0.0,233.0,0.0,45.0,1.0,235000.0,2.5,135.0,0.0,115.0,1.0],[1.0,2334.0,1.0,35.0,0.0,75000.0,0.9,142.0,0.0,126.0,1.0],[0.0,2442.0,1.0,30.0,0.0,334000.0,1.1,139.0,1.0,129.0,1.0],[0.0,776.0,1.0,38.0,1.0,192000.0,1.3,135.0,0.0,130.0,1.0],[0.0,66.0,1.0,20.0,0.0,70000.0,2.4,134.0,1.0,135.0,1.0],[1.0,176.0,1.0,25.0,0.0,221000.0,1.0,136.0,1.0,150.0,1.0],[0.0,395.0,1.0,25.0,0.0,265000.0,1.2,136.0,1.0,154.0,1.0],[0.0,99.0,0.0,38.0,1.0,224000.0,2.5,134.0,1.0,162.0,1.0],[1.0,145.0,0.0,25.0,0.0,219000.0,1.2,137.0,1.0,170.0,1.0],[1.0,104.0,1.0,30.0,0.0,389000.0,1.5,136.0,1.0,171.0,1.0],[0.0,582.0,0.0,50.0,0.0,153000.0,0.6,134.0,0.0,172.0,1.0],[0.0,1896.0,1.0,25.0,0.0,365000.0,2.1,144.0,0.0,172.0,1.0],[0.0,582.0,0.0,20.0,1.0,126000.0,1.6,135.0,1.0,180.0,1.0],[1.0,418.0,0.0,45.0,0.0,223000.0,1.8,145.0,1.0,180.0,1.0],[1.0,131.0,1.0,30.0,1.0,244000.0,1.6,130.0,0.0,193.0,1.0],[1.0,427.0,0.0,70.0,1.0,151000.0,9.0,137.0,0.0,196.0,1.0],[0.0,582.0,0.0,20.0,0.0,263358.03,1.83,134.0,1.0,198.0,1.0],[0.0,166.0,0.0,30.0,0.0,62000.0,1.7,127.0,0.0,207.0,1.0],[0.0,2017.0,0.0,25.0,0.0,314000.0,1.1,138.0,1.0,214.0,1.0],[1.0,258.0,1.0,25.0,0.0,198000.0,1.4,129.0,1.0,235.0,1.0],[0.0,1199.0,0.0,20.0,0.0,263358.03,1.83,134.0,1.0,241.0,1.0]],\"hovertemplate\":\"DEATH_EVENT=%{customdata[10]}<br>smoking=%{x}<br>age=%{y}<br>anaemia=%{customdata[0]}<br>creatinine_phosphokinase=%{customdata[1]}<br>diabetes=%{customdata[2]}<br>ejection_fraction=%{customdata[3]}<br>high_blood_pressure=%{customdata[4]}<br>platelets=%{customdata[5]}<br>serum_creatinine=%{customdata[6]}<br>serum_sodium=%{customdata[7]}<br>sex=%{customdata[8]}<br>time=%{customdata[9]}<extra></extra>\",\"legendgroup\":\"1\",\"marker\":{\"color\":\"#636efa\"},\"name\":\"1\",\"notched\":false,\"offsetgroup\":\"1\",\"orientation\":\"v\",\"showlegend\":true,\"x\":[0,0,1,0,0,1,0,1,0,1,1,1,0,0,0,0,0,0,0,0,1,0,1,0,1,0,1,0,0,0,0,0,0,0,0,1,1,1,0,1,0,1,0,0,0,0,0,0,1,0,1,1,0,0,0,1,0,1,0,0,1,1,1,0,0,0,1,1,0,0,0,0,0,1,0,0,0,0,0,0,1,1,0,1,0,0,0,0,0,0,0,0,0,0,0,1],\"x0\":\" \",\"xaxis\":\"x\",\"y\":[75.0,55.0,65.0,50.0,65.0,90.0,75.0,60.0,65.0,80.0,75.0,62.0,45.0,50.0,82.0,87.0,45.0,70.0,48.0,65.0,68.0,75.0,80.0,95.0,70.0,58.0,82.0,94.0,85.0,50.0,65.0,69.0,90.0,82.0,60.0,70.0,50.0,70.0,60.0,50.0,51.0,60.0,80.0,57.0,68.0,53.0,60.0,70.0,60.0,95.0,49.0,72.0,45.0,50.0,45.0,60.0,42.0,72.0,70.0,65.0,85.0,69.0,60.0,60.0,59.0,60.0,72.0,85.0,70.0,86.0,60.0,46.0,80.0,72.0,75.0,72.0,50.0,45.0,80.0,59.0,59.0,65.0,75.0,58.0,60.667,50.0,60.0,45.0,77.0,48.0,54.0,73.0,60.0,55.0,65.0,55.0],\"y0\":\" \",\"yaxis\":\"y\",\"type\":\"box\"},{\"alignmentgroup\":\"True\",\"boxpoints\":\"all\",\"customdata\":[[1.0,80.0,0.0,30.0,1.0,427000.0,1.0,138.0,0.0,12.0,0.0],[1.0,52.0,0.0,25.0,1.0,276000.0,1.3,137.0,0.0,16.0,0.0],[0.0,63.0,1.0,60.0,0.0,368000.0,0.8,135.0,1.0,22.0,0.0],[1.0,159.0,1.0,30.0,0.0,302000.0,1.2,138.0,0.0,29.0,0.0],[0.0,2656.0,1.0,30.0,0.0,305000.0,2.3,137.0,1.0,30.0,0.0],[0.0,127.0,1.0,50.0,1.0,218000.0,1.0,134.0,1.0,33.0,0.0],[1.0,75.0,0.0,35.0,0.0,223000.0,2.7,138.0,1.0,54.0,0.0],[1.0,607.0,0.0,40.0,0.0,216000.0,0.6,138.0,1.0,54.0,0.0],[0.0,109.0,0.0,35.0,0.0,254000.0,1.1,139.0,1.0,60.0,0.0],[0.0,582.0,0.0,80.0,0.0,263358.03,1.18,137.0,0.0,63.0,0.0],[0.0,148.0,0.0,40.0,0.0,374000.0,0.8,140.0,1.0,68.0,0.0],[0.0,582.0,1.0,35.0,0.0,122000.0,0.9,139.0,1.0,71.0,0.0],[0.0,224.0,1.0,50.0,0.0,149000.0,1.3,137.0,1.0,72.0,0.0],[0.0,92.0,0.0,60.0,1.0,317000.0,0.8,140.0,0.0,74.0,0.0],[0.0,102.0,1.0,40.0,0.0,237000.0,1.2,140.0,1.0,74.0,0.0],[1.0,203.0,1.0,38.0,1.0,283000.0,0.6,131.0,1.0,74.0,0.0],[0.0,336.0,0.0,45.0,1.0,324000.0,0.9,140.0,0.0,74.0,0.0],[0.0,69.0,0.0,40.0,0.0,293000.0,1.7,136.0,0.0,75.0,0.0],[0.0,582.0,0.0,50.0,0.0,263358.03,1.18,137.0,1.0,76.0,0.0],[1.0,55.0,0.0,50.0,1.0,172000.0,1.8,133.0,1.0,78.0,0.0],[0.0,78.0,0.0,50.0,0.0,406000.0,0.7,140.0,1.0,79.0,0.0],[0.0,47.0,0.0,35.0,1.0,173000.0,1.1,137.0,1.0,79.0,0.0],[1.0,68.0,1.0,60.0,1.0,304000.0,0.8,140.0,1.0,79.0,0.0],[0.0,84.0,1.0,40.0,1.0,235000.0,0.7,139.0,1.0,79.0,0.0],[1.0,115.0,0.0,25.0,1.0,181000.0,1.1,144.0,1.0,79.0,0.0],[0.0,66.0,1.0,45.0,0.0,249000.0,0.8,136.0,1.0,80.0,0.0],[0.0,897.0,1.0,45.0,0.0,297000.0,1.0,133.0,1.0,80.0,0.0],[0.0,582.0,0.0,60.0,0.0,263358.03,1.18,137.0,0.0,82.0,0.0],[0.0,144.0,1.0,38.0,1.0,327000.0,0.7,142.0,0.0,83.0,0.0],[1.0,133.0,0.0,60.0,1.0,219000.0,1.0,141.0,1.0,83.0,0.0],[1.0,514.0,1.0,25.0,1.0,254000.0,1.3,134.0,1.0,83.0,0.0],[1.0,59.0,0.0,60.0,0.0,255000.0,1.1,136.0,0.0,85.0,0.0],[1.0,156.0,1.0,25.0,1.0,318000.0,1.2,137.0,0.0,85.0,0.0],[1.0,61.0,1.0,40.0,0.0,221000.0,1.1,140.0,0.0,86.0,0.0],[1.0,305.0,0.0,25.0,0.0,298000.0,1.1,141.0,1.0,87.0,0.0],[0.0,582.0,0.0,45.0,1.0,263358.03,1.18,137.0,1.0,87.0,0.0],[0.0,898.0,0.0,25.0,0.0,149000.0,1.1,144.0,1.0,87.0,0.0],[0.0,5209.0,0.0,30.0,0.0,226000.0,1.0,140.0,1.0,87.0,0.0],[0.0,53.0,0.0,50.0,1.0,286000.0,2.3,143.0,0.0,87.0,0.0],[0.0,748.0,0.0,45.0,0.0,263000.0,1.3,137.0,1.0,88.0,0.0],[1.0,1876.0,1.0,35.0,0.0,226000.0,0.9,138.0,1.0,88.0,0.0],[0.0,936.0,0.0,38.0,0.0,304000.0,1.1,133.0,1.0,88.0,0.0],[0.0,292.0,1.0,35.0,0.0,850000.0,1.3,142.0,1.0,88.0,0.0],[0.0,60.0,0.0,35.0,0.0,228000.0,1.2,135.0,1.0,90.0,0.0],[0.0,369.0,1.0,25.0,0.0,252000.0,1.6,136.0,1.0,90.0,0.0],[1.0,754.0,1.0,40.0,1.0,328000.0,1.2,126.0,1.0,91.0,0.0],[1.0,400.0,0.0,40.0,0.0,164000.0,1.0,139.0,0.0,91.0,0.0],[1.0,96.0,1.0,60.0,1.0,271000.0,0.7,136.0,0.0,94.0,0.0],[1.0,102.0,0.0,60.0,0.0,507000.0,3.2,138.0,0.0,94.0,0.0],[1.0,113.0,1.0,60.0,1.0,203000.0,0.9,140.0,0.0,94.0,0.0],[1.0,737.0,0.0,60.0,1.0,210000.0,1.5,135.0,1.0,95.0,0.0],[1.0,68.0,1.0,38.0,1.0,162000.0,1.0,136.0,0.0,95.0,0.0],[0.0,96.0,1.0,38.0,0.0,228000.0,0.75,140.0,0.0,95.0,0.0],[1.0,582.0,0.0,30.0,1.0,127000.0,0.9,145.0,0.0,95.0,0.0],[1.0,358.0,0.0,50.0,0.0,237000.0,1.3,135.0,0.0,97.0,0.0],[1.0,200.0,1.0,60.0,0.0,300000.0,0.8,137.0,0.0,104.0,0.0],[0.0,248.0,0.0,30.0,1.0,267000.0,0.7,136.0,1.0,104.0,0.0],[1.0,270.0,1.0,35.0,0.0,227000.0,3.4,145.0,1.0,105.0,0.0],[1.0,1808.0,0.0,60.0,1.0,249000.0,0.7,138.0,1.0,106.0,0.0],[1.0,1082.0,1.0,45.0,0.0,250000.0,6.1,131.0,1.0,107.0,0.0],[0.0,719.0,0.0,40.0,1.0,263358.03,1.18,137.0,0.0,107.0,0.0],[0.0,193.0,0.0,60.0,1.0,295000.0,1.3,145.0,1.0,107.0,0.0],[0.0,4540.0,0.0,35.0,0.0,231000.0,1.18,137.0,1.0,107.0,0.0],[0.0,582.0,0.0,40.0,0.0,263358.03,1.18,137.0,1.0,107.0,0.0],[1.0,59.0,1.0,60.0,0.0,172000.0,0.9,137.0,0.0,107.0,0.0],[1.0,646.0,0.0,25.0,0.0,305000.0,2.1,130.0,1.0,108.0,0.0],[0.0,281.0,1.0,35.0,0.0,221000.0,1.0,136.0,0.0,108.0,0.0],[0.0,1548.0,0.0,30.0,1.0,211000.0,0.8,138.0,1.0,108.0,0.0],[1.0,291.0,0.0,35.0,0.0,348000.0,0.9,140.0,0.0,109.0,0.0],[0.0,482.0,1.0,30.0,0.0,329000.0,0.9,132.0,0.0,109.0,0.0],[1.0,84.0,0.0,40.0,1.0,229000.0,0.9,141.0,0.0,110.0,0.0],[0.0,185.0,0.0,30.0,0.0,266000.0,0.7,141.0,1.0,112.0,0.0],[0.0,132.0,0.0,30.0,0.0,218000.0,0.7,136.0,1.0,112.0,0.0],[0.0,1610.0,0.0,60.0,0.0,242000.0,1.0,137.0,1.0,113.0,0.0],[0.0,2261.0,0.0,35.0,1.0,228000.0,0.9,136.0,1.0,115.0,0.0],[0.0,30.0,1.0,60.0,1.0,244000.0,0.9,139.0,1.0,117.0,0.0],[0.0,115.0,0.0,45.0,1.0,184000.0,0.9,134.0,1.0,118.0,0.0],[0.0,1846.0,1.0,35.0,0.0,263358.03,1.18,137.0,1.0,119.0,0.0],[1.0,335.0,0.0,35.0,1.0,235000.0,0.8,136.0,0.0,120.0,0.0],[1.0,231.0,1.0,25.0,0.0,194000.0,1.7,140.0,1.0,120.0,0.0],[1.0,58.0,0.0,35.0,0.0,277000.0,1.4,136.0,0.0,120.0,0.0],[0.0,250.0,0.0,25.0,0.0,262000.0,1.0,136.0,1.0,120.0,0.0],[1.0,910.0,0.0,50.0,0.0,235000.0,1.3,134.0,1.0,121.0,0.0],[1.0,129.0,0.0,45.0,1.0,362000.0,1.1,139.0,1.0,121.0,0.0],[1.0,72.0,0.0,40.0,1.0,242000.0,1.2,134.0,1.0,121.0,0.0],[1.0,130.0,0.0,35.0,0.0,174000.0,0.8,139.0,1.0,121.0,0.0],[1.0,582.0,0.0,40.0,0.0,448000.0,0.9,137.0,1.0,123.0,0.0],[0.0,196.0,0.0,60.0,0.0,220000.0,0.7,133.0,1.0,134.0,0.0],[0.0,582.0,1.0,40.0,0.0,270000.0,1.0,138.0,0.0,140.0,0.0],[0.0,835.0,0.0,35.0,1.0,305000.0,0.8,133.0,0.0,145.0,0.0],[1.0,582.0,1.0,35.0,0.0,263358.03,1.5,136.0,1.0,145.0,0.0],[0.0,3966.0,0.0,40.0,0.0,325000.0,0.9,140.0,1.0,146.0,0.0],[1.0,171.0,0.0,60.0,1.0,176000.0,1.1,145.0,1.0,146.0,0.0],[1.0,115.0,0.0,20.0,0.0,189000.0,0.8,139.0,1.0,146.0,0.0],[0.0,198.0,1.0,35.0,1.0,281000.0,0.9,137.0,1.0,146.0,0.0],[1.0,95.0,0.0,60.0,0.0,337000.0,1.0,138.0,1.0,146.0,0.0],[0.0,1419.0,0.0,40.0,0.0,105000.0,1.0,135.0,1.0,147.0,0.0],[1.0,69.0,0.0,50.0,0.0,132000.0,1.0,140.0,0.0,147.0,0.0],[1.0,122.0,1.0,60.0,0.0,267000.0,1.2,145.0,1.0,147.0,0.0],[0.0,835.0,0.0,40.0,0.0,279000.0,0.7,140.0,1.0,147.0,0.0],[0.0,478.0,1.0,30.0,0.0,303000.0,0.9,136.0,1.0,148.0,0.0],[1.0,151.0,1.0,40.0,1.0,201000.0,1.0,136.0,0.0,172.0,0.0],[0.0,244.0,0.0,45.0,1.0,275000.0,0.9,140.0,0.0,174.0,0.0],[0.0,582.0,1.0,35.0,0.0,350000.0,2.1,134.0,1.0,174.0,0.0],[1.0,62.0,0.0,60.0,0.0,309000.0,1.5,135.0,0.0,174.0,0.0],[1.0,121.0,1.0,40.0,0.0,260000.0,0.7,130.0,1.0,175.0,0.0],[1.0,231.0,1.0,30.0,0.0,160000.0,1.18,142.0,1.0,180.0,0.0],[0.0,582.0,1.0,38.0,1.0,263358.03,1.18,137.0,0.0,185.0,0.0],[0.0,167.0,0.0,30.0,0.0,259000.0,0.8,138.0,0.0,186.0,0.0],[1.0,582.0,1.0,20.0,1.0,279000.0,1.0,134.0,0.0,186.0,0.0],[0.0,1211.0,1.0,35.0,0.0,263358.03,1.8,113.0,1.0,186.0,0.0],[1.0,1767.0,0.0,45.0,0.0,73000.0,0.7,137.0,1.0,186.0,0.0],[0.0,308.0,1.0,60.0,1.0,377000.0,1.0,136.0,1.0,186.0,0.0],[0.0,97.0,0.0,60.0,1.0,220000.0,0.9,138.0,1.0,186.0,0.0],[0.0,59.0,0.0,25.0,1.0,212000.0,3.5,136.0,1.0,187.0,0.0],[1.0,64.0,0.0,40.0,0.0,277000.0,0.7,137.0,1.0,187.0,0.0],[1.0,167.0,1.0,45.0,0.0,362000.0,1.0,136.0,0.0,187.0,0.0],[1.0,101.0,0.0,40.0,0.0,226000.0,0.8,141.0,0.0,187.0,0.0],[0.0,212.0,0.0,38.0,0.0,186000.0,0.9,136.0,1.0,187.0,0.0],[1.0,2281.0,1.0,40.0,0.0,283000.0,1.0,141.0,0.0,187.0,0.0],[0.0,972.0,1.0,35.0,1.0,268000.0,0.8,130.0,0.0,187.0,0.0],[0.0,212.0,1.0,17.0,1.0,389000.0,1.0,136.0,1.0,188.0,0.0],[0.0,582.0,0.0,62.0,1.0,147000.0,0.8,140.0,1.0,192.0,0.0],[0.0,224.0,0.0,50.0,0.0,481000.0,1.4,138.0,1.0,192.0,0.0],[1.0,135.0,0.0,35.0,1.0,290000.0,0.8,134.0,1.0,194.0,0.0],[0.0,582.0,0.0,35.0,1.0,203000.0,1.3,134.0,1.0,195.0,0.0],[0.0,1202.0,0.0,50.0,1.0,358000.0,0.9,141.0,0.0,196.0,0.0],[1.0,1021.0,1.0,35.0,0.0,271000.0,1.1,134.0,1.0,197.0,0.0],[0.0,582.0,1.0,35.0,1.0,371000.0,0.7,140.0,0.0,197.0,0.0],[0.0,118.0,0.0,50.0,0.0,194000.0,1.1,145.0,1.0,200.0,0.0],[1.0,86.0,0.0,35.0,0.0,365000.0,1.1,139.0,1.0,201.0,0.0],[0.0,582.0,0.0,25.0,0.0,130000.0,0.8,134.0,1.0,201.0,0.0],[0.0,582.0,1.0,25.0,0.0,504000.0,1.0,138.0,1.0,205.0,0.0],[0.0,675.0,1.0,60.0,0.0,265000.0,1.4,125.0,0.0,205.0,0.0],[1.0,57.0,0.0,25.0,0.0,189000.0,1.3,132.0,1.0,205.0,0.0],[1.0,2794.0,0.0,35.0,1.0,141000.0,1.0,140.0,1.0,206.0,0.0],[0.0,56.0,0.0,25.0,0.0,237000.0,5.0,130.0,0.0,207.0,0.0],[0.0,211.0,0.0,25.0,0.0,274000.0,1.2,134.0,0.0,207.0,0.0],[0.0,93.0,0.0,35.0,0.0,185000.0,1.1,134.0,1.0,208.0,0.0],[1.0,129.0,0.0,35.0,0.0,255000.0,0.9,137.0,1.0,209.0,0.0],[1.0,707.0,0.0,38.0,0.0,330000.0,1.4,137.0,1.0,209.0,0.0],[1.0,582.0,0.0,45.0,0.0,305000.0,1.1,137.0,1.0,209.0,0.0],[1.0,109.0,0.0,50.0,1.0,406000.0,1.1,137.0,1.0,209.0,0.0],[0.0,119.0,0.0,50.0,1.0,248000.0,1.1,148.0,1.0,209.0,0.0],[0.0,232.0,0.0,30.0,0.0,173000.0,1.2,132.0,1.0,210.0,0.0],[1.0,720.0,1.0,40.0,0.0,257000.0,1.0,136.0,0.0,210.0,0.0],[1.0,180.0,0.0,45.0,0.0,263358.03,1.18,137.0,1.0,211.0,0.0],[0.0,81.0,1.0,35.0,1.0,533000.0,1.3,139.0,0.0,212.0,0.0],[0.0,582.0,1.0,30.0,0.0,249000.0,1.3,136.0,1.0,212.0,0.0],[0.0,90.0,0.0,35.0,0.0,255000.0,1.1,136.0,1.0,212.0,0.0],[1.0,1185.0,0.0,40.0,1.0,220000.0,0.9,141.0,0.0,213.0,0.0],[0.0,582.0,1.0,38.0,0.0,264000.0,1.8,134.0,1.0,213.0,0.0],[1.0,80.0,1.0,38.0,0.0,282000.0,1.4,137.0,1.0,213.0,0.0],[0.0,143.0,0.0,25.0,0.0,246000.0,2.4,135.0,1.0,214.0,0.0],[0.0,624.0,0.0,35.0,0.0,301000.0,1.0,142.0,1.0,214.0,0.0],[0.0,207.0,1.0,40.0,0.0,223000.0,1.2,130.0,0.0,214.0,0.0],[0.0,2522.0,0.0,30.0,1.0,404000.0,0.5,139.0,0.0,214.0,0.0],[0.0,572.0,1.0,35.0,0.0,231000.0,0.8,143.0,0.0,215.0,0.0],[0.0,245.0,0.0,45.0,1.0,274000.0,1.0,133.0,1.0,215.0,0.0],[0.0,88.0,1.0,35.0,1.0,236000.0,1.2,132.0,0.0,215.0,0.0],[1.0,446.0,0.0,60.0,1.0,263358.03,1.0,139.0,1.0,215.0,0.0],[1.0,191.0,1.0,30.0,1.0,334000.0,1.0,142.0,1.0,216.0,0.0],[0.0,326.0,0.0,38.0,0.0,294000.0,1.7,139.0,0.0,220.0,0.0],[0.0,132.0,1.0,38.0,1.0,253000.0,1.0,139.0,1.0,230.0,0.0],[1.0,66.0,1.0,25.0,0.0,233000.0,0.8,135.0,1.0,230.0,0.0],[0.0,56.0,0.0,50.0,0.0,308000.0,0.7,135.0,1.0,231.0,0.0],[0.0,66.0,0.0,40.0,0.0,203000.0,1.0,138.0,1.0,233.0,0.0],[1.0,655.0,0.0,40.0,0.0,283000.0,0.7,133.0,0.0,233.0,0.0],[1.0,157.0,1.0,60.0,0.0,208000.0,1.0,140.0,0.0,237.0,0.0],[0.0,582.0,1.0,38.0,0.0,147000.0,1.2,141.0,1.0,237.0,0.0],[1.0,298.0,0.0,35.0,0.0,362000.0,0.9,140.0,1.0,240.0,0.0],[1.0,135.0,1.0,38.0,0.0,133000.0,1.7,140.0,1.0,244.0,0.0],[0.0,582.0,1.0,38.0,0.0,302000.0,0.9,140.0,0.0,244.0,0.0],[0.0,582.0,1.0,35.0,0.0,222000.0,1.0,132.0,1.0,244.0,0.0],[0.0,582.0,1.0,30.0,1.0,263358.03,1.6,130.0,1.0,244.0,0.0],[0.0,582.0,1.0,40.0,0.0,221000.0,0.9,134.0,0.0,244.0,0.0],[0.0,213.0,0.0,38.0,0.0,215000.0,1.2,133.0,0.0,245.0,0.0],[0.0,64.0,0.0,40.0,0.0,189000.0,0.7,140.0,1.0,245.0,0.0],[1.0,257.0,1.0,30.0,0.0,150000.0,1.0,137.0,1.0,245.0,0.0],[0.0,582.0,0.0,38.0,1.0,422000.0,0.8,137.0,0.0,245.0,0.0],[0.0,618.0,0.0,35.0,0.0,327000.0,1.1,142.0,0.0,245.0,0.0],[0.0,582.0,1.0,38.0,0.0,25100.0,1.1,140.0,1.0,246.0,0.0],[1.0,1051.0,1.0,30.0,0.0,232000.0,0.7,136.0,0.0,246.0,0.0],[0.0,84.0,1.0,38.0,0.0,451000.0,1.3,136.0,0.0,246.0,0.0],[0.0,2695.0,1.0,40.0,0.0,241000.0,1.0,137.0,1.0,247.0,0.0],[0.0,582.0,0.0,40.0,0.0,51000.0,2.7,136.0,1.0,250.0,0.0],[0.0,64.0,0.0,30.0,0.0,215000.0,3.8,128.0,1.0,250.0,0.0],[0.0,1688.0,0.0,38.0,0.0,263358.03,1.1,138.0,1.0,250.0,0.0],[1.0,54.0,0.0,40.0,0.0,279000.0,0.8,141.0,1.0,250.0,0.0],[1.0,170.0,1.0,40.0,0.0,336000.0,1.2,135.0,1.0,250.0,0.0],[0.0,253.0,0.0,35.0,0.0,279000.0,1.7,140.0,1.0,250.0,0.0],[0.0,582.0,1.0,55.0,0.0,543000.0,1.0,132.0,0.0,250.0,0.0],[0.0,892.0,1.0,35.0,0.0,263358.03,1.1,142.0,0.0,256.0,0.0],[1.0,337.0,0.0,38.0,0.0,390000.0,0.9,144.0,0.0,256.0,0.0],[0.0,615.0,1.0,55.0,0.0,222000.0,0.8,141.0,0.0,257.0,0.0],[0.0,320.0,0.0,35.0,0.0,133000.0,1.4,139.0,1.0,258.0,0.0],[0.0,190.0,1.0,38.0,0.0,382000.0,1.0,140.0,1.0,258.0,0.0],[1.0,103.0,1.0,35.0,0.0,179000.0,0.9,136.0,1.0,270.0,0.0],[0.0,61.0,1.0,38.0,1.0,155000.0,1.1,143.0,1.0,270.0,0.0],[0.0,1820.0,0.0,38.0,0.0,270000.0,1.2,139.0,0.0,271.0,0.0],[0.0,2060.0,1.0,60.0,0.0,742000.0,0.8,138.0,0.0,278.0,0.0],[0.0,2413.0,0.0,38.0,0.0,140000.0,1.4,140.0,1.0,280.0,0.0],[0.0,196.0,0.0,45.0,0.0,395000.0,1.6,136.0,1.0,285.0,0.0]],\"hovertemplate\":\"DEATH_EVENT=%{customdata[10]}<br>smoking=%{x}<br>age=%{y}<br>anaemia=%{customdata[0]}<br>creatinine_phosphokinase=%{customdata[1]}<br>diabetes=%{customdata[2]}<br>ejection_fraction=%{customdata[3]}<br>high_blood_pressure=%{customdata[4]}<br>platelets=%{customdata[5]}<br>serum_creatinine=%{customdata[6]}<br>serum_sodium=%{customdata[7]}<br>sex=%{customdata[8]}<br>time=%{customdata[9]}<extra></extra>\",\"legendgroup\":\"0\",\"marker\":{\"color\":\"#EF553B\"},\"name\":\"0\",\"notched\":false,\"offsetgroup\":\"0\",\"orientation\":\"v\",\"showlegend\":true,\"x\":[0,0,0,0,0,0,1,1,1,0,1,1,1,1,0,1,0,0,1,0,0,0,0,0,0,1,0,0,0,0,0,0,0,0,0,0,1,1,0,0,0,1,1,1,0,0,0,0,0,0,1,0,0,0,0,0,1,0,1,0,0,1,1,0,0,0,0,0,0,0,0,1,1,0,0,0,1,1,0,0,0,1,0,1,0,1,1,1,0,0,1,1,1,0,1,1,1,0,0,1,0,0,0,0,0,0,1,0,0,0,1,0,0,0,1,1,0,0,0,0,0,1,1,1,0,0,0,0,0,1,1,0,0,0,1,0,0,0,1,0,1,1,0,0,0,0,1,0,1,1,0,0,0,0,1,0,0,0,0,0,0,1,0,0,0,1,0,0,0,0,1,0,0,0,1,0,0,0,1,0,0,0,0,0,0,1,1,1,0,0,0,0,0,0,0,0,1,1,1,0,0,1,1],\"x0\":\" \",\"xaxis\":\"x\",\"y\":[49.0,65.0,53.0,50.0,60.0,72.0,70.0,60.0,55.0,45.0,41.0,58.0,65.0,70.0,42.0,75.0,55.0,70.0,67.0,79.0,51.0,55.0,65.0,44.0,57.0,70.0,60.0,42.0,58.0,58.0,63.0,70.0,60.0,63.0,65.0,75.0,80.0,42.0,60.0,55.0,45.0,63.0,45.0,55.0,50.0,60.0,58.0,60.0,85.0,65.0,60.0,66.0,60.0,60.0,43.0,58.0,61.0,53.0,53.0,60.0,46.0,63.0,81.0,75.0,65.0,68.0,62.0,50.0,46.0,50.0,61.0,50.0,52.0,64.0,60.0,62.0,50.0,50.0,65.0,60.0,52.0,50.0,85.0,59.0,66.0,45.0,63.0,53.0,65.0,70.0,51.0,52.0,70.0,50.0,65.0,60.0,69.0,49.0,63.0,55.0,40.0,60.667,40.0,80.0,64.0,50.0,73.0,45.0,65.0,50.0,60.0,63.0,45.0,70.0,60.0,78.0,50.0,40.0,85.0,60.0,49.0,70.0,50.0,78.0,65.0,73.0,70.0,68.0,55.0,65.0,42.0,47.0,58.0,75.0,58.0,55.0,65.0,72.0,70.0,40.0,53.0,53.0,77.0,75.0,70.0,65.0,55.0,70.0,65.0,40.0,73.0,54.0,61.0,64.0,40.0,53.0,50.0,55.0,50.0,70.0,53.0,52.0,65.0,58.0,45.0,53.0,55.0,62.0,68.0,61.0,50.0,56.0,45.0,40.0,44.0,51.0,67.0,42.0,60.0,45.0,70.0,70.0,50.0,55.0,70.0,70.0,42.0,65.0,50.0,55.0,60.0,45.0,65.0,90.0,45.0,60.0,52.0,63.0,62.0,55.0,45.0,45.0,50.0],\"y0\":\" \",\"yaxis\":\"y\",\"type\":\"box\"}],                        {\"template\":{\"data\":{\"bar\":[{\"error_x\":{\"color\":\"#2a3f5f\"},\"error_y\":{\"color\":\"#2a3f5f\"},\"marker\":{\"line\":{\"color\":\"#E5ECF6\",\"width\":0.5},\"pattern\":{\"fillmode\":\"overlay\",\"size\":10,\"solidity\":0.2}},\"type\":\"bar\"}],\"barpolar\":[{\"marker\":{\"line\":{\"color\":\"#E5ECF6\",\"width\":0.5},\"pattern\":{\"fillmode\":\"overlay\",\"size\":10,\"solidity\":0.2}},\"type\":\"barpolar\"}],\"carpet\":[{\"aaxis\":{\"endlinecolor\":\"#2a3f5f\",\"gridcolor\":\"white\",\"linecolor\":\"white\",\"minorgridcolor\":\"white\",\"startlinecolor\":\"#2a3f5f\"},\"baxis\":{\"endlinecolor\":\"#2a3f5f\",\"gridcolor\":\"white\",\"linecolor\":\"white\",\"minorgridcolor\":\"white\",\"startlinecolor\":\"#2a3f5f\"},\"type\":\"carpet\"}],\"choropleth\":[{\"colorbar\":{\"outlinewidth\":0,\"ticks\":\"\"},\"type\":\"choropleth\"}],\"contour\":[{\"colorbar\":{\"outlinewidth\":0,\"ticks\":\"\"},\"colorscale\":[[0.0,\"#0d0887\"],[0.1111111111111111,\"#46039f\"],[0.2222222222222222,\"#7201a8\"],[0.3333333333333333,\"#9c179e\"],[0.4444444444444444,\"#bd3786\"],[0.5555555555555556,\"#d8576b\"],[0.6666666666666666,\"#ed7953\"],[0.7777777777777778,\"#fb9f3a\"],[0.8888888888888888,\"#fdca26\"],[1.0,\"#f0f921\"]],\"type\":\"contour\"}],\"contourcarpet\":[{\"colorbar\":{\"outlinewidth\":0,\"ticks\":\"\"},\"type\":\"contourcarpet\"}],\"heatmap\":[{\"colorbar\":{\"outlinewidth\":0,\"ticks\":\"\"},\"colorscale\":[[0.0,\"#0d0887\"],[0.1111111111111111,\"#46039f\"],[0.2222222222222222,\"#7201a8\"],[0.3333333333333333,\"#9c179e\"],[0.4444444444444444,\"#bd3786\"],[0.5555555555555556,\"#d8576b\"],[0.6666666666666666,\"#ed7953\"],[0.7777777777777778,\"#fb9f3a\"],[0.8888888888888888,\"#fdca26\"],[1.0,\"#f0f921\"]],\"type\":\"heatmap\"}],\"heatmapgl\":[{\"colorbar\":{\"outlinewidth\":0,\"ticks\":\"\"},\"colorscale\":[[0.0,\"#0d0887\"],[0.1111111111111111,\"#46039f\"],[0.2222222222222222,\"#7201a8\"],[0.3333333333333333,\"#9c179e\"],[0.4444444444444444,\"#bd3786\"],[0.5555555555555556,\"#d8576b\"],[0.6666666666666666,\"#ed7953\"],[0.7777777777777778,\"#fb9f3a\"],[0.8888888888888888,\"#fdca26\"],[1.0,\"#f0f921\"]],\"type\":\"heatmapgl\"}],\"histogram\":[{\"marker\":{\"pattern\":{\"fillmode\":\"overlay\",\"size\":10,\"solidity\":0.2}},\"type\":\"histogram\"}],\"histogram2d\":[{\"colorbar\":{\"outlinewidth\":0,\"ticks\":\"\"},\"colorscale\":[[0.0,\"#0d0887\"],[0.1111111111111111,\"#46039f\"],[0.2222222222222222,\"#7201a8\"],[0.3333333333333333,\"#9c179e\"],[0.4444444444444444,\"#bd3786\"],[0.5555555555555556,\"#d8576b\"],[0.6666666666666666,\"#ed7953\"],[0.7777777777777778,\"#fb9f3a\"],[0.8888888888888888,\"#fdca26\"],[1.0,\"#f0f921\"]],\"type\":\"histogram2d\"}],\"histogram2dcontour\":[{\"colorbar\":{\"outlinewidth\":0,\"ticks\":\"\"},\"colorscale\":[[0.0,\"#0d0887\"],[0.1111111111111111,\"#46039f\"],[0.2222222222222222,\"#7201a8\"],[0.3333333333333333,\"#9c179e\"],[0.4444444444444444,\"#bd3786\"],[0.5555555555555556,\"#d8576b\"],[0.6666666666666666,\"#ed7953\"],[0.7777777777777778,\"#fb9f3a\"],[0.8888888888888888,\"#fdca26\"],[1.0,\"#f0f921\"]],\"type\":\"histogram2dcontour\"}],\"mesh3d\":[{\"colorbar\":{\"outlinewidth\":0,\"ticks\":\"\"},\"type\":\"mesh3d\"}],\"parcoords\":[{\"line\":{\"colorbar\":{\"outlinewidth\":0,\"ticks\":\"\"}},\"type\":\"parcoords\"}],\"pie\":[{\"automargin\":true,\"type\":\"pie\"}],\"scatter\":[{\"marker\":{\"colorbar\":{\"outlinewidth\":0,\"ticks\":\"\"}},\"type\":\"scatter\"}],\"scatter3d\":[{\"line\":{\"colorbar\":{\"outlinewidth\":0,\"ticks\":\"\"}},\"marker\":{\"colorbar\":{\"outlinewidth\":0,\"ticks\":\"\"}},\"type\":\"scatter3d\"}],\"scattercarpet\":[{\"marker\":{\"colorbar\":{\"outlinewidth\":0,\"ticks\":\"\"}},\"type\":\"scattercarpet\"}],\"scattergeo\":[{\"marker\":{\"colorbar\":{\"outlinewidth\":0,\"ticks\":\"\"}},\"type\":\"scattergeo\"}],\"scattergl\":[{\"marker\":{\"colorbar\":{\"outlinewidth\":0,\"ticks\":\"\"}},\"type\":\"scattergl\"}],\"scattermapbox\":[{\"marker\":{\"colorbar\":{\"outlinewidth\":0,\"ticks\":\"\"}},\"type\":\"scattermapbox\"}],\"scatterpolar\":[{\"marker\":{\"colorbar\":{\"outlinewidth\":0,\"ticks\":\"\"}},\"type\":\"scatterpolar\"}],\"scatterpolargl\":[{\"marker\":{\"colorbar\":{\"outlinewidth\":0,\"ticks\":\"\"}},\"type\":\"scatterpolargl\"}],\"scatterternary\":[{\"marker\":{\"colorbar\":{\"outlinewidth\":0,\"ticks\":\"\"}},\"type\":\"scatterternary\"}],\"surface\":[{\"colorbar\":{\"outlinewidth\":0,\"ticks\":\"\"},\"colorscale\":[[0.0,\"#0d0887\"],[0.1111111111111111,\"#46039f\"],[0.2222222222222222,\"#7201a8\"],[0.3333333333333333,\"#9c179e\"],[0.4444444444444444,\"#bd3786\"],[0.5555555555555556,\"#d8576b\"],[0.6666666666666666,\"#ed7953\"],[0.7777777777777778,\"#fb9f3a\"],[0.8888888888888888,\"#fdca26\"],[1.0,\"#f0f921\"]],\"type\":\"surface\"}],\"table\":[{\"cells\":{\"fill\":{\"color\":\"#EBF0F8\"},\"line\":{\"color\":\"white\"}},\"header\":{\"fill\":{\"color\":\"#C8D4E3\"},\"line\":{\"color\":\"white\"}},\"type\":\"table\"}]},\"layout\":{\"annotationdefaults\":{\"arrowcolor\":\"#2a3f5f\",\"arrowhead\":0,\"arrowwidth\":1},\"autotypenumbers\":\"strict\",\"coloraxis\":{\"colorbar\":{\"outlinewidth\":0,\"ticks\":\"\"}},\"colorscale\":{\"diverging\":[[0,\"#8e0152\"],[0.1,\"#c51b7d\"],[0.2,\"#de77ae\"],[0.3,\"#f1b6da\"],[0.4,\"#fde0ef\"],[0.5,\"#f7f7f7\"],[0.6,\"#e6f5d0\"],[0.7,\"#b8e186\"],[0.8,\"#7fbc41\"],[0.9,\"#4d9221\"],[1,\"#276419\"]],\"sequential\":[[0.0,\"#0d0887\"],[0.1111111111111111,\"#46039f\"],[0.2222222222222222,\"#7201a8\"],[0.3333333333333333,\"#9c179e\"],[0.4444444444444444,\"#bd3786\"],[0.5555555555555556,\"#d8576b\"],[0.6666666666666666,\"#ed7953\"],[0.7777777777777778,\"#fb9f3a\"],[0.8888888888888888,\"#fdca26\"],[1.0,\"#f0f921\"]],\"sequentialminus\":[[0.0,\"#0d0887\"],[0.1111111111111111,\"#46039f\"],[0.2222222222222222,\"#7201a8\"],[0.3333333333333333,\"#9c179e\"],[0.4444444444444444,\"#bd3786\"],[0.5555555555555556,\"#d8576b\"],[0.6666666666666666,\"#ed7953\"],[0.7777777777777778,\"#fb9f3a\"],[0.8888888888888888,\"#fdca26\"],[1.0,\"#f0f921\"]]},\"colorway\":[\"#636efa\",\"#EF553B\",\"#00cc96\",\"#ab63fa\",\"#FFA15A\",\"#19d3f3\",\"#FF6692\",\"#B6E880\",\"#FF97FF\",\"#FECB52\"],\"font\":{\"color\":\"#2a3f5f\"},\"geo\":{\"bgcolor\":\"white\",\"lakecolor\":\"white\",\"landcolor\":\"#E5ECF6\",\"showlakes\":true,\"showland\":true,\"subunitcolor\":\"white\"},\"hoverlabel\":{\"align\":\"left\"},\"hovermode\":\"closest\",\"mapbox\":{\"style\":\"light\"},\"paper_bgcolor\":\"white\",\"plot_bgcolor\":\"#E5ECF6\",\"polar\":{\"angularaxis\":{\"gridcolor\":\"white\",\"linecolor\":\"white\",\"ticks\":\"\"},\"bgcolor\":\"#E5ECF6\",\"radialaxis\":{\"gridcolor\":\"white\",\"linecolor\":\"white\",\"ticks\":\"\"}},\"scene\":{\"xaxis\":{\"backgroundcolor\":\"#E5ECF6\",\"gridcolor\":\"white\",\"gridwidth\":2,\"linecolor\":\"white\",\"showbackground\":true,\"ticks\":\"\",\"zerolinecolor\":\"white\"},\"yaxis\":{\"backgroundcolor\":\"#E5ECF6\",\"gridcolor\":\"white\",\"gridwidth\":2,\"linecolor\":\"white\",\"showbackground\":true,\"ticks\":\"\",\"zerolinecolor\":\"white\"},\"zaxis\":{\"backgroundcolor\":\"#E5ECF6\",\"gridcolor\":\"white\",\"gridwidth\":2,\"linecolor\":\"white\",\"showbackground\":true,\"ticks\":\"\",\"zerolinecolor\":\"white\"}},\"shapedefaults\":{\"line\":{\"color\":\"#2a3f5f\"}},\"ternary\":{\"aaxis\":{\"gridcolor\":\"white\",\"linecolor\":\"white\",\"ticks\":\"\"},\"baxis\":{\"gridcolor\":\"white\",\"linecolor\":\"white\",\"ticks\":\"\"},\"bgcolor\":\"#E5ECF6\",\"caxis\":{\"gridcolor\":\"white\",\"linecolor\":\"white\",\"ticks\":\"\"}},\"title\":{\"x\":0.05},\"xaxis\":{\"automargin\":true,\"gridcolor\":\"white\",\"linecolor\":\"white\",\"ticks\":\"\",\"title\":{\"standoff\":15},\"zerolinecolor\":\"white\",\"zerolinewidth\":2},\"yaxis\":{\"automargin\":true,\"gridcolor\":\"white\",\"linecolor\":\"white\",\"ticks\":\"\",\"title\":{\"standoff\":15},\"zerolinecolor\":\"white\",\"zerolinewidth\":2}}},\"xaxis\":{\"anchor\":\"y\",\"domain\":[0.0,1.0],\"title\":{\"text\":\"smoking\"}},\"yaxis\":{\"anchor\":\"x\",\"domain\":[0.0,1.0],\"title\":{\"text\":\"age\"}},\"legend\":{\"title\":{\"text\":\"DEATH_EVENT\"},\"tracegroupgap\":0},\"margin\":{\"t\":60},\"boxmode\":\"group\",\"title\":{\"text\":\"Death dependance on diabetes and smoking\"}},                        {\"responsive\": true}                    ).then(function(){\n",
       "                            \n",
       "var gd = document.getElementById('6a254219-2efe-4cb7-a892-681bf3d06d98');\n",
       "var x = new MutationObserver(function (mutations, observer) {{\n",
       "        var display = window.getComputedStyle(gd).display;\n",
       "        if (!display || display === 'none') {{\n",
       "            console.log([gd, 'removed!']);\n",
       "            Plotly.purge(gd);\n",
       "            observer.disconnect();\n",
       "        }}\n",
       "}});\n",
       "\n",
       "// Listen for the removal of the full notebook cells\n",
       "var notebookContainer = gd.closest('#notebook-container');\n",
       "if (notebookContainer) {{\n",
       "    x.observe(notebookContainer, {childList: true});\n",
       "}}\n",
       "\n",
       "// Listen for the clearing of the current output cell\n",
       "var outputEl = gd.closest('.output');\n",
       "if (outputEl) {{\n",
       "    x.observe(outputEl, {childList: true});\n",
       "}}\n",
       "\n",
       "                        })                };                });            </script>        </div>"
      ]
     },
     "metadata": {},
     "output_type": "display_data"
    }
   ],
   "source": [
    "### The y-axis of the plot represents the age variable,\n",
    "## which represents the age of the individuals in the data. \n",
    "## The x-axis of the plot represents the smoking variable,\n",
    "## which represents the smoking status of the individuals in the data.\n",
    "## The boxes in the plot are colored based on the DEATH_EVENT variable, \n",
    "## which represents whether or not the individual died.\n",
    "\n",
    "## The box plot shows the distribution of the data by displaying the median,\n",
    "## first and third quartiles, and minimum and maximum values of the age variable\n",
    "## for each group of smoking and DEATH_EVENT values. The points on top of the boxes\n",
    "## represent the individual data points.\n",
    "\n",
    "## From this plot, you can see that individuals who are older and who smoke are more \n",
    "## likely to have a higher death event. On the other hand, individuals who are younger \n",
    "## and who do not smoke are less likely to have a higher death event.\n",
    "\n",
    "\n",
    "fig = px.box(df, y=\"age\", x=\"smoking\", color=\"DEATH_EVENT\", points=\"all\",  hover_data=df.columns)\n",
    "fig.update_layout(title_text=\"Death dependance on diabetes and smoking\")\n",
    "fig.show()"
   ]
  },
  {
   "cell_type": "code",
   "execution_count": 94,
   "id": "e6ed420d",
   "metadata": {
    "colab": {
     "base_uri": "https://localhost:8080/",
     "height": 283
    },
    "execution": {
     "iopub.execute_input": "2022-12-04T11:40:39.934439Z",
     "iopub.status.busy": "2022-12-04T11:40:39.933926Z",
     "iopub.status.idle": "2022-12-04T11:40:40.208694Z",
     "shell.execute_reply": "2022-12-04T11:40:40.207198Z"
    },
    "executionInfo": {
     "elapsed": 167,
     "status": "ok",
     "timestamp": 1670897341631,
     "user": {
      "displayName": "Franklin Nkokam Ngongang",
      "userId": "07081789311912667597"
     },
     "user_tz": 300
    },
    "id": "cbbb0b32",
    "outputId": "45b976a3-22ae-4ad1-9720-7f4be83e322f",
    "papermill": {
     "duration": 0.293151,
     "end_time": "2022-12-04T11:40:40.211726",
     "exception": false,
     "start_time": "2022-12-04T11:40:39.918575",
     "status": "completed"
    },
    "tags": []
   },
   "outputs": [
    {
     "data": {
      "image/png": "[encoded data removed]",
      "text/plain": [
       "<Figure size 432x288 with 1 Axes>"
      ]
     },
     "metadata": {
      "needs_background": "light"
     },
     "output_type": "display_data"
    }
   ],
   "source": [
    "# sns.distplot(df['age'])\n",
    "### plt.show()\n",
    "\n",
    "# age and smoking are two factors that can increase the risk of heart failure.\n",
    "# Heart failure is a condition in which the heart is unable to pump enough blood to meet the body's needs.\n",
    "\n",
    "# As people get older, their risk of heart failure increases. \n",
    "# This is because the heart muscle can become less efficient and less able to pump blood effectively over time. \n",
    "# In addition, older people are more likely to have other conditions that can contribute to heart failure, \n",
    "# such as high blood pressure, diabetes, and coronary artery disease.\n",
    "\n",
    "# Smoking is also a major risk factor for heart failure. When you smoke, \n",
    "# the chemicals in tobacco damage the heart and blood vessels, making them less able to function properly. \n",
    "# Smoking can cause high blood pressure, which can lead to heart failure.\n",
    "# It can also increase the risk of coronary artery disease,\n",
    "# which can cause the heart to become damaged and weak.\n",
    "\n",
    "sns.distplot(df['age'], kde=False)\n",
    "plt.show()"
   ]
  },
  {
   "cell_type": "code",
   "execution_count": 95,
   "id": "2dffd878",
   "metadata": {},
   "outputs": [
    {
     "data": {
      "image/png": "[encoded data removed]",
      "text/plain": [
       "<Figure size 432x288 with 1 Axes>"
      ]
     },
     "metadata": {
      "needs_background": "light"
     },
     "output_type": "display_data"
    }
   ],
   "source": [
    "sns.distplot(df['smoking'], kde=False)\n",
    "plt.show()"
   ]
  },
  {
   "cell_type": "code",
   "execution_count": 98,
   "id": "a6fdff49",
   "metadata": {},
   "outputs": [
    {
     "data": {
      "image/png": "[encoded data removed]",
      "text/plain": [
       "<Figure size 432x288 with 1 Axes>"
      ]
     },
     "metadata": {
      "needs_background": "light"
     },
     "output_type": "display_data"
    }
   ],
   "source": [
    "sns.distplot(df['diabetes'], kde=False)\n",
    "plt.show()"
   ]
  },
  {
   "cell_type": "code",
   "execution_count": 69,
   "id": "8a157a05",
   "metadata": {
    "colab": {
     "base_uri": "https://localhost:8080/",
     "height": 1000
    },
    "execution": {
     "iopub.execute_input": "2022-12-04T11:40:40.243800Z",
     "iopub.status.busy": "2022-12-04T11:40:40.243375Z",
     "iopub.status.idle": "2022-12-04T11:40:40.248405Z",
     "shell.execute_reply": "2022-12-04T11:40:40.247137Z"
    },
    "executionInfo": {
     "elapsed": 350,
     "status": "ok",
     "timestamp": 1670897350299,
     "user": {
      "displayName": "Franklin Nkokam Ngongang",
      "userId": "07081789311912667597"
     },
     "user_tz": 300
    },
    "id": "8a157a05",
    "outputId": "e60cc562-d8b5-41cb-bca9-81fb5a874338",
    "papermill": {
     "duration": 0.024509,
     "end_time": "2022-12-04T11:40:40.250842",
     "exception": false,
     "start_time": "2022-12-04T11:40:40.226333",
     "status": "completed"
    },
    "scrolled": false,
    "tags": []
   },
   "outputs": [
    {
     "data": {
      "text/html": [
       "\n",
       "  <div id=\"df-680ccee7-f72c-4b04-8916-a9db70aec6b2\">\n",
       "    <div class=\"colab-df-container\">\n",
       "      <div>\n",
       "<style scoped>\n",
       "    .dataframe tbody tr th:only-of-type {\n",
       "        vertical-align: middle;\n",
       "    }\n",
       "\n",
       "    .dataframe tbody tr th {\n",
       "        vertical-align: top;\n",
       "    }\n",
       "\n",
       "    .dataframe thead th {\n",
       "        text-align: right;\n",
       "    }\n",
       "</style>\n",
       "<table border=\"1\" class=\"dataframe\">\n",
       "  <thead>\n",
       "    <tr style=\"text-align: right;\">\n",
       "      <th></th>\n",
       "      <th>age</th>\n",
       "      <th>anaemia</th>\n",
       "      <th>creatinine_phosphokinase</th>\n",
       "      <th>diabetes</th>\n",
       "      <th>ejection_fraction</th>\n",
       "      <th>high_blood_pressure</th>\n",
       "      <th>platelets</th>\n",
       "      <th>serum_creatinine</th>\n",
       "      <th>serum_sodium</th>\n",
       "      <th>sex</th>\n",
       "      <th>smoking</th>\n",
       "      <th>time</th>\n",
       "      <th>DEATH_EVENT</th>\n",
       "    </tr>\n",
       "    <tr>\n",
       "      <th>age</th>\n",
       "      <th></th>\n",
       "      <th></th>\n",
       "      <th></th>\n",
       "      <th></th>\n",
       "      <th></th>\n",
       "      <th></th>\n",
       "      <th></th>\n",
       "      <th></th>\n",
       "      <th></th>\n",
       "      <th></th>\n",
       "      <th></th>\n",
       "      <th></th>\n",
       "      <th></th>\n",
       "    </tr>\n",
       "  </thead>\n",
       "  <tbody>\n",
       "    <tr>\n",
       "      <th>40.000</th>\n",
       "      <td>40.000</td>\n",
       "      <td>0.285714</td>\n",
       "      <td>321.142857</td>\n",
       "      <td>0.285714</td>\n",
       "      <td>36.428571</td>\n",
       "      <td>0.142857</td>\n",
       "      <td>262428.571429</td>\n",
       "      <td>0.942857</td>\n",
       "      <td>137.714286</td>\n",
       "      <td>0.714286</td>\n",
       "      <td>0.285714</td>\n",
       "      <td>198.285714</td>\n",
       "      <td>0.000000</td>\n",
       "    </tr>\n",
       "    <tr>\n",
       "      <th>41.000</th>\n",
       "      <td>41.000</td>\n",
       "      <td>0.000000</td>\n",
       "      <td>148.000000</td>\n",
       "      <td>0.000000</td>\n",
       "      <td>40.000000</td>\n",
       "      <td>0.000000</td>\n",
       "      <td>374000.000000</td>\n",
       "      <td>0.800000</td>\n",
       "      <td>140.000000</td>\n",
       "      <td>1.000000</td>\n",
       "      <td>1.000000</td>\n",
       "      <td>68.000000</td>\n",
       "      <td>0.000000</td>\n",
       "    </tr>\n",
       "    <tr>\n",
       "      <th>42.000</th>\n",
       "      <td>42.000</td>\n",
       "      <td>0.285714</td>\n",
       "      <td>908.142857</td>\n",
       "      <td>0.285714</td>\n",
       "      <td>35.714286</td>\n",
       "      <td>0.000000</td>\n",
       "      <td>244051.147143</td>\n",
       "      <td>1.468571</td>\n",
       "      <td>137.142857</td>\n",
       "      <td>0.714286</td>\n",
       "      <td>0.428571</td>\n",
       "      <td>143.428571</td>\n",
       "      <td>0.142857</td>\n",
       "    </tr>\n",
       "    <tr>\n",
       "      <th>43.000</th>\n",
       "      <td>43.000</td>\n",
       "      <td>1.000000</td>\n",
       "      <td>358.000000</td>\n",
       "      <td>0.000000</td>\n",
       "      <td>50.000000</td>\n",
       "      <td>0.000000</td>\n",
       "      <td>237000.000000</td>\n",
       "      <td>1.300000</td>\n",
       "      <td>135.000000</td>\n",
       "      <td>0.000000</td>\n",
       "      <td>0.000000</td>\n",
       "      <td>97.000000</td>\n",
       "      <td>0.000000</td>\n",
       "    </tr>\n",
       "    <tr>\n",
       "      <th>44.000</th>\n",
       "      <td>44.000</td>\n",
       "      <td>0.000000</td>\n",
       "      <td>333.000000</td>\n",
       "      <td>1.000000</td>\n",
       "      <td>35.000000</td>\n",
       "      <td>1.000000</td>\n",
       "      <td>249179.015000</td>\n",
       "      <td>1.150000</td>\n",
       "      <td>134.500000</td>\n",
       "      <td>1.000000</td>\n",
       "      <td>0.500000</td>\n",
       "      <td>161.500000</td>\n",
       "      <td>0.000000</td>\n",
       "    </tr>\n",
       "    <tr>\n",
       "      <th>45.000</th>\n",
       "      <td>45.000</td>\n",
       "      <td>0.210526</td>\n",
       "      <td>1239.000000</td>\n",
       "      <td>0.578947</td>\n",
       "      <td>39.263158</td>\n",
       "      <td>0.263158</td>\n",
       "      <td>331300.845263</td>\n",
       "      <td>1.024211</td>\n",
       "      <td>137.578947</td>\n",
       "      <td>0.631579</td>\n",
       "      <td>0.157895</td>\n",
       "      <td>156.315789</td>\n",
       "      <td>0.315789</td>\n",
       "    </tr>\n",
       "    <tr>\n",
       "      <th>46.000</th>\n",
       "      <td>46.000</td>\n",
       "      <td>0.333333</td>\n",
       "      <td>392.666667</td>\n",
       "      <td>0.333333</td>\n",
       "      <td>30.666667</td>\n",
       "      <td>0.666667</td>\n",
       "      <td>294119.343333</td>\n",
       "      <td>1.393333</td>\n",
       "      <td>133.666667</td>\n",
       "      <td>0.000000</td>\n",
       "      <td>0.000000</td>\n",
       "      <td>105.333333</td>\n",
       "      <td>0.333333</td>\n",
       "    </tr>\n",
       "    <tr>\n",
       "      <th>47.000</th>\n",
       "      <td>47.000</td>\n",
       "      <td>0.000000</td>\n",
       "      <td>582.000000</td>\n",
       "      <td>0.000000</td>\n",
       "      <td>25.000000</td>\n",
       "      <td>0.000000</td>\n",
       "      <td>130000.000000</td>\n",
       "      <td>0.800000</td>\n",
       "      <td>134.000000</td>\n",
       "      <td>1.000000</td>\n",
       "      <td>0.000000</td>\n",
       "      <td>201.000000</td>\n",
       "      <td>0.000000</td>\n",
       "    </tr>\n",
       "    <tr>\n",
       "      <th>48.000</th>\n",
       "      <td>48.000</td>\n",
       "      <td>1.000000</td>\n",
       "      <td>356.500000</td>\n",
       "      <td>1.000000</td>\n",
       "      <td>42.500000</td>\n",
       "      <td>0.500000</td>\n",
       "      <td>165500.000000</td>\n",
       "      <td>1.750000</td>\n",
       "      <td>125.500000</td>\n",
       "      <td>0.000000</td>\n",
       "      <td>0.000000</td>\n",
       "      <td>104.000000</td>\n",
       "      <td>1.000000</td>\n",
       "    </tr>\n",
       "    <tr>\n",
       "      <th>49.000</th>\n",
       "      <td>49.000</td>\n",
       "      <td>0.500000</td>\n",
       "      <td>477.500000</td>\n",
       "      <td>0.250000</td>\n",
       "      <td>33.750000</td>\n",
       "      <td>0.750000</td>\n",
       "      <td>286500.000000</td>\n",
       "      <td>0.975000</td>\n",
       "      <td>136.000000</td>\n",
       "      <td>0.250000</td>\n",
       "      <td>0.250000</td>\n",
       "      <td>100.250000</td>\n",
       "      <td>0.250000</td>\n",
       "    </tr>\n",
       "    <tr>\n",
       "      <th>50.000</th>\n",
       "      <td>50.000</td>\n",
       "      <td>0.444444</td>\n",
       "      <td>568.703704</td>\n",
       "      <td>0.444444</td>\n",
       "      <td>35.111111</td>\n",
       "      <td>0.370370</td>\n",
       "      <td>257939.186296</td>\n",
       "      <td>1.073333</td>\n",
       "      <td>136.148148</td>\n",
       "      <td>0.592593</td>\n",
       "      <td>0.333333</td>\n",
       "      <td>133.777778</td>\n",
       "      <td>0.296296</td>\n",
       "    </tr>\n",
       "    <tr>\n",
       "      <th>51.000</th>\n",
       "      <td>51.000</td>\n",
       "      <td>0.250000</td>\n",
       "      <td>655.500000</td>\n",
       "      <td>0.500000</td>\n",
       "      <td>37.500000</td>\n",
       "      <td>0.250000</td>\n",
       "      <td>290339.507500</td>\n",
       "      <td>1.000000</td>\n",
       "      <td>135.000000</td>\n",
       "      <td>0.750000</td>\n",
       "      <td>0.250000</td>\n",
       "      <td>126.500000</td>\n",
       "      <td>0.250000</td>\n",
       "    </tr>\n",
       "    <tr>\n",
       "      <th>52.000</th>\n",
       "      <td>52.000</td>\n",
       "      <td>0.400000</td>\n",
       "      <td>907.400000</td>\n",
       "      <td>0.400000</td>\n",
       "      <td>34.600000</td>\n",
       "      <td>0.200000</td>\n",
       "      <td>307200.000000</td>\n",
       "      <td>1.000000</td>\n",
       "      <td>138.800000</td>\n",
       "      <td>0.800000</td>\n",
       "      <td>0.800000</td>\n",
       "      <td>170.400000</td>\n",
       "      <td>0.000000</td>\n",
       "    </tr>\n",
       "    <tr>\n",
       "      <th>53.000</th>\n",
       "      <td>53.000</td>\n",
       "      <td>0.600000</td>\n",
       "      <td>442.600000</td>\n",
       "      <td>0.300000</td>\n",
       "      <td>46.800000</td>\n",
       "      <td>0.300000</td>\n",
       "      <td>291135.803000</td>\n",
       "      <td>1.240000</td>\n",
       "      <td>136.800000</td>\n",
       "      <td>0.800000</td>\n",
       "      <td>0.500000</td>\n",
       "      <td>148.800000</td>\n",
       "      <td>0.100000</td>\n",
       "    </tr>\n",
       "    <tr>\n",
       "      <th>54.000</th>\n",
       "      <td>54.000</td>\n",
       "      <td>0.500000</td>\n",
       "      <td>504.500000</td>\n",
       "      <td>0.500000</td>\n",
       "      <td>54.000000</td>\n",
       "      <td>0.500000</td>\n",
       "      <td>207500.000000</td>\n",
       "      <td>5.400000</td>\n",
       "      <td>135.500000</td>\n",
       "      <td>0.500000</td>\n",
       "      <td>0.000000</td>\n",
       "      <td>204.500000</td>\n",
       "      <td>0.500000</td>\n",
       "    </tr>\n",
       "    <tr>\n",
       "      <th>55.000</th>\n",
       "      <td>55.000</td>\n",
       "      <td>0.176471</td>\n",
       "      <td>1145.882353</td>\n",
       "      <td>0.235294</td>\n",
       "      <td>36.705882</td>\n",
       "      <td>0.235294</td>\n",
       "      <td>272239.652353</td>\n",
       "      <td>1.100588</td>\n",
       "      <td>137.882353</td>\n",
       "      <td>0.705882</td>\n",
       "      <td>0.294118</td>\n",
       "      <td>166.352941</td>\n",
       "      <td>0.176471</td>\n",
       "    </tr>\n",
       "    <tr>\n",
       "      <th>56.000</th>\n",
       "      <td>56.000</td>\n",
       "      <td>1.000000</td>\n",
       "      <td>135.000000</td>\n",
       "      <td>1.000000</td>\n",
       "      <td>38.000000</td>\n",
       "      <td>0.000000</td>\n",
       "      <td>133000.000000</td>\n",
       "      <td>1.700000</td>\n",
       "      <td>140.000000</td>\n",
       "      <td>1.000000</td>\n",
       "      <td>0.000000</td>\n",
       "      <td>244.000000</td>\n",
       "      <td>0.000000</td>\n",
       "    </tr>\n",
       "    <tr>\n",
       "      <th>57.000</th>\n",
       "      <td>57.000</td>\n",
       "      <td>1.000000</td>\n",
       "      <td>122.000000</td>\n",
       "      <td>0.000000</td>\n",
       "      <td>27.500000</td>\n",
       "      <td>0.500000</td>\n",
       "      <td>288000.000000</td>\n",
       "      <td>1.050000</td>\n",
       "      <td>142.000000</td>\n",
       "      <td>0.500000</td>\n",
       "      <td>0.000000</td>\n",
       "      <td>60.500000</td>\n",
       "      <td>0.500000</td>\n",
       "    </tr>\n",
       "    <tr>\n",
       "      <th>58.000</th>\n",
       "      <td>58.000</td>\n",
       "      <td>0.600000</td>\n",
       "      <td>243.500000</td>\n",
       "      <td>0.500000</td>\n",
       "      <td>38.400000</td>\n",
       "      <td>0.300000</td>\n",
       "      <td>245000.000000</td>\n",
       "      <td>1.470000</td>\n",
       "      <td>137.800000</td>\n",
       "      <td>0.700000</td>\n",
       "      <td>0.300000</td>\n",
       "      <td>126.800000</td>\n",
       "      <td>0.200000</td>\n",
       "    </tr>\n",
       "    <tr>\n",
       "      <th>59.000</th>\n",
       "      <td>59.000</td>\n",
       "      <td>0.750000</td>\n",
       "      <td>162.750000</td>\n",
       "      <td>0.750000</td>\n",
       "      <td>28.750000</td>\n",
       "      <td>0.500000</td>\n",
       "      <td>238750.000000</td>\n",
       "      <td>1.375000</td>\n",
       "      <td>137.500000</td>\n",
       "      <td>0.750000</td>\n",
       "      <td>0.500000</td>\n",
       "      <td>121.000000</td>\n",
       "      <td>0.750000</td>\n",
       "    </tr>\n",
       "    <tr>\n",
       "      <th>60.000</th>\n",
       "      <td>60.000</td>\n",
       "      <td>0.515152</td>\n",
       "      <td>715.666667</td>\n",
       "      <td>0.575758</td>\n",
       "      <td>38.303030</td>\n",
       "      <td>0.272727</td>\n",
       "      <td>249536.850303</td>\n",
       "      <td>1.898485</td>\n",
       "      <td>136.060606</td>\n",
       "      <td>0.606061</td>\n",
       "      <td>0.333333</td>\n",
       "      <td>108.454545</td>\n",
       "      <td>0.393939</td>\n",
       "    </tr>\n",
       "    <tr>\n",
       "      <th>60.667</th>\n",
       "      <td>60.667</td>\n",
       "      <td>1.000000</td>\n",
       "      <td>127.500000</td>\n",
       "      <td>1.000000</td>\n",
       "      <td>35.000000</td>\n",
       "      <td>0.500000</td>\n",
       "      <td>295000.000000</td>\n",
       "      <td>1.250000</td>\n",
       "      <td>136.000000</td>\n",
       "      <td>0.500000</td>\n",
       "      <td>0.000000</td>\n",
       "      <td>171.500000</td>\n",
       "      <td>0.500000</td>\n",
       "    </tr>\n",
       "    <tr>\n",
       "      <th>61.000</th>\n",
       "      <td>61.000</td>\n",
       "      <td>0.500000</td>\n",
       "      <td>248.500000</td>\n",
       "      <td>0.500000</td>\n",
       "      <td>36.500000</td>\n",
       "      <td>0.500000</td>\n",
       "      <td>231250.000000</td>\n",
       "      <td>1.050000</td>\n",
       "      <td>138.750000</td>\n",
       "      <td>0.750000</td>\n",
       "      <td>0.250000</td>\n",
       "      <td>166.000000</td>\n",
       "      <td>0.000000</td>\n",
       "    </tr>\n",
       "    <tr>\n",
       "      <th>62.000</th>\n",
       "      <td>62.000</td>\n",
       "      <td>0.200000</td>\n",
       "      <td>251.600000</td>\n",
       "      <td>0.600000</td>\n",
       "      <td>39.600000</td>\n",
       "      <td>0.600000</td>\n",
       "      <td>231200.000000</td>\n",
       "      <td>0.920000</td>\n",
       "      <td>138.200000</td>\n",
       "      <td>0.600000</td>\n",
       "      <td>0.400000</td>\n",
       "      <td>147.600000</td>\n",
       "      <td>0.200000</td>\n",
       "    </tr>\n",
       "    <tr>\n",
       "      <th>63.000</th>\n",
       "      <td>63.000</td>\n",
       "      <td>0.750000</td>\n",
       "      <td>534.750000</td>\n",
       "      <td>0.500000</td>\n",
       "      <td>42.875000</td>\n",
       "      <td>0.250000</td>\n",
       "      <td>255125.000000</td>\n",
       "      <td>1.062500</td>\n",
       "      <td>138.375000</td>\n",
       "      <td>0.875000</td>\n",
       "      <td>0.500000</td>\n",
       "      <td>136.250000</td>\n",
       "      <td>0.000000</td>\n",
       "    </tr>\n",
       "    <tr>\n",
       "      <th>64.000</th>\n",
       "      <td>64.000</td>\n",
       "      <td>0.333333</td>\n",
       "      <td>605.000000</td>\n",
       "      <td>0.000000</td>\n",
       "      <td>48.333333</td>\n",
       "      <td>0.000000</td>\n",
       "      <td>265666.666667</td>\n",
       "      <td>1.633333</td>\n",
       "      <td>135.666667</td>\n",
       "      <td>0.666667</td>\n",
       "      <td>0.000000</td>\n",
       "      <td>167.000000</td>\n",
       "      <td>0.000000</td>\n",
       "    </tr>\n",
       "    <tr>\n",
       "      <th>65.000</th>\n",
       "      <td>65.000</td>\n",
       "      <td>0.423077</td>\n",
       "      <td>310.423077</td>\n",
       "      <td>0.576923</td>\n",
       "      <td>37.346154</td>\n",
       "      <td>0.307692</td>\n",
       "      <td>257387.465000</td>\n",
       "      <td>1.362692</td>\n",
       "      <td>136.153846</td>\n",
       "      <td>0.500000</td>\n",
       "      <td>0.269231</td>\n",
       "      <td>127.923077</td>\n",
       "      <td>0.307692</td>\n",
       "    </tr>\n",
       "    <tr>\n",
       "      <th>66.000</th>\n",
       "      <td>66.000</td>\n",
       "      <td>1.000000</td>\n",
       "      <td>70.000000</td>\n",
       "      <td>0.500000</td>\n",
       "      <td>39.000000</td>\n",
       "      <td>1.000000</td>\n",
       "      <td>202000.000000</td>\n",
       "      <td>1.100000</td>\n",
       "      <td>135.000000</td>\n",
       "      <td>0.500000</td>\n",
       "      <td>0.000000</td>\n",
       "      <td>108.000000</td>\n",
       "      <td>0.000000</td>\n",
       "    </tr>\n",
       "    <tr>\n",
       "      <th>67.000</th>\n",
       "      <td>67.000</td>\n",
       "      <td>0.000000</td>\n",
       "      <td>397.500000</td>\n",
       "      <td>0.000000</td>\n",
       "      <td>44.000000</td>\n",
       "      <td>0.000000</td>\n",
       "      <td>239179.015000</td>\n",
       "      <td>1.190000</td>\n",
       "      <td>135.000000</td>\n",
       "      <td>0.500000</td>\n",
       "      <td>0.500000</td>\n",
       "      <td>160.500000</td>\n",
       "      <td>0.000000</td>\n",
       "    </tr>\n",
       "    <tr>\n",
       "      <th>68.000</th>\n",
       "      <td>68.000</td>\n",
       "      <td>1.000000</td>\n",
       "      <td>524.200000</td>\n",
       "      <td>0.400000</td>\n",
       "      <td>36.000000</td>\n",
       "      <td>0.400000</td>\n",
       "      <td>247800.000000</td>\n",
       "      <td>1.220000</td>\n",
       "      <td>136.400000</td>\n",
       "      <td>0.800000</td>\n",
       "      <td>0.200000</td>\n",
       "      <td>121.000000</td>\n",
       "      <td>0.400000</td>\n",
       "    </tr>\n",
       "    <tr>\n",
       "      <th>69.000</th>\n",
       "      <td>69.000</td>\n",
       "      <td>0.000000</td>\n",
       "      <td>861.000000</td>\n",
       "      <td>0.333333</td>\n",
       "      <td>31.666667</td>\n",
       "      <td>0.000000</td>\n",
       "      <td>199666.666667</td>\n",
       "      <td>1.900000</td>\n",
       "      <td>134.333333</td>\n",
       "      <td>1.000000</td>\n",
       "      <td>0.666667</td>\n",
       "      <td>83.333333</td>\n",
       "      <td>0.666667</td>\n",
       "    </tr>\n",
       "    <tr>\n",
       "      <th>70.000</th>\n",
       "      <td>70.000</td>\n",
       "      <td>0.240000</td>\n",
       "      <td>384.880000</td>\n",
       "      <td>0.360000</td>\n",
       "      <td>40.800000</td>\n",
       "      <td>0.520000</td>\n",
       "      <td>258858.321200</td>\n",
       "      <td>1.253200</td>\n",
       "      <td>137.320000</td>\n",
       "      <td>0.520000</td>\n",
       "      <td>0.400000</td>\n",
       "      <td>134.680000</td>\n",
       "      <td>0.280000</td>\n",
       "    </tr>\n",
       "    <tr>\n",
       "      <th>72.000</th>\n",
       "      <td>72.000</td>\n",
       "      <td>0.428571</td>\n",
       "      <td>330.857143</td>\n",
       "      <td>0.285714</td>\n",
       "      <td>31.428571</td>\n",
       "      <td>0.714286</td>\n",
       "      <td>316285.714286</td>\n",
       "      <td>1.485714</td>\n",
       "      <td>136.571429</td>\n",
       "      <td>0.571429</td>\n",
       "      <td>0.571429</td>\n",
       "      <td>96.857143</td>\n",
       "      <td>0.714286</td>\n",
       "    </tr>\n",
       "    <tr>\n",
       "      <th>73.000</th>\n",
       "      <td>73.000</td>\n",
       "      <td>0.500000</td>\n",
       "      <td>645.000000</td>\n",
       "      <td>0.250000</td>\n",
       "      <td>31.250000</td>\n",
       "      <td>0.500000</td>\n",
       "      <td>211589.507500</td>\n",
       "      <td>1.302500</td>\n",
       "      <td>137.750000</td>\n",
       "      <td>0.750000</td>\n",
       "      <td>0.250000</td>\n",
       "      <td>196.500000</td>\n",
       "      <td>0.250000</td>\n",
       "    </tr>\n",
       "    <tr>\n",
       "      <th>75.000</th>\n",
       "      <td>75.000</td>\n",
       "      <td>0.363636</td>\n",
       "      <td>393.909091</td>\n",
       "      <td>0.272727</td>\n",
       "      <td>36.727273</td>\n",
       "      <td>0.636364</td>\n",
       "      <td>254097.644545</td>\n",
       "      <td>1.701818</td>\n",
       "      <td>134.363636</td>\n",
       "      <td>0.818182</td>\n",
       "      <td>0.181818</td>\n",
       "      <td>91.272727</td>\n",
       "      <td>0.545455</td>\n",
       "    </tr>\n",
       "    <tr>\n",
       "      <th>77.000</th>\n",
       "      <td>77.000</td>\n",
       "      <td>1.000000</td>\n",
       "      <td>263.500000</td>\n",
       "      <td>0.000000</td>\n",
       "      <td>47.500000</td>\n",
       "      <td>0.500000</td>\n",
       "      <td>314500.000000</td>\n",
       "      <td>1.450000</td>\n",
       "      <td>141.000000</td>\n",
       "      <td>1.000000</td>\n",
       "      <td>0.000000</td>\n",
       "      <td>194.500000</td>\n",
       "      <td>0.500000</td>\n",
       "    </tr>\n",
       "    <tr>\n",
       "      <th>78.000</th>\n",
       "      <td>78.000</td>\n",
       "      <td>0.500000</td>\n",
       "      <td>144.000000</td>\n",
       "      <td>0.000000</td>\n",
       "      <td>45.000000</td>\n",
       "      <td>0.000000</td>\n",
       "      <td>379000.000000</td>\n",
       "      <td>1.050000</td>\n",
       "      <td>137.500000</td>\n",
       "      <td>1.000000</td>\n",
       "      <td>1.000000</td>\n",
       "      <td>189.500000</td>\n",
       "      <td>0.000000</td>\n",
       "    </tr>\n",
       "    <tr>\n",
       "      <th>79.000</th>\n",
       "      <td>79.000</td>\n",
       "      <td>1.000000</td>\n",
       "      <td>55.000000</td>\n",
       "      <td>0.000000</td>\n",
       "      <td>50.000000</td>\n",
       "      <td>1.000000</td>\n",
       "      <td>172000.000000</td>\n",
       "      <td>1.800000</td>\n",
       "      <td>133.000000</td>\n",
       "      <td>1.000000</td>\n",
       "      <td>0.000000</td>\n",
       "      <td>78.000000</td>\n",
       "      <td>0.000000</td>\n",
       "    </tr>\n",
       "    <tr>\n",
       "      <th>80.000</th>\n",
       "      <td>80.000</td>\n",
       "      <td>0.285714</td>\n",
       "      <td>555.000000</td>\n",
       "      <td>0.428571</td>\n",
       "      <td>32.714286</td>\n",
       "      <td>0.428571</td>\n",
       "      <td>233051.147143</td>\n",
       "      <td>3.042857</td>\n",
       "      <td>136.714286</td>\n",
       "      <td>0.857143</td>\n",
       "      <td>0.428571</td>\n",
       "      <td>82.000000</td>\n",
       "      <td>0.714286</td>\n",
       "    </tr>\n",
       "    <tr>\n",
       "      <th>81.000</th>\n",
       "      <td>81.000</td>\n",
       "      <td>0.000000</td>\n",
       "      <td>4540.000000</td>\n",
       "      <td>0.000000</td>\n",
       "      <td>35.000000</td>\n",
       "      <td>0.000000</td>\n",
       "      <td>231000.000000</td>\n",
       "      <td>1.180000</td>\n",
       "      <td>137.000000</td>\n",
       "      <td>1.000000</td>\n",
       "      <td>1.000000</td>\n",
       "      <td>107.000000</td>\n",
       "      <td>0.000000</td>\n",
       "    </tr>\n",
       "    <tr>\n",
       "      <th>82.000</th>\n",
       "      <td>82.000</td>\n",
       "      <td>0.666667</td>\n",
       "      <td>434.666667</td>\n",
       "      <td>0.666667</td>\n",
       "      <td>43.333333</td>\n",
       "      <td>0.333333</td>\n",
       "      <td>189333.333333</td>\n",
       "      <td>1.166667</td>\n",
       "      <td>137.666667</td>\n",
       "      <td>0.666667</td>\n",
       "      <td>0.333333</td>\n",
       "      <td>23.000000</td>\n",
       "      <td>1.000000</td>\n",
       "    </tr>\n",
       "    <tr>\n",
       "      <th>85.000</th>\n",
       "      <td>85.000</td>\n",
       "      <td>0.333333</td>\n",
       "      <td>1209.666667</td>\n",
       "      <td>0.000000</td>\n",
       "      <td>48.000000</td>\n",
       "      <td>0.000000</td>\n",
       "      <td>306166.666667</td>\n",
       "      <td>1.766667</td>\n",
       "      <td>134.000000</td>\n",
       "      <td>0.833333</td>\n",
       "      <td>0.333333</td>\n",
       "      <td>98.666667</td>\n",
       "      <td>0.500000</td>\n",
       "    </tr>\n",
       "    <tr>\n",
       "      <th>86.000</th>\n",
       "      <td>86.000</td>\n",
       "      <td>0.000000</td>\n",
       "      <td>582.000000</td>\n",
       "      <td>0.000000</td>\n",
       "      <td>38.000000</td>\n",
       "      <td>0.000000</td>\n",
       "      <td>263358.030000</td>\n",
       "      <td>1.830000</td>\n",
       "      <td>134.000000</td>\n",
       "      <td>0.000000</td>\n",
       "      <td>0.000000</td>\n",
       "      <td>95.000000</td>\n",
       "      <td>1.000000</td>\n",
       "    </tr>\n",
       "    <tr>\n",
       "      <th>87.000</th>\n",
       "      <td>87.000</td>\n",
       "      <td>1.000000</td>\n",
       "      <td>149.000000</td>\n",
       "      <td>0.000000</td>\n",
       "      <td>38.000000</td>\n",
       "      <td>0.000000</td>\n",
       "      <td>262000.000000</td>\n",
       "      <td>0.900000</td>\n",
       "      <td>140.000000</td>\n",
       "      <td>1.000000</td>\n",
       "      <td>0.000000</td>\n",
       "      <td>14.000000</td>\n",
       "      <td>1.000000</td>\n",
       "    </tr>\n",
       "    <tr>\n",
       "      <th>90.000</th>\n",
       "      <td>90.000</td>\n",
       "      <td>1.000000</td>\n",
       "      <td>148.000000</td>\n",
       "      <td>0.333333</td>\n",
       "      <td>42.666667</td>\n",
       "      <td>0.333333</td>\n",
       "      <td>273333.333333</td>\n",
       "      <td>1.333333</td>\n",
       "      <td>136.666667</td>\n",
       "      <td>0.666667</td>\n",
       "      <td>0.333333</td>\n",
       "      <td>98.000000</td>\n",
       "      <td>0.666667</td>\n",
       "    </tr>\n",
       "    <tr>\n",
       "      <th>94.000</th>\n",
       "      <td>94.000</td>\n",
       "      <td>0.000000</td>\n",
       "      <td>582.000000</td>\n",
       "      <td>1.000000</td>\n",
       "      <td>38.000000</td>\n",
       "      <td>1.000000</td>\n",
       "      <td>263358.030000</td>\n",
       "      <td>1.830000</td>\n",
       "      <td>134.000000</td>\n",
       "      <td>1.000000</td>\n",
       "      <td>0.000000</td>\n",
       "      <td>27.000000</td>\n",
       "      <td>1.000000</td>\n",
       "    </tr>\n",
       "    <tr>\n",
       "      <th>95.000</th>\n",
       "      <td>95.000</td>\n",
       "      <td>1.000000</td>\n",
       "      <td>241.500000</td>\n",
       "      <td>0.000000</td>\n",
       "      <td>35.000000</td>\n",
       "      <td>0.500000</td>\n",
       "      <td>328500.000000</td>\n",
       "      <td>1.500000</td>\n",
       "      <td>135.000000</td>\n",
       "      <td>0.500000</td>\n",
       "      <td>0.000000</td>\n",
       "      <td>37.000000</td>\n",
       "      <td>1.000000</td>\n",
       "    </tr>\n",
       "  </tbody>\n",
       "</table>\n",
       "</div>\n",
       "      <button class=\"colab-df-convert\" onclick=\"convertToInteractive('df-680ccee7-f72c-4b04-8916-a9db70aec6b2')\"\n",
       "              title=\"Convert this dataframe to an interactive table.\"\n",
       "              style=\"display:none;\">\n",
       "        \n",
       "  <svg xmlns=\"http://www.w3.org/2000/svg\" height=\"24px\"viewBox=\"0 0 24 24\"\n",
       "       width=\"24px\">\n",
       "    <path d=\"M0 0h24v24H0V0z\" fill=\"none\"/>\n",
       "    <path d=\"M18.56 5.44l.94 2.06.94-2.06 2.06-.94-2.06-.94-.94-2.06-.94 2.06-2.06.94zm-11 1L8.5 8.5l.94-2.06 2.06-.94-2.06-.94L8.5 2.5l-.94 2.06-2.06.94zm10 10l.94 2.06.94-2.06 2.06-.94-2.06-.94-.94-2.06-.94 2.06-2.06.94z\"/><path d=\"M17.41 7.96l-1.37-1.37c-.4-.4-.92-.59-1.43-.59-.52 0-1.04.2-1.43.59L10.3 9.45l-7.72 7.72c-.78.78-.78 2.05 0 2.83L4 21.41c.39.39.9.59 1.41.59.51 0 1.02-.2 1.41-.59l7.78-7.78 2.81-2.81c.8-.78.8-2.07 0-2.86zM5.41 20L4 18.59l7.72-7.72 1.47 1.35L5.41 20z\"/>\n",
       "  </svg>\n",
       "      </button>\n",
       "      \n",
       "  <style>\n",
       "    .colab-df-container {\n",
       "      display:flex;\n",
       "      flex-wrap:wrap;\n",
       "      gap: 12px;\n",
       "    }\n",
       "\n",
       "    .colab-df-convert {\n",
       "      background-color: #E8F0FE;\n",
       "      border: none;\n",
       "      border-radius: 50%;\n",
       "      cursor: pointer;\n",
       "      display: none;\n",
       "      fill: #1967D2;\n",
       "      height: 32px;\n",
       "      padding: 0 0 0 0;\n",
       "      width: 32px;\n",
       "    }\n",
       "\n",
       "    .colab-df-convert:hover {\n",
       "      background-color: #E2EBFA;\n",
       "      box-shadow: 0px 1px 2px rgba(60, 64, 67, 0.3), 0px 1px 3px 1px rgba(60, 64, 67, 0.15);\n",
       "      fill: #174EA6;\n",
       "    }\n",
       "\n",
       "    [theme=dark] .colab-df-convert {\n",
       "      background-color: #3B4455;\n",
       "      fill: #D2E3FC;\n",
       "    }\n",
       "\n",
       "    [theme=dark] .colab-df-convert:hover {\n",
       "      background-color: #434B5C;\n",
       "      box-shadow: 0px 1px 3px 1px rgba(0, 0, 0, 0.15);\n",
       "      filter: drop-shadow(0px 1px 2px rgba(0, 0, 0, 0.3));\n",
       "      fill: #FFFFFF;\n",
       "    }\n",
       "  </style>\n",
       "\n",
       "      <script>\n",
       "        const buttonEl =\n",
       "          document.querySelector('#df-680ccee7-f72c-4b04-8916-a9db70aec6b2 button.colab-df-convert');\n",
       "        buttonEl.style.display =\n",
       "          google.colab.kernel.accessAllowed ? 'block' : 'none';\n",
       "\n",
       "        async function convertToInteractive(key) {\n",
       "          const element = document.querySelector('#df-680ccee7-f72c-4b04-8916-a9db70aec6b2');\n",
       "          const dataTable =\n",
       "            await google.colab.kernel.invokeFunction('convertToInteractive',\n",
       "                                                     [key], {});\n",
       "          if (!dataTable) return;\n",
       "\n",
       "          const docLinkHtml = 'Like what you see? Visit the ' +\n",
       "            '<a target=\"_blank\" href=https://colab.research.google.com/notebooks/data_table.ipynb>data table notebook</a>'\n",
       "            + ' to learn more about interactive tables.';\n",
       "          element.innerHTML = '';\n",
       "          dataTable['output_type'] = 'display_data';\n",
       "          await google.colab.output.renderOutput(dataTable, element);\n",
       "          const docLink = document.createElement('div');\n",
       "          docLink.innerHTML = docLinkHtml;\n",
       "          element.appendChild(docLink);\n",
       "        }\n",
       "      </script>\n",
       "    </div>\n",
       "  </div>\n",
       "  "
      ],
      "text/plain": [
       "           age   anaemia  creatinine_phosphokinase  diabetes  \\\n",
       "age                                                            \n",
       "40.000  40.000  0.285714                321.142857  0.285714   \n",
       "41.000  41.000  0.000000                148.000000  0.000000   \n",
       "42.000  42.000  0.285714                908.142857  0.285714   \n",
       "43.000  43.000  1.000000                358.000000  0.000000   \n",
       "44.000  44.000  0.000000                333.000000  1.000000   \n",
       "45.000  45.000  0.210526               1239.000000  0.578947   \n",
       "46.000  46.000  0.333333                392.666667  0.333333   \n",
       "47.000  47.000  0.000000                582.000000  0.000000   \n",
       "48.000  48.000  1.000000                356.500000  1.000000   \n",
       "49.000  49.000  0.500000                477.500000  0.250000   \n",
       "50.000  50.000  0.444444                568.703704  0.444444   \n",
       "51.000  51.000  0.250000                655.500000  0.500000   \n",
       "52.000  52.000  0.400000                907.400000  0.400000   \n",
       "53.000  53.000  0.600000                442.600000  0.300000   \n",
       "54.000  54.000  0.500000                504.500000  0.500000   \n",
       "55.000  55.000  0.176471               1145.882353  0.235294   \n",
       "56.000  56.000  1.000000                135.000000  1.000000   \n",
       "57.000  57.000  1.000000                122.000000  0.000000   \n",
       "58.000  58.000  0.600000                243.500000  0.500000   \n",
       "59.000  59.000  0.750000                162.750000  0.750000   \n",
       "60.000  60.000  0.515152                715.666667  0.575758   \n",
       "60.667  60.667  1.000000                127.500000  1.000000   \n",
       "61.000  61.000  0.500000                248.500000  0.500000   \n",
       "62.000  62.000  0.200000                251.600000  0.600000   \n",
       "63.000  63.000  0.750000                534.750000  0.500000   \n",
       "64.000  64.000  0.333333                605.000000  0.000000   \n",
       "65.000  65.000  0.423077                310.423077  0.576923   \n",
       "66.000  66.000  1.000000                 70.000000  0.500000   \n",
       "67.000  67.000  0.000000                397.500000  0.000000   \n",
       "68.000  68.000  1.000000                524.200000  0.400000   \n",
       "69.000  69.000  0.000000                861.000000  0.333333   \n",
       "70.000  70.000  0.240000                384.880000  0.360000   \n",
       "72.000  72.000  0.428571                330.857143  0.285714   \n",
       "73.000  73.000  0.500000                645.000000  0.250000   \n",
       "75.000  75.000  0.363636                393.909091  0.272727   \n",
       "77.000  77.000  1.000000                263.500000  0.000000   \n",
       "78.000  78.000  0.500000                144.000000  0.000000   \n",
       "79.000  79.000  1.000000                 55.000000  0.000000   \n",
       "80.000  80.000  0.285714                555.000000  0.428571   \n",
       "81.000  81.000  0.000000               4540.000000  0.000000   \n",
       "82.000  82.000  0.666667                434.666667  0.666667   \n",
       "85.000  85.000  0.333333               1209.666667  0.000000   \n",
       "86.000  86.000  0.000000                582.000000  0.000000   \n",
       "87.000  87.000  1.000000                149.000000  0.000000   \n",
       "90.000  90.000  1.000000                148.000000  0.333333   \n",
       "94.000  94.000  0.000000                582.000000  1.000000   \n",
       "95.000  95.000  1.000000                241.500000  0.000000   \n",
       "\n",
       "        ejection_fraction  high_blood_pressure      platelets  \\\n",
       "age                                                             \n",
       "40.000          36.428571             0.142857  262428.571429   \n",
       "41.000          40.000000             0.000000  374000.000000   \n",
       "42.000          35.714286             0.000000  244051.147143   \n",
       "43.000          50.000000             0.000000  237000.000000   \n",
       "44.000          35.000000             1.000000  249179.015000   \n",
       "45.000          39.263158             0.263158  331300.845263   \n",
       "46.000          30.666667             0.666667  294119.343333   \n",
       "47.000          25.000000             0.000000  130000.000000   \n",
       "48.000          42.500000             0.500000  165500.000000   \n",
       "49.000          33.750000             0.750000  286500.000000   \n",
       "50.000          35.111111             0.370370  257939.186296   \n",
       "51.000          37.500000             0.250000  290339.507500   \n",
       "52.000          34.600000             0.200000  307200.000000   \n",
       "53.000          46.800000             0.300000  291135.803000   \n",
       "54.000          54.000000             0.500000  207500.000000   \n",
       "55.000          36.705882             0.235294  272239.652353   \n",
       "56.000          38.000000             0.000000  133000.000000   \n",
       "57.000          27.500000             0.500000  288000.000000   \n",
       "58.000          38.400000             0.300000  245000.000000   \n",
       "59.000          28.750000             0.500000  238750.000000   \n",
       "60.000          38.303030             0.272727  249536.850303   \n",
       "60.667          35.000000             0.500000  295000.000000   \n",
       "61.000          36.500000             0.500000  231250.000000   \n",
       "62.000          39.600000             0.600000  231200.000000   \n",
       "63.000          42.875000             0.250000  255125.000000   \n",
       "64.000          48.333333             0.000000  265666.666667   \n",
       "65.000          37.346154             0.307692  257387.465000   \n",
       "66.000          39.000000             1.000000  202000.000000   \n",
       "67.000          44.000000             0.000000  239179.015000   \n",
       "68.000          36.000000             0.400000  247800.000000   \n",
       "69.000          31.666667             0.000000  199666.666667   \n",
       "70.000          40.800000             0.520000  258858.321200   \n",
       "72.000          31.428571             0.714286  316285.714286   \n",
       "73.000          31.250000             0.500000  211589.507500   \n",
       "75.000          36.727273             0.636364  254097.644545   \n",
       "77.000          47.500000             0.500000  314500.000000   \n",
       "78.000          45.000000             0.000000  379000.000000   \n",
       "79.000          50.000000             1.000000  172000.000000   \n",
       "80.000          32.714286             0.428571  233051.147143   \n",
       "81.000          35.000000             0.000000  231000.000000   \n",
       "82.000          43.333333             0.333333  189333.333333   \n",
       "85.000          48.000000             0.000000  306166.666667   \n",
       "86.000          38.000000             0.000000  263358.030000   \n",
       "87.000          38.000000             0.000000  262000.000000   \n",
       "90.000          42.666667             0.333333  273333.333333   \n",
       "94.000          38.000000             1.000000  263358.030000   \n",
       "95.000          35.000000             0.500000  328500.000000   \n",
       "\n",
       "        serum_creatinine  serum_sodium       sex   smoking        time  \\\n",
       "age                                                                      \n",
       "40.000          0.942857    137.714286  0.714286  0.285714  198.285714   \n",
       "41.000          0.800000    140.000000  1.000000  1.000000   68.000000   \n",
       "42.000          1.468571    137.142857  0.714286  0.428571  143.428571   \n",
       "43.000          1.300000    135.000000  0.000000  0.000000   97.000000   \n",
       "44.000          1.150000    134.500000  1.000000  0.500000  161.500000   \n",
       "45.000          1.024211    137.578947  0.631579  0.157895  156.315789   \n",
       "46.000          1.393333    133.666667  0.000000  0.000000  105.333333   \n",
       "47.000          0.800000    134.000000  1.000000  0.000000  201.000000   \n",
       "48.000          1.750000    125.500000  0.000000  0.000000  104.000000   \n",
       "49.000          0.975000    136.000000  0.250000  0.250000  100.250000   \n",
       "50.000          1.073333    136.148148  0.592593  0.333333  133.777778   \n",
       "51.000          1.000000    135.000000  0.750000  0.250000  126.500000   \n",
       "52.000          1.000000    138.800000  0.800000  0.800000  170.400000   \n",
       "53.000          1.240000    136.800000  0.800000  0.500000  148.800000   \n",
       "54.000          5.400000    135.500000  0.500000  0.000000  204.500000   \n",
       "55.000          1.100588    137.882353  0.705882  0.294118  166.352941   \n",
       "56.000          1.700000    140.000000  1.000000  0.000000  244.000000   \n",
       "57.000          1.050000    142.000000  0.500000  0.000000   60.500000   \n",
       "58.000          1.470000    137.800000  0.700000  0.300000  126.800000   \n",
       "59.000          1.375000    137.500000  0.750000  0.500000  121.000000   \n",
       "60.000          1.898485    136.060606  0.606061  0.333333  108.454545   \n",
       "60.667          1.250000    136.000000  0.500000  0.000000  171.500000   \n",
       "61.000          1.050000    138.750000  0.750000  0.250000  166.000000   \n",
       "62.000          0.920000    138.200000  0.600000  0.400000  147.600000   \n",
       "63.000          1.062500    138.375000  0.875000  0.500000  136.250000   \n",
       "64.000          1.633333    135.666667  0.666667  0.000000  167.000000   \n",
       "65.000          1.362692    136.153846  0.500000  0.269231  127.923077   \n",
       "66.000          1.100000    135.000000  0.500000  0.000000  108.000000   \n",
       "67.000          1.190000    135.000000  0.500000  0.500000  160.500000   \n",
       "68.000          1.220000    136.400000  0.800000  0.200000  121.000000   \n",
       "69.000          1.900000    134.333333  1.000000  0.666667   83.333333   \n",
       "70.000          1.253200    137.320000  0.520000  0.400000  134.680000   \n",
       "72.000          1.485714    136.571429  0.571429  0.571429   96.857143   \n",
       "73.000          1.302500    137.750000  0.750000  0.250000  196.500000   \n",
       "75.000          1.701818    134.363636  0.818182  0.181818   91.272727   \n",
       "77.000          1.450000    141.000000  1.000000  0.000000  194.500000   \n",
       "78.000          1.050000    137.500000  1.000000  1.000000  189.500000   \n",
       "79.000          1.800000    133.000000  1.000000  0.000000   78.000000   \n",
       "80.000          3.042857    136.714286  0.857143  0.428571   82.000000   \n",
       "81.000          1.180000    137.000000  1.000000  1.000000  107.000000   \n",
       "82.000          1.166667    137.666667  0.666667  0.333333   23.000000   \n",
       "85.000          1.766667    134.000000  0.833333  0.333333   98.666667   \n",
       "86.000          1.830000    134.000000  0.000000  0.000000   95.000000   \n",
       "87.000          0.900000    140.000000  1.000000  0.000000   14.000000   \n",
       "90.000          1.333333    136.666667  0.666667  0.333333   98.000000   \n",
       "94.000          1.830000    134.000000  1.000000  0.000000   27.000000   \n",
       "95.000          1.500000    135.000000  0.500000  0.000000   37.000000   \n",
       "\n",
       "        DEATH_EVENT  \n",
       "age                  \n",
       "40.000     0.000000  \n",
       "41.000     0.000000  \n",
       "42.000     0.142857  \n",
       "43.000     0.000000  \n",
       "44.000     0.000000  \n",
       "45.000     0.315789  \n",
       "46.000     0.333333  \n",
       "47.000     0.000000  \n",
       "48.000     1.000000  \n",
       "49.000     0.250000  \n",
       "50.000     0.296296  \n",
       "51.000     0.250000  \n",
       "52.000     0.000000  \n",
       "53.000     0.100000  \n",
       "54.000     0.500000  \n",
       "55.000     0.176471  \n",
       "56.000     0.000000  \n",
       "57.000     0.500000  \n",
       "58.000     0.200000  \n",
       "59.000     0.750000  \n",
       "60.000     0.393939  \n",
       "60.667     0.500000  \n",
       "61.000     0.000000  \n",
       "62.000     0.200000  \n",
       "63.000     0.000000  \n",
       "64.000     0.000000  \n",
       "65.000     0.307692  \n",
       "66.000     0.000000  \n",
       "67.000     0.000000  \n",
       "68.000     0.400000  \n",
       "69.000     0.666667  \n",
       "70.000     0.280000  \n",
       "72.000     0.714286  \n",
       "73.000     0.250000  \n",
       "75.000     0.545455  \n",
       "77.000     0.500000  \n",
       "78.000     0.000000  \n",
       "79.000     0.000000  \n",
       "80.000     0.714286  \n",
       "81.000     0.000000  \n",
       "82.000     1.000000  \n",
       "85.000     0.500000  \n",
       "86.000     1.000000  \n",
       "87.000     1.000000  \n",
       "90.000     0.666667  \n",
       "94.000     1.000000  \n",
       "95.000     1.000000  "
      ]
     },
     "execution_count": 69,
     "metadata": {},
     "output_type": "execute_result"
    }
   ],
   "source": [
    "## This line of code appears to be using the groupby function in the pandas library to group a dataframe (df) by the column 'age' and then calculating the mean of certain features for each group.\n",
    "\n",
    "### The groupby function in pandas allows you to group a dataframe by one or\n",
    "### more columns and then apply a function to each group. In this case, the dataframe (df) \n",
    "### is grouped by the column 'age', \n",
    "### and the mean of certain features is calculated for each group.\n",
    "\n",
    "### The [features] part of the code specifies which columns or features to include in the calculation.\n",
    "### For example, if features is a list containing the column names ['col1', 'col2'], the mean of 'col1' and 'col2' will\n",
    "### be calculated for each group.\n",
    "\n",
    "### The result of this operation is a new dataframe that contains the mean of the specified features for\n",
    "### each group, with one row for each unique value in the 'age' column.\n",
    "\n",
    "\n",
    "df.groupby('age')[features].mean()"
   ]
  },
  {
   "cell_type": "code",
   "execution_count": null,
   "id": "70d56fad",
   "metadata": {},
   "outputs": [],
   "source": []
  },
  {
   "cell_type": "code",
   "execution_count": 105,
   "id": "4c1e6322",
   "metadata": {
    "colab": {
     "base_uri": "https://localhost:8080/",
     "height": 542
    },
    "execution": {
     "iopub.execute_input": "2022-12-04T11:40:40.281762Z",
     "iopub.status.busy": "2022-12-04T11:40:40.281306Z",
     "iopub.status.idle": "2022-12-04T11:40:40.315360Z",
     "shell.execute_reply": "2022-12-04T11:40:40.313940Z"
    },
    "executionInfo": {
     "elapsed": 122,
     "status": "ok",
     "timestamp": 1670897357607,
     "user": {
      "displayName": "Franklin Nkokam Ngongang",
      "userId": "07081789311912667597"
     },
     "user_tz": 300
    },
    "id": "4c1e6322",
    "outputId": "8028a52e-5f0d-4328-a434-8bda7bfb3cef",
    "papermill": {
     "duration": 0.053074,
     "end_time": "2022-12-04T11:40:40.318386",
     "exception": false,
     "start_time": "2022-12-04T11:40:40.265312",
     "status": "completed"
    },
    "tags": []
   },
   "outputs": [
    {
     "data": {
      "image/png": "[encoded data removed]",
      "text/plain": [
       "<Figure size 432x288 with 1 Axes>"
      ]
     },
     "metadata": {
      "needs_background": "light"
     },
     "output_type": "display_data"
    }
   ],
   "source": [
    "## The pie chart is intended to visualize the relationship between the presence or \n",
    "### absence of anemia (as indicated by the 'sex' column) and death events (as indicated by the 'DEATH_EVENT' column).\n",
    "\n",
    "### The 'sex' column appears to be used as a proxy for the presence or absence of anemia, with a value \n",
    "### of 1 indicating the presence of anemia and a value of 0 indicating the absence of anemia. The 'DEATH_EVENT' column \n",
    "### is a binary column that indicates whether a death event occurred (value of 1) or did not occur (value of 0).\n",
    "\n",
    "### The pie chart shows the number of rows in each of four categories:\n",
    "\n",
    "### 1. true_anaemia_nodeath: rows in which the value of 'sex' is 1 (indicating the presence of anemia) \n",
    "### and the value of 'DEATH_EVENT' is 0 (indicating no death event occurred)\n",
    "\n",
    "\n",
    "### 2. true_anaemia_death: rows in which the value of 'sex' is 1 \n",
    "###     (indicating the presence of anemia) and the value of 'DEATH_EVENT' is 1 (indicating a death event occurred)\n",
    "### 3. false_anaemia_nodeath: rows in which the value of 'sex' is 0 \n",
    "###     (indicating the absence of anemia) and the value of 'DEATH_EVENT' is 0 (indicating no death event occurred)\n",
    "### 4. false_anaemia_death: rows in which the value of 'sex' is 0\n",
    "###     (indicating the absence of anemia) and the value of 'DEATH_EVENT' is 1\n",
    "###     (indicating a death event occurred)\n",
    "### 5. The pie chart shows the proportion of rows in each of these categories as \n",
    "### a percentage of the total number of rows. It is intended to provide a visual representation of the relationship between anemia and death events.\n",
    "\n",
    "\n",
    "\n",
    "\n",
    "\n",
    "\n",
    "\n",
    "\n",
    "\n",
    "\n",
    "\n",
    "# true_anaemia = df[df[\"sex\"]==1]\n",
    "# false_anaemia = df[df[\"sex\"]==0]\n",
    "\n",
    "# true_anaemia_nodeath = true_anaemia[df[\"DEATH_EVENT\"]==0]\n",
    "# true_anaemia_death = true_anaemia[df[\"DEATH_EVENT\"]==1]\n",
    "# false_anaemia_nodeath = false_anaemia[df[\"DEATH_EVENT\"]==0]\n",
    "# false_anaemia_death = false_anaemia[df[\"DEATH_EVENT\"]==1]\n",
    "\n",
    "# labels = ['true_anaemia_nodeath','true_anaemia_death', 'false_anaemia_nodeath', 'false_anaemia_death']\n",
    "# values = [len(true_anaemia[df[\"DEATH_EVENT\"]==0]),len(true_anaemia[df[\"DEATH_EVENT\"]==1]),\n",
    "#          len(false_anaemia[df[\"DEATH_EVENT\"]==0]),len(false_anaemia[df[\"DEATH_EVENT\"]==1])]\n",
    "# fig = go.Figure(data=[go.Pie(labels=labels, values=values, hole=.4)])\n",
    "# fig.update_layout(\n",
    "#     title_text=\"Anaemia analysis\")\n",
    "# fig.show()\n",
    "\n",
    "\n",
    "import seaborn as sns\n",
    "\n",
    "# Create a new dataframe with the counts of rows in each of the four categories\n",
    "df_counts = pd.DataFrame({'Category': ['true_anaemia_nodeath','true_anaemia_death', 'false_anaemia_nodeath', 'false_anaemia_death'], 'Count': values})\n",
    "\n",
    "# Create a bar plot using the 'Category' column as the x axis and the 'Count' column as the y axis\n",
    "sns.barplot(x='Category', y='Count', data=df_counts)\n",
    "\n",
    "# Set the x-axis tick labels to be vertical\n",
    "plt.xticks(rotation=90)\n",
    "\n",
    "# Add space between the bars\n",
    "plt.tight_layout()\n",
    "\n",
    "# Show the plot\n",
    "plt.show()\n",
    "\n"
   ]
  },
  {
   "cell_type": "code",
   "execution_count": null,
   "id": "107d187b",
   "metadata": {},
   "outputs": [],
   "source": []
  },
  {
   "cell_type": "code",
   "execution_count": null,
   "id": "f199d4f8",
   "metadata": {},
   "outputs": [],
   "source": []
  },
  {
   "cell_type": "code",
   "execution_count": 108,
   "id": "5ee2d58a",
   "metadata": {
    "colab": {
     "base_uri": "https://localhost:8080/",
     "height": 542
    },
    "execution": {
     "iopub.execute_input": "2022-12-04T11:40:40.351312Z",
     "iopub.status.busy": "2022-12-04T11:40:40.350811Z",
     "iopub.status.idle": "2022-12-04T11:40:40.377862Z",
     "shell.execute_reply": "2022-12-04T11:40:40.376405Z"
    },
    "executionInfo": {
     "elapsed": 131,
     "status": "ok",
     "timestamp": 1670897360674,
     "user": {
      "displayName": "Franklin Nkokam Ngongang",
      "userId": "07081789311912667597"
     },
     "user_tz": 300
    },
    "id": "5ee2d58a",
    "outputId": "c72121c7-b36a-4808-d918-f4c444cae446",
    "papermill": {
     "duration": 0.046771,
     "end_time": "2022-12-04T11:40:40.380646",
     "exception": false,
     "start_time": "2022-12-04T11:40:40.333875",
     "status": "completed"
    },
    "tags": []
   },
   "outputs": [
    {
     "data": {
      "image/png": "[encoded data removed]",
      "text/plain": [
       "<Figure size 432x288 with 1 Axes>"
      ]
     },
     "metadata": {
      "needs_background": "light"
     },
     "output_type": "display_data"
    }
   ],
   "source": [
    "## In this case, the 'sex' column is being used as a proxy for smoking status, \n",
    "### and the 'DEATH_EVENT' column is a binary column indicating whether a death event \n",
    "### occurred (value of 1) or did not occur (value of 0).\n",
    "\n",
    "### The bar plot shows the distribution of rows in each of these categories,\n",
    "### but it does not directly show the correlation between smoking status and death events.\n",
    "### To measure the correlation between these variables, you would need to use a different \n",
    "### statistical analysis method, \n",
    "### such as a scatter plot, Pearson's correlation coefficient, or a linear regression model.\n",
    "\n",
    "#### First, smoking damages the blood vessels and can lead to the development of atherosclerosis, which is a condition in which the arteries become narrowed\n",
    "### and clogged with plaque. This can make it more difficult for blood to flow to the heart and can eventually lead to heart failure.\n",
    "\n",
    "### Second, smoking damages the lining of the blood vessels and can cause inflammation, which can contribute to the development of heart failure.\n",
    "\n",
    "### Finally, smoking can increase the risk of developing other conditions that can lead to heart failure, such as high blood pressure, diabetes, and obesity.\n",
    "\n",
    "### The graph provided shows the relationship between smoking and the risk of developing heart failure over time. As you can see,\n",
    "### the risk of developing heart failure increases with age, and the risk is much higher for smokers than it is for non-smokers.\n",
    "### This illustrates the strong connection between smoking and heart failure, and underscores the importance of quitting smoking to\n",
    "### reduce the risk of developing this serious condition\n",
    "\n",
    "\n",
    "\n",
    "import seaborn as sns\n",
    "\n",
    "# Create a new dataframe with the counts and percentages of rows in each of the four categories\n",
    "df_counts = pd.DataFrame({'Category': ['true_smoking_nodeath','true_smoking_death', 'false_smoking_nodeath', 'false_smoking_death'], 'Count': values})\n",
    "df_counts['Percentage'] = df_counts['Count'] / df_counts['Count'].sum()\n",
    "\n",
    "# Create a bar plot using the 'Category' column as the x axis and the 'Percentage' column as the y axis\n",
    "sns.barplot(x='Category', y='Percentage', data=df_counts)\n",
    "\n",
    "# Set the x-axis tick labels to be vertical\n",
    "plt.xticks(rotation=90)\n",
    "\n",
    "# Add space between the bars\n",
    "plt.tight_layout()\n",
    "\n",
    "# Show the plot\n",
    "plt.show()\n"
   ]
  },
  {
   "cell_type": "code",
   "execution_count": 110,
   "id": "d9de1655",
   "metadata": {
    "colab": {
     "base_uri": "https://localhost:8080/"
    },
    "execution": {
     "iopub.execute_input": "2022-12-04T11:40:40.412564Z",
     "iopub.status.busy": "2022-12-04T11:40:40.412066Z",
     "iopub.status.idle": "2022-12-04T11:40:40.421910Z",
     "shell.execute_reply": "2022-12-04T11:40:40.420466Z"
    },
    "executionInfo": {
     "elapsed": 218,
     "status": "ok",
     "timestamp": 1670897362262,
     "user": {
      "displayName": "Franklin Nkokam Ngongang",
      "userId": "07081789311912667597"
     },
     "user_tz": 300
    },
    "id": "d9de1655",
    "outputId": "2759be1b-d54a-48de-94b0-1f4b93cc73c6",
    "papermill": {
     "duration": 0.02867,
     "end_time": "2022-12-04T11:40:40.424425",
     "exception": false,
     "start_time": "2022-12-04T11:40:40.395755",
     "status": "completed"
    },
    "tags": []
   },
   "outputs": [
    {
     "data": {
      "text/plain": [
       "(130.2608695652174, 77.61420795029342)"
      ]
     },
     "execution_count": 110,
     "metadata": {},
     "output_type": "execute_result"
    }
   ],
   "source": [
    "df.time.mean(),df.time.std()"
   ]
  },
  {
   "cell_type": "code",
   "execution_count": 111,
   "id": "2ef0fefd",
   "metadata": {
    "execution": {
     "iopub.execute_input": "2022-12-04T11:40:40.456615Z",
     "iopub.status.busy": "2022-12-04T11:40:40.456166Z",
     "iopub.status.idle": "2022-12-04T11:40:40.463066Z",
     "shell.execute_reply": "2022-12-04T11:40:40.461769Z"
    },
    "executionInfo": {
     "elapsed": 3,
     "status": "ok",
     "timestamp": 1670897362696,
     "user": {
      "displayName": "Franklin Nkokam Ngongang",
      "userId": "07081789311912667597"
     },
     "user_tz": 300
    },
    "id": "2ef0fefd",
    "papermill": {
     "duration": 0.025929,
     "end_time": "2022-12-04T11:40:40.465538",
     "exception": false,
     "start_time": "2022-12-04T11:40:40.439609",
     "status": "completed"
    },
    "tags": []
   },
   "outputs": [],
   "source": [
    "upperlimit =df.time.mean()+df.time.std()\n",
    "lowerlimit =df.time.mean()-df.time.std()"
   ]
  },
  {
   "cell_type": "code",
   "execution_count": 112,
   "id": "a88d7c56",
   "metadata": {
    "colab": {
     "base_uri": "https://localhost:8080/"
    },
    "execution": {
     "iopub.execute_input": "2022-12-04T11:40:40.499728Z",
     "iopub.status.busy": "2022-12-04T11:40:40.499309Z",
     "iopub.status.idle": "2022-12-04T11:40:40.507312Z",
     "shell.execute_reply": "2022-12-04T11:40:40.505943Z"
    },
    "executionInfo": {
     "elapsed": 129,
     "status": "ok",
     "timestamp": 1670897363441,
     "user": {
      "displayName": "Franklin Nkokam Ngongang",
      "userId": "07081789311912667597"
     },
     "user_tz": 300
    },
    "id": "a88d7c56",
    "outputId": "e95ca299-1964-4bbd-c449-33b40a141156",
    "papermill": {
     "duration": 0.028139,
     "end_time": "2022-12-04T11:40:40.509784",
     "exception": false,
     "start_time": "2022-12-04T11:40:40.481645",
     "status": "completed"
    },
    "tags": []
   },
   "outputs": [
    {
     "data": {
      "text/plain": [
       "Index(['age', 'anaemia', 'creatinine_phosphokinase', 'diabetes',\n",
       "       'ejection_fraction', 'high_blood_pressure', 'platelets',\n",
       "       'serum_creatinine', 'serum_sodium', 'sex', 'smoking', 'time',\n",
       "       'DEATH_EVENT', 'Anaemia'],\n",
       "      dtype='object')"
      ]
     },
     "execution_count": 112,
     "metadata": {},
     "output_type": "execute_result"
    }
   ],
   "source": [
    "df.columns"
   ]
  },
  {
   "cell_type": "code",
   "execution_count": 113,
   "id": "e10e53a5",
   "metadata": {
    "execution": {
     "iopub.execute_input": "2022-12-04T11:40:40.542892Z",
     "iopub.status.busy": "2022-12-04T11:40:40.542383Z",
     "iopub.status.idle": "2022-12-04T11:40:40.721488Z",
     "shell.execute_reply": "2022-12-04T11:40:40.719991Z"
    },
    "executionInfo": {
     "elapsed": 156,
     "status": "ok",
     "timestamp": 1670897364673,
     "user": {
      "displayName": "Franklin Nkokam Ngongang",
      "userId": "07081789311912667597"
     },
     "user_tz": 300
    },
    "id": "e10e53a5",
    "papermill": {
     "duration": 0.200028,
     "end_time": "2022-12-04T11:40:40.725416",
     "exception": false,
     "start_time": "2022-12-04T11:40:40.525388",
     "status": "completed"
    },
    "tags": []
   },
   "outputs": [],
   "source": [
    "cols_to_scale = ['age',  'creatinine_phosphokinase', \n",
    "       'ejection_fraction', 'platelets',\n",
    "       'serum_creatinine', 'serum_sodium', 'time']\n",
    "from sklearn.preprocessing import MinMaxScaler\n",
    "scaler = MinMaxScaler()\n",
    "df[cols_to_scale] = scaler.fit_transform(df[cols_to_scale])"
   ]
  },
  {
   "cell_type": "code",
   "execution_count": 114,
   "id": "57c758a0",
   "metadata": {
    "execution": {
     "iopub.execute_input": "2022-12-04T11:40:40.765924Z",
     "iopub.status.busy": "2022-12-04T11:40:40.765426Z",
     "iopub.status.idle": "2022-12-04T11:40:40.773604Z",
     "shell.execute_reply": "2022-12-04T11:40:40.772448Z"
    },
    "executionInfo": {
     "elapsed": 133,
     "status": "ok",
     "timestamp": 1670897365833,
     "user": {
      "displayName": "Franklin Nkokam Ngongang",
      "userId": "07081789311912667597"
     },
     "user_tz": 300
    },
    "id": "57c758a0",
    "papermill": {
     "duration": 0.030239,
     "end_time": "2022-12-04T11:40:40.776815",
     "exception": false,
     "start_time": "2022-12-04T11:40:40.746576",
     "status": "completed"
    },
    "tags": []
   },
   "outputs": [],
   "source": [
    "X=df.drop(['DEATH_EVENT'],axis='columns')\n",
    "y=df['DEATH_EVENT']"
   ]
  },
  {
   "cell_type": "code",
   "execution_count": 115,
   "id": "b175f344",
   "metadata": {
    "colab": {
     "base_uri": "https://localhost:8080/"
    },
    "execution": {
     "iopub.execute_input": "2022-12-04T11:40:40.813611Z",
     "iopub.status.busy": "2022-12-04T11:40:40.811761Z",
     "iopub.status.idle": "2022-12-04T11:40:40.819616Z",
     "shell.execute_reply": "2022-12-04T11:40:40.818647Z"
    },
    "executionInfo": {
     "elapsed": 108,
     "status": "ok",
     "timestamp": 1670897366900,
     "user": {
      "displayName": "Franklin Nkokam Ngongang",
      "userId": "07081789311912667597"
     },
     "user_tz": 300
    },
    "id": "b175f344",
    "outputId": "7bcebd0b-c8e3-4c0d-8fa8-546db26a0555",
    "papermill": {
     "duration": 0.030518,
     "end_time": "2022-12-04T11:40:40.824909",
     "exception": false,
     "start_time": "2022-12-04T11:40:40.794391",
     "status": "completed"
    },
    "tags": []
   },
   "outputs": [
    {
     "data": {
      "text/plain": [
       "(299, 13)"
      ]
     },
     "execution_count": 115,
     "metadata": {},
     "output_type": "execute_result"
    }
   ],
   "source": [
    "X.shape"
   ]
  },
  {
   "cell_type": "code",
   "execution_count": 116,
   "id": "cb27fd18",
   "metadata": {
    "colab": {
     "base_uri": "https://localhost:8080/"
    },
    "execution": {
     "iopub.execute_input": "2022-12-04T11:40:40.863091Z",
     "iopub.status.busy": "2022-12-04T11:40:40.862091Z",
     "iopub.status.idle": "2022-12-04T11:40:40.869726Z",
     "shell.execute_reply": "2022-12-04T11:40:40.868618Z"
    },
    "executionInfo": {
     "elapsed": 125,
     "status": "ok",
     "timestamp": 1670897367903,
     "user": {
      "displayName": "Franklin Nkokam Ngongang",
      "userId": "07081789311912667597"
     },
     "user_tz": 300
    },
    "id": "cb27fd18",
    "outputId": "20c61cf8-5eee-4ec1-8abe-c3fc30e7d42f",
    "papermill": {
     "duration": 0.027797,
     "end_time": "2022-12-04T11:40:40.872286",
     "exception": false,
     "start_time": "2022-12-04T11:40:40.844489",
     "status": "completed"
    },
    "tags": []
   },
   "outputs": [
    {
     "data": {
      "text/plain": [
       "(299,)"
      ]
     },
     "execution_count": 116,
     "metadata": {},
     "output_type": "execute_result"
    }
   ],
   "source": [
    "y.shape"
   ]
  },
  {
   "cell_type": "code",
   "execution_count": 119,
   "id": "ac588f1e",
   "metadata": {},
   "outputs": [
    {
     "name": "stdout",
     "output_type": "stream",
     "text": [
      "Collecting imblearn\n",
      "  Downloading imblearn-0.0-py2.py3-none-any.whl (1.9 kB)\n",
      "Collecting imbalanced-learn\n",
      "  Downloading imbalanced_learn-0.10.0-py3-none-any.whl (225 kB)\n",
      "\u001b[K     |████████████████████████████████| 225 kB 5.7 MB/s eta 0:00:01\n",
      "\u001b[?25hRequirement already satisfied: numpy>=1.17.3 in /Users/godinho_21/opt/anaconda3/lib/python3.9/site-packages (from imbalanced-learn->imblearn) (1.21.5)\n",
      "Requirement already satisfied: scikit-learn>=1.0.2 in /Users/godinho_21/opt/anaconda3/lib/python3.9/site-packages (from imbalanced-learn->imblearn) (1.0.2)\n",
      "Requirement already satisfied: scipy>=1.3.2 in /Users/godinho_21/opt/anaconda3/lib/python3.9/site-packages (from imbalanced-learn->imblearn) (1.7.3)\n",
      "Requirement already satisfied: threadpoolctl>=2.0.0 in /Users/godinho_21/opt/anaconda3/lib/python3.9/site-packages (from imbalanced-learn->imblearn) (2.2.0)\n",
      "Collecting joblib>=1.1.1\n",
      "  Downloading joblib-1.2.0-py3-none-any.whl (297 kB)\n",
      "\u001b[K     |████████████████████████████████| 297 kB 5.0 MB/s eta 0:00:01\n",
      "\u001b[?25hInstalling collected packages: joblib, imbalanced-learn, imblearn\n",
      "  Attempting uninstall: joblib\n",
      "    Found existing installation: joblib 1.1.0\n",
      "    Uninstalling joblib-1.1.0:\n",
      "      Successfully uninstalled joblib-1.1.0\n",
      "Successfully installed imbalanced-learn-0.10.0 imblearn-0.0 joblib-1.2.0\n",
      "Note: you may need to restart the kernel to use updated packages.\n"
     ]
    }
   ],
   "source": [
    "pip install imblearn"
   ]
  },
  {
   "cell_type": "code",
   "execution_count": 121,
   "id": "f0e4ecb0",
   "metadata": {
    "scrolled": true
   },
   "outputs": [
    {
     "name": "stdout",
     "output_type": "stream",
     "text": [
      "Collecting package metadata (current_repodata.json): done\n",
      "Solving environment: failed with initial frozen solve. Retrying with flexible solve.\n",
      "Collecting package metadata (repodata.json): done\n",
      "Solving environment: failed with initial frozen solve. Retrying with flexible solve.\n",
      "\n",
      "PackagesNotFoundError: The following packages are not available from current channels:\n",
      "\n",
      "  - imblearn\n",
      "\n",
      "Current channels:\n",
      "\n",
      "  - https://conda.anaconda.org/conda-forge/osx-64\n",
      "  - https://conda.anaconda.org/conda-forge/noarch\n",
      "  - https://repo.anaconda.com/pkgs/main/osx-64\n",
      "  - https://repo.anaconda.com/pkgs/main/noarch\n",
      "  - https://repo.anaconda.com/pkgs/r/osx-64\n",
      "  - https://repo.anaconda.com/pkgs/r/noarch\n",
      "\n",
      "To search for alternate channels that may provide the conda package you're\n",
      "looking for, navigate to\n",
      "\n",
      "    https://anaconda.org\n",
      "\n",
      "and use the search bar at the top of the page.\n",
      "\n",
      "\n",
      "\n",
      "Note: you may need to restart the kernel to use updated packages.\n"
     ]
    }
   ],
   "source": [
    "conda install -c conda-forge imblearn"
   ]
  },
  {
   "cell_type": "code",
   "execution_count": 124,
   "id": "5b2bf86f",
   "metadata": {
    "colab": {
     "base_uri": "https://localhost:8080/"
    },
    "execution": {
     "iopub.execute_input": "2022-12-04T11:40:40.909558Z",
     "iopub.status.busy": "2022-12-04T11:40:40.908538Z",
     "iopub.status.idle": "2022-12-04T11:40:41.397486Z",
     "shell.execute_reply": "2022-12-04T11:40:41.396459Z"
    },
    "executionInfo": {
     "elapsed": 5,
     "status": "ok",
     "timestamp": 1670897369515,
     "user": {
      "displayName": "Franklin Nkokam Ngongang",
      "userId": "07081789311912667597"
     },
     "user_tz": 300
    },
    "id": "5b2bf86f",
    "outputId": "3a0769fd-aba0-4c04-ad93-953edd06c367",
    "papermill": {
     "duration": 0.510809,
     "end_time": "2022-12-04T11:40:41.400362",
     "exception": false,
     "start_time": "2022-12-04T11:40:40.889553",
     "status": "completed"
    },
    "tags": []
   },
   "outputs": [
    {
     "ename": "ValueError",
     "evalue": "could not convert string to float: 'Yes'",
     "output_type": "error",
     "traceback": [
      "\u001b[0;31m---------------------------------------------------------------------------\u001b[0m",
      "\u001b[0;31mValueError\u001b[0m                                Traceback (most recent call last)",
      "Input \u001b[0;32mIn [124]\u001b[0m, in \u001b[0;36m<cell line: 3>\u001b[0;34m()\u001b[0m\n\u001b[1;32m      1\u001b[0m \u001b[38;5;28;01mfrom\u001b[39;00m \u001b[38;5;21;01mimblearn\u001b[39;00m\u001b[38;5;21;01m.\u001b[39;00m\u001b[38;5;21;01mover_sampling\u001b[39;00m \u001b[38;5;28;01mimport\u001b[39;00m SMOTE\n\u001b[1;32m      2\u001b[0m smote \u001b[38;5;241m=\u001b[39m SMOTE(sampling_strategy\u001b[38;5;241m=\u001b[39m\u001b[38;5;124m'\u001b[39m\u001b[38;5;124mauto\u001b[39m\u001b[38;5;124m'\u001b[39m)\n\u001b[0;32m----> 3\u001b[0m X_sm, y_sm \u001b[38;5;241m=\u001b[39m \u001b[43msmote\u001b[49m\u001b[38;5;241;43m.\u001b[39;49m\u001b[43mfit_resample\u001b[49m\u001b[43m(\u001b[49m\u001b[43mX\u001b[49m\u001b[43m,\u001b[49m\u001b[43m \u001b[49m\u001b[43my\u001b[49m\u001b[43m)\u001b[49m\n\u001b[1;32m      5\u001b[0m y_sm\u001b[38;5;241m.\u001b[39mvalue_counts()\n",
      "File \u001b[0;32m~/opt/anaconda3/lib/python3.9/site-packages/imblearn/base.py:203\u001b[0m, in \u001b[0;36mBaseSampler.fit_resample\u001b[0;34m(self, X, y)\u001b[0m\n\u001b[1;32m    182\u001b[0m \u001b[38;5;124;03m\"\"\"Resample the dataset.\u001b[39;00m\n\u001b[1;32m    183\u001b[0m \n\u001b[1;32m    184\u001b[0m \u001b[38;5;124;03mParameters\u001b[39;00m\n\u001b[0;32m   (...)\u001b[0m\n\u001b[1;32m    200\u001b[0m \u001b[38;5;124;03m    The corresponding label of `X_resampled`.\u001b[39;00m\n\u001b[1;32m    201\u001b[0m \u001b[38;5;124;03m\"\"\"\u001b[39;00m\n\u001b[1;32m    202\u001b[0m \u001b[38;5;28mself\u001b[39m\u001b[38;5;241m.\u001b[39m_validate_params()\n\u001b[0;32m--> 203\u001b[0m \u001b[38;5;28;01mreturn\u001b[39;00m \u001b[38;5;28;43msuper\u001b[39;49m\u001b[43m(\u001b[49m\u001b[43m)\u001b[49m\u001b[38;5;241;43m.\u001b[39;49m\u001b[43mfit_resample\u001b[49m\u001b[43m(\u001b[49m\u001b[43mX\u001b[49m\u001b[43m,\u001b[49m\u001b[43m \u001b[49m\u001b[43my\u001b[49m\u001b[43m)\u001b[49m\n",
      "File \u001b[0;32m~/opt/anaconda3/lib/python3.9/site-packages/imblearn/base.py:82\u001b[0m, in \u001b[0;36mSamplerMixin.fit_resample\u001b[0;34m(self, X, y)\u001b[0m\n\u001b[1;32m     80\u001b[0m check_classification_targets(y)\n\u001b[1;32m     81\u001b[0m arrays_transformer \u001b[38;5;241m=\u001b[39m ArraysTransformer(X, y)\n\u001b[0;32m---> 82\u001b[0m X, y, binarize_y \u001b[38;5;241m=\u001b[39m \u001b[38;5;28;43mself\u001b[39;49m\u001b[38;5;241;43m.\u001b[39;49m\u001b[43m_check_X_y\u001b[49m\u001b[43m(\u001b[49m\u001b[43mX\u001b[49m\u001b[43m,\u001b[49m\u001b[43m \u001b[49m\u001b[43my\u001b[49m\u001b[43m)\u001b[49m\n\u001b[1;32m     84\u001b[0m \u001b[38;5;28mself\u001b[39m\u001b[38;5;241m.\u001b[39msampling_strategy_ \u001b[38;5;241m=\u001b[39m check_sampling_strategy(\n\u001b[1;32m     85\u001b[0m     \u001b[38;5;28mself\u001b[39m\u001b[38;5;241m.\u001b[39msampling_strategy, y, \u001b[38;5;28mself\u001b[39m\u001b[38;5;241m.\u001b[39m_sampling_type\n\u001b[1;32m     86\u001b[0m )\n\u001b[1;32m     88\u001b[0m output \u001b[38;5;241m=\u001b[39m \u001b[38;5;28mself\u001b[39m\u001b[38;5;241m.\u001b[39m_fit_resample(X, y)\n",
      "File \u001b[0;32m~/opt/anaconda3/lib/python3.9/site-packages/imblearn/base.py:156\u001b[0m, in \u001b[0;36mBaseSampler._check_X_y\u001b[0;34m(self, X, y, accept_sparse)\u001b[0m\n\u001b[1;32m    154\u001b[0m     accept_sparse \u001b[38;5;241m=\u001b[39m [\u001b[38;5;124m\"\u001b[39m\u001b[38;5;124mcsr\u001b[39m\u001b[38;5;124m\"\u001b[39m, \u001b[38;5;124m\"\u001b[39m\u001b[38;5;124mcsc\u001b[39m\u001b[38;5;124m\"\u001b[39m]\n\u001b[1;32m    155\u001b[0m y, binarize_y \u001b[38;5;241m=\u001b[39m check_target_type(y, indicate_one_vs_all\u001b[38;5;241m=\u001b[39m\u001b[38;5;28;01mTrue\u001b[39;00m)\n\u001b[0;32m--> 156\u001b[0m X, y \u001b[38;5;241m=\u001b[39m \u001b[38;5;28;43mself\u001b[39;49m\u001b[38;5;241;43m.\u001b[39;49m\u001b[43m_validate_data\u001b[49m\u001b[43m(\u001b[49m\u001b[43mX\u001b[49m\u001b[43m,\u001b[49m\u001b[43m \u001b[49m\u001b[43my\u001b[49m\u001b[43m,\u001b[49m\u001b[43m \u001b[49m\u001b[43mreset\u001b[49m\u001b[38;5;241;43m=\u001b[39;49m\u001b[38;5;28;43;01mTrue\u001b[39;49;00m\u001b[43m,\u001b[49m\u001b[43m \u001b[49m\u001b[43maccept_sparse\u001b[49m\u001b[38;5;241;43m=\u001b[39;49m\u001b[43maccept_sparse\u001b[49m\u001b[43m)\u001b[49m\n\u001b[1;32m    157\u001b[0m \u001b[38;5;28;01mreturn\u001b[39;00m X, y, binarize_y\n",
      "File \u001b[0;32m~/opt/anaconda3/lib/python3.9/site-packages/sklearn/base.py:581\u001b[0m, in \u001b[0;36mBaseEstimator._validate_data\u001b[0;34m(self, X, y, reset, validate_separately, **check_params)\u001b[0m\n\u001b[1;32m    579\u001b[0m         y \u001b[38;5;241m=\u001b[39m check_array(y, \u001b[38;5;241m*\u001b[39m\u001b[38;5;241m*\u001b[39mcheck_y_params)\n\u001b[1;32m    580\u001b[0m     \u001b[38;5;28;01melse\u001b[39;00m:\n\u001b[0;32m--> 581\u001b[0m         X, y \u001b[38;5;241m=\u001b[39m \u001b[43mcheck_X_y\u001b[49m\u001b[43m(\u001b[49m\u001b[43mX\u001b[49m\u001b[43m,\u001b[49m\u001b[43m \u001b[49m\u001b[43my\u001b[49m\u001b[43m,\u001b[49m\u001b[43m \u001b[49m\u001b[38;5;241;43m*\u001b[39;49m\u001b[38;5;241;43m*\u001b[39;49m\u001b[43mcheck_params\u001b[49m\u001b[43m)\u001b[49m\n\u001b[1;32m    582\u001b[0m     out \u001b[38;5;241m=\u001b[39m X, y\n\u001b[1;32m    584\u001b[0m \u001b[38;5;28;01mif\u001b[39;00m \u001b[38;5;129;01mnot\u001b[39;00m no_val_X \u001b[38;5;129;01mand\u001b[39;00m check_params\u001b[38;5;241m.\u001b[39mget(\u001b[38;5;124m\"\u001b[39m\u001b[38;5;124mensure_2d\u001b[39m\u001b[38;5;124m\"\u001b[39m, \u001b[38;5;28;01mTrue\u001b[39;00m):\n",
      "File \u001b[0;32m~/opt/anaconda3/lib/python3.9/site-packages/sklearn/utils/validation.py:964\u001b[0m, in \u001b[0;36mcheck_X_y\u001b[0;34m(X, y, accept_sparse, accept_large_sparse, dtype, order, copy, force_all_finite, ensure_2d, allow_nd, multi_output, ensure_min_samples, ensure_min_features, y_numeric, estimator)\u001b[0m\n\u001b[1;32m    961\u001b[0m \u001b[38;5;28;01mif\u001b[39;00m y \u001b[38;5;129;01mis\u001b[39;00m \u001b[38;5;28;01mNone\u001b[39;00m:\n\u001b[1;32m    962\u001b[0m     \u001b[38;5;28;01mraise\u001b[39;00m \u001b[38;5;167;01mValueError\u001b[39;00m(\u001b[38;5;124m\"\u001b[39m\u001b[38;5;124my cannot be None\u001b[39m\u001b[38;5;124m\"\u001b[39m)\n\u001b[0;32m--> 964\u001b[0m X \u001b[38;5;241m=\u001b[39m \u001b[43mcheck_array\u001b[49m\u001b[43m(\u001b[49m\n\u001b[1;32m    965\u001b[0m \u001b[43m    \u001b[49m\u001b[43mX\u001b[49m\u001b[43m,\u001b[49m\n\u001b[1;32m    966\u001b[0m \u001b[43m    \u001b[49m\u001b[43maccept_sparse\u001b[49m\u001b[38;5;241;43m=\u001b[39;49m\u001b[43maccept_sparse\u001b[49m\u001b[43m,\u001b[49m\n\u001b[1;32m    967\u001b[0m \u001b[43m    \u001b[49m\u001b[43maccept_large_sparse\u001b[49m\u001b[38;5;241;43m=\u001b[39;49m\u001b[43maccept_large_sparse\u001b[49m\u001b[43m,\u001b[49m\n\u001b[1;32m    968\u001b[0m \u001b[43m    \u001b[49m\u001b[43mdtype\u001b[49m\u001b[38;5;241;43m=\u001b[39;49m\u001b[43mdtype\u001b[49m\u001b[43m,\u001b[49m\n\u001b[1;32m    969\u001b[0m \u001b[43m    \u001b[49m\u001b[43morder\u001b[49m\u001b[38;5;241;43m=\u001b[39;49m\u001b[43morder\u001b[49m\u001b[43m,\u001b[49m\n\u001b[1;32m    970\u001b[0m \u001b[43m    \u001b[49m\u001b[43mcopy\u001b[49m\u001b[38;5;241;43m=\u001b[39;49m\u001b[43mcopy\u001b[49m\u001b[43m,\u001b[49m\n\u001b[1;32m    971\u001b[0m \u001b[43m    \u001b[49m\u001b[43mforce_all_finite\u001b[49m\u001b[38;5;241;43m=\u001b[39;49m\u001b[43mforce_all_finite\u001b[49m\u001b[43m,\u001b[49m\n\u001b[1;32m    972\u001b[0m \u001b[43m    \u001b[49m\u001b[43mensure_2d\u001b[49m\u001b[38;5;241;43m=\u001b[39;49m\u001b[43mensure_2d\u001b[49m\u001b[43m,\u001b[49m\n\u001b[1;32m    973\u001b[0m \u001b[43m    \u001b[49m\u001b[43mallow_nd\u001b[49m\u001b[38;5;241;43m=\u001b[39;49m\u001b[43mallow_nd\u001b[49m\u001b[43m,\u001b[49m\n\u001b[1;32m    974\u001b[0m \u001b[43m    \u001b[49m\u001b[43mensure_min_samples\u001b[49m\u001b[38;5;241;43m=\u001b[39;49m\u001b[43mensure_min_samples\u001b[49m\u001b[43m,\u001b[49m\n\u001b[1;32m    975\u001b[0m \u001b[43m    \u001b[49m\u001b[43mensure_min_features\u001b[49m\u001b[38;5;241;43m=\u001b[39;49m\u001b[43mensure_min_features\u001b[49m\u001b[43m,\u001b[49m\n\u001b[1;32m    976\u001b[0m \u001b[43m    \u001b[49m\u001b[43mestimator\u001b[49m\u001b[38;5;241;43m=\u001b[39;49m\u001b[43mestimator\u001b[49m\u001b[43m,\u001b[49m\n\u001b[1;32m    977\u001b[0m \u001b[43m\u001b[49m\u001b[43m)\u001b[49m\n\u001b[1;32m    979\u001b[0m y \u001b[38;5;241m=\u001b[39m _check_y(y, multi_output\u001b[38;5;241m=\u001b[39mmulti_output, y_numeric\u001b[38;5;241m=\u001b[39my_numeric)\n\u001b[1;32m    981\u001b[0m check_consistent_length(X, y)\n",
      "File \u001b[0;32m~/opt/anaconda3/lib/python3.9/site-packages/sklearn/utils/validation.py:746\u001b[0m, in \u001b[0;36mcheck_array\u001b[0;34m(array, accept_sparse, accept_large_sparse, dtype, order, copy, force_all_finite, ensure_2d, allow_nd, ensure_min_samples, ensure_min_features, estimator)\u001b[0m\n\u001b[1;32m    744\u001b[0m         array \u001b[38;5;241m=\u001b[39m array\u001b[38;5;241m.\u001b[39mastype(dtype, casting\u001b[38;5;241m=\u001b[39m\u001b[38;5;124m\"\u001b[39m\u001b[38;5;124munsafe\u001b[39m\u001b[38;5;124m\"\u001b[39m, copy\u001b[38;5;241m=\u001b[39m\u001b[38;5;28;01mFalse\u001b[39;00m)\n\u001b[1;32m    745\u001b[0m     \u001b[38;5;28;01melse\u001b[39;00m:\n\u001b[0;32m--> 746\u001b[0m         array \u001b[38;5;241m=\u001b[39m \u001b[43mnp\u001b[49m\u001b[38;5;241;43m.\u001b[39;49m\u001b[43masarray\u001b[49m\u001b[43m(\u001b[49m\u001b[43marray\u001b[49m\u001b[43m,\u001b[49m\u001b[43m \u001b[49m\u001b[43morder\u001b[49m\u001b[38;5;241;43m=\u001b[39;49m\u001b[43morder\u001b[49m\u001b[43m,\u001b[49m\u001b[43m \u001b[49m\u001b[43mdtype\u001b[49m\u001b[38;5;241;43m=\u001b[39;49m\u001b[43mdtype\u001b[49m\u001b[43m)\u001b[49m\n\u001b[1;32m    747\u001b[0m \u001b[38;5;28;01mexcept\u001b[39;00m ComplexWarning \u001b[38;5;28;01mas\u001b[39;00m complex_warning:\n\u001b[1;32m    748\u001b[0m     \u001b[38;5;28;01mraise\u001b[39;00m \u001b[38;5;167;01mValueError\u001b[39;00m(\n\u001b[1;32m    749\u001b[0m         \u001b[38;5;124m\"\u001b[39m\u001b[38;5;124mComplex data not supported\u001b[39m\u001b[38;5;130;01m\\n\u001b[39;00m\u001b[38;5;132;01m{}\u001b[39;00m\u001b[38;5;130;01m\\n\u001b[39;00m\u001b[38;5;124m\"\u001b[39m\u001b[38;5;241m.\u001b[39mformat(array)\n\u001b[1;32m    750\u001b[0m     ) \u001b[38;5;28;01mfrom\u001b[39;00m \u001b[38;5;21;01mcomplex_warning\u001b[39;00m\n",
      "File \u001b[0;32m~/opt/anaconda3/lib/python3.9/site-packages/pandas/core/generic.py:2064\u001b[0m, in \u001b[0;36mNDFrame.__array__\u001b[0;34m(self, dtype)\u001b[0m\n\u001b[1;32m   2063\u001b[0m \u001b[38;5;28;01mdef\u001b[39;00m \u001b[38;5;21m__array__\u001b[39m(\u001b[38;5;28mself\u001b[39m, dtype: npt\u001b[38;5;241m.\u001b[39mDTypeLike \u001b[38;5;241m|\u001b[39m \u001b[38;5;28;01mNone\u001b[39;00m \u001b[38;5;241m=\u001b[39m \u001b[38;5;28;01mNone\u001b[39;00m) \u001b[38;5;241m-\u001b[39m\u001b[38;5;241m>\u001b[39m np\u001b[38;5;241m.\u001b[39mndarray:\n\u001b[0;32m-> 2064\u001b[0m     \u001b[38;5;28;01mreturn\u001b[39;00m \u001b[43mnp\u001b[49m\u001b[38;5;241;43m.\u001b[39;49m\u001b[43masarray\u001b[49m\u001b[43m(\u001b[49m\u001b[38;5;28;43mself\u001b[39;49m\u001b[38;5;241;43m.\u001b[39;49m\u001b[43m_values\u001b[49m\u001b[43m,\u001b[49m\u001b[43m \u001b[49m\u001b[43mdtype\u001b[49m\u001b[38;5;241;43m=\u001b[39;49m\u001b[43mdtype\u001b[49m\u001b[43m)\u001b[49m\n",
      "\u001b[0;31mValueError\u001b[0m: could not convert string to float: 'Yes'"
     ]
    }
   ],
   "source": [
    "from imblearn.over_sampling import SMOTE\n",
    "smote = SMOTE(sampling_strategy='auto')\n",
    "X_sm, y_sm = smote.fit_resample(X, y)\n",
    "\n",
    "y_sm.value_counts()"
   ]
  },
  {
   "cell_type": "code",
   "execution_count": 126,
   "id": "90d0ae7d",
   "metadata": {
    "execution": {
     "iopub.execute_input": "2022-12-04T11:40:41.435522Z",
     "iopub.status.busy": "2022-12-04T11:40:41.434687Z",
     "iopub.status.idle": "2022-12-04T11:40:41.443073Z",
     "shell.execute_reply": "2022-12-04T11:40:41.441977Z"
    },
    "executionInfo": {
     "elapsed": 134,
     "status": "ok",
     "timestamp": 1670897371214,
     "user": {
      "displayName": "Franklin Nkokam Ngongang",
      "userId": "07081789311912667597"
     },
     "user_tz": 300
    },
    "id": "90d0ae7d",
    "papermill": {
     "duration": 0.029057,
     "end_time": "2022-12-04T11:40:41.445876",
     "exception": false,
     "start_time": "2022-12-04T11:40:41.416819",
     "status": "completed"
    },
    "tags": []
   },
   "outputs": [
    {
     "ename": "NameError",
     "evalue": "name 'X_sm' is not defined",
     "output_type": "error",
     "traceback": [
      "\u001b[0;31m---------------------------------------------------------------------------\u001b[0m",
      "\u001b[0;31mNameError\u001b[0m                                 Traceback (most recent call last)",
      "Input \u001b[0;32mIn [126]\u001b[0m, in \u001b[0;36m<cell line: 2>\u001b[0;34m()\u001b[0m\n\u001b[1;32m      1\u001b[0m \u001b[38;5;28;01mfrom\u001b[39;00m \u001b[38;5;21;01msklearn\u001b[39;00m\u001b[38;5;21;01m.\u001b[39;00m\u001b[38;5;21;01mmodel_selection\u001b[39;00m \u001b[38;5;28;01mimport\u001b[39;00m train_test_split\n\u001b[0;32m----> 2\u001b[0m X_train, X_test, y_train, y_test \u001b[38;5;241m=\u001b[39m train_test_split(\u001b[43mX_sm\u001b[49m, y_sm,test_size\u001b[38;5;241m=\u001b[39m\u001b[38;5;241m0.2\u001b[39m,random_state\u001b[38;5;241m=\u001b[39m\u001b[38;5;241m5\u001b[39m)\n",
      "\u001b[0;31mNameError\u001b[0m: name 'X_sm' is not defined"
     ]
    }
   ],
   "source": [
    "from sklearn.model_selection import train_test_split\n",
    "X_train, X_test, y_train, y_test = train_test_split(X_sm, y_sm,test_size=0.2,random_state=5)"
   ]
  },
  {
   "cell_type": "markdown",
   "id": "d49a72b5",
   "metadata": {
    "id": "d49a72b5",
    "papermill": {
     "duration": 0.015543,
     "end_time": "2022-12-04T11:40:41.477539",
     "exception": false,
     "start_time": "2022-12-04T11:40:41.461996",
     "status": "completed"
    },
    "tags": []
   },
   "source": [
    "# Machine learing analysis"
   ]
  },
  {
   "cell_type": "code",
   "execution_count": 81,
   "id": "0166e4e9",
   "metadata": {
    "execution": {
     "iopub.execute_input": "2022-12-04T11:40:41.512480Z",
     "iopub.status.busy": "2022-12-04T11:40:41.511587Z",
     "iopub.status.idle": "2022-12-04T11:40:41.638175Z",
     "shell.execute_reply": "2022-12-04T11:40:41.636845Z"
    },
    "executionInfo": {
     "elapsed": 6,
     "status": "ok",
     "timestamp": 1670897379368,
     "user": {
      "displayName": "Franklin Nkokam Ngongang",
      "userId": "07081789311912667597"
     },
     "user_tz": 300
    },
    "id": "0166e4e9",
    "papermill": {
     "duration": 0.147285,
     "end_time": "2022-12-04T11:40:41.641419",
     "exception": false,
     "start_time": "2022-12-04T11:40:41.494134",
     "status": "completed"
    },
    "tags": []
   },
   "outputs": [],
   "source": [
    "from sklearn.model_selection import ShuffleSplit\n",
    "from sklearn.ensemble import RandomForestClassifier\n",
    "from sklearn.tree import DecisionTreeClassifier\n",
    "from sklearn.metrics import classification_report\n",
    "from sklearn.linear_model import LogisticRegression\n",
    "from xgboost import XGBClassifier\n",
    "from sklearn import svm\n",
    "from sklearn.naive_bayes import GaussianNB\n",
    "from sklearn.naive_bayes import MultinomialNB\n",
    "\n",
    "\n",
    "model_params = {\n",
    "             \n",
    "    \n",
    "    'random_forest': {\n",
    "        'model': RandomForestClassifier(),\n",
    "        'params' : {\n",
    "            'n_estimators': [1,5,10]\n",
    "        }\n",
    "    },\n",
    "    'logistic_regression' : {\n",
    "        'model': LogisticRegression(solver='liblinear',multi_class='auto'),\n",
    "        'params': {\n",
    "            'C': [1,5,10]\n",
    "        }\n",
    "    },\n",
    "    'svm': {\n",
    "        'model': svm.SVC(gamma='auto'),\n",
    "        'params' : {\n",
    "            'C': [1,10,20],\n",
    "            'kernel': ['rbf','linear']\n",
    "        }  \n",
    "    },\n",
    "   'naive_bayes_gaussian': {\n",
    "        'model': GaussianNB(),\n",
    "        'params': {}\n",
    "    },\n",
    "    'naive_bayes_multinomial': {\n",
    "        'model': MultinomialNB(),\n",
    "        'params': {}\n",
    "    },\n",
    "    'decision_tree': {\n",
    "        'model': DecisionTreeClassifier(),\n",
    "        'params': {\n",
    "            'criterion': ['gini','entropy'],\n",
    "        }   \n",
    "    },\n",
    "    \n",
    "       'XGB_Classifier':{\n",
    "        'model':XGBClassifier(),\n",
    "        'params':{\n",
    "            'base_score':[0.5]\n",
    "            \n",
    "        }\n",
    "    } \n",
    "        \n",
    "     \n",
    "}\n"
   ]
  },
  {
   "cell_type": "code",
   "execution_count": 82,
   "id": "d31796e3",
   "metadata": {
    "colab": {
     "base_uri": "https://localhost:8080/",
     "height": 269
    },
    "execution": {
     "iopub.execute_input": "2022-12-04T11:40:41.675992Z",
     "iopub.status.busy": "2022-12-04T11:40:41.675567Z",
     "iopub.status.idle": "2022-12-04T11:40:44.095336Z",
     "shell.execute_reply": "2022-12-04T11:40:44.094259Z"
    },
    "executionInfo": {
     "elapsed": 1007,
     "status": "ok",
     "timestamp": 1670897385031,
     "user": {
      "displayName": "Franklin Nkokam Ngongang",
      "userId": "07081789311912667597"
     },
     "user_tz": 300
    },
    "id": "d31796e3",
    "outputId": "8411627f-6664-49f9-a6b2-e5ca5680f4a0",
    "papermill": {
     "duration": 2.44024,
     "end_time": "2022-12-04T11:40:44.098229",
     "exception": false,
     "start_time": "2022-12-04T11:40:41.657989",
     "status": "completed"
    },
    "tags": []
   },
   "outputs": [
    {
     "data": {
      "text/html": [
       "\n",
       "  <div id=\"df-4ba3e5b5-6ad0-4a3d-8e80-3069bd43f6bf\">\n",
       "    <div class=\"colab-df-container\">\n",
       "      <div>\n",
       "<style scoped>\n",
       "    .dataframe tbody tr th:only-of-type {\n",
       "        vertical-align: middle;\n",
       "    }\n",
       "\n",
       "    .dataframe tbody tr th {\n",
       "        vertical-align: top;\n",
       "    }\n",
       "\n",
       "    .dataframe thead th {\n",
       "        text-align: right;\n",
       "    }\n",
       "</style>\n",
       "<table border=\"1\" class=\"dataframe\">\n",
       "  <thead>\n",
       "    <tr style=\"text-align: right;\">\n",
       "      <th></th>\n",
       "      <th>model</th>\n",
       "      <th>best_score</th>\n",
       "      <th>best_params</th>\n",
       "    </tr>\n",
       "  </thead>\n",
       "  <tbody>\n",
       "    <tr>\n",
       "      <th>0</th>\n",
       "      <td>random_forest</td>\n",
       "      <td>0.820000</td>\n",
       "      <td>{'n_estimators': 5}</td>\n",
       "    </tr>\n",
       "    <tr>\n",
       "      <th>1</th>\n",
       "      <td>logistic_regression</td>\n",
       "      <td>0.810000</td>\n",
       "      <td>{'C': 5}</td>\n",
       "    </tr>\n",
       "    <tr>\n",
       "      <th>2</th>\n",
       "      <td>svm</td>\n",
       "      <td>0.830000</td>\n",
       "      <td>{'C': 1, 'kernel': 'linear'}</td>\n",
       "    </tr>\n",
       "    <tr>\n",
       "      <th>3</th>\n",
       "      <td>naive_bayes_gaussian</td>\n",
       "      <td>0.756667</td>\n",
       "      <td>{}</td>\n",
       "    </tr>\n",
       "    <tr>\n",
       "      <th>4</th>\n",
       "      <td>naive_bayes_multinomial</td>\n",
       "      <td>0.663333</td>\n",
       "      <td>{}</td>\n",
       "    </tr>\n",
       "    <tr>\n",
       "      <th>5</th>\n",
       "      <td>decision_tree</td>\n",
       "      <td>0.786667</td>\n",
       "      <td>{'criterion': 'entropy'}</td>\n",
       "    </tr>\n",
       "    <tr>\n",
       "      <th>6</th>\n",
       "      <td>XGB_Classifier</td>\n",
       "      <td>0.840000</td>\n",
       "      <td>{'base_score': 0.5}</td>\n",
       "    </tr>\n",
       "  </tbody>\n",
       "</table>\n",
       "</div>\n",
       "      <button class=\"colab-df-convert\" onclick=\"convertToInteractive('df-4ba3e5b5-6ad0-4a3d-8e80-3069bd43f6bf')\"\n",
       "              title=\"Convert this dataframe to an interactive table.\"\n",
       "              style=\"display:none;\">\n",
       "        \n",
       "  <svg xmlns=\"http://www.w3.org/2000/svg\" height=\"24px\"viewBox=\"0 0 24 24\"\n",
       "       width=\"24px\">\n",
       "    <path d=\"M0 0h24v24H0V0z\" fill=\"none\"/>\n",
       "    <path d=\"M18.56 5.44l.94 2.06.94-2.06 2.06-.94-2.06-.94-.94-2.06-.94 2.06-2.06.94zm-11 1L8.5 8.5l.94-2.06 2.06-.94-2.06-.94L8.5 2.5l-.94 2.06-2.06.94zm10 10l.94 2.06.94-2.06 2.06-.94-2.06-.94-.94-2.06-.94 2.06-2.06.94z\"/><path d=\"M17.41 7.96l-1.37-1.37c-.4-.4-.92-.59-1.43-.59-.52 0-1.04.2-1.43.59L10.3 9.45l-7.72 7.72c-.78.78-.78 2.05 0 2.83L4 21.41c.39.39.9.59 1.41.59.51 0 1.02-.2 1.41-.59l7.78-7.78 2.81-2.81c.8-.78.8-2.07 0-2.86zM5.41 20L4 18.59l7.72-7.72 1.47 1.35L5.41 20z\"/>\n",
       "  </svg>\n",
       "      </button>\n",
       "      \n",
       "  <style>\n",
       "    .colab-df-container {\n",
       "      display:flex;\n",
       "      flex-wrap:wrap;\n",
       "      gap: 12px;\n",
       "    }\n",
       "\n",
       "    .colab-df-convert {\n",
       "      background-color: #E8F0FE;\n",
       "      border: none;\n",
       "      border-radius: 50%;\n",
       "      cursor: pointer;\n",
       "      display: none;\n",
       "      fill: #1967D2;\n",
       "      height: 32px;\n",
       "      padding: 0 0 0 0;\n",
       "      width: 32px;\n",
       "    }\n",
       "\n",
       "    .colab-df-convert:hover {\n",
       "      background-color: #E2EBFA;\n",
       "      box-shadow: 0px 1px 2px rgba(60, 64, 67, 0.3), 0px 1px 3px 1px rgba(60, 64, 67, 0.15);\n",
       "      fill: #174EA6;\n",
       "    }\n",
       "\n",
       "    [theme=dark] .colab-df-convert {\n",
       "      background-color: #3B4455;\n",
       "      fill: #D2E3FC;\n",
       "    }\n",
       "\n",
       "    [theme=dark] .colab-df-convert:hover {\n",
       "      background-color: #434B5C;\n",
       "      box-shadow: 0px 1px 3px 1px rgba(0, 0, 0, 0.15);\n",
       "      filter: drop-shadow(0px 1px 2px rgba(0, 0, 0, 0.3));\n",
       "      fill: #FFFFFF;\n",
       "    }\n",
       "  </style>\n",
       "\n",
       "      <script>\n",
       "        const buttonEl =\n",
       "          document.querySelector('#df-4ba3e5b5-6ad0-4a3d-8e80-3069bd43f6bf button.colab-df-convert');\n",
       "        buttonEl.style.display =\n",
       "          google.colab.kernel.accessAllowed ? 'block' : 'none';\n",
       "\n",
       "        async function convertToInteractive(key) {\n",
       "          const element = document.querySelector('#df-4ba3e5b5-6ad0-4a3d-8e80-3069bd43f6bf');\n",
       "          const dataTable =\n",
       "            await google.colab.kernel.invokeFunction('convertToInteractive',\n",
       "                                                     [key], {});\n",
       "          if (!dataTable) return;\n",
       "\n",
       "          const docLinkHtml = 'Like what you see? Visit the ' +\n",
       "            '<a target=\"_blank\" href=https://colab.research.google.com/notebooks/data_table.ipynb>data table notebook</a>'\n",
       "            + ' to learn more about interactive tables.';\n",
       "          element.innerHTML = '';\n",
       "          dataTable['output_type'] = 'display_data';\n",
       "          await google.colab.output.renderOutput(dataTable, element);\n",
       "          const docLink = document.createElement('div');\n",
       "          docLink.innerHTML = docLinkHtml;\n",
       "          element.appendChild(docLink);\n",
       "        }\n",
       "      </script>\n",
       "    </div>\n",
       "  </div>\n",
       "  "
      ],
      "text/plain": [
       "                     model  best_score                   best_params\n",
       "0            random_forest    0.820000           {'n_estimators': 5}\n",
       "1      logistic_regression    0.810000                      {'C': 5}\n",
       "2                      svm    0.830000  {'C': 1, 'kernel': 'linear'}\n",
       "3     naive_bayes_gaussian    0.756667                            {}\n",
       "4  naive_bayes_multinomial    0.663333                            {}\n",
       "5            decision_tree    0.786667      {'criterion': 'entropy'}\n",
       "6           XGB_Classifier    0.840000           {'base_score': 0.5}"
      ]
     },
     "execution_count": 82,
     "metadata": {},
     "output_type": "execute_result"
    }
   ],
   "source": [
    "from sklearn.model_selection import GridSearchCV\n",
    "scores = []\n",
    "cv = ShuffleSplit(n_splits=5, test_size=0.2, random_state=0)\n",
    "for model_name, mp in model_params.items():\n",
    "    clf =  GridSearchCV(mp['model'], mp['params'], cv=cv, return_train_score=False)\n",
    "    clf.fit(X,y)\n",
    "    scores.append({\n",
    "        'model': model_name,\n",
    "        'best_score': clf.best_score_,\n",
    "        'best_params': clf.best_params_\n",
    "    })\n",
    "    \n",
    "df = pd.DataFrame(scores,columns=['model','best_score','best_params'])\n",
    "df"
   ]
  },
  {
   "cell_type": "code",
   "execution_count": null,
   "id": "7695513d",
   "metadata": {
    "colab": {
     "base_uri": "https://localhost:8080/"
    },
    "execution": {
     "iopub.execute_input": "2022-12-04T11:40:44.137435Z",
     "iopub.status.busy": "2022-12-04T11:40:44.136935Z",
     "iopub.status.idle": "2022-12-04T11:40:44.155336Z",
     "shell.execute_reply": "2022-12-04T11:40:44.153852Z"
    },
    "executionInfo": {
     "elapsed": 27,
     "status": "ok",
     "timestamp": 1670896816551,
     "user": {
      "displayName": "Franklin Nkokam Ngongang",
      "userId": "07081789311912667597"
     },
     "user_tz": 300
    },
    "id": "7695513d",
    "outputId": "994a7670-c410-45ea-ca97-6f096553ac93",
    "papermill": {
     "duration": 0.043181,
     "end_time": "2022-12-04T11:40:44.158497",
     "exception": false,
     "start_time": "2022-12-04T11:40:44.115316",
     "status": "completed"
    },
    "tags": []
   },
   "outputs": [
    {
     "data": {
      "text/plain": [
       "SVC()"
      ]
     },
     "execution_count": 32,
     "metadata": {},
     "output_type": "execute_result"
    }
   ],
   "source": [
    "model=svm.SVC()\n",
    "model.fit(X_train, y_train)\n"
   ]
  },
  {
   "cell_type": "code",
   "execution_count": null,
   "id": "524c1dec",
   "metadata": {
    "colab": {
     "base_uri": "https://localhost:8080/"
    },
    "execution": {
     "iopub.execute_input": "2022-12-04T11:40:44.193633Z",
     "iopub.status.busy": "2022-12-04T11:40:44.193105Z",
     "iopub.status.idle": "2022-12-04T11:40:44.205761Z",
     "shell.execute_reply": "2022-12-04T11:40:44.204548Z"
    },
    "executionInfo": {
     "elapsed": 25,
     "status": "ok",
     "timestamp": 1670896816551,
     "user": {
      "displayName": "Franklin Nkokam Ngongang",
      "userId": "07081789311912667597"
     },
     "user_tz": 300
    },
    "id": "524c1dec",
    "outputId": "d69ef421-5267-4195-8049-75037cb5e99c",
    "papermill": {
     "duration": 0.033155,
     "end_time": "2022-12-04T11:40:44.208186",
     "exception": false,
     "start_time": "2022-12-04T11:40:44.175031",
     "status": "completed"
    },
    "tags": []
   },
   "outputs": [
    {
     "data": {
      "text/plain": [
       "0.8536585365853658"
      ]
     },
     "execution_count": 33,
     "metadata": {},
     "output_type": "execute_result"
    }
   ],
   "source": [
    "model.score( X_test, y_test)"
   ]
  },
  {
   "cell_type": "code",
   "execution_count": null,
   "id": "23b34c8a",
   "metadata": {
    "execution": {
     "iopub.execute_input": "2022-12-04T11:40:44.243697Z",
     "iopub.status.busy": "2022-12-04T11:40:44.242920Z",
     "iopub.status.idle": "2022-12-04T11:40:44.252858Z",
     "shell.execute_reply": "2022-12-04T11:40:44.251635Z"
    },
    "id": "23b34c8a",
    "papermill": {
     "duration": 0.031666,
     "end_time": "2022-12-04T11:40:44.256226",
     "exception": false,
     "start_time": "2022-12-04T11:40:44.224560",
     "status": "completed"
    },
    "tags": []
   },
   "outputs": [],
   "source": [
    "y_predicted = model.predict(X_test)"
   ]
  },
  {
   "cell_type": "code",
   "execution_count": null,
   "id": "4692fe42",
   "metadata": {
    "colab": {
     "base_uri": "https://localhost:8080/"
    },
    "execution": {
     "iopub.execute_input": "2022-12-04T11:40:44.291789Z",
     "iopub.status.busy": "2022-12-04T11:40:44.291064Z",
     "iopub.status.idle": "2022-12-04T11:40:44.299591Z",
     "shell.execute_reply": "2022-12-04T11:40:44.298241Z"
    },
    "executionInfo": {
     "elapsed": 19,
     "status": "ok",
     "timestamp": 1670896816553,
     "user": {
      "displayName": "Franklin Nkokam Ngongang",
      "userId": "07081789311912667597"
     },
     "user_tz": 300
    },
    "id": "4692fe42",
    "outputId": "cd2af41e-ebed-4d2e-c11c-4c47a9d58c51",
    "papermill": {
     "duration": 0.0292,
     "end_time": "2022-12-04T11:40:44.302034",
     "exception": false,
     "start_time": "2022-12-04T11:40:44.272834",
     "status": "completed"
    },
    "tags": []
   },
   "outputs": [
    {
     "data": {
      "text/plain": [
       "array([0, 1, 1, 1, 1])"
      ]
     },
     "execution_count": 35,
     "metadata": {},
     "output_type": "execute_result"
    }
   ],
   "source": [
    "y_predicted[:5]"
   ]
  },
  {
   "cell_type": "code",
   "execution_count": null,
   "id": "3c49754c",
   "metadata": {
    "colab": {
     "base_uri": "https://localhost:8080/"
    },
    "execution": {
     "iopub.execute_input": "2022-12-04T11:40:44.338256Z",
     "iopub.status.busy": "2022-12-04T11:40:44.337505Z",
     "iopub.status.idle": "2022-12-04T11:40:44.345420Z",
     "shell.execute_reply": "2022-12-04T11:40:44.344079Z"
    },
    "executionInfo": {
     "elapsed": 12,
     "status": "ok",
     "timestamp": 1670896816554,
     "user": {
      "displayName": "Franklin Nkokam Ngongang",
      "userId": "07081789311912667597"
     },
     "user_tz": 300
    },
    "id": "3c49754c",
    "outputId": "7be39138-68d6-4ff4-fd78-1263075face4",
    "papermill": {
     "duration": 0.029655,
     "end_time": "2022-12-04T11:40:44.348364",
     "exception": false,
     "start_time": "2022-12-04T11:40:44.318709",
     "status": "completed"
    },
    "tags": []
   },
   "outputs": [
    {
     "data": {
      "text/plain": [
       "284    0\n",
       "71     0\n",
       "49     1\n",
       "335    1\n",
       "43     0\n",
       "Name: DEATH_EVENT, dtype: int64"
      ]
     },
     "execution_count": 36,
     "metadata": {},
     "output_type": "execute_result"
    }
   ],
   "source": [
    "y_test[:5]"
   ]
  },
  {
   "cell_type": "code",
   "execution_count": null,
   "id": "415d8330",
   "metadata": {
    "colab": {
     "base_uri": "https://localhost:8080/"
    },
    "execution": {
     "iopub.execute_input": "2022-12-04T11:40:44.387907Z",
     "iopub.status.busy": "2022-12-04T11:40:44.387405Z",
     "iopub.status.idle": "2022-12-04T11:40:44.402520Z",
     "shell.execute_reply": "2022-12-04T11:40:44.400273Z"
    },
    "executionInfo": {
     "elapsed": 165,
     "status": "ok",
     "timestamp": 1670896816712,
     "user": {
      "displayName": "Franklin Nkokam Ngongang",
      "userId": "07081789311912667597"
     },
     "user_tz": 300
    },
    "id": "415d8330",
    "outputId": "6a7d2e87-2e8a-4896-b3b6-10e3a86e7556",
    "papermill": {
     "duration": 0.037755,
     "end_time": "2022-12-04T11:40:44.405365",
     "exception": false,
     "start_time": "2022-12-04T11:40:44.367610",
     "status": "completed"
    },
    "tags": []
   },
   "outputs": [
    {
     "name": "stdout",
     "output_type": "stream",
     "text": [
      "              precision    recall  f1-score   support\n",
      "\n",
      "           0       0.89      0.81      0.85        42\n",
      "           1       0.82      0.90      0.86        40\n",
      "\n",
      "    accuracy                           0.85        82\n",
      "   macro avg       0.86      0.85      0.85        82\n",
      "weighted avg       0.86      0.85      0.85        82\n",
      "\n"
     ]
    }
   ],
   "source": [
    "from sklearn.metrics import confusion_matrix , classification_report\n",
    "\n",
    "print(classification_report(y_test,y_predicted))"
   ]
  },
  {
   "cell_type": "code",
   "execution_count": null,
   "id": "c9d67c96",
   "metadata": {
    "colab": {
     "base_uri": "https://localhost:8080/"
    },
    "execution": {
     "iopub.execute_input": "2022-12-04T11:40:44.442636Z",
     "iopub.status.busy": "2022-12-04T11:40:44.442116Z",
     "iopub.status.idle": "2022-12-04T11:40:44.449496Z",
     "shell.execute_reply": "2022-12-04T11:40:44.448254Z"
    },
    "executionInfo": {
     "elapsed": 28,
     "status": "ok",
     "timestamp": 1670896816713,
     "user": {
      "displayName": "Franklin Nkokam Ngongang",
      "userId": "07081789311912667597"
     },
     "user_tz": 300
    },
    "id": "c9d67c96",
    "outputId": "aa308e45-cb1e-4944-c9fd-6ce7d0016884",
    "papermill": {
     "duration": 0.029313,
     "end_time": "2022-12-04T11:40:44.452353",
     "exception": false,
     "start_time": "2022-12-04T11:40:44.423040",
     "status": "completed"
    },
    "tags": []
   },
   "outputs": [
    {
     "name": "stdout",
     "output_type": "stream",
     "text": [
      "<function mean_squared_error at 0x7f0f70062ca0>: 0.14634146341463414\n"
     ]
    }
   ],
   "source": [
    "from sklearn.metrics import mean_squared_error\n",
    "mse = mean_squared_error(y_test,y_predicted)\n",
    "print(f'{mean_squared_error}: {mse}')"
   ]
  },
  {
   "cell_type": "code",
   "execution_count": null,
   "id": "31db954d",
   "metadata": {
    "colab": {
     "base_uri": "https://localhost:8080/",
     "height": 460
    },
    "execution": {
     "iopub.execute_input": "2022-12-04T11:40:44.490512Z",
     "iopub.status.busy": "2022-12-04T11:40:44.489137Z",
     "iopub.status.idle": "2022-12-04T11:40:44.791455Z",
     "shell.execute_reply": "2022-12-04T11:40:44.789958Z"
    },
    "executionInfo": {
     "elapsed": 22,
     "status": "ok",
     "timestamp": 1670896816714,
     "user": {
      "displayName": "Franklin Nkokam Ngongang",
      "userId": "07081789311912667597"
     },
     "user_tz": 300
    },
    "id": "31db954d",
    "outputId": "f424813f-3a87-4101-b400-b20a6ccdad0b",
    "papermill": {
     "duration": 0.324667,
     "end_time": "2022-12-04T11:40:44.794423",
     "exception": false,
     "start_time": "2022-12-04T11:40:44.469756",
     "status": "completed"
    },
    "tags": []
   },
   "outputs": [
    {
     "data": {
      "text/plain": [
       "Text(69.0, 0.5, 'Truth')"
      ]
     },
     "execution_count": 39,
     "metadata": {},
     "output_type": "execute_result"
    },
    {
     "data": {
      "image/png": "[encoded data removed]",
      "text/plain": [
       "<Figure size 720x504 with 2 Axes>"
      ]
     },
     "metadata": {
      "needs_background": "light"
     },
     "output_type": "display_data"
    }
   ],
   "source": [
    "y_predicted = model.predict(X_test)\n",
    "from sklearn.metrics import confusion_matrix\n",
    "cm = confusion_matrix(y_test, y_predicted)\n",
    "plt.figure(figsize = (10,7))\n",
    "sns.heatmap(cm, annot=True)\n",
    "plt.xlabel('Predicted')\n",
    "plt.ylabel('Truth')"
   ]
  },
  {
   "cell_type": "code",
   "execution_count": null,
   "id": "de096c3b",
   "metadata": {
    "id": "de096c3b",
    "papermill": {
     "duration": 0.017075,
     "end_time": "2022-12-04T11:40:44.829055",
     "exception": false,
     "start_time": "2022-12-04T11:40:44.811980",
     "status": "completed"
    },
    "tags": []
   },
   "outputs": [],
   "source": []
  },
  {
   "cell_type": "markdown",
   "id": "05074d02",
   "metadata": {
    "id": "05074d02",
    "papermill": {
     "duration": 0.01737,
     "end_time": "2022-12-04T11:40:44.864232",
     "exception": false,
     "start_time": "2022-12-04T11:40:44.846862",
     "status": "completed"
    },
    "tags": []
   },
   "source": [
    "# Deep learing analysis"
   ]
  },
  {
   "cell_type": "code",
   "execution_count": null,
   "id": "54527409",
   "metadata": {
    "colab": {
     "base_uri": "https://localhost:8080/"
    },
    "execution": {
     "iopub.execute_input": "2022-12-04T11:40:44.903199Z",
     "iopub.status.busy": "2022-12-04T11:40:44.902754Z",
     "iopub.status.idle": "2022-12-04T11:41:14.021444Z",
     "shell.execute_reply": "2022-12-04T11:41:14.019901Z"
    },
    "executionInfo": {
     "elapsed": 22427,
     "status": "ok",
     "timestamp": 1670896839643,
     "user": {
      "displayName": "Franklin Nkokam Ngongang",
      "userId": "07081789311912667597"
     },
     "user_tz": 300
    },
    "id": "54527409",
    "outputId": "5d239982-5498-4c00-e80e-14062416af05",
    "papermill": {
     "duration": 29.141729,
     "end_time": "2022-12-04T11:41:14.024562",
     "exception": false,
     "start_time": "2022-12-04T11:40:44.882833",
     "status": "completed"
    },
    "tags": []
   },
   "outputs": [
    {
     "name": "stdout",
     "output_type": "stream",
     "text": [
      "Epoch 1/100\n",
      "81/81 - 2s - loss: 0.7173 - accuracy: 0.5154 - 2s/epoch - 25ms/step\n",
      "Epoch 2/100\n",
      "81/81 - 0s - loss: 0.7149 - accuracy: 0.5154 - 154ms/epoch - 2ms/step\n",
      "Epoch 3/100\n",
      "81/81 - 0s - loss: 0.6958 - accuracy: 0.5123 - 187ms/epoch - 2ms/step\n",
      "Epoch 4/100\n",
      "81/81 - 0s - loss: 0.7042 - accuracy: 0.5154 - 188ms/epoch - 2ms/step\n",
      "Epoch 5/100\n",
      "81/81 - 0s - loss: 0.6932 - accuracy: 0.5494 - 196ms/epoch - 2ms/step\n",
      "Epoch 6/100\n",
      "81/81 - 0s - loss: 0.7003 - accuracy: 0.5154 - 141ms/epoch - 2ms/step\n",
      "Epoch 7/100\n",
      "81/81 - 0s - loss: 0.6962 - accuracy: 0.5031 - 164ms/epoch - 2ms/step\n",
      "Epoch 8/100\n",
      "81/81 - 0s - loss: 0.6888 - accuracy: 0.5710 - 154ms/epoch - 2ms/step\n",
      "Epoch 9/100\n",
      "81/81 - 0s - loss: 0.6955 - accuracy: 0.5000 - 168ms/epoch - 2ms/step\n",
      "Epoch 10/100\n",
      "81/81 - 0s - loss: 0.6900 - accuracy: 0.5123 - 163ms/epoch - 2ms/step\n",
      "Epoch 11/100\n",
      "81/81 - 0s - loss: 0.6861 - accuracy: 0.5494 - 179ms/epoch - 2ms/step\n",
      "Epoch 12/100\n",
      "81/81 - 0s - loss: 0.6962 - accuracy: 0.4568 - 163ms/epoch - 2ms/step\n",
      "Epoch 13/100\n",
      "81/81 - 0s - loss: 0.6892 - accuracy: 0.5154 - 147ms/epoch - 2ms/step\n",
      "Epoch 14/100\n",
      "81/81 - 0s - loss: 0.6922 - accuracy: 0.5401 - 144ms/epoch - 2ms/step\n",
      "Epoch 15/100\n",
      "81/81 - 0s - loss: 0.6878 - accuracy: 0.5309 - 150ms/epoch - 2ms/step\n",
      "Epoch 16/100\n",
      "81/81 - 0s - loss: 0.6878 - accuracy: 0.5556 - 161ms/epoch - 2ms/step\n",
      "Epoch 17/100\n",
      "81/81 - 0s - loss: 0.6944 - accuracy: 0.5247 - 182ms/epoch - 2ms/step\n",
      "Epoch 18/100\n",
      "81/81 - 0s - loss: 0.6806 - accuracy: 0.5679 - 148ms/epoch - 2ms/step\n",
      "Epoch 19/100\n",
      "81/81 - 0s - loss: 0.6846 - accuracy: 0.5741 - 156ms/epoch - 2ms/step\n",
      "Epoch 20/100\n",
      "81/81 - 0s - loss: 0.6701 - accuracy: 0.6080 - 147ms/epoch - 2ms/step\n",
      "Epoch 21/100\n",
      "81/81 - 0s - loss: 0.6682 - accuracy: 0.6173 - 144ms/epoch - 2ms/step\n",
      "Epoch 22/100\n",
      "81/81 - 0s - loss: 0.6454 - accuracy: 0.6420 - 149ms/epoch - 2ms/step\n",
      "Epoch 23/100\n",
      "81/81 - 0s - loss: 0.6558 - accuracy: 0.6481 - 154ms/epoch - 2ms/step\n",
      "Epoch 24/100\n",
      "81/81 - 0s - loss: 0.6469 - accuracy: 0.6327 - 182ms/epoch - 2ms/step\n",
      "Epoch 25/100\n",
      "81/81 - 0s - loss: 0.6494 - accuracy: 0.6667 - 141ms/epoch - 2ms/step\n",
      "Epoch 26/100\n",
      "81/81 - 0s - loss: 0.5869 - accuracy: 0.7037 - 142ms/epoch - 2ms/step\n",
      "Epoch 27/100\n",
      "81/81 - 0s - loss: 0.6297 - accuracy: 0.6605 - 153ms/epoch - 2ms/step\n",
      "Epoch 28/100\n",
      "81/81 - 0s - loss: 0.5499 - accuracy: 0.7160 - 154ms/epoch - 2ms/step\n",
      "Epoch 29/100\n",
      "81/81 - 0s - loss: 0.5585 - accuracy: 0.7222 - 135ms/epoch - 2ms/step\n",
      "Epoch 30/100\n",
      "81/81 - 0s - loss: 0.5503 - accuracy: 0.7747 - 196ms/epoch - 2ms/step\n",
      "Epoch 31/100\n",
      "81/81 - 0s - loss: 0.5815 - accuracy: 0.7500 - 160ms/epoch - 2ms/step\n",
      "Epoch 32/100\n",
      "81/81 - 0s - loss: 0.5580 - accuracy: 0.7562 - 146ms/epoch - 2ms/step\n",
      "Epoch 33/100\n",
      "81/81 - 0s - loss: 0.5026 - accuracy: 0.7747 - 156ms/epoch - 2ms/step\n",
      "Epoch 34/100\n",
      "81/81 - 0s - loss: 0.5522 - accuracy: 0.7438 - 172ms/epoch - 2ms/step\n",
      "Epoch 35/100\n",
      "81/81 - 0s - loss: 0.5406 - accuracy: 0.7531 - 155ms/epoch - 2ms/step\n",
      "Epoch 36/100\n",
      "81/81 - 0s - loss: 0.4855 - accuracy: 0.7994 - 161ms/epoch - 2ms/step\n",
      "Epoch 37/100\n",
      "81/81 - 0s - loss: 0.5560 - accuracy: 0.7438 - 149ms/epoch - 2ms/step\n",
      "Epoch 38/100\n",
      "81/81 - 0s - loss: 0.5226 - accuracy: 0.7685 - 156ms/epoch - 2ms/step\n",
      "Epoch 39/100\n",
      "81/81 - 0s - loss: 0.5177 - accuracy: 0.7469 - 150ms/epoch - 2ms/step\n",
      "Epoch 40/100\n",
      "81/81 - 0s - loss: 0.5585 - accuracy: 0.7654 - 140ms/epoch - 2ms/step\n",
      "Epoch 41/100\n",
      "81/81 - 0s - loss: 0.5145 - accuracy: 0.7685 - 154ms/epoch - 2ms/step\n",
      "Epoch 42/100\n",
      "81/81 - 0s - loss: 0.4694 - accuracy: 0.7901 - 164ms/epoch - 2ms/step\n",
      "Epoch 43/100\n",
      "81/81 - 0s - loss: 0.5223 - accuracy: 0.7840 - 169ms/epoch - 2ms/step\n",
      "Epoch 44/100\n",
      "81/81 - 0s - loss: 0.5195 - accuracy: 0.7685 - 185ms/epoch - 2ms/step\n",
      "Epoch 45/100\n",
      "81/81 - 0s - loss: 0.4559 - accuracy: 0.8272 - 149ms/epoch - 2ms/step\n",
      "Epoch 46/100\n",
      "81/81 - 0s - loss: 0.4978 - accuracy: 0.7994 - 160ms/epoch - 2ms/step\n",
      "Epoch 47/100\n",
      "81/81 - 0s - loss: 0.4846 - accuracy: 0.7809 - 153ms/epoch - 2ms/step\n",
      "Epoch 48/100\n",
      "81/81 - 0s - loss: 0.4918 - accuracy: 0.8210 - 160ms/epoch - 2ms/step\n",
      "Epoch 49/100\n",
      "81/81 - 0s - loss: 0.4844 - accuracy: 0.8086 - 193ms/epoch - 2ms/step\n",
      "Epoch 50/100\n",
      "81/81 - 0s - loss: 0.4710 - accuracy: 0.8056 - 149ms/epoch - 2ms/step\n",
      "Epoch 51/100\n",
      "81/81 - 0s - loss: 0.4783 - accuracy: 0.7901 - 150ms/epoch - 2ms/step\n",
      "Epoch 52/100\n",
      "81/81 - 0s - loss: 0.4179 - accuracy: 0.8025 - 143ms/epoch - 2ms/step\n",
      "Epoch 53/100\n",
      "81/81 - 0s - loss: 0.4594 - accuracy: 0.8395 - 157ms/epoch - 2ms/step\n",
      "Epoch 54/100\n",
      "81/81 - 0s - loss: 0.4943 - accuracy: 0.7870 - 150ms/epoch - 2ms/step\n",
      "Epoch 55/100\n",
      "81/81 - 0s - loss: 0.4250 - accuracy: 0.8086 - 173ms/epoch - 2ms/step\n",
      "Epoch 56/100\n",
      "81/81 - 0s - loss: 0.4611 - accuracy: 0.8148 - 156ms/epoch - 2ms/step\n",
      "Epoch 57/100\n",
      "81/81 - 0s - loss: 0.4494 - accuracy: 0.8364 - 153ms/epoch - 2ms/step\n",
      "Epoch 58/100\n",
      "81/81 - 0s - loss: 0.4105 - accuracy: 0.8179 - 150ms/epoch - 2ms/step\n",
      "Epoch 59/100\n",
      "81/81 - 0s - loss: 0.4567 - accuracy: 0.8364 - 150ms/epoch - 2ms/step\n",
      "Epoch 60/100\n",
      "81/81 - 0s - loss: 0.4377 - accuracy: 0.8086 - 158ms/epoch - 2ms/step\n",
      "Epoch 61/100\n",
      "81/81 - 0s - loss: 0.4028 - accuracy: 0.8519 - 158ms/epoch - 2ms/step\n",
      "Epoch 62/100\n",
      "81/81 - 0s - loss: 0.4171 - accuracy: 0.8272 - 158ms/epoch - 2ms/step\n",
      "Epoch 63/100\n",
      "81/81 - 0s - loss: 0.4669 - accuracy: 0.7963 - 162ms/epoch - 2ms/step\n",
      "Epoch 64/100\n",
      "81/81 - 0s - loss: 0.4314 - accuracy: 0.8148 - 144ms/epoch - 2ms/step\n",
      "Epoch 65/100\n",
      "81/81 - 0s - loss: 0.4802 - accuracy: 0.8333 - 158ms/epoch - 2ms/step\n",
      "Epoch 66/100\n",
      "81/81 - 0s - loss: 0.4440 - accuracy: 0.8117 - 153ms/epoch - 2ms/step\n",
      "Epoch 67/100\n",
      "81/81 - 0s - loss: 0.4368 - accuracy: 0.8364 - 152ms/epoch - 2ms/step\n",
      "Epoch 68/100\n",
      "81/81 - 0s - loss: 0.4564 - accuracy: 0.8426 - 165ms/epoch - 2ms/step\n",
      "Epoch 69/100\n",
      "81/81 - 0s - loss: 0.4464 - accuracy: 0.8302 - 144ms/epoch - 2ms/step\n",
      "Epoch 70/100\n",
      "81/81 - 0s - loss: 0.4475 - accuracy: 0.8302 - 148ms/epoch - 2ms/step\n",
      "Epoch 71/100\n",
      "81/81 - 0s - loss: 0.4354 - accuracy: 0.8056 - 161ms/epoch - 2ms/step\n",
      "Epoch 72/100\n",
      "81/81 - 0s - loss: 0.4273 - accuracy: 0.8241 - 155ms/epoch - 2ms/step\n",
      "Epoch 73/100\n",
      "81/81 - 0s - loss: 0.4152 - accuracy: 0.8241 - 148ms/epoch - 2ms/step\n",
      "Epoch 74/100\n",
      "81/81 - 0s - loss: 0.3968 - accuracy: 0.8488 - 145ms/epoch - 2ms/step\n",
      "Epoch 75/100\n",
      "81/81 - 0s - loss: 0.3866 - accuracy: 0.8457 - 165ms/epoch - 2ms/step\n",
      "Epoch 76/100\n",
      "81/81 - 0s - loss: 0.4142 - accuracy: 0.8086 - 161ms/epoch - 2ms/step\n",
      "Epoch 77/100\n",
      "81/81 - 0s - loss: 0.4441 - accuracy: 0.8457 - 154ms/epoch - 2ms/step\n",
      "Epoch 78/100\n",
      "81/81 - 0s - loss: 0.4153 - accuracy: 0.8549 - 149ms/epoch - 2ms/step\n",
      "Epoch 79/100\n",
      "81/81 - 0s - loss: 0.3800 - accuracy: 0.8735 - 146ms/epoch - 2ms/step\n",
      "Epoch 80/100\n",
      "81/81 - 0s - loss: 0.3974 - accuracy: 0.8272 - 162ms/epoch - 2ms/step\n",
      "Epoch 81/100\n",
      "81/81 - 0s - loss: 0.5019 - accuracy: 0.8272 - 165ms/epoch - 2ms/step\n",
      "Epoch 82/100\n",
      "81/81 - 0s - loss: 0.4509 - accuracy: 0.8025 - 144ms/epoch - 2ms/step\n",
      "Epoch 83/100\n",
      "81/81 - 0s - loss: 0.4330 - accuracy: 0.8333 - 145ms/epoch - 2ms/step\n",
      "Epoch 84/100\n",
      "81/81 - 0s - loss: 0.4076 - accuracy: 0.8549 - 162ms/epoch - 2ms/step\n",
      "Epoch 85/100\n",
      "81/81 - 0s - loss: 0.4344 - accuracy: 0.8272 - 150ms/epoch - 2ms/step\n",
      "Epoch 86/100\n",
      "81/81 - 0s - loss: 0.3845 - accuracy: 0.8364 - 149ms/epoch - 2ms/step\n",
      "Epoch 87/100\n",
      "81/81 - 0s - loss: 0.4222 - accuracy: 0.8457 - 161ms/epoch - 2ms/step\n",
      "Epoch 88/100\n",
      "81/81 - 0s - loss: 0.3930 - accuracy: 0.8549 - 151ms/epoch - 2ms/step\n",
      "Epoch 89/100\n",
      "81/81 - 0s - loss: 0.3896 - accuracy: 0.8488 - 148ms/epoch - 2ms/step\n",
      "Epoch 90/100\n",
      "81/81 - 0s - loss: 0.4040 - accuracy: 0.8395 - 156ms/epoch - 2ms/step\n",
      "Epoch 91/100\n",
      "81/81 - 0s - loss: 0.3949 - accuracy: 0.8519 - 158ms/epoch - 2ms/step\n",
      "Epoch 92/100\n",
      "81/81 - 0s - loss: 0.3952 - accuracy: 0.8364 - 139ms/epoch - 2ms/step\n",
      "Epoch 93/100\n",
      "81/81 - 0s - loss: 0.3851 - accuracy: 0.8549 - 167ms/epoch - 2ms/step\n",
      "Epoch 94/100\n",
      "81/81 - 0s - loss: 0.4452 - accuracy: 0.8426 - 171ms/epoch - 2ms/step\n",
      "Epoch 95/100\n",
      "81/81 - 0s - loss: 0.4060 - accuracy: 0.8333 - 151ms/epoch - 2ms/step\n",
      "Epoch 96/100\n",
      "81/81 - 0s - loss: 0.3989 - accuracy: 0.8488 - 148ms/epoch - 2ms/step\n",
      "Epoch 97/100\n",
      "81/81 - 0s - loss: 0.4154 - accuracy: 0.8364 - 182ms/epoch - 2ms/step\n",
      "Epoch 98/100\n",
      "81/81 - 0s - loss: 0.3976 - accuracy: 0.8735 - 154ms/epoch - 2ms/step\n",
      "Epoch 99/100\n",
      "81/81 - 0s - loss: 0.4538 - accuracy: 0.8549 - 154ms/epoch - 2ms/step\n",
      "Epoch 100/100\n",
      "81/81 - 0s - loss: 0.4114 - accuracy: 0.8426 - 161ms/epoch - 2ms/step\n"
     ]
    }
   ],
   "source": [
    "import tensorflow as tf\n",
    "from tensorflow import keras\n",
    "from tensorflow.keras import layers\n",
    "from tensorflow.keras.models import Sequential\n",
    "mode = keras.Sequential([\n",
    "    keras.layers.Dense(64, input_dim=12, activation='relu'),\n",
    "    keras.layers.Dropout(0.5),#Dropout Layer\n",
    "    keras.layers.Dense(32, activation='relu'),\n",
    "    keras.layers.Dropout(0.5),#Dropout Layer\n",
    "    keras.layers.Dense(32, activation='relu'),\n",
    "    keras.layers.Dropout(0.5),#Dropout Layer\n",
    "    keras.layers.Dense(32, activation='relu'),\n",
    "    keras.layers.Dropout(0.5),#Dropout Layer\n",
    "    keras.layers.Dense(16, activation='relu'),\n",
    "    keras.layers.Dropout(0.5),#Dropout Layer\n",
    "    keras.layers.Dense(1, activation='sigmoid')\n",
    "])\n",
    "\n",
    "mode.compile(loss='binary_crossentropy', optimizer='adam', metrics=['accuracy'])\n",
    "\n",
    "history =mode.fit(X_train, y_train, epochs=100,verbose=2 ,batch_size=4)"
   ]
  },
  {
   "cell_type": "code",
   "execution_count": null,
   "id": "578564d6",
   "metadata": {
    "colab": {
     "base_uri": "https://localhost:8080/",
     "height": 573
    },
    "execution": {
     "iopub.execute_input": "2022-12-04T11:41:14.085434Z",
     "iopub.status.busy": "2022-12-04T11:41:14.084724Z",
     "iopub.status.idle": "2022-12-04T11:41:14.556162Z",
     "shell.execute_reply": "2022-12-04T11:41:14.554818Z"
    },
    "executionInfo": {
     "elapsed": 347,
     "status": "ok",
     "timestamp": 1670896839980,
     "user": {
      "displayName": "Franklin Nkokam Ngongang",
      "userId": "07081789311912667597"
     },
     "user_tz": 300
    },
    "id": "578564d6",
    "outputId": "4269acbc-5f61-4a58-e978-5de4aec532e5",
    "papermill": {
     "duration": 0.504427,
     "end_time": "2022-12-04T11:41:14.559083",
     "exception": false,
     "start_time": "2022-12-04T11:41:14.054656",
     "status": "completed"
    },
    "tags": []
   },
   "outputs": [
    {
     "data": {
      "image/png": "[encoded data removed]",
      "text/plain": [
       "<Figure size 432x288 with 1 Axes>"
      ]
     },
     "metadata": {
      "needs_background": "light"
     },
     "output_type": "display_data"
    },
    {
     "data": {
      "image/png": "[encoded data removed]",
      "text/plain": [
       "<Figure size 432x288 with 1 Axes>"
      ]
     },
     "metadata": {
      "needs_background": "light"
     },
     "output_type": "display_data"
    }
   ],
   "source": [
    "# summarize history for loss\n",
    "plt.plot(history.history['loss'])\n",
    "#plt.plot(history.history['val_loss'])\n",
    "plt.title('model loss')\n",
    "plt.ylabel('loss')\n",
    "plt.xlabel('epoch')\n",
    "plt.legend(['Train', 'Validation'], loc='upper left')\n",
    "plt.show()\n",
    "# summarize history for loss\n",
    "plt.plot(history.history['accuracy'])\n",
    "#plt.plot(history.history['val_loss'])\n",
    "plt.title('model accuracy')\n",
    "plt.ylabel('accuracy')\n",
    "plt.xlabel('epoch')\n",
    "plt.legend(['Train', 'Validation'], loc='upper left')\n",
    "plt.show()"
   ]
  },
  {
   "cell_type": "code",
   "execution_count": null,
   "id": "0d4a6ef9",
   "metadata": {
    "colab": {
     "base_uri": "https://localhost:8080/"
    },
    "execution": {
     "iopub.execute_input": "2022-12-04T11:41:14.622390Z",
     "iopub.status.busy": "2022-12-04T11:41:14.620885Z",
     "iopub.status.idle": "2022-12-04T11:41:14.935844Z",
     "shell.execute_reply": "2022-12-04T11:41:14.934271Z"
    },
    "executionInfo": {
     "elapsed": 366,
     "status": "ok",
     "timestamp": 1670896840339,
     "user": {
      "displayName": "Franklin Nkokam Ngongang",
      "userId": "07081789311912667597"
     },
     "user_tz": 300
    },
    "id": "0d4a6ef9",
    "outputId": "1dcdcb2e-58f2-4cb3-cb07-e83bc147eea7",
    "papermill": {
     "duration": 0.350066,
     "end_time": "2022-12-04T11:41:14.939428",
     "exception": false,
     "start_time": "2022-12-04T11:41:14.589362",
     "status": "completed"
    },
    "tags": []
   },
   "outputs": [
    {
     "name": "stdout",
     "output_type": "stream",
     "text": [
      "3/3 [==============================] - 0s 4ms/step - loss: 0.3183 - accuracy: 0.8659\n"
     ]
    },
    {
     "data": {
      "text/plain": [
       "[0.31828296184539795, 0.8658536672592163]"
      ]
     },
     "execution_count": 42,
     "metadata": {},
     "output_type": "execute_result"
    }
   ],
   "source": [
    "mode.evaluate(X_test, y_test)"
   ]
  },
  {
   "cell_type": "code",
   "execution_count": null,
   "id": "68c4ed26",
   "metadata": {
    "colab": {
     "base_uri": "https://localhost:8080/"
    },
    "execution": {
     "iopub.execute_input": "2022-12-04T11:41:15.002442Z",
     "iopub.status.busy": "2022-12-04T11:41:15.001752Z",
     "iopub.status.idle": "2022-12-04T11:41:15.248070Z",
     "shell.execute_reply": "2022-12-04T11:41:15.246529Z"
    },
    "executionInfo": {
     "elapsed": 28,
     "status": "ok",
     "timestamp": 1670896840500,
     "user": {
      "displayName": "Franklin Nkokam Ngongang",
      "userId": "07081789311912667597"
     },
     "user_tz": 300
    },
    "id": "68c4ed26",
    "outputId": "ae242207-4d78-4fd4-d4c0-c6352abbb541",
    "papermill": {
     "duration": 0.282731,
     "end_time": "2022-12-04T11:41:15.252514",
     "exception": false,
     "start_time": "2022-12-04T11:41:14.969783",
     "status": "completed"
    },
    "tags": []
   },
   "outputs": [
    {
     "name": "stdout",
     "output_type": "stream",
     "text": [
      "3/3 [==============================] - 0s 4ms/step\n"
     ]
    }
   ],
   "source": [
    "y_predicated=mode.predict(X_test).reshape(-1)\n"
   ]
  },
  {
   "cell_type": "code",
   "execution_count": null,
   "id": "cd0ebec4",
   "metadata": {
    "execution": {
     "iopub.execute_input": "2022-12-04T11:41:15.322008Z",
     "iopub.status.busy": "2022-12-04T11:41:15.320916Z",
     "iopub.status.idle": "2022-12-04T11:41:15.327349Z",
     "shell.execute_reply": "2022-12-04T11:41:15.326259Z"
    },
    "id": "cd0ebec4",
    "papermill": {
     "duration": 0.041543,
     "end_time": "2022-12-04T11:41:15.330238",
     "exception": false,
     "start_time": "2022-12-04T11:41:15.288695",
     "status": "completed"
    },
    "tags": []
   },
   "outputs": [],
   "source": [
    "y_predicated=np.round(y_predicated)\n",
    "#y_predicated"
   ]
  },
  {
   "cell_type": "code",
   "execution_count": null,
   "id": "c64512a6",
   "metadata": {
    "colab": {
     "base_uri": "https://localhost:8080/"
    },
    "execution": {
     "iopub.execute_input": "2022-12-04T11:41:15.393325Z",
     "iopub.status.busy": "2022-12-04T11:41:15.392052Z",
     "iopub.status.idle": "2022-12-04T11:41:15.405138Z",
     "shell.execute_reply": "2022-12-04T11:41:15.403388Z"
    },
    "executionInfo": {
     "elapsed": 25,
     "status": "ok",
     "timestamp": 1670896840503,
     "user": {
      "displayName": "Franklin Nkokam Ngongang",
      "userId": "07081789311912667597"
     },
     "user_tz": 300
    },
    "id": "c64512a6",
    "outputId": "9e770500-063b-4f28-effe-0ed98239a616",
    "papermill": {
     "duration": 0.04714,
     "end_time": "2022-12-04T11:41:15.407551",
     "exception": false,
     "start_time": "2022-12-04T11:41:15.360411",
     "status": "completed"
    },
    "tags": []
   },
   "outputs": [
    {
     "name": "stdout",
     "output_type": "stream",
     "text": [
      "              precision    recall  f1-score   support\n",
      "\n",
      "           0       0.84      0.90      0.87        42\n",
      "           1       0.89      0.82      0.86        40\n",
      "\n",
      "    accuracy                           0.87        82\n",
      "   macro avg       0.87      0.86      0.87        82\n",
      "weighted avg       0.87      0.87      0.87        82\n",
      "\n"
     ]
    }
   ],
   "source": [
    "print(classification_report(y_test, y_predicated))"
   ]
  },
  {
   "cell_type": "code",
   "execution_count": null,
   "id": "690f83f0",
   "metadata": {
    "colab": {
     "base_uri": "https://localhost:8080/",
     "height": 460
    },
    "execution": {
     "iopub.execute_input": "2022-12-04T11:41:15.475007Z",
     "iopub.status.busy": "2022-12-04T11:41:15.473763Z",
     "iopub.status.idle": "2022-12-04T11:41:15.796664Z",
     "shell.execute_reply": "2022-12-04T11:41:15.795325Z"
    },
    "executionInfo": {
     "elapsed": 435,
     "status": "ok",
     "timestamp": 1670896840923,
     "user": {
      "displayName": "Franklin Nkokam Ngongang",
      "userId": "07081789311912667597"
     },
     "user_tz": 300
    },
    "id": "690f83f0",
    "outputId": "5fc1454a-702c-410e-8358-b03b166ff03c",
    "papermill": {
     "duration": 0.360224,
     "end_time": "2022-12-04T11:41:15.799574",
     "exception": false,
     "start_time": "2022-12-04T11:41:15.439350",
     "status": "completed"
    },
    "tags": []
   },
   "outputs": [
    {
     "data": {
      "text/plain": [
       "Text(42.0, 0.5, 'Truth')"
      ]
     },
     "execution_count": 46,
     "metadata": {},
     "output_type": "execute_result"
    },
    {
     "data": {
      "image/png": "[encoded data removed]",
      "text/plain": [
       "<Figure size 504x504 with 2 Axes>"
      ]
     },
     "metadata": {
      "needs_background": "light"
     },
     "output_type": "display_data"
    }
   ],
   "source": [
    "y_predicated = model.predict(X_test)\n",
    "from sklearn.metrics import confusion_matrix\n",
    "cm = confusion_matrix(y_test, y_predicated)\n",
    "plt.figure(figsize = (7,7))\n",
    "sns.heatmap(cm, annot=True)\n",
    "plt.xlabel('Predicted')\n",
    "plt.ylabel('Truth')"
   ]
  },
  {
   "cell_type": "code",
   "execution_count": null,
   "id": "4172f7c5",
   "metadata": {
    "execution": {
     "iopub.execute_input": "2022-12-04T11:41:15.869709Z",
     "iopub.status.busy": "2022-12-04T11:41:15.868849Z",
     "iopub.status.idle": "2022-12-04T11:41:15.881324Z",
     "shell.execute_reply": "2022-12-04T11:41:15.880127Z"
    },
    "id": "4172f7c5",
    "papermill": {
     "duration": 0.050615,
     "end_time": "2022-12-04T11:41:15.884289",
     "exception": false,
     "start_time": "2022-12-04T11:41:15.833674",
     "status": "completed"
    },
    "tags": []
   },
   "outputs": [],
   "source": [
    "xp = model.predict(X_train)"
   ]
  },
  {
   "cell_type": "code",
   "execution_count": null,
   "id": "d1137113",
   "metadata": {
    "execution": {
     "iopub.execute_input": "2022-12-04T11:41:15.952269Z",
     "iopub.status.busy": "2022-12-04T11:41:15.950971Z",
     "iopub.status.idle": "2022-12-04T11:41:15.957431Z",
     "shell.execute_reply": "2022-12-04T11:41:15.955831Z"
    },
    "id": "d1137113",
    "papermill": {
     "duration": 0.04328,
     "end_time": "2022-12-04T11:41:15.960311",
     "exception": false,
     "start_time": "2022-12-04T11:41:15.917031",
     "status": "completed"
    },
    "tags": []
   },
   "outputs": [],
   "source": [
    "Y_pre = np.append(xp, y_predicated)\n",
    "model_resul = pd.DataFrame(Y_pre)\n"
   ]
  },
  {
   "cell_type": "code",
   "execution_count": null,
   "id": "4df21521",
   "metadata": {
    "colab": {
     "base_uri": "https://localhost:8080/",
     "height": 392
    },
    "execution": {
     "iopub.execute_input": "2022-12-04T11:41:16.027851Z",
     "iopub.status.busy": "2022-12-04T11:41:16.026614Z",
     "iopub.status.idle": "2022-12-04T11:41:16.295981Z",
     "shell.execute_reply": "2022-12-04T11:41:16.294568Z"
    },
    "executionInfo": {
     "elapsed": 249,
     "status": "ok",
     "timestamp": 1670896841166,
     "user": {
      "displayName": "Franklin Nkokam Ngongang",
      "userId": "07081789311912667597"
     },
     "user_tz": 300
    },
    "id": "4df21521",
    "outputId": "c935f160-3d3e-4f67-f17d-7b7837a9fa65",
    "papermill": {
     "duration": 0.305991,
     "end_time": "2022-12-04T11:41:16.298601",
     "exception": false,
     "start_time": "2022-12-04T11:41:15.992610",
     "status": "completed"
    },
    "tags": []
   },
   "outputs": [
    {
     "data": {
      "text/plain": [
       "Text(0, 0.5, 'cases_number')"
      ]
     },
     "execution_count": 49,
     "metadata": {},
     "output_type": "execute_result"
    },
    {
     "data": {
      "image/png": "[encoded data removed]",
      "text/plain": [
       "<Figure size 504x432 with 1 Axes>"
      ]
     },
     "metadata": {
      "needs_background": "light"
     },
     "output_type": "display_data"
    }
   ],
   "source": [
    "model_resul.plot.hist(figsize=(7,6))\n",
    "\n",
    "plt.ylabel('cases_number')"
   ]
  },
  {
   "cell_type": "code",
   "execution_count": null,
   "id": "7LfsiTeMNhho",
   "metadata": {
    "id": "7LfsiTeMNhho"
   },
   "outputs": [],
   "source": []
  }
 ],
 "metadata": {
  "colab": {
   "provenance": []
  },
  "kernelspec": {
   "display_name": "Python 3 (ipykernel)",
   "language": "python",
   "name": "python3"
  },
  "language_info": {
   "codemirror_mode": {
    "name": "ipython",
    "version": 3
   },
   "file_extension": ".py",
   "mimetype": "text/x-python",
   "name": "python",
   "nbconvert_exporter": "python",
   "pygments_lexer": "ipython3",
   "version": "3.9.12"
  },
  "papermill": {
   "default_parameters": {},
   "duration": 57.531594,
   "end_time": "2022-12-04T11:41:19.514568",
   "environment_variables": {},
   "exception": null,
   "input_path": "__notebook__.ipynb",
   "output_path": "__notebook__.ipynb",
   "parameters": {},
   "start_time": "2022-12-04T11:40:21.982974",
   "version": "2.3.4"
  }
 },
 "nbformat": 4,
 "nbformat_minor": 5
}
