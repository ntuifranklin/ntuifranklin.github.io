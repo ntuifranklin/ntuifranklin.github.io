{
  "cells": [
    {
      "cell_type": "markdown",
      "source": [
        "## Heart Failure Prediction\n",
        "### Group Members:\n",
        " #### Godwin Karngong\n",
        " #### Temitope Adetunji\n",
        " #### Franklin Nkokam Ngongang"
      ],
      "metadata": {
        "id": "WIA7q1DfXIQC"
      },
      "id": "WIA7q1DfXIQC"
    },
    {
      "cell_type": "markdown",
      "source": [
        "## Motivation\n",
        "#### Heart failure, also known as congestive heart failure, is a condition in which the heart is unable to pump sufficient blood to meet the body's needs. This can occur for a variety of reasons, including damage to the heart muscle due to a heart attack or other condition, or problems with the heart's structure that make it difficult for the heart to function properly.\tThere are different risk factors that can increase the chances of developing heart failure. One of the risk factors is high blood pressure. High blood pressure can cause damage to the heart and increase the chances of a hear failure. Another risk factor is Diabetes, high blood sugar levels can damage the blood vessels and nerves that are controlling the heart, which in turn increases the likelihood of a heart failure. A third risk factor is age, as you age your muscles start to weaken which can increase the risk of heart failure in the muscles of the heart. Anemia is also a increases the risk of heart failure by causing cardiac stress further adding stress to the heart. Other risk factors for heart failure includes smoking, sex, serum sodium levels, serum creatinine levels, platelets levels, creatinine phosphokinase levels and previous family history of heart failure."
      ],
      "metadata": {
        "id": "jEj3zQgFjjrN"
      },
      "id": "jEj3zQgFjjrN"
    },
    {
      "cell_type": "markdown",
      "source": [
        "Cardiovascular diseases (CVD) are the number one cause of death globally, killing over 17 million people every year. This accounts for 31% of deaths worldwide. Creating a model to predict mortality caused by heart failure can be of great use to prevent this high numbers of mortality every year. People with cardiovascular diseases or who are of high risk (due to the presence of one or many risk factors such as hypertension, diabetes or other diseases) will benefit from early detection, prevention and management wherein a data science and machine learning model can help greatly. Understanding this data will help physicians and other healthcare workers around the world treat their patients better. Improving the overall health of the people from different cultures and countries."
      ],
      "metadata": {
        "id": "S5x7-MwPjo0T"
      },
      "id": "S5x7-MwPjo0T"
    },
    {
      "cell_type": "markdown",
      "source": [
        "Importing pandas which is help open the file and work with relational or labeled data both easily and intuitively. We are also importing numpy which will help can access and manipulate data in arrays very efficiently. Importing Seaborn will provides a high-level interface for drawing attractive and informative statistical graphics while representing our data. Importing math plotlib will help show plot our data using different graphs, bar plots and so on"
      ],
      "metadata": {
        "id": "Ic-pZyt-jsZB"
      },
      "id": "Ic-pZyt-jsZB"
    },
    {
      "cell_type": "code",
      "source": [
        "import pandas as pd\n",
        "import numpy as np\n",
        "import seaborn as sns\n",
        "import matplotlib.pylab as plt\n",
        "import warnings\n",
        "warnings.filterwarnings(\"ignore\")\n",
        "import plotly.express as px\n",
        "import plotly.graph_objs as go"
      ],
      "metadata": {
        "id": "Mxs7Zc1xWucL"
      },
      "id": "Mxs7Zc1xWucL",
      "execution_count": 1,
      "outputs": []
    },
    {
      "cell_type": "markdown",
      "source": [
        "### Using the python panda library to read and extract the dataset. This will retrieve data in the form of the Dataframe and allow data visualization, We will also call the head() function will show a preview our data in rows and columns"
      ],
      "metadata": {
        "id": "mX3G-xyfp1kW"
      },
      "id": "mX3G-xyfp1kW"
    },
    {
      "cell_type": "code",
      "execution_count": 2,
      "id": "581f4ad1-9fa1-4d3b-adcc-af8679cabda5",
      "metadata": {
        "id": "581f4ad1-9fa1-4d3b-adcc-af8679cabda5",
        "colab": {
          "base_uri": "https://localhost:8080/",
          "height": 427
        },
        "outputId": "15170ea4-9418-4dbc-b638-0e660f6136dc"
      },
      "outputs": [
        {
          "output_type": "execute_result",
          "data": {
            "text/plain": [
              "    age  anaemia  creatinine_phosphokinase  diabetes  ejection_fraction  \\\n",
              "0  75.0        0                       582         0                 20   \n",
              "1  55.0        0                      7861         0                 38   \n",
              "2  65.0        0                       146         0                 20   \n",
              "3  50.0        1                       111         0                 20   \n",
              "4  65.0        1                       160         1                 20   \n",
              "5  90.0        1                        47         0                 40   \n",
              "6  75.0        1                       246         0                 15   \n",
              "7  60.0        1                       315         1                 60   \n",
              "8  65.0        0                       157         0                 65   \n",
              "9  80.0        1                       123         0                 35   \n",
              "\n",
              "   high_blood_pressure  platelets  serum_creatinine  serum_sodium  sex  \\\n",
              "0                    1  265000.00               1.9           130    1   \n",
              "1                    0  263358.03               1.1           136    1   \n",
              "2                    0  162000.00               1.3           129    1   \n",
              "3                    0  210000.00               1.9           137    1   \n",
              "4                    0  327000.00               2.7           116    0   \n",
              "5                    1  204000.00               2.1           132    1   \n",
              "6                    0  127000.00               1.2           137    1   \n",
              "7                    0  454000.00               1.1           131    1   \n",
              "8                    0  263358.03               1.5           138    0   \n",
              "9                    1  388000.00               9.4           133    1   \n",
              "\n",
              "   smoking  time  DEATH_EVENT  \n",
              "0        0     4            1  \n",
              "1        0     6            1  \n",
              "2        1     7            1  \n",
              "3        0     7            1  \n",
              "4        0     8            1  \n",
              "5        1     8            1  \n",
              "6        0    10            1  \n",
              "7        1    10            1  \n",
              "8        0    10            1  \n",
              "9        1    10            1  "
            ],
            "text/html": [
              "\n",
              "  <div id=\"df-806a2071-51f0-4112-9a27-e8609fb77076\">\n",
              "    <div class=\"colab-df-container\">\n",
              "      <div>\n",
              "<style scoped>\n",
              "    .dataframe tbody tr th:only-of-type {\n",
              "        vertical-align: middle;\n",
              "    }\n",
              "\n",
              "    .dataframe tbody tr th {\n",
              "        vertical-align: top;\n",
              "    }\n",
              "\n",
              "    .dataframe thead th {\n",
              "        text-align: right;\n",
              "    }\n",
              "</style>\n",
              "<table border=\"1\" class=\"dataframe\">\n",
              "  <thead>\n",
              "    <tr style=\"text-align: right;\">\n",
              "      <th></th>\n",
              "      <th>age</th>\n",
              "      <th>anaemia</th>\n",
              "      <th>creatinine_phosphokinase</th>\n",
              "      <th>diabetes</th>\n",
              "      <th>ejection_fraction</th>\n",
              "      <th>high_blood_pressure</th>\n",
              "      <th>platelets</th>\n",
              "      <th>serum_creatinine</th>\n",
              "      <th>serum_sodium</th>\n",
              "      <th>sex</th>\n",
              "      <th>smoking</th>\n",
              "      <th>time</th>\n",
              "      <th>DEATH_EVENT</th>\n",
              "    </tr>\n",
              "  </thead>\n",
              "  <tbody>\n",
              "    <tr>\n",
              "      <th>0</th>\n",
              "      <td>75.0</td>\n",
              "      <td>0</td>\n",
              "      <td>582</td>\n",
              "      <td>0</td>\n",
              "      <td>20</td>\n",
              "      <td>1</td>\n",
              "      <td>265000.00</td>\n",
              "      <td>1.9</td>\n",
              "      <td>130</td>\n",
              "      <td>1</td>\n",
              "      <td>0</td>\n",
              "      <td>4</td>\n",
              "      <td>1</td>\n",
              "    </tr>\n",
              "    <tr>\n",
              "      <th>1</th>\n",
              "      <td>55.0</td>\n",
              "      <td>0</td>\n",
              "      <td>7861</td>\n",
              "      <td>0</td>\n",
              "      <td>38</td>\n",
              "      <td>0</td>\n",
              "      <td>263358.03</td>\n",
              "      <td>1.1</td>\n",
              "      <td>136</td>\n",
              "      <td>1</td>\n",
              "      <td>0</td>\n",
              "      <td>6</td>\n",
              "      <td>1</td>\n",
              "    </tr>\n",
              "    <tr>\n",
              "      <th>2</th>\n",
              "      <td>65.0</td>\n",
              "      <td>0</td>\n",
              "      <td>146</td>\n",
              "      <td>0</td>\n",
              "      <td>20</td>\n",
              "      <td>0</td>\n",
              "      <td>162000.00</td>\n",
              "      <td>1.3</td>\n",
              "      <td>129</td>\n",
              "      <td>1</td>\n",
              "      <td>1</td>\n",
              "      <td>7</td>\n",
              "      <td>1</td>\n",
              "    </tr>\n",
              "    <tr>\n",
              "      <th>3</th>\n",
              "      <td>50.0</td>\n",
              "      <td>1</td>\n",
              "      <td>111</td>\n",
              "      <td>0</td>\n",
              "      <td>20</td>\n",
              "      <td>0</td>\n",
              "      <td>210000.00</td>\n",
              "      <td>1.9</td>\n",
              "      <td>137</td>\n",
              "      <td>1</td>\n",
              "      <td>0</td>\n",
              "      <td>7</td>\n",
              "      <td>1</td>\n",
              "    </tr>\n",
              "    <tr>\n",
              "      <th>4</th>\n",
              "      <td>65.0</td>\n",
              "      <td>1</td>\n",
              "      <td>160</td>\n",
              "      <td>1</td>\n",
              "      <td>20</td>\n",
              "      <td>0</td>\n",
              "      <td>327000.00</td>\n",
              "      <td>2.7</td>\n",
              "      <td>116</td>\n",
              "      <td>0</td>\n",
              "      <td>0</td>\n",
              "      <td>8</td>\n",
              "      <td>1</td>\n",
              "    </tr>\n",
              "    <tr>\n",
              "      <th>5</th>\n",
              "      <td>90.0</td>\n",
              "      <td>1</td>\n",
              "      <td>47</td>\n",
              "      <td>0</td>\n",
              "      <td>40</td>\n",
              "      <td>1</td>\n",
              "      <td>204000.00</td>\n",
              "      <td>2.1</td>\n",
              "      <td>132</td>\n",
              "      <td>1</td>\n",
              "      <td>1</td>\n",
              "      <td>8</td>\n",
              "      <td>1</td>\n",
              "    </tr>\n",
              "    <tr>\n",
              "      <th>6</th>\n",
              "      <td>75.0</td>\n",
              "      <td>1</td>\n",
              "      <td>246</td>\n",
              "      <td>0</td>\n",
              "      <td>15</td>\n",
              "      <td>0</td>\n",
              "      <td>127000.00</td>\n",
              "      <td>1.2</td>\n",
              "      <td>137</td>\n",
              "      <td>1</td>\n",
              "      <td>0</td>\n",
              "      <td>10</td>\n",
              "      <td>1</td>\n",
              "    </tr>\n",
              "    <tr>\n",
              "      <th>7</th>\n",
              "      <td>60.0</td>\n",
              "      <td>1</td>\n",
              "      <td>315</td>\n",
              "      <td>1</td>\n",
              "      <td>60</td>\n",
              "      <td>0</td>\n",
              "      <td>454000.00</td>\n",
              "      <td>1.1</td>\n",
              "      <td>131</td>\n",
              "      <td>1</td>\n",
              "      <td>1</td>\n",
              "      <td>10</td>\n",
              "      <td>1</td>\n",
              "    </tr>\n",
              "    <tr>\n",
              "      <th>8</th>\n",
              "      <td>65.0</td>\n",
              "      <td>0</td>\n",
              "      <td>157</td>\n",
              "      <td>0</td>\n",
              "      <td>65</td>\n",
              "      <td>0</td>\n",
              "      <td>263358.03</td>\n",
              "      <td>1.5</td>\n",
              "      <td>138</td>\n",
              "      <td>0</td>\n",
              "      <td>0</td>\n",
              "      <td>10</td>\n",
              "      <td>1</td>\n",
              "    </tr>\n",
              "    <tr>\n",
              "      <th>9</th>\n",
              "      <td>80.0</td>\n",
              "      <td>1</td>\n",
              "      <td>123</td>\n",
              "      <td>0</td>\n",
              "      <td>35</td>\n",
              "      <td>1</td>\n",
              "      <td>388000.00</td>\n",
              "      <td>9.4</td>\n",
              "      <td>133</td>\n",
              "      <td>1</td>\n",
              "      <td>1</td>\n",
              "      <td>10</td>\n",
              "      <td>1</td>\n",
              "    </tr>\n",
              "  </tbody>\n",
              "</table>\n",
              "</div>\n",
              "      <button class=\"colab-df-convert\" onclick=\"convertToInteractive('df-806a2071-51f0-4112-9a27-e8609fb77076')\"\n",
              "              title=\"Convert this dataframe to an interactive table.\"\n",
              "              style=\"display:none;\">\n",
              "        \n",
              "  <svg xmlns=\"http://www.w3.org/2000/svg\" height=\"24px\"viewBox=\"0 0 24 24\"\n",
              "       width=\"24px\">\n",
              "    <path d=\"M0 0h24v24H0V0z\" fill=\"none\"/>\n",
              "    <path d=\"M18.56 5.44l.94 2.06.94-2.06 2.06-.94-2.06-.94-.94-2.06-.94 2.06-2.06.94zm-11 1L8.5 8.5l.94-2.06 2.06-.94-2.06-.94L8.5 2.5l-.94 2.06-2.06.94zm10 10l.94 2.06.94-2.06 2.06-.94-2.06-.94-.94-2.06-.94 2.06-2.06.94z\"/><path d=\"M17.41 7.96l-1.37-1.37c-.4-.4-.92-.59-1.43-.59-.52 0-1.04.2-1.43.59L10.3 9.45l-7.72 7.72c-.78.78-.78 2.05 0 2.83L4 21.41c.39.39.9.59 1.41.59.51 0 1.02-.2 1.41-.59l7.78-7.78 2.81-2.81c.8-.78.8-2.07 0-2.86zM5.41 20L4 18.59l7.72-7.72 1.47 1.35L5.41 20z\"/>\n",
              "  </svg>\n",
              "      </button>\n",
              "      \n",
              "  <style>\n",
              "    .colab-df-container {\n",
              "      display:flex;\n",
              "      flex-wrap:wrap;\n",
              "      gap: 12px;\n",
              "    }\n",
              "\n",
              "    .colab-df-convert {\n",
              "      background-color: #E8F0FE;\n",
              "      border: none;\n",
              "      border-radius: 50%;\n",
              "      cursor: pointer;\n",
              "      display: none;\n",
              "      fill: #1967D2;\n",
              "      height: 32px;\n",
              "      padding: 0 0 0 0;\n",
              "      width: 32px;\n",
              "    }\n",
              "\n",
              "    .colab-df-convert:hover {\n",
              "      background-color: #E2EBFA;\n",
              "      box-shadow: 0px 1px 2px rgba(60, 64, 67, 0.3), 0px 1px 3px 1px rgba(60, 64, 67, 0.15);\n",
              "      fill: #174EA6;\n",
              "    }\n",
              "\n",
              "    [theme=dark] .colab-df-convert {\n",
              "      background-color: #3B4455;\n",
              "      fill: #D2E3FC;\n",
              "    }\n",
              "\n",
              "    [theme=dark] .colab-df-convert:hover {\n",
              "      background-color: #434B5C;\n",
              "      box-shadow: 0px 1px 3px 1px rgba(0, 0, 0, 0.15);\n",
              "      filter: drop-shadow(0px 1px 2px rgba(0, 0, 0, 0.3));\n",
              "      fill: #FFFFFF;\n",
              "    }\n",
              "  </style>\n",
              "\n",
              "      <script>\n",
              "        const buttonEl =\n",
              "          document.querySelector('#df-806a2071-51f0-4112-9a27-e8609fb77076 button.colab-df-convert');\n",
              "        buttonEl.style.display =\n",
              "          google.colab.kernel.accessAllowed ? 'block' : 'none';\n",
              "\n",
              "        async function convertToInteractive(key) {\n",
              "          const element = document.querySelector('#df-806a2071-51f0-4112-9a27-e8609fb77076');\n",
              "          const dataTable =\n",
              "            await google.colab.kernel.invokeFunction('convertToInteractive',\n",
              "                                                     [key], {});\n",
              "          if (!dataTable) return;\n",
              "\n",
              "          const docLinkHtml = 'Like what you see? Visit the ' +\n",
              "            '<a target=\"_blank\" href=https://colab.research.google.com/notebooks/data_table.ipynb>data table notebook</a>'\n",
              "            + ' to learn more about interactive tables.';\n",
              "          element.innerHTML = '';\n",
              "          dataTable['output_type'] = 'display_data';\n",
              "          await google.colab.output.renderOutput(dataTable, element);\n",
              "          const docLink = document.createElement('div');\n",
              "          docLink.innerHTML = docLinkHtml;\n",
              "          element.appendChild(docLink);\n",
              "        }\n",
              "      </script>\n",
              "    </div>\n",
              "  </div>\n",
              "  "
            ]
          },
          "metadata": {},
          "execution_count": 2
        }
      ],
      "source": [
        "dataset = 'heart_failure_clinical_records_dataset.xls'\n",
        "df=pd.read_csv(dataset)\n",
        "df.head(10)"
      ]
    },
    {
      "cell_type": "markdown",
      "source": [
        "Calculating the mean age of the participants in this study. As we know age is the biggest indicator of high blood pressure which can increase the chances of heart faliure. This important to understand as age is one of the risk factors that cannot be controlled"
      ],
      "metadata": {
        "id": "6mIizV90qH_n"
      },
      "id": "6mIizV90qH_n"
    },
    {
      "cell_type": "code",
      "source": [
        "df2 = df[\"age\"].mean()\n",
        "df2"
      ],
      "metadata": {
        "colab": {
          "base_uri": "https://localhost:8080/"
        },
        "id": "hm37pgxRqJTD",
        "outputId": "e5bbde4e-75ea-404e-a1ff-fac1fa99fdf8"
      },
      "id": "hm37pgxRqJTD",
      "execution_count": 3,
      "outputs": [
        {
          "output_type": "execute_result",
          "data": {
            "text/plain": [
              "60.83389297658862"
            ]
          },
          "metadata": {},
          "execution_count": 3
        }
      ]
    },
    {
      "cell_type": "markdown",
      "source": [
        "This plot shows the different ages and how frequent each age is in our data set. Although our average age is 60.83, This graph shows that people all the way from the ages 40 to age 95 were present in this data. We can also visualize a the highest age count in age 60, also a high count for ages 45,65 and 70"
      ],
      "metadata": {
        "id": "pj6WJIUsqRhF"
      },
      "id": "pj6WJIUsqRhF"
    },
    {
      "cell_type": "code",
      "source": [
        "plt.subplots(figsize=(30,10))\n",
        "sns.countplot(data=df,x='age',palette=\"flare\")\n",
        "plt.title( 'All Ages')\n",
        "plt.show()"
      ],
      "metadata": {
        "colab": {
          "base_uri": "https://localhost:8080/",
          "height": 322
        },
        "id": "poh9upRVqVk0",
        "outputId": "1b83188f-c1b9-4cdf-dd1f-0c82e3999a9e"
      },
      "id": "poh9upRVqVk0",
      "execution_count": 4,
      "outputs": [
        {
          "output_type": "display_data",
          "data": {
            "text/plain": [
              "<Figure size 2160x720 with 1 Axes>"
            ],
            "image/png": "[encoded data removed]"
          },
          "metadata": {
            "needs_background": "light"
          }
        }
      ]
    },
    {
      "cell_type": "code",
      "source": [
        "df.drop_duplicates(inplace=True)"
      ],
      "metadata": {
        "id": "9WTjluKvqZEe"
      },
      "id": "9WTjluKvqZEe",
      "execution_count": 5,
      "outputs": []
    },
    {
      "cell_type": "code",
      "source": [
        "df.info()"
      ],
      "metadata": {
        "colab": {
          "base_uri": "https://localhost:8080/"
        },
        "id": "XFeICCRWqaWN",
        "outputId": "17fd28f8-3c4d-4c43-9d5d-17de8b40cc4c"
      },
      "id": "XFeICCRWqaWN",
      "execution_count": 6,
      "outputs": [
        {
          "output_type": "stream",
          "name": "stdout",
          "text": [
            "<class 'pandas.core.frame.DataFrame'>\n",
            "Int64Index: 299 entries, 0 to 298\n",
            "Data columns (total 13 columns):\n",
            " #   Column                    Non-Null Count  Dtype  \n",
            "---  ------                    --------------  -----  \n",
            " 0   age                       299 non-null    float64\n",
            " 1   anaemia                   299 non-null    int64  \n",
            " 2   creatinine_phosphokinase  299 non-null    int64  \n",
            " 3   diabetes                  299 non-null    int64  \n",
            " 4   ejection_fraction         299 non-null    int64  \n",
            " 5   high_blood_pressure       299 non-null    int64  \n",
            " 6   platelets                 299 non-null    float64\n",
            " 7   serum_creatinine          299 non-null    float64\n",
            " 8   serum_sodium              299 non-null    int64  \n",
            " 9   sex                       299 non-null    int64  \n",
            " 10  smoking                   299 non-null    int64  \n",
            " 11  time                      299 non-null    int64  \n",
            " 12  DEATH_EVENT               299 non-null    int64  \n",
            "dtypes: float64(3), int64(10)\n",
            "memory usage: 32.7 KB\n"
          ]
        }
      ]
    },
    {
      "cell_type": "code",
      "execution_count": 7,
      "id": "87945a6b",
      "metadata": {
        "execution": {
          "iopub.execute_input": "2022-12-04T11:40:36.180923Z",
          "iopub.status.busy": "2022-12-04T11:40:36.179617Z",
          "iopub.status.idle": "2022-12-04T11:40:36.213217Z",
          "shell.execute_reply": "2022-12-04T11:40:36.211453Z"
        },
        "papermill": {
          "duration": 0.047944,
          "end_time": "2022-12-04T11:40:36.216212",
          "exception": false,
          "start_time": "2022-12-04T11:40:36.168268",
          "status": "completed"
        },
        "tags": [],
        "colab": {
          "base_uri": "https://localhost:8080/"
        },
        "id": "87945a6b",
        "outputId": "3308af3f-8704-4c50-ec56-bd297e2a3588"
      },
      "outputs": [
        {
          "output_type": "stream",
          "name": "stdout",
          "text": [
            "<class 'pandas.core.frame.DataFrame'>\n",
            "Int64Index: 299 entries, 0 to 298\n",
            "Data columns (total 13 columns):\n",
            " #   Column                    Non-Null Count  Dtype  \n",
            "---  ------                    --------------  -----  \n",
            " 0   age                       299 non-null    float64\n",
            " 1   anaemia                   299 non-null    int64  \n",
            " 2   creatinine_phosphokinase  299 non-null    int64  \n",
            " 3   diabetes                  299 non-null    int64  \n",
            " 4   ejection_fraction         299 non-null    int64  \n",
            " 5   high_blood_pressure       299 non-null    int64  \n",
            " 6   platelets                 299 non-null    float64\n",
            " 7   serum_creatinine          299 non-null    float64\n",
            " 8   serum_sodium              299 non-null    int64  \n",
            " 9   sex                       299 non-null    int64  \n",
            " 10  smoking                   299 non-null    int64  \n",
            " 11  time                      299 non-null    int64  \n",
            " 12  DEATH_EVENT               299 non-null    int64  \n",
            "dtypes: float64(3), int64(10)\n",
            "memory usage: 32.7 KB\n"
          ]
        }
      ],
      "source": [
        "df.info()"
      ]
    },
    {
      "cell_type": "code",
      "execution_count": 8,
      "id": "41622633",
      "metadata": {
        "execution": {
          "iopub.execute_input": "2022-12-04T11:40:36.238389Z",
          "iopub.status.busy": "2022-12-04T11:40:36.237880Z",
          "iopub.status.idle": "2022-12-04T11:40:36.245689Z",
          "shell.execute_reply": "2022-12-04T11:40:36.244817Z"
        },
        "papermill": {
          "duration": 0.021592,
          "end_time": "2022-12-04T11:40:36.247985",
          "exception": false,
          "start_time": "2022-12-04T11:40:36.226393",
          "status": "completed"
        },
        "tags": [],
        "colab": {
          "base_uri": "https://localhost:8080/"
        },
        "id": "41622633",
        "outputId": "91b57445-a3d3-46c0-ee28-c611ad4fe4de"
      },
      "outputs": [
        {
          "output_type": "execute_result",
          "data": {
            "text/plain": [
              "(299, 13)"
            ]
          },
          "metadata": {},
          "execution_count": 8
        }
      ],
      "source": [
        "df.shape"
      ]
    },
    {
      "cell_type": "code",
      "execution_count": 9,
      "id": "a0d52972",
      "metadata": {
        "execution": {
          "iopub.execute_input": "2022-12-04T11:40:36.272937Z",
          "iopub.status.busy": "2022-12-04T11:40:36.272122Z",
          "iopub.status.idle": "2022-12-04T11:40:36.282721Z",
          "shell.execute_reply": "2022-12-04T11:40:36.281397Z"
        },
        "papermill": {
          "duration": 0.025857,
          "end_time": "2022-12-04T11:40:36.285340",
          "exception": false,
          "start_time": "2022-12-04T11:40:36.259483",
          "status": "completed"
        },
        "tags": [],
        "colab": {
          "base_uri": "https://localhost:8080/"
        },
        "id": "a0d52972",
        "outputId": "b31fba3c-27b9-41a2-a19b-2236b1900923"
      },
      "outputs": [
        {
          "output_type": "execute_result",
          "data": {
            "text/plain": [
              "age                         0\n",
              "anaemia                     0\n",
              "creatinine_phosphokinase    0\n",
              "diabetes                    0\n",
              "ejection_fraction           0\n",
              "high_blood_pressure         0\n",
              "platelets                   0\n",
              "serum_creatinine            0\n",
              "serum_sodium                0\n",
              "sex                         0\n",
              "smoking                     0\n",
              "time                        0\n",
              "DEATH_EVENT                 0\n",
              "dtype: int64"
            ]
          },
          "metadata": {},
          "execution_count": 9
        }
      ],
      "source": [
        "df.isnull().sum()"
      ]
    },
    {
      "cell_type": "code",
      "execution_count": 10,
      "id": "5e4a6ddd",
      "metadata": {
        "execution": {
          "iopub.execute_input": "2022-12-04T11:40:36.309000Z",
          "iopub.status.busy": "2022-12-04T11:40:36.308040Z",
          "iopub.status.idle": "2022-12-04T11:40:36.319970Z",
          "shell.execute_reply": "2022-12-04T11:40:36.318660Z"
        },
        "papermill": {
          "duration": 0.026545,
          "end_time": "2022-12-04T11:40:36.322525",
          "exception": false,
          "start_time": "2022-12-04T11:40:36.295980",
          "status": "completed"
        },
        "tags": [],
        "colab": {
          "base_uri": "https://localhost:8080/"
        },
        "id": "5e4a6ddd",
        "outputId": "a8badc9d-45b1-4966-b6ef-e51f847e8f99"
      },
      "outputs": [
        {
          "output_type": "execute_result",
          "data": {
            "text/plain": [
              "0"
            ]
          },
          "metadata": {},
          "execution_count": 10
        }
      ],
      "source": [
        "df.duplicated().sum()"
      ]
    },
    {
      "cell_type": "code",
      "source": [
        "import plotly.express as px\n",
        "import plotly.graph_objs as go"
      ],
      "metadata": {
        "id": "_Z02iwC4qm5R"
      },
      "id": "_Z02iwC4qm5R",
      "execution_count": 11,
      "outputs": []
    },
    {
      "cell_type": "code",
      "execution_count": 12,
      "id": "d3025f3e",
      "metadata": {
        "execution": {
          "iopub.execute_input": "2022-12-04T11:40:36.346793Z",
          "iopub.status.busy": "2022-12-04T11:40:36.345143Z",
          "iopub.status.idle": "2022-12-04T11:40:36.355617Z",
          "shell.execute_reply": "2022-12-04T11:40:36.354514Z"
        },
        "papermill": {
          "duration": 0.025557,
          "end_time": "2022-12-04T11:40:36.358769",
          "exception": false,
          "start_time": "2022-12-04T11:40:36.333212",
          "status": "completed"
        },
        "tags": [],
        "colab": {
          "base_uri": "https://localhost:8080/"
        },
        "id": "d3025f3e",
        "outputId": "126fff5c-7e3d-428a-b873-4a2ad2e25a1f"
      },
      "outputs": [
        {
          "output_type": "stream",
          "name": "stdout",
          "text": [
            "age = 47\n",
            "anaemia = 2\n",
            "creatinine_phosphokinase = 208\n",
            "diabetes = 2\n",
            "ejection_fraction = 17\n",
            "high_blood_pressure = 2\n",
            "platelets = 176\n",
            "serum_creatinine = 40\n",
            "serum_sodium = 27\n",
            "sex = 2\n",
            "smoking = 2\n",
            "time = 148\n",
            "DEATH_EVENT = 2\n"
          ]
        }
      ],
      "source": [
        "x = []\n",
        "y = []\n",
        "features=df.columns\n",
        "for feature in features:\n",
        "     x.append(feature)\n",
        "     y.append(df[feature].mean())\n",
        "     print(f'{feature} = {df[feature].nunique()}')"
      ]
    },
    {
      "cell_type": "markdown",
      "source": [
        "### Scatterplot between continuous variables and density distribution it can check correlation between continuous variables by output"
      ],
      "metadata": {
        "id": "Y79Vc_bErar-"
      },
      "id": "Y79Vc_bErar-"
    },
    {
      "cell_type": "code",
      "source": [
        "continous_var = [\"age\",\"anaemia\",\"high_blood_pressure\",\"diabetes\",\"platelets\"] \n",
        "sns.pairplot(df[continous_var])"
      ],
      "metadata": {
        "colab": {
          "base_uri": "https://localhost:8080/",
          "height": 901
        },
        "id": "Y_O4Ve-krfnl",
        "outputId": "948944c4-020d-4bc3-c945-8c99e762ca95"
      },
      "id": "Y_O4Ve-krfnl",
      "execution_count": 13,
      "outputs": [
        {
          "output_type": "execute_result",
          "data": {
            "text/plain": [
              "<seaborn.axisgrid.PairGrid at 0x7f095fce94f0>"
            ]
          },
          "metadata": {},
          "execution_count": 13
        },
        {
          "output_type": "display_data",
          "data": {
            "text/plain": [
              "<Figure size 900x900 with 30 Axes>"
            ],
            "image/png": "[encoded data removed]"
          },
          "metadata": {
            "needs_background": "light"
          }
        }
      ]
    },
    {
      "cell_type": "code",
      "source": [
        "data2 = df.describe()\n",
        "data2.T.sort_values(ascending =0,by='mean').style.background_gradient(cmap='BuGn').bar(subset=['std'], color='pink').bar(subset=['mean'], color='purple')"
      ],
      "metadata": {
        "colab": {
          "base_uri": "https://localhost:8080/",
          "height": 477
        },
        "id": "8N5jmtARrkah",
        "outputId": "bae977e0-a997-47fd-bf20-fa1e79aaae7b"
      },
      "id": "8N5jmtARrkah",
      "execution_count": 14,
      "outputs": [
        {
          "output_type": "execute_result",
          "data": {
            "text/plain": [
              "<pandas.io.formats.style.Styler at 0x7f095f88b970>"
            ],
            "text/html": [
              "<style type=\"text/css\">\n",
              "#T_25d78_row0_col0, #T_25d78_row1_col0, #T_25d78_row1_col3, #T_25d78_row1_col4, #T_25d78_row1_col5, #T_25d78_row1_col6, #T_25d78_row2_col0, #T_25d78_row2_col4, #T_25d78_row2_col5, #T_25d78_row2_col6, #T_25d78_row2_col7, #T_25d78_row3_col0, #T_25d78_row3_col3, #T_25d78_row3_col4, #T_25d78_row3_col5, #T_25d78_row3_col6, #T_25d78_row3_col7, #T_25d78_row4_col0, #T_25d78_row4_col3, #T_25d78_row4_col4, #T_25d78_row4_col5, #T_25d78_row4_col6, #T_25d78_row4_col7, #T_25d78_row5_col0, #T_25d78_row5_col3, #T_25d78_row5_col4, #T_25d78_row5_col5, #T_25d78_row5_col6, #T_25d78_row5_col7, #T_25d78_row6_col0, #T_25d78_row6_col3, #T_25d78_row6_col4, #T_25d78_row6_col5, #T_25d78_row6_col6, #T_25d78_row6_col7, #T_25d78_row7_col0, #T_25d78_row7_col3, #T_25d78_row7_col4, #T_25d78_row7_col5, #T_25d78_row7_col6, #T_25d78_row7_col7, #T_25d78_row8_col0, #T_25d78_row8_col3, #T_25d78_row8_col4, #T_25d78_row8_col5, #T_25d78_row8_col6, #T_25d78_row8_col7, #T_25d78_row9_col0, #T_25d78_row9_col3, #T_25d78_row9_col4, #T_25d78_row9_col5, #T_25d78_row9_col6, #T_25d78_row9_col7, #T_25d78_row10_col0, #T_25d78_row10_col3, #T_25d78_row10_col4, #T_25d78_row10_col5, #T_25d78_row10_col6, #T_25d78_row10_col7, #T_25d78_row11_col0, #T_25d78_row11_col3, #T_25d78_row11_col4, #T_25d78_row11_col5, #T_25d78_row11_col6, #T_25d78_row11_col7, #T_25d78_row12_col0, #T_25d78_row12_col3, #T_25d78_row12_col4, #T_25d78_row12_col5, #T_25d78_row12_col6, #T_25d78_row12_col7 {\n",
              "  background-color: #f7fcfd;\n",
              "  color: #000000;\n",
              "}\n",
              "#T_25d78_row0_col1 {\n",
              "  background-color: #00441b;\n",
              "  color: #f1f1f1;\n",
              "  width: 10em;\n",
              "  height: 80%;\n",
              "  background: linear-gradient(90deg,purple 100.0%, transparent 100.0%);\n",
              "}\n",
              "#T_25d78_row0_col2 {\n",
              "  background-color: #00441b;\n",
              "  color: #f1f1f1;\n",
              "  width: 10em;\n",
              "  height: 80%;\n",
              "  background: linear-gradient(90deg,pink 100.0%, transparent 100.0%);\n",
              "}\n",
              "#T_25d78_row0_col3, #T_25d78_row0_col4, #T_25d78_row0_col5, #T_25d78_row0_col6, #T_25d78_row0_col7 {\n",
              "  background-color: #00441b;\n",
              "  color: #f1f1f1;\n",
              "}\n",
              "#T_25d78_row1_col1 {\n",
              "  background-color: #f7fcfd;\n",
              "  color: #000000;\n",
              "  width: 10em;\n",
              "  height: 80%;\n",
              "  background: linear-gradient(90deg,purple 0.2%, transparent 0.2%);\n",
              "}\n",
              "#T_25d78_row1_col2 {\n",
              "  background-color: #f6fcfd;\n",
              "  color: #000000;\n",
              "  width: 10em;\n",
              "  height: 80%;\n",
              "  background: linear-gradient(90deg,pink 1.0%, transparent 1.0%);\n",
              "}\n",
              "#T_25d78_row1_col7, #T_25d78_row2_col3 {\n",
              "  background-color: #f6fcfd;\n",
              "  color: #000000;\n",
              "}\n",
              "#T_25d78_row2_col1 {\n",
              "  background-color: #f7fcfd;\n",
              "  color: #000000;\n",
              "  width: 10em;\n",
              "  height: 80%;\n",
              "  background: linear-gradient(90deg,purple 0.1%, transparent 0.1%);\n",
              "}\n",
              "#T_25d78_row2_col2, #T_25d78_row4_col2, #T_25d78_row5_col2, #T_25d78_row6_col2, #T_25d78_row7_col2, #T_25d78_row8_col2, #T_25d78_row9_col2, #T_25d78_row10_col2 {\n",
              "  background-color: #f7fcfd;\n",
              "  color: #000000;\n",
              "  width: 10em;\n",
              "  height: 80%;\n",
              "  background: linear-gradient(90deg,pink 0.0%, transparent 0.0%);\n",
              "}\n",
              "#T_25d78_row3_col1, #T_25d78_row4_col1, #T_25d78_row5_col1, #T_25d78_row6_col1, #T_25d78_row7_col1, #T_25d78_row8_col1, #T_25d78_row9_col1, #T_25d78_row10_col1 {\n",
              "  background-color: #f7fcfd;\n",
              "  color: #000000;\n",
              "  width: 10em;\n",
              "  height: 80%;\n",
              "  background: linear-gradient(90deg,purple 0.0%, transparent 0.0%);\n",
              "}\n",
              "#T_25d78_row3_col2 {\n",
              "  background-color: #f7fcfd;\n",
              "  color: #000000;\n",
              "  width: 10em;\n",
              "  height: 80%;\n",
              "  background: linear-gradient(90deg,pink 0.1%, transparent 0.1%);\n",
              "}\n",
              "#T_25d78_row11_col1, #T_25d78_row11_col2, #T_25d78_row12_col1, #T_25d78_row12_col2 {\n",
              "  background-color: #f7fcfd;\n",
              "  color: #000000;\n",
              "  width: 10em;\n",
              "  height: 80%;\n",
              "}\n",
              "</style>\n",
              "<table id=\"T_25d78_\" class=\"dataframe\">\n",
              "  <thead>\n",
              "    <tr>\n",
              "      <th class=\"blank level0\" >&nbsp;</th>\n",
              "      <th class=\"col_heading level0 col0\" >count</th>\n",
              "      <th class=\"col_heading level0 col1\" >mean</th>\n",
              "      <th class=\"col_heading level0 col2\" >std</th>\n",
              "      <th class=\"col_heading level0 col3\" >min</th>\n",
              "      <th class=\"col_heading level0 col4\" >25%</th>\n",
              "      <th class=\"col_heading level0 col5\" >50%</th>\n",
              "      <th class=\"col_heading level0 col6\" >75%</th>\n",
              "      <th class=\"col_heading level0 col7\" >max</th>\n",
              "    </tr>\n",
              "  </thead>\n",
              "  <tbody>\n",
              "    <tr>\n",
              "      <th id=\"T_25d78_level0_row0\" class=\"row_heading level0 row0\" >platelets</th>\n",
              "      <td id=\"T_25d78_row0_col0\" class=\"data row0 col0\" >299.000000</td>\n",
              "      <td id=\"T_25d78_row0_col1\" class=\"data row0 col1\" >263358.029264</td>\n",
              "      <td id=\"T_25d78_row0_col2\" class=\"data row0 col2\" >97804.236869</td>\n",
              "      <td id=\"T_25d78_row0_col3\" class=\"data row0 col3\" >25100.000000</td>\n",
              "      <td id=\"T_25d78_row0_col4\" class=\"data row0 col4\" >212500.000000</td>\n",
              "      <td id=\"T_25d78_row0_col5\" class=\"data row0 col5\" >262000.000000</td>\n",
              "      <td id=\"T_25d78_row0_col6\" class=\"data row0 col6\" >303500.000000</td>\n",
              "      <td id=\"T_25d78_row0_col7\" class=\"data row0 col7\" >850000.000000</td>\n",
              "    </tr>\n",
              "    <tr>\n",
              "      <th id=\"T_25d78_level0_row1\" class=\"row_heading level0 row1\" >creatinine_phosphokinase</th>\n",
              "      <td id=\"T_25d78_row1_col0\" class=\"data row1 col0\" >299.000000</td>\n",
              "      <td id=\"T_25d78_row1_col1\" class=\"data row1 col1\" >581.839465</td>\n",
              "      <td id=\"T_25d78_row1_col2\" class=\"data row1 col2\" >970.287881</td>\n",
              "      <td id=\"T_25d78_row1_col3\" class=\"data row1 col3\" >23.000000</td>\n",
              "      <td id=\"T_25d78_row1_col4\" class=\"data row1 col4\" >116.500000</td>\n",
              "      <td id=\"T_25d78_row1_col5\" class=\"data row1 col5\" >250.000000</td>\n",
              "      <td id=\"T_25d78_row1_col6\" class=\"data row1 col6\" >582.000000</td>\n",
              "      <td id=\"T_25d78_row1_col7\" class=\"data row1 col7\" >7861.000000</td>\n",
              "    </tr>\n",
              "    <tr>\n",
              "      <th id=\"T_25d78_level0_row2\" class=\"row_heading level0 row2\" >serum_sodium</th>\n",
              "      <td id=\"T_25d78_row2_col0\" class=\"data row2 col0\" >299.000000</td>\n",
              "      <td id=\"T_25d78_row2_col1\" class=\"data row2 col1\" >136.625418</td>\n",
              "      <td id=\"T_25d78_row2_col2\" class=\"data row2 col2\" >4.412477</td>\n",
              "      <td id=\"T_25d78_row2_col3\" class=\"data row2 col3\" >113.000000</td>\n",
              "      <td id=\"T_25d78_row2_col4\" class=\"data row2 col4\" >134.000000</td>\n",
              "      <td id=\"T_25d78_row2_col5\" class=\"data row2 col5\" >137.000000</td>\n",
              "      <td id=\"T_25d78_row2_col6\" class=\"data row2 col6\" >140.000000</td>\n",
              "      <td id=\"T_25d78_row2_col7\" class=\"data row2 col7\" >148.000000</td>\n",
              "    </tr>\n",
              "    <tr>\n",
              "      <th id=\"T_25d78_level0_row3\" class=\"row_heading level0 row3\" >time</th>\n",
              "      <td id=\"T_25d78_row3_col0\" class=\"data row3 col0\" >299.000000</td>\n",
              "      <td id=\"T_25d78_row3_col1\" class=\"data row3 col1\" >130.260870</td>\n",
              "      <td id=\"T_25d78_row3_col2\" class=\"data row3 col2\" >77.614208</td>\n",
              "      <td id=\"T_25d78_row3_col3\" class=\"data row3 col3\" >4.000000</td>\n",
              "      <td id=\"T_25d78_row3_col4\" class=\"data row3 col4\" >73.000000</td>\n",
              "      <td id=\"T_25d78_row3_col5\" class=\"data row3 col5\" >115.000000</td>\n",
              "      <td id=\"T_25d78_row3_col6\" class=\"data row3 col6\" >203.000000</td>\n",
              "      <td id=\"T_25d78_row3_col7\" class=\"data row3 col7\" >285.000000</td>\n",
              "    </tr>\n",
              "    <tr>\n",
              "      <th id=\"T_25d78_level0_row4\" class=\"row_heading level0 row4\" >age</th>\n",
              "      <td id=\"T_25d78_row4_col0\" class=\"data row4 col0\" >299.000000</td>\n",
              "      <td id=\"T_25d78_row4_col1\" class=\"data row4 col1\" >60.833893</td>\n",
              "      <td id=\"T_25d78_row4_col2\" class=\"data row4 col2\" >11.894809</td>\n",
              "      <td id=\"T_25d78_row4_col3\" class=\"data row4 col3\" >40.000000</td>\n",
              "      <td id=\"T_25d78_row4_col4\" class=\"data row4 col4\" >51.000000</td>\n",
              "      <td id=\"T_25d78_row4_col5\" class=\"data row4 col5\" >60.000000</td>\n",
              "      <td id=\"T_25d78_row4_col6\" class=\"data row4 col6\" >70.000000</td>\n",
              "      <td id=\"T_25d78_row4_col7\" class=\"data row4 col7\" >95.000000</td>\n",
              "    </tr>\n",
              "    <tr>\n",
              "      <th id=\"T_25d78_level0_row5\" class=\"row_heading level0 row5\" >ejection_fraction</th>\n",
              "      <td id=\"T_25d78_row5_col0\" class=\"data row5 col0\" >299.000000</td>\n",
              "      <td id=\"T_25d78_row5_col1\" class=\"data row5 col1\" >38.083612</td>\n",
              "      <td id=\"T_25d78_row5_col2\" class=\"data row5 col2\" >11.834841</td>\n",
              "      <td id=\"T_25d78_row5_col3\" class=\"data row5 col3\" >14.000000</td>\n",
              "      <td id=\"T_25d78_row5_col4\" class=\"data row5 col4\" >30.000000</td>\n",
              "      <td id=\"T_25d78_row5_col5\" class=\"data row5 col5\" >38.000000</td>\n",
              "      <td id=\"T_25d78_row5_col6\" class=\"data row5 col6\" >45.000000</td>\n",
              "      <td id=\"T_25d78_row5_col7\" class=\"data row5 col7\" >80.000000</td>\n",
              "    </tr>\n",
              "    <tr>\n",
              "      <th id=\"T_25d78_level0_row6\" class=\"row_heading level0 row6\" >serum_creatinine</th>\n",
              "      <td id=\"T_25d78_row6_col0\" class=\"data row6 col0\" >299.000000</td>\n",
              "      <td id=\"T_25d78_row6_col1\" class=\"data row6 col1\" >1.393880</td>\n",
              "      <td id=\"T_25d78_row6_col2\" class=\"data row6 col2\" >1.034510</td>\n",
              "      <td id=\"T_25d78_row6_col3\" class=\"data row6 col3\" >0.500000</td>\n",
              "      <td id=\"T_25d78_row6_col4\" class=\"data row6 col4\" >0.900000</td>\n",
              "      <td id=\"T_25d78_row6_col5\" class=\"data row6 col5\" >1.100000</td>\n",
              "      <td id=\"T_25d78_row6_col6\" class=\"data row6 col6\" >1.400000</td>\n",
              "      <td id=\"T_25d78_row6_col7\" class=\"data row6 col7\" >9.400000</td>\n",
              "    </tr>\n",
              "    <tr>\n",
              "      <th id=\"T_25d78_level0_row7\" class=\"row_heading level0 row7\" >sex</th>\n",
              "      <td id=\"T_25d78_row7_col0\" class=\"data row7 col0\" >299.000000</td>\n",
              "      <td id=\"T_25d78_row7_col1\" class=\"data row7 col1\" >0.648829</td>\n",
              "      <td id=\"T_25d78_row7_col2\" class=\"data row7 col2\" >0.478136</td>\n",
              "      <td id=\"T_25d78_row7_col3\" class=\"data row7 col3\" >0.000000</td>\n",
              "      <td id=\"T_25d78_row7_col4\" class=\"data row7 col4\" >0.000000</td>\n",
              "      <td id=\"T_25d78_row7_col5\" class=\"data row7 col5\" >1.000000</td>\n",
              "      <td id=\"T_25d78_row7_col6\" class=\"data row7 col6\" >1.000000</td>\n",
              "      <td id=\"T_25d78_row7_col7\" class=\"data row7 col7\" >1.000000</td>\n",
              "    </tr>\n",
              "    <tr>\n",
              "      <th id=\"T_25d78_level0_row8\" class=\"row_heading level0 row8\" >anaemia</th>\n",
              "      <td id=\"T_25d78_row8_col0\" class=\"data row8 col0\" >299.000000</td>\n",
              "      <td id=\"T_25d78_row8_col1\" class=\"data row8 col1\" >0.431438</td>\n",
              "      <td id=\"T_25d78_row8_col2\" class=\"data row8 col2\" >0.496107</td>\n",
              "      <td id=\"T_25d78_row8_col3\" class=\"data row8 col3\" >0.000000</td>\n",
              "      <td id=\"T_25d78_row8_col4\" class=\"data row8 col4\" >0.000000</td>\n",
              "      <td id=\"T_25d78_row8_col5\" class=\"data row8 col5\" >0.000000</td>\n",
              "      <td id=\"T_25d78_row8_col6\" class=\"data row8 col6\" >1.000000</td>\n",
              "      <td id=\"T_25d78_row8_col7\" class=\"data row8 col7\" >1.000000</td>\n",
              "    </tr>\n",
              "    <tr>\n",
              "      <th id=\"T_25d78_level0_row9\" class=\"row_heading level0 row9\" >diabetes</th>\n",
              "      <td id=\"T_25d78_row9_col0\" class=\"data row9 col0\" >299.000000</td>\n",
              "      <td id=\"T_25d78_row9_col1\" class=\"data row9 col1\" >0.418060</td>\n",
              "      <td id=\"T_25d78_row9_col2\" class=\"data row9 col2\" >0.494067</td>\n",
              "      <td id=\"T_25d78_row9_col3\" class=\"data row9 col3\" >0.000000</td>\n",
              "      <td id=\"T_25d78_row9_col4\" class=\"data row9 col4\" >0.000000</td>\n",
              "      <td id=\"T_25d78_row9_col5\" class=\"data row9 col5\" >0.000000</td>\n",
              "      <td id=\"T_25d78_row9_col6\" class=\"data row9 col6\" >1.000000</td>\n",
              "      <td id=\"T_25d78_row9_col7\" class=\"data row9 col7\" >1.000000</td>\n",
              "    </tr>\n",
              "    <tr>\n",
              "      <th id=\"T_25d78_level0_row10\" class=\"row_heading level0 row10\" >high_blood_pressure</th>\n",
              "      <td id=\"T_25d78_row10_col0\" class=\"data row10 col0\" >299.000000</td>\n",
              "      <td id=\"T_25d78_row10_col1\" class=\"data row10 col1\" >0.351171</td>\n",
              "      <td id=\"T_25d78_row10_col2\" class=\"data row10 col2\" >0.478136</td>\n",
              "      <td id=\"T_25d78_row10_col3\" class=\"data row10 col3\" >0.000000</td>\n",
              "      <td id=\"T_25d78_row10_col4\" class=\"data row10 col4\" >0.000000</td>\n",
              "      <td id=\"T_25d78_row10_col5\" class=\"data row10 col5\" >0.000000</td>\n",
              "      <td id=\"T_25d78_row10_col6\" class=\"data row10 col6\" >1.000000</td>\n",
              "      <td id=\"T_25d78_row10_col7\" class=\"data row10 col7\" >1.000000</td>\n",
              "    </tr>\n",
              "    <tr>\n",
              "      <th id=\"T_25d78_level0_row11\" class=\"row_heading level0 row11\" >smoking</th>\n",
              "      <td id=\"T_25d78_row11_col0\" class=\"data row11 col0\" >299.000000</td>\n",
              "      <td id=\"T_25d78_row11_col1\" class=\"data row11 col1\" >0.321070</td>\n",
              "      <td id=\"T_25d78_row11_col2\" class=\"data row11 col2\" >0.467670</td>\n",
              "      <td id=\"T_25d78_row11_col3\" class=\"data row11 col3\" >0.000000</td>\n",
              "      <td id=\"T_25d78_row11_col4\" class=\"data row11 col4\" >0.000000</td>\n",
              "      <td id=\"T_25d78_row11_col5\" class=\"data row11 col5\" >0.000000</td>\n",
              "      <td id=\"T_25d78_row11_col6\" class=\"data row11 col6\" >1.000000</td>\n",
              "      <td id=\"T_25d78_row11_col7\" class=\"data row11 col7\" >1.000000</td>\n",
              "    </tr>\n",
              "    <tr>\n",
              "      <th id=\"T_25d78_level0_row12\" class=\"row_heading level0 row12\" >DEATH_EVENT</th>\n",
              "      <td id=\"T_25d78_row12_col0\" class=\"data row12 col0\" >299.000000</td>\n",
              "      <td id=\"T_25d78_row12_col1\" class=\"data row12 col1\" >0.321070</td>\n",
              "      <td id=\"T_25d78_row12_col2\" class=\"data row12 col2\" >0.467670</td>\n",
              "      <td id=\"T_25d78_row12_col3\" class=\"data row12 col3\" >0.000000</td>\n",
              "      <td id=\"T_25d78_row12_col4\" class=\"data row12 col4\" >0.000000</td>\n",
              "      <td id=\"T_25d78_row12_col5\" class=\"data row12 col5\" >0.000000</td>\n",
              "      <td id=\"T_25d78_row12_col6\" class=\"data row12 col6\" >1.000000</td>\n",
              "      <td id=\"T_25d78_row12_col7\" class=\"data row12 col7\" >1.000000</td>\n",
              "    </tr>\n",
              "  </tbody>\n",
              "</table>\n"
            ]
          },
          "metadata": {},
          "execution_count": 14
        }
      ]
    },
    {
      "cell_type": "code",
      "execution_count": 15,
      "id": "31d9806c",
      "metadata": {
        "execution": {
          "iopub.execute_input": "2022-12-04T11:40:36.550310Z",
          "iopub.status.busy": "2022-12-04T11:40:36.549218Z",
          "iopub.status.idle": "2022-12-04T11:40:36.593886Z",
          "shell.execute_reply": "2022-12-04T11:40:36.592682Z"
        },
        "papermill": {
          "duration": 0.061205,
          "end_time": "2022-12-04T11:40:36.597164",
          "exception": false,
          "start_time": "2022-12-04T11:40:36.535959",
          "status": "completed"
        },
        "tags": [],
        "colab": {
          "base_uri": "https://localhost:8080/",
          "height": 477
        },
        "id": "31d9806c",
        "outputId": "2d03db57-1c77-4b97-f9df-0d918a7e8b0f"
      },
      "outputs": [
        {
          "output_type": "execute_result",
          "data": {
            "text/plain": [
              "<pandas.io.formats.style.Styler at 0x7f095c81c0d0>"
            ],
            "text/html": [
              "<style type=\"text/css\">\n",
              "#T_8cc67_row0_col0, #T_8cc67_row1_col1, #T_8cc67_row2_col2, #T_8cc67_row3_col3, #T_8cc67_row4_col4, #T_8cc67_row5_col5, #T_8cc67_row6_col6, #T_8cc67_row7_col7, #T_8cc67_row8_col8, #T_8cc67_row9_col9, #T_8cc67_row10_col10, #T_8cc67_row11_col11, #T_8cc67_row12_col12 {\n",
              "  background-color: #fde725;\n",
              "  color: #000000;\n",
              "}\n",
              "#T_8cc67_row0_col1, #T_8cc67_row4_col0, #T_8cc67_row5_col4, #T_8cc67_row12_col5 {\n",
              "  background-color: #3d4d8a;\n",
              "  color: #f1f1f1;\n",
              "}\n",
              "#T_8cc67_row0_col2 {\n",
              "  background-color: #482173;\n",
              "  color: #f1f1f1;\n",
              "}\n",
              "#T_8cc67_row0_col3 {\n",
              "  background-color: #471365;\n",
              "  color: #f1f1f1;\n",
              "}\n",
              "#T_8cc67_row0_col4, #T_8cc67_row5_col0 {\n",
              "  background-color: #3a548c;\n",
              "  color: #f1f1f1;\n",
              "}\n",
              "#T_8cc67_row0_col5 {\n",
              "  background-color: #3c4f8a;\n",
              "  color: #f1f1f1;\n",
              "}\n",
              "#T_8cc67_row0_col6 {\n",
              "  background-color: #48186a;\n",
              "  color: #f1f1f1;\n",
              "}\n",
              "#T_8cc67_row0_col7 {\n",
              "  background-color: #365d8d;\n",
              "  color: #f1f1f1;\n",
              "}\n",
              "#T_8cc67_row0_col8, #T_8cc67_row4_col2, #T_8cc67_row6_col1, #T_8cc67_row6_col7, #T_8cc67_row11_col9 {\n",
              "  background-color: #472c7a;\n",
              "  color: #f1f1f1;\n",
              "}\n",
              "#T_8cc67_row0_col9, #T_8cc67_row3_col6, #T_8cc67_row5_col1, #T_8cc67_row5_col8, #T_8cc67_row8_col5 {\n",
              "  background-color: #424186;\n",
              "  color: #f1f1f1;\n",
              "}\n",
              "#T_8cc67_row0_col10, #T_8cc67_row2_col7, #T_8cc67_row7_col2, #T_8cc67_row8_col0 {\n",
              "  background-color: #46337f;\n",
              "  color: #f1f1f1;\n",
              "}\n",
              "#T_8cc67_row0_col11, #T_8cc67_row1_col5, #T_8cc67_row1_col8, #T_8cc67_row8_col1, #T_8cc67_row10_col0 {\n",
              "  background-color: #414287;\n",
              "  color: #f1f1f1;\n",
              "}\n",
              "#T_8cc67_row0_col12 {\n",
              "  background-color: #20928c;\n",
              "  color: #f1f1f1;\n",
              "}\n",
              "#T_8cc67_row1_col0 {\n",
              "  background-color: #3a538b;\n",
              "  color: #f1f1f1;\n",
              "}\n",
              "#T_8cc67_row1_col2, #T_8cc67_row2_col1, #T_8cc67_row3_col9, #T_8cc67_row3_col10, #T_8cc67_row8_col7, #T_8cc67_row9_col3, #T_8cc67_row9_col6, #T_8cc67_row11_col0, #T_8cc67_row11_col5, #T_8cc67_row11_col12, #T_8cc67_row12_col4, #T_8cc67_row12_col8, #T_8cc67_row12_col11 {\n",
              "  background-color: #440154;\n",
              "  color: #f1f1f1;\n",
              "}\n",
              "#T_8cc67_row1_col3, #T_8cc67_row2_col3, #T_8cc67_row5_col3 {\n",
              "  background-color: #472d7b;\n",
              "  color: #f1f1f1;\n",
              "}\n",
              "#T_8cc67_row1_col4, #T_8cc67_row9_col0, #T_8cc67_row11_col8 {\n",
              "  background-color: #3d4e8a;\n",
              "  color: #f1f1f1;\n",
              "}\n",
              "#T_8cc67_row1_col6 {\n",
              "  background-color: #481b6d;\n",
              "  color: #f1f1f1;\n",
              "}\n",
              "#T_8cc67_row1_col7, #T_8cc67_row7_col4 {\n",
              "  background-color: #414487;\n",
              "  color: #f1f1f1;\n",
              "}\n",
              "#T_8cc67_row1_col9 {\n",
              "  background-color: #481467;\n",
              "  color: #f1f1f1;\n",
              "}\n",
              "#T_8cc67_row1_col10, #T_8cc67_row11_col7 {\n",
              "  background-color: #470d60;\n",
              "  color: #f1f1f1;\n",
              "}\n",
              "#T_8cc67_row1_col11 {\n",
              "  background-color: #3b528b;\n",
              "  color: #f1f1f1;\n",
              "}\n",
              "#T_8cc67_row1_col12, #T_8cc67_row12_col0 {\n",
              "  background-color: #2b758e;\n",
              "  color: #f1f1f1;\n",
              "}\n",
              "#T_8cc67_row2_col0 {\n",
              "  background-color: #482979;\n",
              "  color: #f1f1f1;\n",
              "}\n",
              "#T_8cc67_row2_col4 {\n",
              "  background-color: #433d84;\n",
              "  color: #f1f1f1;\n",
              "}\n",
              "#T_8cc67_row2_col5, #T_8cc67_row7_col10 {\n",
              "  background-color: #482576;\n",
              "  color: #f1f1f1;\n",
              "}\n",
              "#T_8cc67_row2_col6, #T_8cc67_row10_col6, #T_8cc67_row10_col7, #T_8cc67_row12_col3 {\n",
              "  background-color: #472f7d;\n",
              "  color: #f1f1f1;\n",
              "}\n",
              "#T_8cc67_row2_col8, #T_8cc67_row12_col2 {\n",
              "  background-color: #3f4788;\n",
              "  color: #f1f1f1;\n",
              "}\n",
              "#T_8cc67_row2_col9, #T_8cc67_row6_col5, #T_8cc67_row7_col1 {\n",
              "  background-color: #404588;\n",
              "  color: #f1f1f1;\n",
              "}\n",
              "#T_8cc67_row2_col10, #T_8cc67_row4_col3, #T_8cc67_row8_col10, #T_8cc67_row12_col9 {\n",
              "  background-color: #472e7c;\n",
              "  color: #f1f1f1;\n",
              "}\n",
              "#T_8cc67_row2_col11, #T_8cc67_row10_col12 {\n",
              "  background-color: #30698e;\n",
              "  color: #f1f1f1;\n",
              "}\n",
              "#T_8cc67_row2_col12 {\n",
              "  background-color: #2b748e;\n",
              "  color: #f1f1f1;\n",
              "}\n",
              "#T_8cc67_row3_col0, #T_8cc67_row5_col2 {\n",
              "  background-color: #482475;\n",
              "  color: #f1f1f1;\n",
              "}\n",
              "#T_8cc67_row3_col1, #T_8cc67_row3_col2, #T_8cc67_row4_col7, #T_8cc67_row11_col2 {\n",
              "  background-color: #463480;\n",
              "  color: #f1f1f1;\n",
              "}\n",
              "#T_8cc67_row3_col4, #T_8cc67_row8_col2 {\n",
              "  background-color: #404688;\n",
              "  color: #f1f1f1;\n",
              "}\n",
              "#T_8cc67_row3_col5, #T_8cc67_row5_col6, #T_8cc67_row5_col7, #T_8cc67_row6_col10 {\n",
              "  background-color: #453581;\n",
              "  color: #f1f1f1;\n",
              "}\n",
              "#T_8cc67_row3_col7, #T_8cc67_row10_col5, #T_8cc67_row11_col6, #T_8cc67_row12_col10 {\n",
              "  background-color: #472a7a;\n",
              "  color: #f1f1f1;\n",
              "}\n",
              "#T_8cc67_row3_col8 {\n",
              "  background-color: #482071;\n",
              "  color: #f1f1f1;\n",
              "}\n",
              "#T_8cc67_row3_col11 {\n",
              "  background-color: #2d718e;\n",
              "  color: #f1f1f1;\n",
              "}\n",
              "#T_8cc67_row3_col12 {\n",
              "  background-color: #2f6b8e;\n",
              "  color: #f1f1f1;\n",
              "}\n",
              "#T_8cc67_row4_col1, #T_8cc67_row4_col5 {\n",
              "  background-color: #423f85;\n",
              "  color: #f1f1f1;\n",
              "}\n",
              "#T_8cc67_row4_col6 {\n",
              "  background-color: #443b84;\n",
              "  color: #f1f1f1;\n",
              "}\n",
              "#T_8cc67_row4_col8 {\n",
              "  background-color: #33628d;\n",
              "  color: #f1f1f1;\n",
              "}\n",
              "#T_8cc67_row4_col9, #T_8cc67_row10_col3 {\n",
              "  background-color: #450457;\n",
              "  color: #f1f1f1;\n",
              "}\n",
              "#T_8cc67_row4_col10, #T_8cc67_row10_col1, #T_8cc67_row12_col6 {\n",
              "  background-color: #481a6c;\n",
              "  color: #f1f1f1;\n",
              "}\n",
              "#T_8cc67_row4_col11 {\n",
              "  background-color: #2c718e;\n",
              "  color: #f1f1f1;\n",
              "}\n",
              "#T_8cc67_row4_col12 {\n",
              "  background-color: #443a83;\n",
              "  color: #f1f1f1;\n",
              "}\n",
              "#T_8cc67_row5_col9 {\n",
              "  background-color: #471164;\n",
              "  color: #f1f1f1;\n",
              "}\n",
              "#T_8cc67_row5_col10, #T_8cc67_row9_col1 {\n",
              "  background-color: #481d6f;\n",
              "  color: #f1f1f1;\n",
              "}\n",
              "#T_8cc67_row5_col11, #T_8cc67_row6_col3, #T_8cc67_row6_col8, #T_8cc67_row8_col12, #T_8cc67_row12_col1 {\n",
              "  background-color: #3f4889;\n",
              "  color: #f1f1f1;\n",
              "}\n",
              "#T_8cc67_row5_col12 {\n",
              "  background-color: #2a778e;\n",
              "  color: #f1f1f1;\n",
              "}\n",
              "#T_8cc67_row6_col0, #T_8cc67_row9_col8 {\n",
              "  background-color: #46307e;\n",
              "  color: #f1f1f1;\n",
              "}\n",
              "#T_8cc67_row6_col2 {\n",
              "  background-color: #433e85;\n",
              "  color: #f1f1f1;\n",
              "}\n",
              "#T_8cc67_row6_col4 {\n",
              "  background-color: #39568c;\n",
              "  color: #f1f1f1;\n",
              "}\n",
              "#T_8cc67_row6_col9 {\n",
              "  background-color: #460b5e;\n",
              "  color: #f1f1f1;\n",
              "}\n",
              "#T_8cc67_row6_col11 {\n",
              "  background-color: #2e6d8e;\n",
              "  color: #f1f1f1;\n",
              "}\n",
              "#T_8cc67_row6_col12, #T_8cc67_row7_col0 {\n",
              "  background-color: #33638d;\n",
              "  color: #f1f1f1;\n",
              "}\n",
              "#T_8cc67_row7_col3, #T_8cc67_row9_col4 {\n",
              "  background-color: #482374;\n",
              "  color: #f1f1f1;\n",
              "}\n",
              "#T_8cc67_row7_col5, #T_8cc67_row10_col4 {\n",
              "  background-color: #453781;\n",
              "  color: #f1f1f1;\n",
              "}\n",
              "#T_8cc67_row7_col6, #T_8cc67_row9_col5 {\n",
              "  background-color: #481c6e;\n",
              "  color: #f1f1f1;\n",
              "}\n",
              "#T_8cc67_row7_col8 {\n",
              "  background-color: #440256;\n",
              "  color: #f1f1f1;\n",
              "}\n",
              "#T_8cc67_row7_col9 {\n",
              "  background-color: #46327e;\n",
              "  color: #f1f1f1;\n",
              "}\n",
              "#T_8cc67_row7_col11 {\n",
              "  background-color: #3b518b;\n",
              "  color: #f1f1f1;\n",
              "}\n",
              "#T_8cc67_row7_col12 {\n",
              "  background-color: #1f998a;\n",
              "  color: #f1f1f1;\n",
              "}\n",
              "#T_8cc67_row8_col3 {\n",
              "  background-color: #481769;\n",
              "  color: #f1f1f1;\n",
              "}\n",
              "#T_8cc67_row8_col4 {\n",
              "  background-color: #2f6c8e;\n",
              "  color: #f1f1f1;\n",
              "}\n",
              "#T_8cc67_row8_col6, #T_8cc67_row9_col7, #T_8cc67_row10_col8, #T_8cc67_row11_col3 {\n",
              "  background-color: #443983;\n",
              "  color: #f1f1f1;\n",
              "}\n",
              "#T_8cc67_row8_col9 {\n",
              "  background-color: #482878;\n",
              "  color: #f1f1f1;\n",
              "}\n",
              "#T_8cc67_row8_col11 {\n",
              "  background-color: #29798e;\n",
              "  color: #f1f1f1;\n",
              "}\n",
              "#T_8cc67_row9_col2 {\n",
              "  background-color: #3e4c8a;\n",
              "  color: #f1f1f1;\n",
              "}\n",
              "#T_8cc67_row9_col10 {\n",
              "  background-color: #1f948c;\n",
              "  color: #f1f1f1;\n",
              "}\n",
              "#T_8cc67_row9_col11 {\n",
              "  background-color: #31688e;\n",
              "  color: #f1f1f1;\n",
              "}\n",
              "#T_8cc67_row9_col12 {\n",
              "  background-color: #306a8e;\n",
              "  color: #f1f1f1;\n",
              "}\n",
              "#T_8cc67_row10_col2 {\n",
              "  background-color: #453882;\n",
              "  color: #f1f1f1;\n",
              "}\n",
              "#T_8cc67_row10_col9 {\n",
              "  background-color: #1f958b;\n",
              "  color: #f1f1f1;\n",
              "}\n",
              "#T_8cc67_row10_col11 {\n",
              "  background-color: #31678e;\n",
              "  color: #f1f1f1;\n",
              "}\n",
              "#T_8cc67_row11_col1 {\n",
              "  background-color: #471063;\n",
              "  color: #f1f1f1;\n",
              "}\n",
              "#T_8cc67_row11_col4 {\n",
              "  background-color: #3c508b;\n",
              "  color: #f1f1f1;\n",
              "}\n",
              "#T_8cc67_row11_col10 {\n",
              "  background-color: #482677;\n",
              "  color: #f1f1f1;\n",
              "}\n",
              "#T_8cc67_row12_col7 {\n",
              "  background-color: #297a8e;\n",
              "  color: #f1f1f1;\n",
              "}\n",
              "</style>\n",
              "<table id=\"T_8cc67_\" class=\"dataframe\">\n",
              "  <thead>\n",
              "    <tr>\n",
              "      <th class=\"blank level0\" >&nbsp;</th>\n",
              "      <th class=\"col_heading level0 col0\" >age</th>\n",
              "      <th class=\"col_heading level0 col1\" >anaemia</th>\n",
              "      <th class=\"col_heading level0 col2\" >creatinine_phosphokinase</th>\n",
              "      <th class=\"col_heading level0 col3\" >diabetes</th>\n",
              "      <th class=\"col_heading level0 col4\" >ejection_fraction</th>\n",
              "      <th class=\"col_heading level0 col5\" >high_blood_pressure</th>\n",
              "      <th class=\"col_heading level0 col6\" >platelets</th>\n",
              "      <th class=\"col_heading level0 col7\" >serum_creatinine</th>\n",
              "      <th class=\"col_heading level0 col8\" >serum_sodium</th>\n",
              "      <th class=\"col_heading level0 col9\" >sex</th>\n",
              "      <th class=\"col_heading level0 col10\" >smoking</th>\n",
              "      <th class=\"col_heading level0 col11\" >time</th>\n",
              "      <th class=\"col_heading level0 col12\" >DEATH_EVENT</th>\n",
              "    </tr>\n",
              "  </thead>\n",
              "  <tbody>\n",
              "    <tr>\n",
              "      <th id=\"T_8cc67_level0_row0\" class=\"row_heading level0 row0\" >age</th>\n",
              "      <td id=\"T_8cc67_row0_col0\" class=\"data row0 col0\" >1.000000</td>\n",
              "      <td id=\"T_8cc67_row0_col1\" class=\"data row0 col1\" >0.088006</td>\n",
              "      <td id=\"T_8cc67_row0_col2\" class=\"data row0 col2\" >-0.081584</td>\n",
              "      <td id=\"T_8cc67_row0_col3\" class=\"data row0 col3\" >-0.101012</td>\n",
              "      <td id=\"T_8cc67_row0_col4\" class=\"data row0 col4\" >0.060098</td>\n",
              "      <td id=\"T_8cc67_row0_col5\" class=\"data row0 col5\" >0.093289</td>\n",
              "      <td id=\"T_8cc67_row0_col6\" class=\"data row0 col6\" >-0.052354</td>\n",
              "      <td id=\"T_8cc67_row0_col7\" class=\"data row0 col7\" >0.159187</td>\n",
              "      <td id=\"T_8cc67_row0_col8\" class=\"data row0 col8\" >-0.045966</td>\n",
              "      <td id=\"T_8cc67_row0_col9\" class=\"data row0 col9\" >0.065430</td>\n",
              "      <td id=\"T_8cc67_row0_col10\" class=\"data row0 col10\" >0.018668</td>\n",
              "      <td id=\"T_8cc67_row0_col11\" class=\"data row0 col11\" >-0.224068</td>\n",
              "      <td id=\"T_8cc67_row0_col12\" class=\"data row0 col12\" >0.253729</td>\n",
              "    </tr>\n",
              "    <tr>\n",
              "      <th id=\"T_8cc67_level0_row1\" class=\"row_heading level0 row1\" >anaemia</th>\n",
              "      <td id=\"T_8cc67_row1_col0\" class=\"data row1 col0\" >0.088006</td>\n",
              "      <td id=\"T_8cc67_row1_col1\" class=\"data row1 col1\" >1.000000</td>\n",
              "      <td id=\"T_8cc67_row1_col2\" class=\"data row1 col2\" >-0.190741</td>\n",
              "      <td id=\"T_8cc67_row1_col3\" class=\"data row1 col3\" >-0.012729</td>\n",
              "      <td id=\"T_8cc67_row1_col4\" class=\"data row1 col4\" >0.031557</td>\n",
              "      <td id=\"T_8cc67_row1_col5\" class=\"data row1 col5\" >0.038182</td>\n",
              "      <td id=\"T_8cc67_row1_col6\" class=\"data row1 col6\" >-0.043786</td>\n",
              "      <td id=\"T_8cc67_row1_col7\" class=\"data row1 col7\" >0.052174</td>\n",
              "      <td id=\"T_8cc67_row1_col8\" class=\"data row1 col8\" >0.041882</td>\n",
              "      <td id=\"T_8cc67_row1_col9\" class=\"data row1 col9\" >-0.094769</td>\n",
              "      <td id=\"T_8cc67_row1_col10\" class=\"data row1 col10\" >-0.107290</td>\n",
              "      <td id=\"T_8cc67_row1_col11\" class=\"data row1 col11\" >-0.141414</td>\n",
              "      <td id=\"T_8cc67_row1_col12\" class=\"data row1 col12\" >0.066270</td>\n",
              "    </tr>\n",
              "    <tr>\n",
              "      <th id=\"T_8cc67_level0_row2\" class=\"row_heading level0 row2\" >creatinine_phosphokinase</th>\n",
              "      <td id=\"T_8cc67_row2_col0\" class=\"data row2 col0\" >-0.081584</td>\n",
              "      <td id=\"T_8cc67_row2_col1\" class=\"data row2 col1\" >-0.190741</td>\n",
              "      <td id=\"T_8cc67_row2_col2\" class=\"data row2 col2\" >1.000000</td>\n",
              "      <td id=\"T_8cc67_row2_col3\" class=\"data row2 col3\" >-0.009639</td>\n",
              "      <td id=\"T_8cc67_row2_col4\" class=\"data row2 col4\" >-0.044080</td>\n",
              "      <td id=\"T_8cc67_row2_col5\" class=\"data row2 col5\" >-0.070590</td>\n",
              "      <td id=\"T_8cc67_row2_col6\" class=\"data row2 col6\" >0.024463</td>\n",
              "      <td id=\"T_8cc67_row2_col7\" class=\"data row2 col7\" >-0.016408</td>\n",
              "      <td id=\"T_8cc67_row2_col8\" class=\"data row2 col8\" >0.059550</td>\n",
              "      <td id=\"T_8cc67_row2_col9\" class=\"data row2 col9\" >0.079791</td>\n",
              "      <td id=\"T_8cc67_row2_col10\" class=\"data row2 col10\" >0.002421</td>\n",
              "      <td id=\"T_8cc67_row2_col11\" class=\"data row2 col11\" >-0.009346</td>\n",
              "      <td id=\"T_8cc67_row2_col12\" class=\"data row2 col12\" >0.062728</td>\n",
              "    </tr>\n",
              "    <tr>\n",
              "      <th id=\"T_8cc67_level0_row3\" class=\"row_heading level0 row3\" >diabetes</th>\n",
              "      <td id=\"T_8cc67_row3_col0\" class=\"data row3 col0\" >-0.101012</td>\n",
              "      <td id=\"T_8cc67_row3_col1\" class=\"data row3 col1\" >-0.012729</td>\n",
              "      <td id=\"T_8cc67_row3_col2\" class=\"data row3 col2\" >-0.009639</td>\n",
              "      <td id=\"T_8cc67_row3_col3\" class=\"data row3 col3\" >1.000000</td>\n",
              "      <td id=\"T_8cc67_row3_col4\" class=\"data row3 col4\" >-0.004850</td>\n",
              "      <td id=\"T_8cc67_row3_col5\" class=\"data row3 col5\" >-0.012732</td>\n",
              "      <td id=\"T_8cc67_row3_col6\" class=\"data row3 col6\" >0.092193</td>\n",
              "      <td id=\"T_8cc67_row3_col7\" class=\"data row3 col7\" >-0.046975</td>\n",
              "      <td id=\"T_8cc67_row3_col8\" class=\"data row3 col8\" >-0.089551</td>\n",
              "      <td id=\"T_8cc67_row3_col9\" class=\"data row3 col9\" >-0.157730</td>\n",
              "      <td id=\"T_8cc67_row3_col10\" class=\"data row3 col10\" >-0.147173</td>\n",
              "      <td id=\"T_8cc67_row3_col11\" class=\"data row3 col11\" >0.033726</td>\n",
              "      <td id=\"T_8cc67_row3_col12\" class=\"data row3 col12\" >-0.001943</td>\n",
              "    </tr>\n",
              "    <tr>\n",
              "      <th id=\"T_8cc67_level0_row4\" class=\"row_heading level0 row4\" >ejection_fraction</th>\n",
              "      <td id=\"T_8cc67_row4_col0\" class=\"data row4 col0\" >0.060098</td>\n",
              "      <td id=\"T_8cc67_row4_col1\" class=\"data row4 col1\" >0.031557</td>\n",
              "      <td id=\"T_8cc67_row4_col2\" class=\"data row4 col2\" >-0.044080</td>\n",
              "      <td id=\"T_8cc67_row4_col3\" class=\"data row4 col3\" >-0.004850</td>\n",
              "      <td id=\"T_8cc67_row4_col4\" class=\"data row4 col4\" >1.000000</td>\n",
              "      <td id=\"T_8cc67_row4_col5\" class=\"data row4 col5\" >0.024445</td>\n",
              "      <td id=\"T_8cc67_row4_col6\" class=\"data row4 col6\" >0.072177</td>\n",
              "      <td id=\"T_8cc67_row4_col7\" class=\"data row4 col7\" >-0.011302</td>\n",
              "      <td id=\"T_8cc67_row4_col8\" class=\"data row4 col8\" >0.175902</td>\n",
              "      <td id=\"T_8cc67_row4_col9\" class=\"data row4 col9\" >-0.148386</td>\n",
              "      <td id=\"T_8cc67_row4_col10\" class=\"data row4 col10\" >-0.067315</td>\n",
              "      <td id=\"T_8cc67_row4_col11\" class=\"data row4 col11\" >0.041729</td>\n",
              "      <td id=\"T_8cc67_row4_col12\" class=\"data row4 col12\" >-0.268603</td>\n",
              "    </tr>\n",
              "    <tr>\n",
              "      <th id=\"T_8cc67_level0_row5\" class=\"row_heading level0 row5\" >high_blood_pressure</th>\n",
              "      <td id=\"T_8cc67_row5_col0\" class=\"data row5 col0\" >0.093289</td>\n",
              "      <td id=\"T_8cc67_row5_col1\" class=\"data row5 col1\" >0.038182</td>\n",
              "      <td id=\"T_8cc67_row5_col2\" class=\"data row5 col2\" >-0.070590</td>\n",
              "      <td id=\"T_8cc67_row5_col3\" class=\"data row5 col3\" >-0.012732</td>\n",
              "      <td id=\"T_8cc67_row5_col4\" class=\"data row5 col4\" >0.024445</td>\n",
              "      <td id=\"T_8cc67_row5_col5\" class=\"data row5 col5\" >1.000000</td>\n",
              "      <td id=\"T_8cc67_row5_col6\" class=\"data row5 col6\" >0.049963</td>\n",
              "      <td id=\"T_8cc67_row5_col7\" class=\"data row5 col7\" >-0.004935</td>\n",
              "      <td id=\"T_8cc67_row5_col8\" class=\"data row5 col8\" >0.037109</td>\n",
              "      <td id=\"T_8cc67_row5_col9\" class=\"data row5 col9\" >-0.104615</td>\n",
              "      <td id=\"T_8cc67_row5_col10\" class=\"data row5 col10\" >-0.055711</td>\n",
              "      <td id=\"T_8cc67_row5_col11\" class=\"data row5 col11\" >-0.196439</td>\n",
              "      <td id=\"T_8cc67_row5_col12\" class=\"data row5 col12\" >0.079351</td>\n",
              "    </tr>\n",
              "    <tr>\n",
              "      <th id=\"T_8cc67_level0_row6\" class=\"row_heading level0 row6\" >platelets</th>\n",
              "      <td id=\"T_8cc67_row6_col0\" class=\"data row6 col0\" >-0.052354</td>\n",
              "      <td id=\"T_8cc67_row6_col1\" class=\"data row6 col1\" >-0.043786</td>\n",
              "      <td id=\"T_8cc67_row6_col2\" class=\"data row6 col2\" >0.024463</td>\n",
              "      <td id=\"T_8cc67_row6_col3\" class=\"data row6 col3\" >0.092193</td>\n",
              "      <td id=\"T_8cc67_row6_col4\" class=\"data row6 col4\" >0.072177</td>\n",
              "      <td id=\"T_8cc67_row6_col5\" class=\"data row6 col5\" >0.049963</td>\n",
              "      <td id=\"T_8cc67_row6_col6\" class=\"data row6 col6\" >1.000000</td>\n",
              "      <td id=\"T_8cc67_row6_col7\" class=\"data row6 col7\" >-0.041198</td>\n",
              "      <td id=\"T_8cc67_row6_col8\" class=\"data row6 col8\" >0.062125</td>\n",
              "      <td id=\"T_8cc67_row6_col9\" class=\"data row6 col9\" >-0.125120</td>\n",
              "      <td id=\"T_8cc67_row6_col10\" class=\"data row6 col10\" >0.028234</td>\n",
              "      <td id=\"T_8cc67_row6_col11\" class=\"data row6 col11\" >0.010514</td>\n",
              "      <td id=\"T_8cc67_row6_col12\" class=\"data row6 col12\" >-0.049139</td>\n",
              "    </tr>\n",
              "    <tr>\n",
              "      <th id=\"T_8cc67_level0_row7\" class=\"row_heading level0 row7\" >serum_creatinine</th>\n",
              "      <td id=\"T_8cc67_row7_col0\" class=\"data row7 col0\" >0.159187</td>\n",
              "      <td id=\"T_8cc67_row7_col1\" class=\"data row7 col1\" >0.052174</td>\n",
              "      <td id=\"T_8cc67_row7_col2\" class=\"data row7 col2\" >-0.016408</td>\n",
              "      <td id=\"T_8cc67_row7_col3\" class=\"data row7 col3\" >-0.046975</td>\n",
              "      <td id=\"T_8cc67_row7_col4\" class=\"data row7 col4\" >-0.011302</td>\n",
              "      <td id=\"T_8cc67_row7_col5\" class=\"data row7 col5\" >-0.004935</td>\n",
              "      <td id=\"T_8cc67_row7_col6\" class=\"data row7 col6\" >-0.041198</td>\n",
              "      <td id=\"T_8cc67_row7_col7\" class=\"data row7 col7\" >1.000000</td>\n",
              "      <td id=\"T_8cc67_row7_col8\" class=\"data row7 col8\" >-0.189095</td>\n",
              "      <td id=\"T_8cc67_row7_col9\" class=\"data row7 col9\" >0.006970</td>\n",
              "      <td id=\"T_8cc67_row7_col10\" class=\"data row7 col10\" >-0.027414</td>\n",
              "      <td id=\"T_8cc67_row7_col11\" class=\"data row7 col11\" >-0.149315</td>\n",
              "      <td id=\"T_8cc67_row7_col12\" class=\"data row7 col12\" >0.294278</td>\n",
              "    </tr>\n",
              "    <tr>\n",
              "      <th id=\"T_8cc67_level0_row8\" class=\"row_heading level0 row8\" >serum_sodium</th>\n",
              "      <td id=\"T_8cc67_row8_col0\" class=\"data row8 col0\" >-0.045966</td>\n",
              "      <td id=\"T_8cc67_row8_col1\" class=\"data row8 col1\" >0.041882</td>\n",
              "      <td id=\"T_8cc67_row8_col2\" class=\"data row8 col2\" >0.059550</td>\n",
              "      <td id=\"T_8cc67_row8_col3\" class=\"data row8 col3\" >-0.089551</td>\n",
              "      <td id=\"T_8cc67_row8_col4\" class=\"data row8 col4\" >0.175902</td>\n",
              "      <td id=\"T_8cc67_row8_col5\" class=\"data row8 col5\" >0.037109</td>\n",
              "      <td id=\"T_8cc67_row8_col6\" class=\"data row8 col6\" >0.062125</td>\n",
              "      <td id=\"T_8cc67_row8_col7\" class=\"data row8 col7\" >-0.189095</td>\n",
              "      <td id=\"T_8cc67_row8_col8\" class=\"data row8 col8\" >1.000000</td>\n",
              "      <td id=\"T_8cc67_row8_col9\" class=\"data row8 col9\" >-0.027566</td>\n",
              "      <td id=\"T_8cc67_row8_col10\" class=\"data row8 col10\" >0.004813</td>\n",
              "      <td id=\"T_8cc67_row8_col11\" class=\"data row8 col11\" >0.087640</td>\n",
              "      <td id=\"T_8cc67_row8_col12\" class=\"data row8 col12\" >-0.195204</td>\n",
              "    </tr>\n",
              "    <tr>\n",
              "      <th id=\"T_8cc67_level0_row9\" class=\"row_heading level0 row9\" >sex</th>\n",
              "      <td id=\"T_8cc67_row9_col0\" class=\"data row9 col0\" >0.065430</td>\n",
              "      <td id=\"T_8cc67_row9_col1\" class=\"data row9 col1\" >-0.094769</td>\n",
              "      <td id=\"T_8cc67_row9_col2\" class=\"data row9 col2\" >0.079791</td>\n",
              "      <td id=\"T_8cc67_row9_col3\" class=\"data row9 col3\" >-0.157730</td>\n",
              "      <td id=\"T_8cc67_row9_col4\" class=\"data row9 col4\" >-0.148386</td>\n",
              "      <td id=\"T_8cc67_row9_col5\" class=\"data row9 col5\" >-0.104615</td>\n",
              "      <td id=\"T_8cc67_row9_col6\" class=\"data row9 col6\" >-0.125120</td>\n",
              "      <td id=\"T_8cc67_row9_col7\" class=\"data row9 col7\" >0.006970</td>\n",
              "      <td id=\"T_8cc67_row9_col8\" class=\"data row9 col8\" >-0.027566</td>\n",
              "      <td id=\"T_8cc67_row9_col9\" class=\"data row9 col9\" >1.000000</td>\n",
              "      <td id=\"T_8cc67_row9_col10\" class=\"data row9 col10\" >0.445892</td>\n",
              "      <td id=\"T_8cc67_row9_col11\" class=\"data row9 col11\" >-0.015608</td>\n",
              "      <td id=\"T_8cc67_row9_col12\" class=\"data row9 col12\" >-0.004316</td>\n",
              "    </tr>\n",
              "    <tr>\n",
              "      <th id=\"T_8cc67_level0_row10\" class=\"row_heading level0 row10\" >smoking</th>\n",
              "      <td id=\"T_8cc67_row10_col0\" class=\"data row10 col0\" >0.018668</td>\n",
              "      <td id=\"T_8cc67_row10_col1\" class=\"data row10 col1\" >-0.107290</td>\n",
              "      <td id=\"T_8cc67_row10_col2\" class=\"data row10 col2\" >0.002421</td>\n",
              "      <td id=\"T_8cc67_row10_col3\" class=\"data row10 col3\" >-0.147173</td>\n",
              "      <td id=\"T_8cc67_row10_col4\" class=\"data row10 col4\" >-0.067315</td>\n",
              "      <td id=\"T_8cc67_row10_col5\" class=\"data row10 col5\" >-0.055711</td>\n",
              "      <td id=\"T_8cc67_row10_col6\" class=\"data row10 col6\" >0.028234</td>\n",
              "      <td id=\"T_8cc67_row10_col7\" class=\"data row10 col7\" >-0.027414</td>\n",
              "      <td id=\"T_8cc67_row10_col8\" class=\"data row10 col8\" >0.004813</td>\n",
              "      <td id=\"T_8cc67_row10_col9\" class=\"data row10 col9\" >0.445892</td>\n",
              "      <td id=\"T_8cc67_row10_col10\" class=\"data row10 col10\" >1.000000</td>\n",
              "      <td id=\"T_8cc67_row10_col11\" class=\"data row10 col11\" >-0.022839</td>\n",
              "      <td id=\"T_8cc67_row10_col12\" class=\"data row10 col12\" >-0.012623</td>\n",
              "    </tr>\n",
              "    <tr>\n",
              "      <th id=\"T_8cc67_level0_row11\" class=\"row_heading level0 row11\" >time</th>\n",
              "      <td id=\"T_8cc67_row11_col0\" class=\"data row11 col0\" >-0.224068</td>\n",
              "      <td id=\"T_8cc67_row11_col1\" class=\"data row11 col1\" >-0.141414</td>\n",
              "      <td id=\"T_8cc67_row11_col2\" class=\"data row11 col2\" >-0.009346</td>\n",
              "      <td id=\"T_8cc67_row11_col3\" class=\"data row11 col3\" >0.033726</td>\n",
              "      <td id=\"T_8cc67_row11_col4\" class=\"data row11 col4\" >0.041729</td>\n",
              "      <td id=\"T_8cc67_row11_col5\" class=\"data row11 col5\" >-0.196439</td>\n",
              "      <td id=\"T_8cc67_row11_col6\" class=\"data row11 col6\" >0.010514</td>\n",
              "      <td id=\"T_8cc67_row11_col7\" class=\"data row11 col7\" >-0.149315</td>\n",
              "      <td id=\"T_8cc67_row11_col8\" class=\"data row11 col8\" >0.087640</td>\n",
              "      <td id=\"T_8cc67_row11_col9\" class=\"data row11 col9\" >-0.015608</td>\n",
              "      <td id=\"T_8cc67_row11_col10\" class=\"data row11 col10\" >-0.022839</td>\n",
              "      <td id=\"T_8cc67_row11_col11\" class=\"data row11 col11\" >1.000000</td>\n",
              "      <td id=\"T_8cc67_row11_col12\" class=\"data row11 col12\" >-0.526964</td>\n",
              "    </tr>\n",
              "    <tr>\n",
              "      <th id=\"T_8cc67_level0_row12\" class=\"row_heading level0 row12\" >DEATH_EVENT</th>\n",
              "      <td id=\"T_8cc67_row12_col0\" class=\"data row12 col0\" >0.253729</td>\n",
              "      <td id=\"T_8cc67_row12_col1\" class=\"data row12 col1\" >0.066270</td>\n",
              "      <td id=\"T_8cc67_row12_col2\" class=\"data row12 col2\" >0.062728</td>\n",
              "      <td id=\"T_8cc67_row12_col3\" class=\"data row12 col3\" >-0.001943</td>\n",
              "      <td id=\"T_8cc67_row12_col4\" class=\"data row12 col4\" >-0.268603</td>\n",
              "      <td id=\"T_8cc67_row12_col5\" class=\"data row12 col5\" >0.079351</td>\n",
              "      <td id=\"T_8cc67_row12_col6\" class=\"data row12 col6\" >-0.049139</td>\n",
              "      <td id=\"T_8cc67_row12_col7\" class=\"data row12 col7\" >0.294278</td>\n",
              "      <td id=\"T_8cc67_row12_col8\" class=\"data row12 col8\" >-0.195204</td>\n",
              "      <td id=\"T_8cc67_row12_col9\" class=\"data row12 col9\" >-0.004316</td>\n",
              "      <td id=\"T_8cc67_row12_col10\" class=\"data row12 col10\" >-0.012623</td>\n",
              "      <td id=\"T_8cc67_row12_col11\" class=\"data row12 col11\" >-0.526964</td>\n",
              "      <td id=\"T_8cc67_row12_col12\" class=\"data row12 col12\" >1.000000</td>\n",
              "    </tr>\n",
              "  </tbody>\n",
              "</table>\n"
            ]
          },
          "metadata": {},
          "execution_count": 15
        }
      ],
      "source": [
        "df.corr().style.background_gradient(cmap='viridis')"
      ]
    },
    {
      "cell_type": "markdown",
      "source": [
        "#### This code will create a bar chart using the plot method of the DataFrame object returned by pd.crosstab(df['age'], df['DEATH_EVENT']).\n",
        "\n",
        "#### pd.crosstab is a function that generates a cross-tabulation table for two or more factors. \n",
        "#### It takes in two or more arrays of variables and returns a DataFrame with the counts of the unique combinations of the variables.\n",
        "#### In this case, pd.crosstab(df['age'], df['DEATH_EVENT']) will create a cross-tabulation table with the age values in the rows and \n",
        "#### the DEATH_EVENT values in the columns. The resulting table will show the count of each unique combination of age and DEATH_EVENT values in the input data.\n",
        "\n",
        "#### The kind parameter of the plot method specifies the type of chart to create. In this case, kind='bar' will create a bar chart.\n",
        "\n",
        "#### This code will create a bar chart that shows the counts of each unique combination of age and DEATH_EVENT values in the input data. \n",
        "#### The age values will be used as the x-axis labels and the DEATH_EVENT values will be used as the y-axis values. \n",
        "#### The chart will show the count of each unique combination of age and DEATH_EVENT values as the height of the bars."
      ],
      "metadata": {
        "id": "641IjjmesNak"
      },
      "id": "641IjjmesNak"
    },
    {
      "cell_type": "code",
      "source": [
        "\n",
        "pd.crosstab(df['age'], df['DEATH_EVENT']).plot(kind='bar')\n",
        "plot_data = pd.crosstab(df['age'], df['DEATH_EVENT']).unstack().reset_index(name='count')\n",
        "# Plot the x and y values as a scatter plot\n",
        "plot = plot_data.plot(kind='scatter', x='age', y='count', title='Death Events by Age', figsize=(10, 5), color='red', marker='x', s=50)\n",
        "plot.set_xlabel('Age')\n",
        "plot.set_ylabel('Number of Death Events')"
      ],
      "metadata": {
        "colab": {
          "base_uri": "https://localhost:8080/",
          "height": 655
        },
        "id": "_TNdu2SishSp",
        "outputId": "14ef7e15-8d5e-48b6-bf24-0a44a9d2d4b9"
      },
      "id": "_TNdu2SishSp",
      "execution_count": 16,
      "outputs": [
        {
          "output_type": "execute_result",
          "data": {
            "text/plain": [
              "Text(0, 0.5, 'Number of Death Events')"
            ]
          },
          "metadata": {},
          "execution_count": 16
        },
        {
          "output_type": "display_data",
          "data": {
            "text/plain": [
              "<Figure size 432x288 with 1 Axes>"
            ],
            "image/png": "[encoded data removed]"
          },
          "metadata": {
            "needs_background": "light"
          }
        },
        {
          "output_type": "display_data",
          "data": {
            "text/plain": [
              "<Figure size 720x360 with 1 Axes>"
            ],
            "image/png": "[encoded data removed]"
          },
          "metadata": {
            "needs_background": "light"
          }
        }
      ]
    },
    {
      "cell_type": "code",
      "source": [
        "for col in df.columns:\n",
        "    print(col)"
      ],
      "metadata": {
        "colab": {
          "base_uri": "https://localhost:8080/"
        },
        "id": "x0t4aRvYsq-U",
        "outputId": "f7165026-17ad-43ec-aa44-00eb746d718b"
      },
      "id": "x0t4aRvYsq-U",
      "execution_count": 17,
      "outputs": [
        {
          "output_type": "stream",
          "name": "stdout",
          "text": [
            "age\n",
            "anaemia\n",
            "creatinine_phosphokinase\n",
            "diabetes\n",
            "ejection_fraction\n",
            "high_blood_pressure\n",
            "platelets\n",
            "serum_creatinine\n",
            "serum_sodium\n",
            "sex\n",
            "smoking\n",
            "time\n",
            "DEATH_EVENT\n"
          ]
        }
      ]
    },
    {
      "cell_type": "code",
      "execution_count": 18,
      "id": "9f4e96a4",
      "metadata": {
        "execution": {
          "iopub.execute_input": "2022-12-04T11:40:36.623634Z",
          "iopub.status.busy": "2022-12-04T11:40:36.622847Z",
          "iopub.status.idle": "2022-12-04T11:40:37.464668Z",
          "shell.execute_reply": "2022-12-04T11:40:37.463624Z"
        },
        "papermill": {
          "duration": 0.858016,
          "end_time": "2022-12-04T11:40:37.467328",
          "exception": false,
          "start_time": "2022-12-04T11:40:36.609312",
          "status": "completed"
        },
        "tags": [],
        "colab": {
          "base_uri": "https://localhost:8080/",
          "height": 322
        },
        "id": "9f4e96a4",
        "outputId": "48a0704f-4ee6-4e8b-a82d-db9b7fe73b81"
      },
      "outputs": [
        {
          "output_type": "execute_result",
          "data": {
            "text/plain": [
              "<matplotlib.axes._subplots.AxesSubplot at 0x7f095c891490>"
            ]
          },
          "metadata": {},
          "execution_count": 18
        },
        {
          "output_type": "display_data",
          "data": {
            "text/plain": [
              "<Figure size 432x288 with 1 Axes>"
            ],
            "image/png": "[encoded data removed]"
          },
          "metadata": {
            "needs_background": "light"
          }
        }
      ],
      "source": [
        "pd.crosstab(df['age'], df['DEATH_EVENT']).plot(kind='bar')"
      ]
    },
    {
      "cell_type": "code",
      "execution_count": 19,
      "id": "23f52941",
      "metadata": {
        "execution": {
          "iopub.execute_input": "2022-12-04T11:40:37.495418Z",
          "iopub.status.busy": "2022-12-04T11:40:37.494654Z",
          "iopub.status.idle": "2022-12-04T11:40:37.503076Z",
          "shell.execute_reply": "2022-12-04T11:40:37.502233Z"
        },
        "papermill": {
          "duration": 0.02501,
          "end_time": "2022-12-04T11:40:37.505552",
          "exception": false,
          "start_time": "2022-12-04T11:40:37.480542",
          "status": "completed"
        },
        "tags": [],
        "colab": {
          "base_uri": "https://localhost:8080/",
          "height": 882
        },
        "id": "23f52941",
        "outputId": "0366dfe5-d842-4673-8844-c92eb1597bf5"
      },
      "outputs": [
        {
          "output_type": "execute_result",
          "data": {
            "text/plain": [
              "Text(0.5, 1.0, 'Time')"
            ]
          },
          "metadata": {},
          "execution_count": 19
        },
        {
          "output_type": "display_data",
          "data": {
            "text/plain": [
              "<Figure size 1080x1080 with 6 Axes>"
            ],
            "image/png": "[encoded data removed]"
          },
          "metadata": {
            "needs_background": "light"
          }
        }
      ],
      "source": [
        "f, ax = plt.subplots(nrows=2, ncols=3, figsize=(15, 15))\n",
        "\n",
        "# Plot bar chart for 'anaemia' column, grouped by 'DEATH_EVENT' column\n",
        "sns.countplot(x='anaemia', hue='DEATH_EVENT', data=df, palette='Set1', ax=ax[0,0])\n",
        "\n",
        "# Plot bar chart for 'creatinine_phosphokinase' column, grouped by 'DEATH_EVENT' column\n",
        "sns.countplot(x='creatinine_phosphokinase', hue='DEATH_EVENT', data=df, palette='Set1', ax=ax[1,0])\n",
        "\n",
        "# Plot bar chart for 'diabetes' column\n",
        "sns.countplot(x='diabetes', data=df, ax=ax[1,0])\n",
        "\n",
        "# Plot bar chart for 'ejection_fraction' column\n",
        "sns.countplot(x='ejection_fraction', data=df, ax=ax[0,1])\n",
        "\n",
        "# Plot bar chart for 'high_blood_pressure' column\n",
        "sns.countplot(x='high_blood_pressure', data=df, ax=ax[1,1])\n",
        "\n",
        "# Plot bar chart for 'platelets' column\n",
        "sns.countplot(x='platelets', data=df, ax=ax[1,1])  # modify index to access element within bounds\n",
        "\n",
        "# Plot bar chart for 'serum_creatinine' column\n",
        "sns.countplot(x='serum_creatinine', data=df, ax=ax[1,1])  # modify index to access element within bounds\n",
        "\n",
        "# Plot bar chart for 'serum_sodium' column\n",
        "sns.countplot(x='serum_sodium', data=df, ax=ax[0,2])\n",
        "\n",
        "# Plot bar chart for 'sex' column\n",
        "sns.countplot(x='sex', data=df, ax=ax[0,2])\n",
        "\n",
        "# Plot bar chart for 'smoking' column\n",
        "sns.countplot(x='smoking', data=df, ax=ax[1,2])\n",
        "\n",
        "# Plot bar chart for 'time' column\n",
        "sns.countplot(x='time', data=df, ax=ax[1,2])  # modify index to access element within bounds\n",
        "\n",
        "# Set title for each subplot\n",
        "ax[0,0].set_title('Anaemia')\n",
        "ax[1,0].set_title('Creatinine Phosphokinase')\n",
        "ax[1,0].set_title('Diabetes')\n",
        "ax[0,1].set_title('Ejection Fraction')\n",
        "ax[1,1].set_title('High Blood Pressure')\n",
        "ax[1,1].set_title('Platelets')  # modify index to access element within bounds\n",
        "ax[1,1].set_title('Serum Creatinine')  # modify index to access element within bounds\n",
        "ax[0,2].set_title('Serum Sodium')\n",
        "ax[0,2].set_title('Sex')\n",
        "ax[1,2].set_title('Smoking')\n",
        "ax[1,2].set_title('Time')  # modify index to access element within bounds\n"
      ]
    },
    {
      "cell_type": "code",
      "execution_count": 20,
      "id": "1f039d8d",
      "metadata": {
        "execution": {
          "iopub.execute_input": "2022-12-04T11:40:37.533404Z",
          "iopub.status.busy": "2022-12-04T11:40:37.532514Z",
          "iopub.status.idle": "2022-12-04T11:40:38.599408Z",
          "shell.execute_reply": "2022-12-04T11:40:38.597958Z"
        },
        "papermill": {
          "duration": 1.083897,
          "end_time": "2022-12-04T11:40:38.602219",
          "exception": false,
          "start_time": "2022-12-04T11:40:37.518322",
          "status": "completed"
        },
        "tags": [],
        "colab": {
          "base_uri": "https://localhost:8080/",
          "height": 875
        },
        "id": "1f039d8d",
        "outputId": "32e011b5-77f5-4b74-f49d-08883cfdab44"
      },
      "outputs": [
        {
          "output_type": "execute_result",
          "data": {
            "text/plain": [
              "<matplotlib.axes._subplots.AxesSubplot at 0x7f095a995400>"
            ]
          },
          "metadata": {},
          "execution_count": 20
        },
        {
          "output_type": "display_data",
          "data": {
            "text/plain": [
              "<Figure size 1080x1080 with 6 Axes>"
            ],
            "image/png": "[encoded data removed]"
          },
          "metadata": {
            "needs_background": "light"
          }
        }
      ],
      "source": [
        "f, ax = plt.subplots(nrows=2, ncols=3, figsize=(15, 15))\n",
        "\n",
        "#fig, axes = plt.subplots((2, 2),figsize=(15, 15))\n",
        "\n",
        "#create chart in each subplot\n",
        "#sns.boxplot(data=df, x='age', y='DEATH_EVENT', ax=ax[0,0])\n",
        "sns.countplot(x='anaemia',data=df,  ax=ax[0,0])\n",
        "#sns.countplot(x='creatinine_phosphokinase',data=df,  ax=ax[1,0])\n",
        "sns.countplot(x='diabetes',data=df,  ax=ax[1,0])\n",
        "sns.countplot(x='ejection_fraction',data=df,  ax=ax[0,1])\n",
        "sns.countplot(x='high_blood_pressure',data=df,  ax=ax[1,1])\n",
        "#sns.countplot(x='platelets',data=df,  ax=ax[2,1])\n",
        "#sns.countplot(x='serum_creatinine',data=df,  ax=ax[3,1])\n",
        "#sns.countplot(x='serum_sodium',data=df,  ax=ax[0,2])\n",
        "sns.countplot(x='sex',data=df,  ax=ax[0,2])\n",
        "sns.countplot(x='smoking',data=df,  ax=ax[1,2])\n",
        "#sns.countplot(x='time',data=df,  ax=ax[3,2])\n"
      ]
    },
    {
      "cell_type": "markdown",
      "source": [
        "The y-axis of the plot represents the age variable,\n",
        "which represents the age of the individuals in the data. \n",
        "The x-axis of the plot represents the smoking variable,\n",
        "which represents the smoking status of the individuals in the data.\n",
        "The boxes in the plot are colored based on the DEATH_EVENT variable, \n",
        "which represents whether or not the individual died.\n",
        "\n",
        "The box plot shows the distribution of the data by displaying the median,\n",
        "first and third quartiles, and minimum and maximum values of the age variable\n",
        "for each group of smoking and DEATH_EVENT values. The points on top of the boxes\n",
        "represent the individual data points.\n",
        "From this plot, you can see that individuals who are older and who smoke are more \n",
        "likely to have a higher death event. On the other hand, individuals who are younger \n",
        "and who do not smoke are less likely to have a higher death event.\n",
        "\n"
      ],
      "metadata": {
        "id": "RaPAEaSEtFVI"
      },
      "id": "RaPAEaSEtFVI"
    },
    {
      "cell_type": "code",
      "source": [
        "fig = px.box(df, y=\"age\", x=\"smoking\", color=\"DEATH_EVENT\", points=\"all\",  hover_data=df.columns)\n",
        "fig.update_layout(title_text=\"Death dependance on diabetes and smoking\")\n",
        "fig.show()"
      ],
      "metadata": {
        "colab": {
          "base_uri": "https://localhost:8080/",
          "height": 542
        },
        "id": "L0HN20iQtCmW",
        "outputId": "a24df57c-f1b5-4ccf-fbc1-5aba03eeb37c"
      },
      "id": "L0HN20iQtCmW",
      "execution_count": 21,
      "outputs": [
        {
          "output_type": "display_data",
          "data": {
            "text/html": [
              "<html>\n",
              "<head><meta charset=\"utf-8\" /></head>\n",
              "<body>\n",
              "    <div>            <script src=\"https://cdnjs.cloudflare.com/ajax/libs/mathjax/2.7.5/MathJax.js?config=TeX-AMS-MML_SVG\"></script><script type=\"text/javascript\">if (window.MathJax) {MathJax.Hub.Config({SVG: {font: \"STIX-Web\"}});}</script>                <script type=\"text/javascript\">window.PlotlyConfig = {MathJaxConfig: 'local'};</script>\n",
              "        <script src=\"https://cdn.plot.ly/plotly-2.8.3.min.js\"></script>                <div id=\"d74ebe68-dcff-4102-b638-b85cc65a88fa\" class=\"plotly-graph-div\" style=\"height:525px; width:100%;\"></div>            <script type=\"text/javascript\">                                    window.PLOTLYENV=window.PLOTLYENV || {};                                    if (document.getElementById(\"d74ebe68-dcff-4102-b638-b85cc65a88fa\")) {                    Plotly.newPlot(                        \"d74ebe68-dcff-4102-b638-b85cc65a88fa\",                        [{\"alignmentgroup\":\"True\",\"boxpoints\":\"all\",\"customdata\":[[0.0,582.0,0.0,20.0,1.0,265000.0,1.9,130.0,1.0,4.0,1.0],[0.0,7861.0,0.0,38.0,0.0,263358.03,1.1,136.0,1.0,6.0,1.0],[0.0,146.0,0.0,20.0,0.0,162000.0,1.3,129.0,1.0,7.0,1.0],[1.0,111.0,0.0,20.0,0.0,210000.0,1.9,137.0,1.0,7.0,1.0],[1.0,160.0,1.0,20.0,0.0,327000.0,2.7,116.0,0.0,8.0,1.0],[1.0,47.0,0.0,40.0,1.0,204000.0,2.1,132.0,1.0,8.0,1.0],[1.0,246.0,0.0,15.0,0.0,127000.0,1.2,137.0,1.0,10.0,1.0],[1.0,315.0,1.0,60.0,0.0,454000.0,1.1,131.0,1.0,10.0,1.0],[0.0,157.0,0.0,65.0,0.0,263358.03,1.5,138.0,0.0,10.0,1.0],[1.0,123.0,0.0,35.0,1.0,388000.0,9.4,133.0,1.0,10.0,1.0],[1.0,81.0,0.0,38.0,1.0,368000.0,4.0,131.0,1.0,10.0,1.0],[0.0,231.0,0.0,25.0,1.0,253000.0,0.9,140.0,1.0,10.0,1.0],[1.0,981.0,0.0,30.0,0.0,136000.0,1.1,137.0,1.0,11.0,1.0],[1.0,168.0,0.0,38.0,1.0,276000.0,1.1,137.0,1.0,11.0,1.0],[1.0,379.0,0.0,50.0,0.0,47000.0,1.3,136.0,1.0,13.0,1.0],[1.0,149.0,0.0,38.0,0.0,262000.0,0.9,140.0,1.0,14.0,1.0],[0.0,582.0,0.0,14.0,0.0,166000.0,0.8,127.0,1.0,14.0,1.0],[1.0,125.0,0.0,25.0,1.0,237000.0,1.0,140.0,0.0,15.0,1.0],[1.0,582.0,1.0,55.0,0.0,87000.0,1.9,121.0,0.0,15.0,1.0],[1.0,128.0,1.0,30.0,1.0,297000.0,1.6,136.0,0.0,20.0,1.0],[1.0,220.0,0.0,35.0,1.0,289000.0,0.9,140.0,1.0,20.0,1.0],[0.0,582.0,1.0,30.0,1.0,263358.03,1.83,134.0,0.0,23.0,1.0],[0.0,148.0,1.0,38.0,0.0,149000.0,1.9,144.0,1.0,23.0,1.0],[1.0,112.0,0.0,40.0,1.0,196000.0,1.0,138.0,0.0,24.0,1.0],[0.0,122.0,1.0,45.0,1.0,284000.0,1.3,136.0,1.0,26.0,1.0],[1.0,60.0,0.0,38.0,0.0,153000.0,5.8,134.0,1.0,26.0,1.0],[0.0,70.0,1.0,30.0,0.0,200000.0,1.2,132.0,1.0,26.0,1.0],[0.0,582.0,1.0,38.0,1.0,263358.03,1.83,134.0,1.0,27.0,1.0],[0.0,23.0,0.0,45.0,0.0,360000.0,3.0,132.0,1.0,28.0,1.0],[1.0,249.0,1.0,35.0,1.0,319000.0,1.0,128.0,0.0,28.0,1.0],[0.0,94.0,1.0,50.0,1.0,188000.0,1.0,140.0,1.0,29.0,1.0],[0.0,582.0,1.0,35.0,0.0,228000.0,3.5,134.0,1.0,30.0,1.0],[1.0,60.0,1.0,50.0,0.0,226000.0,1.0,134.0,1.0,30.0,1.0],[1.0,855.0,1.0,50.0,1.0,321000.0,1.0,145.0,0.0,30.0,1.0],[0.0,235.0,1.0,38.0,0.0,329000.0,3.0,142.0,0.0,30.0,1.0],[0.0,582.0,0.0,20.0,1.0,263358.03,1.83,134.0,1.0,31.0,1.0],[0.0,124.0,1.0,30.0,1.0,153000.0,1.2,136.0,0.0,32.0,1.0],[0.0,571.0,1.0,45.0,1.0,185000.0,1.2,139.0,1.0,33.0,1.0],[1.0,588.0,1.0,60.0,0.0,194000.0,1.1,142.0,0.0,33.0,1.0],[0.0,582.0,1.0,38.0,0.0,310000.0,1.9,135.0,1.0,35.0,1.0],[0.0,1380.0,0.0,25.0,1.0,271000.0,0.9,130.0,1.0,38.0,1.0],[0.0,582.0,1.0,38.0,1.0,451000.0,0.6,138.0,1.0,40.0,1.0],[1.0,553.0,0.0,20.0,1.0,140000.0,4.4,133.0,1.0,41.0,1.0],[1.0,129.0,0.0,30.0,0.0,395000.0,1.0,140.0,0.0,42.0,1.0],[1.0,577.0,0.0,25.0,1.0,166000.0,1.0,138.0,1.0,43.0,1.0],[1.0,91.0,0.0,20.0,1.0,418000.0,1.4,139.0,0.0,43.0,1.0],[0.0,3964.0,1.0,62.0,0.0,263358.03,6.8,146.0,0.0,43.0,1.0],[1.0,69.0,1.0,50.0,1.0,351000.0,1.0,134.0,0.0,44.0,1.0],[1.0,260.0,1.0,38.0,0.0,255000.0,2.2,132.0,0.0,45.0,1.0],[1.0,371.0,0.0,30.0,0.0,461000.0,2.0,132.0,1.0,50.0,1.0],[0.0,789.0,0.0,20.0,1.0,319000.0,1.1,136.0,1.0,55.0,1.0],[0.0,364.0,1.0,20.0,1.0,254000.0,1.3,136.0,1.0,59.0,1.0],[0.0,7702.0,1.0,25.0,1.0,390000.0,1.0,139.0,1.0,60.0,1.0],[0.0,318.0,0.0,40.0,1.0,216000.0,2.3,131.0,0.0,60.0,1.0],[0.0,582.0,0.0,35.0,0.0,385000.0,1.0,145.0,1.0,61.0,1.0],[0.0,68.0,0.0,20.0,0.0,119000.0,2.9,127.0,1.0,64.0,1.0],[1.0,250.0,1.0,15.0,0.0,213000.0,1.3,136.0,0.0,65.0,1.0],[1.0,110.0,0.0,25.0,0.0,274000.0,1.0,140.0,1.0,65.0,1.0],[0.0,161.0,0.0,25.0,0.0,244000.0,1.2,142.0,0.0,66.0,1.0],[0.0,113.0,1.0,25.0,0.0,497000.0,1.83,135.0,1.0,67.0,1.0],[0.0,5882.0,0.0,35.0,0.0,243000.0,1.0,132.0,1.0,72.0,1.0],[0.0,582.0,0.0,20.0,0.0,266000.0,1.2,134.0,1.0,73.0,1.0],[1.0,47.0,0.0,20.0,0.0,204000.0,0.7,139.0,1.0,73.0,1.0],[1.0,76.0,1.0,25.0,0.0,196000.0,2.5,132.0,0.0,77.0,1.0],[1.0,280.0,1.0,25.0,1.0,302000.0,1.0,141.0,0.0,78.0,1.0],[1.0,154.0,0.0,25.0,0.0,210000.0,1.7,135.0,1.0,82.0,1.0],[1.0,328.0,0.0,30.0,1.0,621000.0,1.7,138.0,0.0,88.0,1.0],[0.0,129.0,0.0,60.0,0.0,306000.0,1.2,132.0,1.0,90.0,1.0],[1.0,143.0,0.0,60.0,0.0,351000.0,1.3,137.0,0.0,90.0,1.0],[0.0,582.0,0.0,38.0,0.0,263358.03,1.83,134.0,0.0,95.0,1.0],[0.0,582.0,0.0,40.0,0.0,217000.0,3.7,134.0,1.0,96.0,1.0],[0.0,168.0,1.0,17.0,1.0,271000.0,2.1,124.0,0.0,100.0,1.0],[0.0,805.0,0.0,38.0,0.0,263358.03,1.1,134.0,1.0,109.0,1.0],[1.0,943.0,0.0,25.0,1.0,338000.0,1.7,139.0,1.0,111.0,1.0],[1.0,582.0,0.0,30.0,0.0,225000.0,1.83,134.0,1.0,113.0,1.0],[0.0,233.0,0.0,45.0,1.0,235000.0,2.5,135.0,0.0,115.0,1.0],[1.0,2334.0,1.0,35.0,0.0,75000.0,0.9,142.0,0.0,126.0,1.0],[0.0,2442.0,1.0,30.0,0.0,334000.0,1.1,139.0,1.0,129.0,1.0],[0.0,776.0,1.0,38.0,1.0,192000.0,1.3,135.0,0.0,130.0,1.0],[0.0,66.0,1.0,20.0,0.0,70000.0,2.4,134.0,1.0,135.0,1.0],[1.0,176.0,1.0,25.0,0.0,221000.0,1.0,136.0,1.0,150.0,1.0],[0.0,395.0,1.0,25.0,0.0,265000.0,1.2,136.0,1.0,154.0,1.0],[0.0,99.0,0.0,38.0,1.0,224000.0,2.5,134.0,1.0,162.0,1.0],[1.0,145.0,0.0,25.0,0.0,219000.0,1.2,137.0,1.0,170.0,1.0],[1.0,104.0,1.0,30.0,0.0,389000.0,1.5,136.0,1.0,171.0,1.0],[0.0,582.0,0.0,50.0,0.0,153000.0,0.6,134.0,0.0,172.0,1.0],[0.0,1896.0,1.0,25.0,0.0,365000.0,2.1,144.0,0.0,172.0,1.0],[0.0,582.0,0.0,20.0,1.0,126000.0,1.6,135.0,1.0,180.0,1.0],[1.0,418.0,0.0,45.0,0.0,223000.0,1.8,145.0,1.0,180.0,1.0],[1.0,131.0,1.0,30.0,1.0,244000.0,1.6,130.0,0.0,193.0,1.0],[1.0,427.0,0.0,70.0,1.0,151000.0,9.0,137.0,0.0,196.0,1.0],[0.0,582.0,0.0,20.0,0.0,263358.03,1.83,134.0,1.0,198.0,1.0],[0.0,166.0,0.0,30.0,0.0,62000.0,1.7,127.0,0.0,207.0,1.0],[0.0,2017.0,0.0,25.0,0.0,314000.0,1.1,138.0,1.0,214.0,1.0],[1.0,258.0,1.0,25.0,0.0,198000.0,1.4,129.0,1.0,235.0,1.0],[0.0,1199.0,0.0,20.0,0.0,263358.03,1.83,134.0,1.0,241.0,1.0]],\"hovertemplate\":\"DEATH_EVENT=%{customdata[10]}<br>smoking=%{x}<br>age=%{y}<br>anaemia=%{customdata[0]}<br>creatinine_phosphokinase=%{customdata[1]}<br>diabetes=%{customdata[2]}<br>ejection_fraction=%{customdata[3]}<br>high_blood_pressure=%{customdata[4]}<br>platelets=%{customdata[5]}<br>serum_creatinine=%{customdata[6]}<br>serum_sodium=%{customdata[7]}<br>sex=%{customdata[8]}<br>time=%{customdata[9]}<extra></extra>\",\"legendgroup\":\"1\",\"marker\":{\"color\":\"#636efa\"},\"name\":\"1\",\"notched\":false,\"offsetgroup\":\"1\",\"orientation\":\"v\",\"showlegend\":true,\"x\":[0,0,1,0,0,1,0,1,0,1,1,1,0,0,0,0,0,0,0,0,1,0,1,0,1,0,1,0,0,0,0,0,0,0,0,1,1,1,0,1,0,1,0,0,0,0,0,0,1,0,1,1,0,0,0,1,0,1,0,0,1,1,1,0,0,0,1,1,0,0,0,0,0,1,0,0,0,0,0,0,1,1,0,1,0,0,0,0,0,0,0,0,0,0,0,1],\"x0\":\" \",\"xaxis\":\"x\",\"y\":[75.0,55.0,65.0,50.0,65.0,90.0,75.0,60.0,65.0,80.0,75.0,62.0,45.0,50.0,82.0,87.0,45.0,70.0,48.0,65.0,68.0,75.0,80.0,95.0,70.0,58.0,82.0,94.0,85.0,50.0,65.0,69.0,90.0,82.0,60.0,70.0,50.0,70.0,60.0,50.0,51.0,60.0,80.0,57.0,68.0,53.0,60.0,70.0,60.0,95.0,49.0,72.0,45.0,50.0,45.0,60.0,42.0,72.0,70.0,65.0,85.0,69.0,60.0,60.0,59.0,60.0,72.0,85.0,70.0,86.0,60.0,46.0,80.0,72.0,75.0,72.0,50.0,45.0,80.0,59.0,59.0,65.0,75.0,58.0,60.667,50.0,60.0,45.0,77.0,48.0,54.0,73.0,60.0,55.0,65.0,55.0],\"y0\":\" \",\"yaxis\":\"y\",\"type\":\"box\"},{\"alignmentgroup\":\"True\",\"boxpoints\":\"all\",\"customdata\":[[1.0,80.0,0.0,30.0,1.0,427000.0,1.0,138.0,0.0,12.0,0.0],[1.0,52.0,0.0,25.0,1.0,276000.0,1.3,137.0,0.0,16.0,0.0],[0.0,63.0,1.0,60.0,0.0,368000.0,0.8,135.0,1.0,22.0,0.0],[1.0,159.0,1.0,30.0,0.0,302000.0,1.2,138.0,0.0,29.0,0.0],[0.0,2656.0,1.0,30.0,0.0,305000.0,2.3,137.0,1.0,30.0,0.0],[0.0,127.0,1.0,50.0,1.0,218000.0,1.0,134.0,1.0,33.0,0.0],[1.0,75.0,0.0,35.0,0.0,223000.0,2.7,138.0,1.0,54.0,0.0],[1.0,607.0,0.0,40.0,0.0,216000.0,0.6,138.0,1.0,54.0,0.0],[0.0,109.0,0.0,35.0,0.0,254000.0,1.1,139.0,1.0,60.0,0.0],[0.0,582.0,0.0,80.0,0.0,263358.03,1.18,137.0,0.0,63.0,0.0],[0.0,148.0,0.0,40.0,0.0,374000.0,0.8,140.0,1.0,68.0,0.0],[0.0,582.0,1.0,35.0,0.0,122000.0,0.9,139.0,1.0,71.0,0.0],[0.0,224.0,1.0,50.0,0.0,149000.0,1.3,137.0,1.0,72.0,0.0],[0.0,92.0,0.0,60.0,1.0,317000.0,0.8,140.0,0.0,74.0,0.0],[0.0,102.0,1.0,40.0,0.0,237000.0,1.2,140.0,1.0,74.0,0.0],[1.0,203.0,1.0,38.0,1.0,283000.0,0.6,131.0,1.0,74.0,0.0],[0.0,336.0,0.0,45.0,1.0,324000.0,0.9,140.0,0.0,74.0,0.0],[0.0,69.0,0.0,40.0,0.0,293000.0,1.7,136.0,0.0,75.0,0.0],[0.0,582.0,0.0,50.0,0.0,263358.03,1.18,137.0,1.0,76.0,0.0],[1.0,55.0,0.0,50.0,1.0,172000.0,1.8,133.0,1.0,78.0,0.0],[0.0,78.0,0.0,50.0,0.0,406000.0,0.7,140.0,1.0,79.0,0.0],[0.0,47.0,0.0,35.0,1.0,173000.0,1.1,137.0,1.0,79.0,0.0],[1.0,68.0,1.0,60.0,1.0,304000.0,0.8,140.0,1.0,79.0,0.0],[0.0,84.0,1.0,40.0,1.0,235000.0,0.7,139.0,1.0,79.0,0.0],[1.0,115.0,0.0,25.0,1.0,181000.0,1.1,144.0,1.0,79.0,0.0],[0.0,66.0,1.0,45.0,0.0,249000.0,0.8,136.0,1.0,80.0,0.0],[0.0,897.0,1.0,45.0,0.0,297000.0,1.0,133.0,1.0,80.0,0.0],[0.0,582.0,0.0,60.0,0.0,263358.03,1.18,137.0,0.0,82.0,0.0],[0.0,144.0,1.0,38.0,1.0,327000.0,0.7,142.0,0.0,83.0,0.0],[1.0,133.0,0.0,60.0,1.0,219000.0,1.0,141.0,1.0,83.0,0.0],[1.0,514.0,1.0,25.0,1.0,254000.0,1.3,134.0,1.0,83.0,0.0],[1.0,59.0,0.0,60.0,0.0,255000.0,1.1,136.0,0.0,85.0,0.0],[1.0,156.0,1.0,25.0,1.0,318000.0,1.2,137.0,0.0,85.0,0.0],[1.0,61.0,1.0,40.0,0.0,221000.0,1.1,140.0,0.0,86.0,0.0],[1.0,305.0,0.0,25.0,0.0,298000.0,1.1,141.0,1.0,87.0,0.0],[0.0,582.0,0.0,45.0,1.0,263358.03,1.18,137.0,1.0,87.0,0.0],[0.0,898.0,0.0,25.0,0.0,149000.0,1.1,144.0,1.0,87.0,0.0],[0.0,5209.0,0.0,30.0,0.0,226000.0,1.0,140.0,1.0,87.0,0.0],[0.0,53.0,0.0,50.0,1.0,286000.0,2.3,143.0,0.0,87.0,0.0],[0.0,748.0,0.0,45.0,0.0,263000.0,1.3,137.0,1.0,88.0,0.0],[1.0,1876.0,1.0,35.0,0.0,226000.0,0.9,138.0,1.0,88.0,0.0],[0.0,936.0,0.0,38.0,0.0,304000.0,1.1,133.0,1.0,88.0,0.0],[0.0,292.0,1.0,35.0,0.0,850000.0,1.3,142.0,1.0,88.0,0.0],[0.0,60.0,0.0,35.0,0.0,228000.0,1.2,135.0,1.0,90.0,0.0],[0.0,369.0,1.0,25.0,0.0,252000.0,1.6,136.0,1.0,90.0,0.0],[1.0,754.0,1.0,40.0,1.0,328000.0,1.2,126.0,1.0,91.0,0.0],[1.0,400.0,0.0,40.0,0.0,164000.0,1.0,139.0,0.0,91.0,0.0],[1.0,96.0,1.0,60.0,1.0,271000.0,0.7,136.0,0.0,94.0,0.0],[1.0,102.0,0.0,60.0,0.0,507000.0,3.2,138.0,0.0,94.0,0.0],[1.0,113.0,1.0,60.0,1.0,203000.0,0.9,140.0,0.0,94.0,0.0],[1.0,737.0,0.0,60.0,1.0,210000.0,1.5,135.0,1.0,95.0,0.0],[1.0,68.0,1.0,38.0,1.0,162000.0,1.0,136.0,0.0,95.0,0.0],[0.0,96.0,1.0,38.0,0.0,228000.0,0.75,140.0,0.0,95.0,0.0],[1.0,582.0,0.0,30.0,1.0,127000.0,0.9,145.0,0.0,95.0,0.0],[1.0,358.0,0.0,50.0,0.0,237000.0,1.3,135.0,0.0,97.0,0.0],[1.0,200.0,1.0,60.0,0.0,300000.0,0.8,137.0,0.0,104.0,0.0],[0.0,248.0,0.0,30.0,1.0,267000.0,0.7,136.0,1.0,104.0,0.0],[1.0,270.0,1.0,35.0,0.0,227000.0,3.4,145.0,1.0,105.0,0.0],[1.0,1808.0,0.0,60.0,1.0,249000.0,0.7,138.0,1.0,106.0,0.0],[1.0,1082.0,1.0,45.0,0.0,250000.0,6.1,131.0,1.0,107.0,0.0],[0.0,719.0,0.0,40.0,1.0,263358.03,1.18,137.0,0.0,107.0,0.0],[0.0,193.0,0.0,60.0,1.0,295000.0,1.3,145.0,1.0,107.0,0.0],[0.0,4540.0,0.0,35.0,0.0,231000.0,1.18,137.0,1.0,107.0,0.0],[0.0,582.0,0.0,40.0,0.0,263358.03,1.18,137.0,1.0,107.0,0.0],[1.0,59.0,1.0,60.0,0.0,172000.0,0.9,137.0,0.0,107.0,0.0],[1.0,646.0,0.0,25.0,0.0,305000.0,2.1,130.0,1.0,108.0,0.0],[0.0,281.0,1.0,35.0,0.0,221000.0,1.0,136.0,0.0,108.0,0.0],[0.0,1548.0,0.0,30.0,1.0,211000.0,0.8,138.0,1.0,108.0,0.0],[1.0,291.0,0.0,35.0,0.0,348000.0,0.9,140.0,0.0,109.0,0.0],[0.0,482.0,1.0,30.0,0.0,329000.0,0.9,132.0,0.0,109.0,0.0],[1.0,84.0,0.0,40.0,1.0,229000.0,0.9,141.0,0.0,110.0,0.0],[0.0,185.0,0.0,30.0,0.0,266000.0,0.7,141.0,1.0,112.0,0.0],[0.0,132.0,0.0,30.0,0.0,218000.0,0.7,136.0,1.0,112.0,0.0],[0.0,1610.0,0.0,60.0,0.0,242000.0,1.0,137.0,1.0,113.0,0.0],[0.0,2261.0,0.0,35.0,1.0,228000.0,0.9,136.0,1.0,115.0,0.0],[0.0,30.0,1.0,60.0,1.0,244000.0,0.9,139.0,1.0,117.0,0.0],[0.0,115.0,0.0,45.0,1.0,184000.0,0.9,134.0,1.0,118.0,0.0],[0.0,1846.0,1.0,35.0,0.0,263358.03,1.18,137.0,1.0,119.0,0.0],[1.0,335.0,0.0,35.0,1.0,235000.0,0.8,136.0,0.0,120.0,0.0],[1.0,231.0,1.0,25.0,0.0,194000.0,1.7,140.0,1.0,120.0,0.0],[1.0,58.0,0.0,35.0,0.0,277000.0,1.4,136.0,0.0,120.0,0.0],[0.0,250.0,0.0,25.0,0.0,262000.0,1.0,136.0,1.0,120.0,0.0],[1.0,910.0,0.0,50.0,0.0,235000.0,1.3,134.0,1.0,121.0,0.0],[1.0,129.0,0.0,45.0,1.0,362000.0,1.1,139.0,1.0,121.0,0.0],[1.0,72.0,0.0,40.0,1.0,242000.0,1.2,134.0,1.0,121.0,0.0],[1.0,130.0,0.0,35.0,0.0,174000.0,0.8,139.0,1.0,121.0,0.0],[1.0,582.0,0.0,40.0,0.0,448000.0,0.9,137.0,1.0,123.0,0.0],[0.0,196.0,0.0,60.0,0.0,220000.0,0.7,133.0,1.0,134.0,0.0],[0.0,582.0,1.0,40.0,0.0,270000.0,1.0,138.0,0.0,140.0,0.0],[0.0,835.0,0.0,35.0,1.0,305000.0,0.8,133.0,0.0,145.0,0.0],[1.0,582.0,1.0,35.0,0.0,263358.03,1.5,136.0,1.0,145.0,0.0],[0.0,3966.0,0.0,40.0,0.0,325000.0,0.9,140.0,1.0,146.0,0.0],[1.0,171.0,0.0,60.0,1.0,176000.0,1.1,145.0,1.0,146.0,0.0],[1.0,115.0,0.0,20.0,0.0,189000.0,0.8,139.0,1.0,146.0,0.0],[0.0,198.0,1.0,35.0,1.0,281000.0,0.9,137.0,1.0,146.0,0.0],[1.0,95.0,0.0,60.0,0.0,337000.0,1.0,138.0,1.0,146.0,0.0],[0.0,1419.0,0.0,40.0,0.0,105000.0,1.0,135.0,1.0,147.0,0.0],[1.0,69.0,0.0,50.0,0.0,132000.0,1.0,140.0,0.0,147.0,0.0],[1.0,122.0,1.0,60.0,0.0,267000.0,1.2,145.0,1.0,147.0,0.0],[0.0,835.0,0.0,40.0,0.0,279000.0,0.7,140.0,1.0,147.0,0.0],[0.0,478.0,1.0,30.0,0.0,303000.0,0.9,136.0,1.0,148.0,0.0],[1.0,151.0,1.0,40.0,1.0,201000.0,1.0,136.0,0.0,172.0,0.0],[0.0,244.0,0.0,45.0,1.0,275000.0,0.9,140.0,0.0,174.0,0.0],[0.0,582.0,1.0,35.0,0.0,350000.0,2.1,134.0,1.0,174.0,0.0],[1.0,62.0,0.0,60.0,0.0,309000.0,1.5,135.0,0.0,174.0,0.0],[1.0,121.0,1.0,40.0,0.0,260000.0,0.7,130.0,1.0,175.0,0.0],[1.0,231.0,1.0,30.0,0.0,160000.0,1.18,142.0,1.0,180.0,0.0],[0.0,582.0,1.0,38.0,1.0,263358.03,1.18,137.0,0.0,185.0,0.0],[0.0,167.0,0.0,30.0,0.0,259000.0,0.8,138.0,0.0,186.0,0.0],[1.0,582.0,1.0,20.0,1.0,279000.0,1.0,134.0,0.0,186.0,0.0],[0.0,1211.0,1.0,35.0,0.0,263358.03,1.8,113.0,1.0,186.0,0.0],[1.0,1767.0,0.0,45.0,0.0,73000.0,0.7,137.0,1.0,186.0,0.0],[0.0,308.0,1.0,60.0,1.0,377000.0,1.0,136.0,1.0,186.0,0.0],[0.0,97.0,0.0,60.0,1.0,220000.0,0.9,138.0,1.0,186.0,0.0],[0.0,59.0,0.0,25.0,1.0,212000.0,3.5,136.0,1.0,187.0,0.0],[1.0,64.0,0.0,40.0,0.0,277000.0,0.7,137.0,1.0,187.0,0.0],[1.0,167.0,1.0,45.0,0.0,362000.0,1.0,136.0,0.0,187.0,0.0],[1.0,101.0,0.0,40.0,0.0,226000.0,0.8,141.0,0.0,187.0,0.0],[0.0,212.0,0.0,38.0,0.0,186000.0,0.9,136.0,1.0,187.0,0.0],[1.0,2281.0,1.0,40.0,0.0,283000.0,1.0,141.0,0.0,187.0,0.0],[0.0,972.0,1.0,35.0,1.0,268000.0,0.8,130.0,0.0,187.0,0.0],[0.0,212.0,1.0,17.0,1.0,389000.0,1.0,136.0,1.0,188.0,0.0],[0.0,582.0,0.0,62.0,1.0,147000.0,0.8,140.0,1.0,192.0,0.0],[0.0,224.0,0.0,50.0,0.0,481000.0,1.4,138.0,1.0,192.0,0.0],[1.0,135.0,0.0,35.0,1.0,290000.0,0.8,134.0,1.0,194.0,0.0],[0.0,582.0,0.0,35.0,1.0,203000.0,1.3,134.0,1.0,195.0,0.0],[0.0,1202.0,0.0,50.0,1.0,358000.0,0.9,141.0,0.0,196.0,0.0],[1.0,1021.0,1.0,35.0,0.0,271000.0,1.1,134.0,1.0,197.0,0.0],[0.0,582.0,1.0,35.0,1.0,371000.0,0.7,140.0,0.0,197.0,0.0],[0.0,118.0,0.0,50.0,0.0,194000.0,1.1,145.0,1.0,200.0,0.0],[1.0,86.0,0.0,35.0,0.0,365000.0,1.1,139.0,1.0,201.0,0.0],[0.0,582.0,0.0,25.0,0.0,130000.0,0.8,134.0,1.0,201.0,0.0],[0.0,582.0,1.0,25.0,0.0,504000.0,1.0,138.0,1.0,205.0,0.0],[0.0,675.0,1.0,60.0,0.0,265000.0,1.4,125.0,0.0,205.0,0.0],[1.0,57.0,0.0,25.0,0.0,189000.0,1.3,132.0,1.0,205.0,0.0],[1.0,2794.0,0.0,35.0,1.0,141000.0,1.0,140.0,1.0,206.0,0.0],[0.0,56.0,0.0,25.0,0.0,237000.0,5.0,130.0,0.0,207.0,0.0],[0.0,211.0,0.0,25.0,0.0,274000.0,1.2,134.0,0.0,207.0,0.0],[0.0,93.0,0.0,35.0,0.0,185000.0,1.1,134.0,1.0,208.0,0.0],[1.0,129.0,0.0,35.0,0.0,255000.0,0.9,137.0,1.0,209.0,0.0],[1.0,707.0,0.0,38.0,0.0,330000.0,1.4,137.0,1.0,209.0,0.0],[1.0,582.0,0.0,45.0,0.0,305000.0,1.1,137.0,1.0,209.0,0.0],[1.0,109.0,0.0,50.0,1.0,406000.0,1.1,137.0,1.0,209.0,0.0],[0.0,119.0,0.0,50.0,1.0,248000.0,1.1,148.0,1.0,209.0,0.0],[0.0,232.0,0.0,30.0,0.0,173000.0,1.2,132.0,1.0,210.0,0.0],[1.0,720.0,1.0,40.0,0.0,257000.0,1.0,136.0,0.0,210.0,0.0],[1.0,180.0,0.0,45.0,0.0,263358.03,1.18,137.0,1.0,211.0,0.0],[0.0,81.0,1.0,35.0,1.0,533000.0,1.3,139.0,0.0,212.0,0.0],[0.0,582.0,1.0,30.0,0.0,249000.0,1.3,136.0,1.0,212.0,0.0],[0.0,90.0,0.0,35.0,0.0,255000.0,1.1,136.0,1.0,212.0,0.0],[1.0,1185.0,0.0,40.0,1.0,220000.0,0.9,141.0,0.0,213.0,0.0],[0.0,582.0,1.0,38.0,0.0,264000.0,1.8,134.0,1.0,213.0,0.0],[1.0,80.0,1.0,38.0,0.0,282000.0,1.4,137.0,1.0,213.0,0.0],[0.0,143.0,0.0,25.0,0.0,246000.0,2.4,135.0,1.0,214.0,0.0],[0.0,624.0,0.0,35.0,0.0,301000.0,1.0,142.0,1.0,214.0,0.0],[0.0,207.0,1.0,40.0,0.0,223000.0,1.2,130.0,0.0,214.0,0.0],[0.0,2522.0,0.0,30.0,1.0,404000.0,0.5,139.0,0.0,214.0,0.0],[0.0,572.0,1.0,35.0,0.0,231000.0,0.8,143.0,0.0,215.0,0.0],[0.0,245.0,0.0,45.0,1.0,274000.0,1.0,133.0,1.0,215.0,0.0],[0.0,88.0,1.0,35.0,1.0,236000.0,1.2,132.0,0.0,215.0,0.0],[1.0,446.0,0.0,60.0,1.0,263358.03,1.0,139.0,1.0,215.0,0.0],[1.0,191.0,1.0,30.0,1.0,334000.0,1.0,142.0,1.0,216.0,0.0],[0.0,326.0,0.0,38.0,0.0,294000.0,1.7,139.0,0.0,220.0,0.0],[0.0,132.0,1.0,38.0,1.0,253000.0,1.0,139.0,1.0,230.0,0.0],[1.0,66.0,1.0,25.0,0.0,233000.0,0.8,135.0,1.0,230.0,0.0],[0.0,56.0,0.0,50.0,0.0,308000.0,0.7,135.0,1.0,231.0,0.0],[0.0,66.0,0.0,40.0,0.0,203000.0,1.0,138.0,1.0,233.0,0.0],[1.0,655.0,0.0,40.0,0.0,283000.0,0.7,133.0,0.0,233.0,0.0],[1.0,157.0,1.0,60.0,0.0,208000.0,1.0,140.0,0.0,237.0,0.0],[0.0,582.0,1.0,38.0,0.0,147000.0,1.2,141.0,1.0,237.0,0.0],[1.0,298.0,0.0,35.0,0.0,362000.0,0.9,140.0,1.0,240.0,0.0],[1.0,135.0,1.0,38.0,0.0,133000.0,1.7,140.0,1.0,244.0,0.0],[0.0,582.0,1.0,38.0,0.0,302000.0,0.9,140.0,0.0,244.0,0.0],[0.0,582.0,1.0,35.0,0.0,222000.0,1.0,132.0,1.0,244.0,0.0],[0.0,582.0,1.0,30.0,1.0,263358.03,1.6,130.0,1.0,244.0,0.0],[0.0,582.0,1.0,40.0,0.0,221000.0,0.9,134.0,0.0,244.0,0.0],[0.0,213.0,0.0,38.0,0.0,215000.0,1.2,133.0,0.0,245.0,0.0],[0.0,64.0,0.0,40.0,0.0,189000.0,0.7,140.0,1.0,245.0,0.0],[1.0,257.0,1.0,30.0,0.0,150000.0,1.0,137.0,1.0,245.0,0.0],[0.0,582.0,0.0,38.0,1.0,422000.0,0.8,137.0,0.0,245.0,0.0],[0.0,618.0,0.0,35.0,0.0,327000.0,1.1,142.0,0.0,245.0,0.0],[0.0,582.0,1.0,38.0,0.0,25100.0,1.1,140.0,1.0,246.0,0.0],[1.0,1051.0,1.0,30.0,0.0,232000.0,0.7,136.0,0.0,246.0,0.0],[0.0,84.0,1.0,38.0,0.0,451000.0,1.3,136.0,0.0,246.0,0.0],[0.0,2695.0,1.0,40.0,0.0,241000.0,1.0,137.0,1.0,247.0,0.0],[0.0,582.0,0.0,40.0,0.0,51000.0,2.7,136.0,1.0,250.0,0.0],[0.0,64.0,0.0,30.0,0.0,215000.0,3.8,128.0,1.0,250.0,0.0],[0.0,1688.0,0.0,38.0,0.0,263358.03,1.1,138.0,1.0,250.0,0.0],[1.0,54.0,0.0,40.0,0.0,279000.0,0.8,141.0,1.0,250.0,0.0],[1.0,170.0,1.0,40.0,0.0,336000.0,1.2,135.0,1.0,250.0,0.0],[0.0,253.0,0.0,35.0,0.0,279000.0,1.7,140.0,1.0,250.0,0.0],[0.0,582.0,1.0,55.0,0.0,543000.0,1.0,132.0,0.0,250.0,0.0],[0.0,892.0,1.0,35.0,0.0,263358.03,1.1,142.0,0.0,256.0,0.0],[1.0,337.0,0.0,38.0,0.0,390000.0,0.9,144.0,0.0,256.0,0.0],[0.0,615.0,1.0,55.0,0.0,222000.0,0.8,141.0,0.0,257.0,0.0],[0.0,320.0,0.0,35.0,0.0,133000.0,1.4,139.0,1.0,258.0,0.0],[0.0,190.0,1.0,38.0,0.0,382000.0,1.0,140.0,1.0,258.0,0.0],[1.0,103.0,1.0,35.0,0.0,179000.0,0.9,136.0,1.0,270.0,0.0],[0.0,61.0,1.0,38.0,1.0,155000.0,1.1,143.0,1.0,270.0,0.0],[0.0,1820.0,0.0,38.0,0.0,270000.0,1.2,139.0,0.0,271.0,0.0],[0.0,2060.0,1.0,60.0,0.0,742000.0,0.8,138.0,0.0,278.0,0.0],[0.0,2413.0,0.0,38.0,0.0,140000.0,1.4,140.0,1.0,280.0,0.0],[0.0,196.0,0.0,45.0,0.0,395000.0,1.6,136.0,1.0,285.0,0.0]],\"hovertemplate\":\"DEATH_EVENT=%{customdata[10]}<br>smoking=%{x}<br>age=%{y}<br>anaemia=%{customdata[0]}<br>creatinine_phosphokinase=%{customdata[1]}<br>diabetes=%{customdata[2]}<br>ejection_fraction=%{customdata[3]}<br>high_blood_pressure=%{customdata[4]}<br>platelets=%{customdata[5]}<br>serum_creatinine=%{customdata[6]}<br>serum_sodium=%{customdata[7]}<br>sex=%{customdata[8]}<br>time=%{customdata[9]}<extra></extra>\",\"legendgroup\":\"0\",\"marker\":{\"color\":\"#EF553B\"},\"name\":\"0\",\"notched\":false,\"offsetgroup\":\"0\",\"orientation\":\"v\",\"showlegend\":true,\"x\":[0,0,0,0,0,0,1,1,1,0,1,1,1,1,0,1,0,0,1,0,0,0,0,0,0,1,0,0,0,0,0,0,0,0,0,0,1,1,0,0,0,1,1,1,0,0,0,0,0,0,1,0,0,0,0,0,1,0,1,0,0,1,1,0,0,0,0,0,0,0,0,1,1,0,0,0,1,1,0,0,0,1,0,1,0,1,1,1,0,0,1,1,1,0,1,1,1,0,0,1,0,0,0,0,0,0,1,0,0,0,1,0,0,0,1,1,0,0,0,0,0,1,1,1,0,0,0,0,0,1,1,0,0,0,1,0,0,0,1,0,1,1,0,0,0,0,1,0,1,1,0,0,0,0,1,0,0,0,0,0,0,1,0,0,0,1,0,0,0,0,1,0,0,0,1,0,0,0,1,0,0,0,0,0,0,1,1,1,0,0,0,0,0,0,0,0,1,1,1,0,0,1,1],\"x0\":\" \",\"xaxis\":\"x\",\"y\":[49.0,65.0,53.0,50.0,60.0,72.0,70.0,60.0,55.0,45.0,41.0,58.0,65.0,70.0,42.0,75.0,55.0,70.0,67.0,79.0,51.0,55.0,65.0,44.0,57.0,70.0,60.0,42.0,58.0,58.0,63.0,70.0,60.0,63.0,65.0,75.0,80.0,42.0,60.0,55.0,45.0,63.0,45.0,55.0,50.0,60.0,58.0,60.0,85.0,65.0,60.0,66.0,60.0,60.0,43.0,58.0,61.0,53.0,53.0,60.0,46.0,63.0,81.0,75.0,65.0,68.0,62.0,50.0,46.0,50.0,61.0,50.0,52.0,64.0,60.0,62.0,50.0,50.0,65.0,60.0,52.0,50.0,85.0,59.0,66.0,45.0,63.0,53.0,65.0,70.0,51.0,52.0,70.0,50.0,65.0,60.0,69.0,49.0,63.0,55.0,40.0,60.667,40.0,80.0,64.0,50.0,73.0,45.0,65.0,50.0,60.0,63.0,45.0,70.0,60.0,78.0,50.0,40.0,85.0,60.0,49.0,70.0,50.0,78.0,65.0,73.0,70.0,68.0,55.0,65.0,42.0,47.0,58.0,75.0,58.0,55.0,65.0,72.0,70.0,40.0,53.0,53.0,77.0,75.0,70.0,65.0,55.0,70.0,65.0,40.0,73.0,54.0,61.0,64.0,40.0,53.0,50.0,55.0,50.0,70.0,53.0,52.0,65.0,58.0,45.0,53.0,55.0,62.0,68.0,61.0,50.0,56.0,45.0,40.0,44.0,51.0,67.0,42.0,60.0,45.0,70.0,70.0,50.0,55.0,70.0,70.0,42.0,65.0,50.0,55.0,60.0,45.0,65.0,90.0,45.0,60.0,52.0,63.0,62.0,55.0,45.0,45.0,50.0],\"y0\":\" \",\"yaxis\":\"y\",\"type\":\"box\"}],                        {\"template\":{\"data\":{\"bar\":[{\"error_x\":{\"color\":\"#2a3f5f\"},\"error_y\":{\"color\":\"#2a3f5f\"},\"marker\":{\"line\":{\"color\":\"#E5ECF6\",\"width\":0.5},\"pattern\":{\"fillmode\":\"overlay\",\"size\":10,\"solidity\":0.2}},\"type\":\"bar\"}],\"barpolar\":[{\"marker\":{\"line\":{\"color\":\"#E5ECF6\",\"width\":0.5},\"pattern\":{\"fillmode\":\"overlay\",\"size\":10,\"solidity\":0.2}},\"type\":\"barpolar\"}],\"carpet\":[{\"aaxis\":{\"endlinecolor\":\"#2a3f5f\",\"gridcolor\":\"white\",\"linecolor\":\"white\",\"minorgridcolor\":\"white\",\"startlinecolor\":\"#2a3f5f\"},\"baxis\":{\"endlinecolor\":\"#2a3f5f\",\"gridcolor\":\"white\",\"linecolor\":\"white\",\"minorgridcolor\":\"white\",\"startlinecolor\":\"#2a3f5f\"},\"type\":\"carpet\"}],\"choropleth\":[{\"colorbar\":{\"outlinewidth\":0,\"ticks\":\"\"},\"type\":\"choropleth\"}],\"contour\":[{\"colorbar\":{\"outlinewidth\":0,\"ticks\":\"\"},\"colorscale\":[[0.0,\"#0d0887\"],[0.1111111111111111,\"#46039f\"],[0.2222222222222222,\"#7201a8\"],[0.3333333333333333,\"#9c179e\"],[0.4444444444444444,\"#bd3786\"],[0.5555555555555556,\"#d8576b\"],[0.6666666666666666,\"#ed7953\"],[0.7777777777777778,\"#fb9f3a\"],[0.8888888888888888,\"#fdca26\"],[1.0,\"#f0f921\"]],\"type\":\"contour\"}],\"contourcarpet\":[{\"colorbar\":{\"outlinewidth\":0,\"ticks\":\"\"},\"type\":\"contourcarpet\"}],\"heatmap\":[{\"colorbar\":{\"outlinewidth\":0,\"ticks\":\"\"},\"colorscale\":[[0.0,\"#0d0887\"],[0.1111111111111111,\"#46039f\"],[0.2222222222222222,\"#7201a8\"],[0.3333333333333333,\"#9c179e\"],[0.4444444444444444,\"#bd3786\"],[0.5555555555555556,\"#d8576b\"],[0.6666666666666666,\"#ed7953\"],[0.7777777777777778,\"#fb9f3a\"],[0.8888888888888888,\"#fdca26\"],[1.0,\"#f0f921\"]],\"type\":\"heatmap\"}],\"heatmapgl\":[{\"colorbar\":{\"outlinewidth\":0,\"ticks\":\"\"},\"colorscale\":[[0.0,\"#0d0887\"],[0.1111111111111111,\"#46039f\"],[0.2222222222222222,\"#7201a8\"],[0.3333333333333333,\"#9c179e\"],[0.4444444444444444,\"#bd3786\"],[0.5555555555555556,\"#d8576b\"],[0.6666666666666666,\"#ed7953\"],[0.7777777777777778,\"#fb9f3a\"],[0.8888888888888888,\"#fdca26\"],[1.0,\"#f0f921\"]],\"type\":\"heatmapgl\"}],\"histogram\":[{\"marker\":{\"pattern\":{\"fillmode\":\"overlay\",\"size\":10,\"solidity\":0.2}},\"type\":\"histogram\"}],\"histogram2d\":[{\"colorbar\":{\"outlinewidth\":0,\"ticks\":\"\"},\"colorscale\":[[0.0,\"#0d0887\"],[0.1111111111111111,\"#46039f\"],[0.2222222222222222,\"#7201a8\"],[0.3333333333333333,\"#9c179e\"],[0.4444444444444444,\"#bd3786\"],[0.5555555555555556,\"#d8576b\"],[0.6666666666666666,\"#ed7953\"],[0.7777777777777778,\"#fb9f3a\"],[0.8888888888888888,\"#fdca26\"],[1.0,\"#f0f921\"]],\"type\":\"histogram2d\"}],\"histogram2dcontour\":[{\"colorbar\":{\"outlinewidth\":0,\"ticks\":\"\"},\"colorscale\":[[0.0,\"#0d0887\"],[0.1111111111111111,\"#46039f\"],[0.2222222222222222,\"#7201a8\"],[0.3333333333333333,\"#9c179e\"],[0.4444444444444444,\"#bd3786\"],[0.5555555555555556,\"#d8576b\"],[0.6666666666666666,\"#ed7953\"],[0.7777777777777778,\"#fb9f3a\"],[0.8888888888888888,\"#fdca26\"],[1.0,\"#f0f921\"]],\"type\":\"histogram2dcontour\"}],\"mesh3d\":[{\"colorbar\":{\"outlinewidth\":0,\"ticks\":\"\"},\"type\":\"mesh3d\"}],\"parcoords\":[{\"line\":{\"colorbar\":{\"outlinewidth\":0,\"ticks\":\"\"}},\"type\":\"parcoords\"}],\"pie\":[{\"automargin\":true,\"type\":\"pie\"}],\"scatter\":[{\"marker\":{\"colorbar\":{\"outlinewidth\":0,\"ticks\":\"\"}},\"type\":\"scatter\"}],\"scatter3d\":[{\"line\":{\"colorbar\":{\"outlinewidth\":0,\"ticks\":\"\"}},\"marker\":{\"colorbar\":{\"outlinewidth\":0,\"ticks\":\"\"}},\"type\":\"scatter3d\"}],\"scattercarpet\":[{\"marker\":{\"colorbar\":{\"outlinewidth\":0,\"ticks\":\"\"}},\"type\":\"scattercarpet\"}],\"scattergeo\":[{\"marker\":{\"colorbar\":{\"outlinewidth\":0,\"ticks\":\"\"}},\"type\":\"scattergeo\"}],\"scattergl\":[{\"marker\":{\"colorbar\":{\"outlinewidth\":0,\"ticks\":\"\"}},\"type\":\"scattergl\"}],\"scattermapbox\":[{\"marker\":{\"colorbar\":{\"outlinewidth\":0,\"ticks\":\"\"}},\"type\":\"scattermapbox\"}],\"scatterpolar\":[{\"marker\":{\"colorbar\":{\"outlinewidth\":0,\"ticks\":\"\"}},\"type\":\"scatterpolar\"}],\"scatterpolargl\":[{\"marker\":{\"colorbar\":{\"outlinewidth\":0,\"ticks\":\"\"}},\"type\":\"scatterpolargl\"}],\"scatterternary\":[{\"marker\":{\"colorbar\":{\"outlinewidth\":0,\"ticks\":\"\"}},\"type\":\"scatterternary\"}],\"surface\":[{\"colorbar\":{\"outlinewidth\":0,\"ticks\":\"\"},\"colorscale\":[[0.0,\"#0d0887\"],[0.1111111111111111,\"#46039f\"],[0.2222222222222222,\"#7201a8\"],[0.3333333333333333,\"#9c179e\"],[0.4444444444444444,\"#bd3786\"],[0.5555555555555556,\"#d8576b\"],[0.6666666666666666,\"#ed7953\"],[0.7777777777777778,\"#fb9f3a\"],[0.8888888888888888,\"#fdca26\"],[1.0,\"#f0f921\"]],\"type\":\"surface\"}],\"table\":[{\"cells\":{\"fill\":{\"color\":\"#EBF0F8\"},\"line\":{\"color\":\"white\"}},\"header\":{\"fill\":{\"color\":\"#C8D4E3\"},\"line\":{\"color\":\"white\"}},\"type\":\"table\"}]},\"layout\":{\"annotationdefaults\":{\"arrowcolor\":\"#2a3f5f\",\"arrowhead\":0,\"arrowwidth\":1},\"autotypenumbers\":\"strict\",\"coloraxis\":{\"colorbar\":{\"outlinewidth\":0,\"ticks\":\"\"}},\"colorscale\":{\"diverging\":[[0,\"#8e0152\"],[0.1,\"#c51b7d\"],[0.2,\"#de77ae\"],[0.3,\"#f1b6da\"],[0.4,\"#fde0ef\"],[0.5,\"#f7f7f7\"],[0.6,\"#e6f5d0\"],[0.7,\"#b8e186\"],[0.8,\"#7fbc41\"],[0.9,\"#4d9221\"],[1,\"#276419\"]],\"sequential\":[[0.0,\"#0d0887\"],[0.1111111111111111,\"#46039f\"],[0.2222222222222222,\"#7201a8\"],[0.3333333333333333,\"#9c179e\"],[0.4444444444444444,\"#bd3786\"],[0.5555555555555556,\"#d8576b\"],[0.6666666666666666,\"#ed7953\"],[0.7777777777777778,\"#fb9f3a\"],[0.8888888888888888,\"#fdca26\"],[1.0,\"#f0f921\"]],\"sequentialminus\":[[0.0,\"#0d0887\"],[0.1111111111111111,\"#46039f\"],[0.2222222222222222,\"#7201a8\"],[0.3333333333333333,\"#9c179e\"],[0.4444444444444444,\"#bd3786\"],[0.5555555555555556,\"#d8576b\"],[0.6666666666666666,\"#ed7953\"],[0.7777777777777778,\"#fb9f3a\"],[0.8888888888888888,\"#fdca26\"],[1.0,\"#f0f921\"]]},\"colorway\":[\"#636efa\",\"#EF553B\",\"#00cc96\",\"#ab63fa\",\"#FFA15A\",\"#19d3f3\",\"#FF6692\",\"#B6E880\",\"#FF97FF\",\"#FECB52\"],\"font\":{\"color\":\"#2a3f5f\"},\"geo\":{\"bgcolor\":\"white\",\"lakecolor\":\"white\",\"landcolor\":\"#E5ECF6\",\"showlakes\":true,\"showland\":true,\"subunitcolor\":\"white\"},\"hoverlabel\":{\"align\":\"left\"},\"hovermode\":\"closest\",\"mapbox\":{\"style\":\"light\"},\"paper_bgcolor\":\"white\",\"plot_bgcolor\":\"#E5ECF6\",\"polar\":{\"angularaxis\":{\"gridcolor\":\"white\",\"linecolor\":\"white\",\"ticks\":\"\"},\"bgcolor\":\"#E5ECF6\",\"radialaxis\":{\"gridcolor\":\"white\",\"linecolor\":\"white\",\"ticks\":\"\"}},\"scene\":{\"xaxis\":{\"backgroundcolor\":\"#E5ECF6\",\"gridcolor\":\"white\",\"gridwidth\":2,\"linecolor\":\"white\",\"showbackground\":true,\"ticks\":\"\",\"zerolinecolor\":\"white\"},\"yaxis\":{\"backgroundcolor\":\"#E5ECF6\",\"gridcolor\":\"white\",\"gridwidth\":2,\"linecolor\":\"white\",\"showbackground\":true,\"ticks\":\"\",\"zerolinecolor\":\"white\"},\"zaxis\":{\"backgroundcolor\":\"#E5ECF6\",\"gridcolor\":\"white\",\"gridwidth\":2,\"linecolor\":\"white\",\"showbackground\":true,\"ticks\":\"\",\"zerolinecolor\":\"white\"}},\"shapedefaults\":{\"line\":{\"color\":\"#2a3f5f\"}},\"ternary\":{\"aaxis\":{\"gridcolor\":\"white\",\"linecolor\":\"white\",\"ticks\":\"\"},\"baxis\":{\"gridcolor\":\"white\",\"linecolor\":\"white\",\"ticks\":\"\"},\"bgcolor\":\"#E5ECF6\",\"caxis\":{\"gridcolor\":\"white\",\"linecolor\":\"white\",\"ticks\":\"\"}},\"title\":{\"x\":0.05},\"xaxis\":{\"automargin\":true,\"gridcolor\":\"white\",\"linecolor\":\"white\",\"ticks\":\"\",\"title\":{\"standoff\":15},\"zerolinecolor\":\"white\",\"zerolinewidth\":2},\"yaxis\":{\"automargin\":true,\"gridcolor\":\"white\",\"linecolor\":\"white\",\"ticks\":\"\",\"title\":{\"standoff\":15},\"zerolinecolor\":\"white\",\"zerolinewidth\":2}}},\"xaxis\":{\"anchor\":\"y\",\"domain\":[0.0,1.0],\"title\":{\"text\":\"smoking\"}},\"yaxis\":{\"anchor\":\"x\",\"domain\":[0.0,1.0],\"title\":{\"text\":\"age\"}},\"legend\":{\"title\":{\"text\":\"DEATH_EVENT\"},\"tracegroupgap\":0},\"margin\":{\"t\":60},\"boxmode\":\"group\",\"title\":{\"text\":\"Death dependance on diabetes and smoking\"}},                        {\"responsive\": true}                    ).then(function(){\n",
              "                            \n",
              "var gd = document.getElementById('d74ebe68-dcff-4102-b638-b85cc65a88fa');\n",
              "var x = new MutationObserver(function (mutations, observer) {{\n",
              "        var display = window.getComputedStyle(gd).display;\n",
              "        if (!display || display === 'none') {{\n",
              "            console.log([gd, 'removed!']);\n",
              "            Plotly.purge(gd);\n",
              "            observer.disconnect();\n",
              "        }}\n",
              "}});\n",
              "\n",
              "// Listen for the removal of the full notebook cells\n",
              "var notebookContainer = gd.closest('#notebook-container');\n",
              "if (notebookContainer) {{\n",
              "    x.observe(notebookContainer, {childList: true});\n",
              "}}\n",
              "\n",
              "// Listen for the clearing of the current output cell\n",
              "var outputEl = gd.closest('.output');\n",
              "if (outputEl) {{\n",
              "    x.observe(outputEl, {childList: true});\n",
              "}}\n",
              "\n",
              "                        })                };                            </script>        </div>\n",
              "</body>\n",
              "</html>"
            ]
          },
          "metadata": {}
        }
      ]
    },
    {
      "cell_type": "markdown",
      "source": [
        "# age and smoking are two factors that can increase the risk of heart failure.\n",
        "# Heart failure is a condition in which the heart is unable to pump enough blood to meet the body's needs.\n",
        "\n",
        "# As people get older, their risk of heart failure increases. \n",
        "# This is because the heart muscle can become less efficient and less able to pump blood effectively over time. \n",
        "# In addition, older people are more likely to have other conditions that can contribute to heart failure, \n",
        "# such as high blood pressure, diabetes, and coronary artery disease.\n",
        "\n",
        "# Smoking is also a major risk factor for heart failure. When you smoke, \n",
        "# the chemicals in tobacco damage the heart and blood vessels, making them less able to function properly. \n",
        "# Smoking can cause high blood pressure, which can lead to heart failure.\n",
        "# It can also increase the risk of coronary artery disease,\n",
        "# which can cause the heart to become damaged and weak."
      ],
      "metadata": {
        "id": "EmQZATB3tcLC"
      },
      "id": "EmQZATB3tcLC"
    },
    {
      "cell_type": "code",
      "execution_count": 22,
      "id": "cbbb0b32",
      "metadata": {
        "execution": {
          "iopub.execute_input": "2022-12-04T11:40:39.934439Z",
          "iopub.status.busy": "2022-12-04T11:40:39.933926Z",
          "iopub.status.idle": "2022-12-04T11:40:40.208694Z",
          "shell.execute_reply": "2022-12-04T11:40:40.207198Z"
        },
        "papermill": {
          "duration": 0.293151,
          "end_time": "2022-12-04T11:40:40.211726",
          "exception": false,
          "start_time": "2022-12-04T11:40:39.918575",
          "status": "completed"
        },
        "tags": [],
        "colab": {
          "base_uri": "https://localhost:8080/",
          "height": 283
        },
        "id": "cbbb0b32",
        "outputId": "abc8635d-c6bc-453c-f6d9-b5434764c3b5"
      },
      "outputs": [
        {
          "output_type": "display_data",
          "data": {
            "text/plain": [
              "<Figure size 432x288 with 1 Axes>"
            ],
            "image/png": "[encoded data removed]"
          },
          "metadata": {
            "needs_background": "light"
          }
        }
      ],
      "source": [
        "sns.distplot(df['age'])\n",
        "plt.show()"
      ]
    },
    {
      "cell_type": "markdown",
      "source": [
        "## This line of code appears to be using the groupby function in the pandas library to group a dataframe (df) by the column 'age' and then calculating the mean of certain features for each group.\n",
        "\n",
        "### The groupby function in pandas allows you to group a dataframe by one or\n",
        "### more columns and then apply a function to each group. In this case, the dataframe (df) \n",
        "### is grouped by the column 'age', \n",
        "### and the mean of certain features is calculated for each group.\n",
        "\n",
        "### The [features] part of the code specifies which columns or features to include in the calculation.\n",
        "### For example, if features is a list containing the column names ['col1', 'col2'], the mean of 'col1' and 'col2' will\n",
        "### be calculated for each group.\n",
        "\n",
        "### The result of this operation is a new dataframe that contains the mean of the specified features for\n",
        "### each group, with one row for each unique value in the 'age' column."
      ],
      "metadata": {
        "id": "1DzXv8cet8ga"
      },
      "id": "1DzXv8cet8ga"
    },
    {
      "cell_type": "code",
      "execution_count": 23,
      "id": "8a157a05",
      "metadata": {
        "execution": {
          "iopub.execute_input": "2022-12-04T11:40:40.243800Z",
          "iopub.status.busy": "2022-12-04T11:40:40.243375Z",
          "iopub.status.idle": "2022-12-04T11:40:40.248405Z",
          "shell.execute_reply": "2022-12-04T11:40:40.247137Z"
        },
        "papermill": {
          "duration": 0.024509,
          "end_time": "2022-12-04T11:40:40.250842",
          "exception": false,
          "start_time": "2022-12-04T11:40:40.226333",
          "status": "completed"
        },
        "tags": [],
        "id": "8a157a05",
        "colab": {
          "base_uri": "https://localhost:8080/",
          "height": 1000
        },
        "outputId": "dab17037-a03d-47b5-e837-6ad454ac26ba"
      },
      "outputs": [
        {
          "output_type": "execute_result",
          "data": {
            "text/plain": [
              "           age   anaemia  creatinine_phosphokinase  diabetes  \\\n",
              "age                                                            \n",
              "40.000  40.000  0.285714                321.142857  0.285714   \n",
              "41.000  41.000  0.000000                148.000000  0.000000   \n",
              "42.000  42.000  0.285714                908.142857  0.285714   \n",
              "43.000  43.000  1.000000                358.000000  0.000000   \n",
              "44.000  44.000  0.000000                333.000000  1.000000   \n",
              "45.000  45.000  0.210526               1239.000000  0.578947   \n",
              "46.000  46.000  0.333333                392.666667  0.333333   \n",
              "47.000  47.000  0.000000                582.000000  0.000000   \n",
              "48.000  48.000  1.000000                356.500000  1.000000   \n",
              "49.000  49.000  0.500000                477.500000  0.250000   \n",
              "50.000  50.000  0.444444                568.703704  0.444444   \n",
              "51.000  51.000  0.250000                655.500000  0.500000   \n",
              "52.000  52.000  0.400000                907.400000  0.400000   \n",
              "53.000  53.000  0.600000                442.600000  0.300000   \n",
              "54.000  54.000  0.500000                504.500000  0.500000   \n",
              "55.000  55.000  0.176471               1145.882353  0.235294   \n",
              "56.000  56.000  1.000000                135.000000  1.000000   \n",
              "57.000  57.000  1.000000                122.000000  0.000000   \n",
              "58.000  58.000  0.600000                243.500000  0.500000   \n",
              "59.000  59.000  0.750000                162.750000  0.750000   \n",
              "60.000  60.000  0.515152                715.666667  0.575758   \n",
              "60.667  60.667  1.000000                127.500000  1.000000   \n",
              "61.000  61.000  0.500000                248.500000  0.500000   \n",
              "62.000  62.000  0.200000                251.600000  0.600000   \n",
              "63.000  63.000  0.750000                534.750000  0.500000   \n",
              "64.000  64.000  0.333333                605.000000  0.000000   \n",
              "65.000  65.000  0.423077                310.423077  0.576923   \n",
              "66.000  66.000  1.000000                 70.000000  0.500000   \n",
              "67.000  67.000  0.000000                397.500000  0.000000   \n",
              "68.000  68.000  1.000000                524.200000  0.400000   \n",
              "69.000  69.000  0.000000                861.000000  0.333333   \n",
              "70.000  70.000  0.240000                384.880000  0.360000   \n",
              "72.000  72.000  0.428571                330.857143  0.285714   \n",
              "73.000  73.000  0.500000                645.000000  0.250000   \n",
              "75.000  75.000  0.363636                393.909091  0.272727   \n",
              "77.000  77.000  1.000000                263.500000  0.000000   \n",
              "78.000  78.000  0.500000                144.000000  0.000000   \n",
              "79.000  79.000  1.000000                 55.000000  0.000000   \n",
              "80.000  80.000  0.285714                555.000000  0.428571   \n",
              "81.000  81.000  0.000000               4540.000000  0.000000   \n",
              "82.000  82.000  0.666667                434.666667  0.666667   \n",
              "85.000  85.000  0.333333               1209.666667  0.000000   \n",
              "86.000  86.000  0.000000                582.000000  0.000000   \n",
              "87.000  87.000  1.000000                149.000000  0.000000   \n",
              "90.000  90.000  1.000000                148.000000  0.333333   \n",
              "94.000  94.000  0.000000                582.000000  1.000000   \n",
              "95.000  95.000  1.000000                241.500000  0.000000   \n",
              "\n",
              "        ejection_fraction  high_blood_pressure      platelets  \\\n",
              "age                                                             \n",
              "40.000          36.428571             0.142857  262428.571429   \n",
              "41.000          40.000000             0.000000  374000.000000   \n",
              "42.000          35.714286             0.000000  244051.147143   \n",
              "43.000          50.000000             0.000000  237000.000000   \n",
              "44.000          35.000000             1.000000  249179.015000   \n",
              "45.000          39.263158             0.263158  331300.845263   \n",
              "46.000          30.666667             0.666667  294119.343333   \n",
              "47.000          25.000000             0.000000  130000.000000   \n",
              "48.000          42.500000             0.500000  165500.000000   \n",
              "49.000          33.750000             0.750000  286500.000000   \n",
              "50.000          35.111111             0.370370  257939.186296   \n",
              "51.000          37.500000             0.250000  290339.507500   \n",
              "52.000          34.600000             0.200000  307200.000000   \n",
              "53.000          46.800000             0.300000  291135.803000   \n",
              "54.000          54.000000             0.500000  207500.000000   \n",
              "55.000          36.705882             0.235294  272239.652353   \n",
              "56.000          38.000000             0.000000  133000.000000   \n",
              "57.000          27.500000             0.500000  288000.000000   \n",
              "58.000          38.400000             0.300000  245000.000000   \n",
              "59.000          28.750000             0.500000  238750.000000   \n",
              "60.000          38.303030             0.272727  249536.850303   \n",
              "60.667          35.000000             0.500000  295000.000000   \n",
              "61.000          36.500000             0.500000  231250.000000   \n",
              "62.000          39.600000             0.600000  231200.000000   \n",
              "63.000          42.875000             0.250000  255125.000000   \n",
              "64.000          48.333333             0.000000  265666.666667   \n",
              "65.000          37.346154             0.307692  257387.465000   \n",
              "66.000          39.000000             1.000000  202000.000000   \n",
              "67.000          44.000000             0.000000  239179.015000   \n",
              "68.000          36.000000             0.400000  247800.000000   \n",
              "69.000          31.666667             0.000000  199666.666667   \n",
              "70.000          40.800000             0.520000  258858.321200   \n",
              "72.000          31.428571             0.714286  316285.714286   \n",
              "73.000          31.250000             0.500000  211589.507500   \n",
              "75.000          36.727273             0.636364  254097.644545   \n",
              "77.000          47.500000             0.500000  314500.000000   \n",
              "78.000          45.000000             0.000000  379000.000000   \n",
              "79.000          50.000000             1.000000  172000.000000   \n",
              "80.000          32.714286             0.428571  233051.147143   \n",
              "81.000          35.000000             0.000000  231000.000000   \n",
              "82.000          43.333333             0.333333  189333.333333   \n",
              "85.000          48.000000             0.000000  306166.666667   \n",
              "86.000          38.000000             0.000000  263358.030000   \n",
              "87.000          38.000000             0.000000  262000.000000   \n",
              "90.000          42.666667             0.333333  273333.333333   \n",
              "94.000          38.000000             1.000000  263358.030000   \n",
              "95.000          35.000000             0.500000  328500.000000   \n",
              "\n",
              "        serum_creatinine  serum_sodium       sex   smoking        time  \\\n",
              "age                                                                      \n",
              "40.000          0.942857    137.714286  0.714286  0.285714  198.285714   \n",
              "41.000          0.800000    140.000000  1.000000  1.000000   68.000000   \n",
              "42.000          1.468571    137.142857  0.714286  0.428571  143.428571   \n",
              "43.000          1.300000    135.000000  0.000000  0.000000   97.000000   \n",
              "44.000          1.150000    134.500000  1.000000  0.500000  161.500000   \n",
              "45.000          1.024211    137.578947  0.631579  0.157895  156.315789   \n",
              "46.000          1.393333    133.666667  0.000000  0.000000  105.333333   \n",
              "47.000          0.800000    134.000000  1.000000  0.000000  201.000000   \n",
              "48.000          1.750000    125.500000  0.000000  0.000000  104.000000   \n",
              "49.000          0.975000    136.000000  0.250000  0.250000  100.250000   \n",
              "50.000          1.073333    136.148148  0.592593  0.333333  133.777778   \n",
              "51.000          1.000000    135.000000  0.750000  0.250000  126.500000   \n",
              "52.000          1.000000    138.800000  0.800000  0.800000  170.400000   \n",
              "53.000          1.240000    136.800000  0.800000  0.500000  148.800000   \n",
              "54.000          5.400000    135.500000  0.500000  0.000000  204.500000   \n",
              "55.000          1.100588    137.882353  0.705882  0.294118  166.352941   \n",
              "56.000          1.700000    140.000000  1.000000  0.000000  244.000000   \n",
              "57.000          1.050000    142.000000  0.500000  0.000000   60.500000   \n",
              "58.000          1.470000    137.800000  0.700000  0.300000  126.800000   \n",
              "59.000          1.375000    137.500000  0.750000  0.500000  121.000000   \n",
              "60.000          1.898485    136.060606  0.606061  0.333333  108.454545   \n",
              "60.667          1.250000    136.000000  0.500000  0.000000  171.500000   \n",
              "61.000          1.050000    138.750000  0.750000  0.250000  166.000000   \n",
              "62.000          0.920000    138.200000  0.600000  0.400000  147.600000   \n",
              "63.000          1.062500    138.375000  0.875000  0.500000  136.250000   \n",
              "64.000          1.633333    135.666667  0.666667  0.000000  167.000000   \n",
              "65.000          1.362692    136.153846  0.500000  0.269231  127.923077   \n",
              "66.000          1.100000    135.000000  0.500000  0.000000  108.000000   \n",
              "67.000          1.190000    135.000000  0.500000  0.500000  160.500000   \n",
              "68.000          1.220000    136.400000  0.800000  0.200000  121.000000   \n",
              "69.000          1.900000    134.333333  1.000000  0.666667   83.333333   \n",
              "70.000          1.253200    137.320000  0.520000  0.400000  134.680000   \n",
              "72.000          1.485714    136.571429  0.571429  0.571429   96.857143   \n",
              "73.000          1.302500    137.750000  0.750000  0.250000  196.500000   \n",
              "75.000          1.701818    134.363636  0.818182  0.181818   91.272727   \n",
              "77.000          1.450000    141.000000  1.000000  0.000000  194.500000   \n",
              "78.000          1.050000    137.500000  1.000000  1.000000  189.500000   \n",
              "79.000          1.800000    133.000000  1.000000  0.000000   78.000000   \n",
              "80.000          3.042857    136.714286  0.857143  0.428571   82.000000   \n",
              "81.000          1.180000    137.000000  1.000000  1.000000  107.000000   \n",
              "82.000          1.166667    137.666667  0.666667  0.333333   23.000000   \n",
              "85.000          1.766667    134.000000  0.833333  0.333333   98.666667   \n",
              "86.000          1.830000    134.000000  0.000000  0.000000   95.000000   \n",
              "87.000          0.900000    140.000000  1.000000  0.000000   14.000000   \n",
              "90.000          1.333333    136.666667  0.666667  0.333333   98.000000   \n",
              "94.000          1.830000    134.000000  1.000000  0.000000   27.000000   \n",
              "95.000          1.500000    135.000000  0.500000  0.000000   37.000000   \n",
              "\n",
              "        DEATH_EVENT  \n",
              "age                  \n",
              "40.000     0.000000  \n",
              "41.000     0.000000  \n",
              "42.000     0.142857  \n",
              "43.000     0.000000  \n",
              "44.000     0.000000  \n",
              "45.000     0.315789  \n",
              "46.000     0.333333  \n",
              "47.000     0.000000  \n",
              "48.000     1.000000  \n",
              "49.000     0.250000  \n",
              "50.000     0.296296  \n",
              "51.000     0.250000  \n",
              "52.000     0.000000  \n",
              "53.000     0.100000  \n",
              "54.000     0.500000  \n",
              "55.000     0.176471  \n",
              "56.000     0.000000  \n",
              "57.000     0.500000  \n",
              "58.000     0.200000  \n",
              "59.000     0.750000  \n",
              "60.000     0.393939  \n",
              "60.667     0.500000  \n",
              "61.000     0.000000  \n",
              "62.000     0.200000  \n",
              "63.000     0.000000  \n",
              "64.000     0.000000  \n",
              "65.000     0.307692  \n",
              "66.000     0.000000  \n",
              "67.000     0.000000  \n",
              "68.000     0.400000  \n",
              "69.000     0.666667  \n",
              "70.000     0.280000  \n",
              "72.000     0.714286  \n",
              "73.000     0.250000  \n",
              "75.000     0.545455  \n",
              "77.000     0.500000  \n",
              "78.000     0.000000  \n",
              "79.000     0.000000  \n",
              "80.000     0.714286  \n",
              "81.000     0.000000  \n",
              "82.000     1.000000  \n",
              "85.000     0.500000  \n",
              "86.000     1.000000  \n",
              "87.000     1.000000  \n",
              "90.000     0.666667  \n",
              "94.000     1.000000  \n",
              "95.000     1.000000  "
            ],
            "text/html": [
              "\n",
              "  <div id=\"df-2708b747-e86e-46b6-b298-5fdaf6138636\">\n",
              "    <div class=\"colab-df-container\">\n",
              "      <div>\n",
              "<style scoped>\n",
              "    .dataframe tbody tr th:only-of-type {\n",
              "        vertical-align: middle;\n",
              "    }\n",
              "\n",
              "    .dataframe tbody tr th {\n",
              "        vertical-align: top;\n",
              "    }\n",
              "\n",
              "    .dataframe thead th {\n",
              "        text-align: right;\n",
              "    }\n",
              "</style>\n",
              "<table border=\"1\" class=\"dataframe\">\n",
              "  <thead>\n",
              "    <tr style=\"text-align: right;\">\n",
              "      <th></th>\n",
              "      <th>age</th>\n",
              "      <th>anaemia</th>\n",
              "      <th>creatinine_phosphokinase</th>\n",
              "      <th>diabetes</th>\n",
              "      <th>ejection_fraction</th>\n",
              "      <th>high_blood_pressure</th>\n",
              "      <th>platelets</th>\n",
              "      <th>serum_creatinine</th>\n",
              "      <th>serum_sodium</th>\n",
              "      <th>sex</th>\n",
              "      <th>smoking</th>\n",
              "      <th>time</th>\n",
              "      <th>DEATH_EVENT</th>\n",
              "    </tr>\n",
              "    <tr>\n",
              "      <th>age</th>\n",
              "      <th></th>\n",
              "      <th></th>\n",
              "      <th></th>\n",
              "      <th></th>\n",
              "      <th></th>\n",
              "      <th></th>\n",
              "      <th></th>\n",
              "      <th></th>\n",
              "      <th></th>\n",
              "      <th></th>\n",
              "      <th></th>\n",
              "      <th></th>\n",
              "      <th></th>\n",
              "    </tr>\n",
              "  </thead>\n",
              "  <tbody>\n",
              "    <tr>\n",
              "      <th>40.000</th>\n",
              "      <td>40.000</td>\n",
              "      <td>0.285714</td>\n",
              "      <td>321.142857</td>\n",
              "      <td>0.285714</td>\n",
              "      <td>36.428571</td>\n",
              "      <td>0.142857</td>\n",
              "      <td>262428.571429</td>\n",
              "      <td>0.942857</td>\n",
              "      <td>137.714286</td>\n",
              "      <td>0.714286</td>\n",
              "      <td>0.285714</td>\n",
              "      <td>198.285714</td>\n",
              "      <td>0.000000</td>\n",
              "    </tr>\n",
              "    <tr>\n",
              "      <th>41.000</th>\n",
              "      <td>41.000</td>\n",
              "      <td>0.000000</td>\n",
              "      <td>148.000000</td>\n",
              "      <td>0.000000</td>\n",
              "      <td>40.000000</td>\n",
              "      <td>0.000000</td>\n",
              "      <td>374000.000000</td>\n",
              "      <td>0.800000</td>\n",
              "      <td>140.000000</td>\n",
              "      <td>1.000000</td>\n",
              "      <td>1.000000</td>\n",
              "      <td>68.000000</td>\n",
              "      <td>0.000000</td>\n",
              "    </tr>\n",
              "    <tr>\n",
              "      <th>42.000</th>\n",
              "      <td>42.000</td>\n",
              "      <td>0.285714</td>\n",
              "      <td>908.142857</td>\n",
              "      <td>0.285714</td>\n",
              "      <td>35.714286</td>\n",
              "      <td>0.000000</td>\n",
              "      <td>244051.147143</td>\n",
              "      <td>1.468571</td>\n",
              "      <td>137.142857</td>\n",
              "      <td>0.714286</td>\n",
              "      <td>0.428571</td>\n",
              "      <td>143.428571</td>\n",
              "      <td>0.142857</td>\n",
              "    </tr>\n",
              "    <tr>\n",
              "      <th>43.000</th>\n",
              "      <td>43.000</td>\n",
              "      <td>1.000000</td>\n",
              "      <td>358.000000</td>\n",
              "      <td>0.000000</td>\n",
              "      <td>50.000000</td>\n",
              "      <td>0.000000</td>\n",
              "      <td>237000.000000</td>\n",
              "      <td>1.300000</td>\n",
              "      <td>135.000000</td>\n",
              "      <td>0.000000</td>\n",
              "      <td>0.000000</td>\n",
              "      <td>97.000000</td>\n",
              "      <td>0.000000</td>\n",
              "    </tr>\n",
              "    <tr>\n",
              "      <th>44.000</th>\n",
              "      <td>44.000</td>\n",
              "      <td>0.000000</td>\n",
              "      <td>333.000000</td>\n",
              "      <td>1.000000</td>\n",
              "      <td>35.000000</td>\n",
              "      <td>1.000000</td>\n",
              "      <td>249179.015000</td>\n",
              "      <td>1.150000</td>\n",
              "      <td>134.500000</td>\n",
              "      <td>1.000000</td>\n",
              "      <td>0.500000</td>\n",
              "      <td>161.500000</td>\n",
              "      <td>0.000000</td>\n",
              "    </tr>\n",
              "    <tr>\n",
              "      <th>45.000</th>\n",
              "      <td>45.000</td>\n",
              "      <td>0.210526</td>\n",
              "      <td>1239.000000</td>\n",
              "      <td>0.578947</td>\n",
              "      <td>39.263158</td>\n",
              "      <td>0.263158</td>\n",
              "      <td>331300.845263</td>\n",
              "      <td>1.024211</td>\n",
              "      <td>137.578947</td>\n",
              "      <td>0.631579</td>\n",
              "      <td>0.157895</td>\n",
              "      <td>156.315789</td>\n",
              "      <td>0.315789</td>\n",
              "    </tr>\n",
              "    <tr>\n",
              "      <th>46.000</th>\n",
              "      <td>46.000</td>\n",
              "      <td>0.333333</td>\n",
              "      <td>392.666667</td>\n",
              "      <td>0.333333</td>\n",
              "      <td>30.666667</td>\n",
              "      <td>0.666667</td>\n",
              "      <td>294119.343333</td>\n",
              "      <td>1.393333</td>\n",
              "      <td>133.666667</td>\n",
              "      <td>0.000000</td>\n",
              "      <td>0.000000</td>\n",
              "      <td>105.333333</td>\n",
              "      <td>0.333333</td>\n",
              "    </tr>\n",
              "    <tr>\n",
              "      <th>47.000</th>\n",
              "      <td>47.000</td>\n",
              "      <td>0.000000</td>\n",
              "      <td>582.000000</td>\n",
              "      <td>0.000000</td>\n",
              "      <td>25.000000</td>\n",
              "      <td>0.000000</td>\n",
              "      <td>130000.000000</td>\n",
              "      <td>0.800000</td>\n",
              "      <td>134.000000</td>\n",
              "      <td>1.000000</td>\n",
              "      <td>0.000000</td>\n",
              "      <td>201.000000</td>\n",
              "      <td>0.000000</td>\n",
              "    </tr>\n",
              "    <tr>\n",
              "      <th>48.000</th>\n",
              "      <td>48.000</td>\n",
              "      <td>1.000000</td>\n",
              "      <td>356.500000</td>\n",
              "      <td>1.000000</td>\n",
              "      <td>42.500000</td>\n",
              "      <td>0.500000</td>\n",
              "      <td>165500.000000</td>\n",
              "      <td>1.750000</td>\n",
              "      <td>125.500000</td>\n",
              "      <td>0.000000</td>\n",
              "      <td>0.000000</td>\n",
              "      <td>104.000000</td>\n",
              "      <td>1.000000</td>\n",
              "    </tr>\n",
              "    <tr>\n",
              "      <th>49.000</th>\n",
              "      <td>49.000</td>\n",
              "      <td>0.500000</td>\n",
              "      <td>477.500000</td>\n",
              "      <td>0.250000</td>\n",
              "      <td>33.750000</td>\n",
              "      <td>0.750000</td>\n",
              "      <td>286500.000000</td>\n",
              "      <td>0.975000</td>\n",
              "      <td>136.000000</td>\n",
              "      <td>0.250000</td>\n",
              "      <td>0.250000</td>\n",
              "      <td>100.250000</td>\n",
              "      <td>0.250000</td>\n",
              "    </tr>\n",
              "    <tr>\n",
              "      <th>50.000</th>\n",
              "      <td>50.000</td>\n",
              "      <td>0.444444</td>\n",
              "      <td>568.703704</td>\n",
              "      <td>0.444444</td>\n",
              "      <td>35.111111</td>\n",
              "      <td>0.370370</td>\n",
              "      <td>257939.186296</td>\n",
              "      <td>1.073333</td>\n",
              "      <td>136.148148</td>\n",
              "      <td>0.592593</td>\n",
              "      <td>0.333333</td>\n",
              "      <td>133.777778</td>\n",
              "      <td>0.296296</td>\n",
              "    </tr>\n",
              "    <tr>\n",
              "      <th>51.000</th>\n",
              "      <td>51.000</td>\n",
              "      <td>0.250000</td>\n",
              "      <td>655.500000</td>\n",
              "      <td>0.500000</td>\n",
              "      <td>37.500000</td>\n",
              "      <td>0.250000</td>\n",
              "      <td>290339.507500</td>\n",
              "      <td>1.000000</td>\n",
              "      <td>135.000000</td>\n",
              "      <td>0.750000</td>\n",
              "      <td>0.250000</td>\n",
              "      <td>126.500000</td>\n",
              "      <td>0.250000</td>\n",
              "    </tr>\n",
              "    <tr>\n",
              "      <th>52.000</th>\n",
              "      <td>52.000</td>\n",
              "      <td>0.400000</td>\n",
              "      <td>907.400000</td>\n",
              "      <td>0.400000</td>\n",
              "      <td>34.600000</td>\n",
              "      <td>0.200000</td>\n",
              "      <td>307200.000000</td>\n",
              "      <td>1.000000</td>\n",
              "      <td>138.800000</td>\n",
              "      <td>0.800000</td>\n",
              "      <td>0.800000</td>\n",
              "      <td>170.400000</td>\n",
              "      <td>0.000000</td>\n",
              "    </tr>\n",
              "    <tr>\n",
              "      <th>53.000</th>\n",
              "      <td>53.000</td>\n",
              "      <td>0.600000</td>\n",
              "      <td>442.600000</td>\n",
              "      <td>0.300000</td>\n",
              "      <td>46.800000</td>\n",
              "      <td>0.300000</td>\n",
              "      <td>291135.803000</td>\n",
              "      <td>1.240000</td>\n",
              "      <td>136.800000</td>\n",
              "      <td>0.800000</td>\n",
              "      <td>0.500000</td>\n",
              "      <td>148.800000</td>\n",
              "      <td>0.100000</td>\n",
              "    </tr>\n",
              "    <tr>\n",
              "      <th>54.000</th>\n",
              "      <td>54.000</td>\n",
              "      <td>0.500000</td>\n",
              "      <td>504.500000</td>\n",
              "      <td>0.500000</td>\n",
              "      <td>54.000000</td>\n",
              "      <td>0.500000</td>\n",
              "      <td>207500.000000</td>\n",
              "      <td>5.400000</td>\n",
              "      <td>135.500000</td>\n",
              "      <td>0.500000</td>\n",
              "      <td>0.000000</td>\n",
              "      <td>204.500000</td>\n",
              "      <td>0.500000</td>\n",
              "    </tr>\n",
              "    <tr>\n",
              "      <th>55.000</th>\n",
              "      <td>55.000</td>\n",
              "      <td>0.176471</td>\n",
              "      <td>1145.882353</td>\n",
              "      <td>0.235294</td>\n",
              "      <td>36.705882</td>\n",
              "      <td>0.235294</td>\n",
              "      <td>272239.652353</td>\n",
              "      <td>1.100588</td>\n",
              "      <td>137.882353</td>\n",
              "      <td>0.705882</td>\n",
              "      <td>0.294118</td>\n",
              "      <td>166.352941</td>\n",
              "      <td>0.176471</td>\n",
              "    </tr>\n",
              "    <tr>\n",
              "      <th>56.000</th>\n",
              "      <td>56.000</td>\n",
              "      <td>1.000000</td>\n",
              "      <td>135.000000</td>\n",
              "      <td>1.000000</td>\n",
              "      <td>38.000000</td>\n",
              "      <td>0.000000</td>\n",
              "      <td>133000.000000</td>\n",
              "      <td>1.700000</td>\n",
              "      <td>140.000000</td>\n",
              "      <td>1.000000</td>\n",
              "      <td>0.000000</td>\n",
              "      <td>244.000000</td>\n",
              "      <td>0.000000</td>\n",
              "    </tr>\n",
              "    <tr>\n",
              "      <th>57.000</th>\n",
              "      <td>57.000</td>\n",
              "      <td>1.000000</td>\n",
              "      <td>122.000000</td>\n",
              "      <td>0.000000</td>\n",
              "      <td>27.500000</td>\n",
              "      <td>0.500000</td>\n",
              "      <td>288000.000000</td>\n",
              "      <td>1.050000</td>\n",
              "      <td>142.000000</td>\n",
              "      <td>0.500000</td>\n",
              "      <td>0.000000</td>\n",
              "      <td>60.500000</td>\n",
              "      <td>0.500000</td>\n",
              "    </tr>\n",
              "    <tr>\n",
              "      <th>58.000</th>\n",
              "      <td>58.000</td>\n",
              "      <td>0.600000</td>\n",
              "      <td>243.500000</td>\n",
              "      <td>0.500000</td>\n",
              "      <td>38.400000</td>\n",
              "      <td>0.300000</td>\n",
              "      <td>245000.000000</td>\n",
              "      <td>1.470000</td>\n",
              "      <td>137.800000</td>\n",
              "      <td>0.700000</td>\n",
              "      <td>0.300000</td>\n",
              "      <td>126.800000</td>\n",
              "      <td>0.200000</td>\n",
              "    </tr>\n",
              "    <tr>\n",
              "      <th>59.000</th>\n",
              "      <td>59.000</td>\n",
              "      <td>0.750000</td>\n",
              "      <td>162.750000</td>\n",
              "      <td>0.750000</td>\n",
              "      <td>28.750000</td>\n",
              "      <td>0.500000</td>\n",
              "      <td>238750.000000</td>\n",
              "      <td>1.375000</td>\n",
              "      <td>137.500000</td>\n",
              "      <td>0.750000</td>\n",
              "      <td>0.500000</td>\n",
              "      <td>121.000000</td>\n",
              "      <td>0.750000</td>\n",
              "    </tr>\n",
              "    <tr>\n",
              "      <th>60.000</th>\n",
              "      <td>60.000</td>\n",
              "      <td>0.515152</td>\n",
              "      <td>715.666667</td>\n",
              "      <td>0.575758</td>\n",
              "      <td>38.303030</td>\n",
              "      <td>0.272727</td>\n",
              "      <td>249536.850303</td>\n",
              "      <td>1.898485</td>\n",
              "      <td>136.060606</td>\n",
              "      <td>0.606061</td>\n",
              "      <td>0.333333</td>\n",
              "      <td>108.454545</td>\n",
              "      <td>0.393939</td>\n",
              "    </tr>\n",
              "    <tr>\n",
              "      <th>60.667</th>\n",
              "      <td>60.667</td>\n",
              "      <td>1.000000</td>\n",
              "      <td>127.500000</td>\n",
              "      <td>1.000000</td>\n",
              "      <td>35.000000</td>\n",
              "      <td>0.500000</td>\n",
              "      <td>295000.000000</td>\n",
              "      <td>1.250000</td>\n",
              "      <td>136.000000</td>\n",
              "      <td>0.500000</td>\n",
              "      <td>0.000000</td>\n",
              "      <td>171.500000</td>\n",
              "      <td>0.500000</td>\n",
              "    </tr>\n",
              "    <tr>\n",
              "      <th>61.000</th>\n",
              "      <td>61.000</td>\n",
              "      <td>0.500000</td>\n",
              "      <td>248.500000</td>\n",
              "      <td>0.500000</td>\n",
              "      <td>36.500000</td>\n",
              "      <td>0.500000</td>\n",
              "      <td>231250.000000</td>\n",
              "      <td>1.050000</td>\n",
              "      <td>138.750000</td>\n",
              "      <td>0.750000</td>\n",
              "      <td>0.250000</td>\n",
              "      <td>166.000000</td>\n",
              "      <td>0.000000</td>\n",
              "    </tr>\n",
              "    <tr>\n",
              "      <th>62.000</th>\n",
              "      <td>62.000</td>\n",
              "      <td>0.200000</td>\n",
              "      <td>251.600000</td>\n",
              "      <td>0.600000</td>\n",
              "      <td>39.600000</td>\n",
              "      <td>0.600000</td>\n",
              "      <td>231200.000000</td>\n",
              "      <td>0.920000</td>\n",
              "      <td>138.200000</td>\n",
              "      <td>0.600000</td>\n",
              "      <td>0.400000</td>\n",
              "      <td>147.600000</td>\n",
              "      <td>0.200000</td>\n",
              "    </tr>\n",
              "    <tr>\n",
              "      <th>63.000</th>\n",
              "      <td>63.000</td>\n",
              "      <td>0.750000</td>\n",
              "      <td>534.750000</td>\n",
              "      <td>0.500000</td>\n",
              "      <td>42.875000</td>\n",
              "      <td>0.250000</td>\n",
              "      <td>255125.000000</td>\n",
              "      <td>1.062500</td>\n",
              "      <td>138.375000</td>\n",
              "      <td>0.875000</td>\n",
              "      <td>0.500000</td>\n",
              "      <td>136.250000</td>\n",
              "      <td>0.000000</td>\n",
              "    </tr>\n",
              "    <tr>\n",
              "      <th>64.000</th>\n",
              "      <td>64.000</td>\n",
              "      <td>0.333333</td>\n",
              "      <td>605.000000</td>\n",
              "      <td>0.000000</td>\n",
              "      <td>48.333333</td>\n",
              "      <td>0.000000</td>\n",
              "      <td>265666.666667</td>\n",
              "      <td>1.633333</td>\n",
              "      <td>135.666667</td>\n",
              "      <td>0.666667</td>\n",
              "      <td>0.000000</td>\n",
              "      <td>167.000000</td>\n",
              "      <td>0.000000</td>\n",
              "    </tr>\n",
              "    <tr>\n",
              "      <th>65.000</th>\n",
              "      <td>65.000</td>\n",
              "      <td>0.423077</td>\n",
              "      <td>310.423077</td>\n",
              "      <td>0.576923</td>\n",
              "      <td>37.346154</td>\n",
              "      <td>0.307692</td>\n",
              "      <td>257387.465000</td>\n",
              "      <td>1.362692</td>\n",
              "      <td>136.153846</td>\n",
              "      <td>0.500000</td>\n",
              "      <td>0.269231</td>\n",
              "      <td>127.923077</td>\n",
              "      <td>0.307692</td>\n",
              "    </tr>\n",
              "    <tr>\n",
              "      <th>66.000</th>\n",
              "      <td>66.000</td>\n",
              "      <td>1.000000</td>\n",
              "      <td>70.000000</td>\n",
              "      <td>0.500000</td>\n",
              "      <td>39.000000</td>\n",
              "      <td>1.000000</td>\n",
              "      <td>202000.000000</td>\n",
              "      <td>1.100000</td>\n",
              "      <td>135.000000</td>\n",
              "      <td>0.500000</td>\n",
              "      <td>0.000000</td>\n",
              "      <td>108.000000</td>\n",
              "      <td>0.000000</td>\n",
              "    </tr>\n",
              "    <tr>\n",
              "      <th>67.000</th>\n",
              "      <td>67.000</td>\n",
              "      <td>0.000000</td>\n",
              "      <td>397.500000</td>\n",
              "      <td>0.000000</td>\n",
              "      <td>44.000000</td>\n",
              "      <td>0.000000</td>\n",
              "      <td>239179.015000</td>\n",
              "      <td>1.190000</td>\n",
              "      <td>135.000000</td>\n",
              "      <td>0.500000</td>\n",
              "      <td>0.500000</td>\n",
              "      <td>160.500000</td>\n",
              "      <td>0.000000</td>\n",
              "    </tr>\n",
              "    <tr>\n",
              "      <th>68.000</th>\n",
              "      <td>68.000</td>\n",
              "      <td>1.000000</td>\n",
              "      <td>524.200000</td>\n",
              "      <td>0.400000</td>\n",
              "      <td>36.000000</td>\n",
              "      <td>0.400000</td>\n",
              "      <td>247800.000000</td>\n",
              "      <td>1.220000</td>\n",
              "      <td>136.400000</td>\n",
              "      <td>0.800000</td>\n",
              "      <td>0.200000</td>\n",
              "      <td>121.000000</td>\n",
              "      <td>0.400000</td>\n",
              "    </tr>\n",
              "    <tr>\n",
              "      <th>69.000</th>\n",
              "      <td>69.000</td>\n",
              "      <td>0.000000</td>\n",
              "      <td>861.000000</td>\n",
              "      <td>0.333333</td>\n",
              "      <td>31.666667</td>\n",
              "      <td>0.000000</td>\n",
              "      <td>199666.666667</td>\n",
              "      <td>1.900000</td>\n",
              "      <td>134.333333</td>\n",
              "      <td>1.000000</td>\n",
              "      <td>0.666667</td>\n",
              "      <td>83.333333</td>\n",
              "      <td>0.666667</td>\n",
              "    </tr>\n",
              "    <tr>\n",
              "      <th>70.000</th>\n",
              "      <td>70.000</td>\n",
              "      <td>0.240000</td>\n",
              "      <td>384.880000</td>\n",
              "      <td>0.360000</td>\n",
              "      <td>40.800000</td>\n",
              "      <td>0.520000</td>\n",
              "      <td>258858.321200</td>\n",
              "      <td>1.253200</td>\n",
              "      <td>137.320000</td>\n",
              "      <td>0.520000</td>\n",
              "      <td>0.400000</td>\n",
              "      <td>134.680000</td>\n",
              "      <td>0.280000</td>\n",
              "    </tr>\n",
              "    <tr>\n",
              "      <th>72.000</th>\n",
              "      <td>72.000</td>\n",
              "      <td>0.428571</td>\n",
              "      <td>330.857143</td>\n",
              "      <td>0.285714</td>\n",
              "      <td>31.428571</td>\n",
              "      <td>0.714286</td>\n",
              "      <td>316285.714286</td>\n",
              "      <td>1.485714</td>\n",
              "      <td>136.571429</td>\n",
              "      <td>0.571429</td>\n",
              "      <td>0.571429</td>\n",
              "      <td>96.857143</td>\n",
              "      <td>0.714286</td>\n",
              "    </tr>\n",
              "    <tr>\n",
              "      <th>73.000</th>\n",
              "      <td>73.000</td>\n",
              "      <td>0.500000</td>\n",
              "      <td>645.000000</td>\n",
              "      <td>0.250000</td>\n",
              "      <td>31.250000</td>\n",
              "      <td>0.500000</td>\n",
              "      <td>211589.507500</td>\n",
              "      <td>1.302500</td>\n",
              "      <td>137.750000</td>\n",
              "      <td>0.750000</td>\n",
              "      <td>0.250000</td>\n",
              "      <td>196.500000</td>\n",
              "      <td>0.250000</td>\n",
              "    </tr>\n",
              "    <tr>\n",
              "      <th>75.000</th>\n",
              "      <td>75.000</td>\n",
              "      <td>0.363636</td>\n",
              "      <td>393.909091</td>\n",
              "      <td>0.272727</td>\n",
              "      <td>36.727273</td>\n",
              "      <td>0.636364</td>\n",
              "      <td>254097.644545</td>\n",
              "      <td>1.701818</td>\n",
              "      <td>134.363636</td>\n",
              "      <td>0.818182</td>\n",
              "      <td>0.181818</td>\n",
              "      <td>91.272727</td>\n",
              "      <td>0.545455</td>\n",
              "    </tr>\n",
              "    <tr>\n",
              "      <th>77.000</th>\n",
              "      <td>77.000</td>\n",
              "      <td>1.000000</td>\n",
              "      <td>263.500000</td>\n",
              "      <td>0.000000</td>\n",
              "      <td>47.500000</td>\n",
              "      <td>0.500000</td>\n",
              "      <td>314500.000000</td>\n",
              "      <td>1.450000</td>\n",
              "      <td>141.000000</td>\n",
              "      <td>1.000000</td>\n",
              "      <td>0.000000</td>\n",
              "      <td>194.500000</td>\n",
              "      <td>0.500000</td>\n",
              "    </tr>\n",
              "    <tr>\n",
              "      <th>78.000</th>\n",
              "      <td>78.000</td>\n",
              "      <td>0.500000</td>\n",
              "      <td>144.000000</td>\n",
              "      <td>0.000000</td>\n",
              "      <td>45.000000</td>\n",
              "      <td>0.000000</td>\n",
              "      <td>379000.000000</td>\n",
              "      <td>1.050000</td>\n",
              "      <td>137.500000</td>\n",
              "      <td>1.000000</td>\n",
              "      <td>1.000000</td>\n",
              "      <td>189.500000</td>\n",
              "      <td>0.000000</td>\n",
              "    </tr>\n",
              "    <tr>\n",
              "      <th>79.000</th>\n",
              "      <td>79.000</td>\n",
              "      <td>1.000000</td>\n",
              "      <td>55.000000</td>\n",
              "      <td>0.000000</td>\n",
              "      <td>50.000000</td>\n",
              "      <td>1.000000</td>\n",
              "      <td>172000.000000</td>\n",
              "      <td>1.800000</td>\n",
              "      <td>133.000000</td>\n",
              "      <td>1.000000</td>\n",
              "      <td>0.000000</td>\n",
              "      <td>78.000000</td>\n",
              "      <td>0.000000</td>\n",
              "    </tr>\n",
              "    <tr>\n",
              "      <th>80.000</th>\n",
              "      <td>80.000</td>\n",
              "      <td>0.285714</td>\n",
              "      <td>555.000000</td>\n",
              "      <td>0.428571</td>\n",
              "      <td>32.714286</td>\n",
              "      <td>0.428571</td>\n",
              "      <td>233051.147143</td>\n",
              "      <td>3.042857</td>\n",
              "      <td>136.714286</td>\n",
              "      <td>0.857143</td>\n",
              "      <td>0.428571</td>\n",
              "      <td>82.000000</td>\n",
              "      <td>0.714286</td>\n",
              "    </tr>\n",
              "    <tr>\n",
              "      <th>81.000</th>\n",
              "      <td>81.000</td>\n",
              "      <td>0.000000</td>\n",
              "      <td>4540.000000</td>\n",
              "      <td>0.000000</td>\n",
              "      <td>35.000000</td>\n",
              "      <td>0.000000</td>\n",
              "      <td>231000.000000</td>\n",
              "      <td>1.180000</td>\n",
              "      <td>137.000000</td>\n",
              "      <td>1.000000</td>\n",
              "      <td>1.000000</td>\n",
              "      <td>107.000000</td>\n",
              "      <td>0.000000</td>\n",
              "    </tr>\n",
              "    <tr>\n",
              "      <th>82.000</th>\n",
              "      <td>82.000</td>\n",
              "      <td>0.666667</td>\n",
              "      <td>434.666667</td>\n",
              "      <td>0.666667</td>\n",
              "      <td>43.333333</td>\n",
              "      <td>0.333333</td>\n",
              "      <td>189333.333333</td>\n",
              "      <td>1.166667</td>\n",
              "      <td>137.666667</td>\n",
              "      <td>0.666667</td>\n",
              "      <td>0.333333</td>\n",
              "      <td>23.000000</td>\n",
              "      <td>1.000000</td>\n",
              "    </tr>\n",
              "    <tr>\n",
              "      <th>85.000</th>\n",
              "      <td>85.000</td>\n",
              "      <td>0.333333</td>\n",
              "      <td>1209.666667</td>\n",
              "      <td>0.000000</td>\n",
              "      <td>48.000000</td>\n",
              "      <td>0.000000</td>\n",
              "      <td>306166.666667</td>\n",
              "      <td>1.766667</td>\n",
              "      <td>134.000000</td>\n",
              "      <td>0.833333</td>\n",
              "      <td>0.333333</td>\n",
              "      <td>98.666667</td>\n",
              "      <td>0.500000</td>\n",
              "    </tr>\n",
              "    <tr>\n",
              "      <th>86.000</th>\n",
              "      <td>86.000</td>\n",
              "      <td>0.000000</td>\n",
              "      <td>582.000000</td>\n",
              "      <td>0.000000</td>\n",
              "      <td>38.000000</td>\n",
              "      <td>0.000000</td>\n",
              "      <td>263358.030000</td>\n",
              "      <td>1.830000</td>\n",
              "      <td>134.000000</td>\n",
              "      <td>0.000000</td>\n",
              "      <td>0.000000</td>\n",
              "      <td>95.000000</td>\n",
              "      <td>1.000000</td>\n",
              "    </tr>\n",
              "    <tr>\n",
              "      <th>87.000</th>\n",
              "      <td>87.000</td>\n",
              "      <td>1.000000</td>\n",
              "      <td>149.000000</td>\n",
              "      <td>0.000000</td>\n",
              "      <td>38.000000</td>\n",
              "      <td>0.000000</td>\n",
              "      <td>262000.000000</td>\n",
              "      <td>0.900000</td>\n",
              "      <td>140.000000</td>\n",
              "      <td>1.000000</td>\n",
              "      <td>0.000000</td>\n",
              "      <td>14.000000</td>\n",
              "      <td>1.000000</td>\n",
              "    </tr>\n",
              "    <tr>\n",
              "      <th>90.000</th>\n",
              "      <td>90.000</td>\n",
              "      <td>1.000000</td>\n",
              "      <td>148.000000</td>\n",
              "      <td>0.333333</td>\n",
              "      <td>42.666667</td>\n",
              "      <td>0.333333</td>\n",
              "      <td>273333.333333</td>\n",
              "      <td>1.333333</td>\n",
              "      <td>136.666667</td>\n",
              "      <td>0.666667</td>\n",
              "      <td>0.333333</td>\n",
              "      <td>98.000000</td>\n",
              "      <td>0.666667</td>\n",
              "    </tr>\n",
              "    <tr>\n",
              "      <th>94.000</th>\n",
              "      <td>94.000</td>\n",
              "      <td>0.000000</td>\n",
              "      <td>582.000000</td>\n",
              "      <td>1.000000</td>\n",
              "      <td>38.000000</td>\n",
              "      <td>1.000000</td>\n",
              "      <td>263358.030000</td>\n",
              "      <td>1.830000</td>\n",
              "      <td>134.000000</td>\n",
              "      <td>1.000000</td>\n",
              "      <td>0.000000</td>\n",
              "      <td>27.000000</td>\n",
              "      <td>1.000000</td>\n",
              "    </tr>\n",
              "    <tr>\n",
              "      <th>95.000</th>\n",
              "      <td>95.000</td>\n",
              "      <td>1.000000</td>\n",
              "      <td>241.500000</td>\n",
              "      <td>0.000000</td>\n",
              "      <td>35.000000</td>\n",
              "      <td>0.500000</td>\n",
              "      <td>328500.000000</td>\n",
              "      <td>1.500000</td>\n",
              "      <td>135.000000</td>\n",
              "      <td>0.500000</td>\n",
              "      <td>0.000000</td>\n",
              "      <td>37.000000</td>\n",
              "      <td>1.000000</td>\n",
              "    </tr>\n",
              "  </tbody>\n",
              "</table>\n",
              "</div>\n",
              "      <button class=\"colab-df-convert\" onclick=\"convertToInteractive('df-2708b747-e86e-46b6-b298-5fdaf6138636')\"\n",
              "              title=\"Convert this dataframe to an interactive table.\"\n",
              "              style=\"display:none;\">\n",
              "        \n",
              "  <svg xmlns=\"http://www.w3.org/2000/svg\" height=\"24px\"viewBox=\"0 0 24 24\"\n",
              "       width=\"24px\">\n",
              "    <path d=\"M0 0h24v24H0V0z\" fill=\"none\"/>\n",
              "    <path d=\"M18.56 5.44l.94 2.06.94-2.06 2.06-.94-2.06-.94-.94-2.06-.94 2.06-2.06.94zm-11 1L8.5 8.5l.94-2.06 2.06-.94-2.06-.94L8.5 2.5l-.94 2.06-2.06.94zm10 10l.94 2.06.94-2.06 2.06-.94-2.06-.94-.94-2.06-.94 2.06-2.06.94z\"/><path d=\"M17.41 7.96l-1.37-1.37c-.4-.4-.92-.59-1.43-.59-.52 0-1.04.2-1.43.59L10.3 9.45l-7.72 7.72c-.78.78-.78 2.05 0 2.83L4 21.41c.39.39.9.59 1.41.59.51 0 1.02-.2 1.41-.59l7.78-7.78 2.81-2.81c.8-.78.8-2.07 0-2.86zM5.41 20L4 18.59l7.72-7.72 1.47 1.35L5.41 20z\"/>\n",
              "  </svg>\n",
              "      </button>\n",
              "      \n",
              "  <style>\n",
              "    .colab-df-container {\n",
              "      display:flex;\n",
              "      flex-wrap:wrap;\n",
              "      gap: 12px;\n",
              "    }\n",
              "\n",
              "    .colab-df-convert {\n",
              "      background-color: #E8F0FE;\n",
              "      border: none;\n",
              "      border-radius: 50%;\n",
              "      cursor: pointer;\n",
              "      display: none;\n",
              "      fill: #1967D2;\n",
              "      height: 32px;\n",
              "      padding: 0 0 0 0;\n",
              "      width: 32px;\n",
              "    }\n",
              "\n",
              "    .colab-df-convert:hover {\n",
              "      background-color: #E2EBFA;\n",
              "      box-shadow: 0px 1px 2px rgba(60, 64, 67, 0.3), 0px 1px 3px 1px rgba(60, 64, 67, 0.15);\n",
              "      fill: #174EA6;\n",
              "    }\n",
              "\n",
              "    [theme=dark] .colab-df-convert {\n",
              "      background-color: #3B4455;\n",
              "      fill: #D2E3FC;\n",
              "    }\n",
              "\n",
              "    [theme=dark] .colab-df-convert:hover {\n",
              "      background-color: #434B5C;\n",
              "      box-shadow: 0px 1px 3px 1px rgba(0, 0, 0, 0.15);\n",
              "      filter: drop-shadow(0px 1px 2px rgba(0, 0, 0, 0.3));\n",
              "      fill: #FFFFFF;\n",
              "    }\n",
              "  </style>\n",
              "\n",
              "      <script>\n",
              "        const buttonEl =\n",
              "          document.querySelector('#df-2708b747-e86e-46b6-b298-5fdaf6138636 button.colab-df-convert');\n",
              "        buttonEl.style.display =\n",
              "          google.colab.kernel.accessAllowed ? 'block' : 'none';\n",
              "\n",
              "        async function convertToInteractive(key) {\n",
              "          const element = document.querySelector('#df-2708b747-e86e-46b6-b298-5fdaf6138636');\n",
              "          const dataTable =\n",
              "            await google.colab.kernel.invokeFunction('convertToInteractive',\n",
              "                                                     [key], {});\n",
              "          if (!dataTable) return;\n",
              "\n",
              "          const docLinkHtml = 'Like what you see? Visit the ' +\n",
              "            '<a target=\"_blank\" href=https://colab.research.google.com/notebooks/data_table.ipynb>data table notebook</a>'\n",
              "            + ' to learn more about interactive tables.';\n",
              "          element.innerHTML = '';\n",
              "          dataTable['output_type'] = 'display_data';\n",
              "          await google.colab.output.renderOutput(dataTable, element);\n",
              "          const docLink = document.createElement('div');\n",
              "          docLink.innerHTML = docLinkHtml;\n",
              "          element.appendChild(docLink);\n",
              "        }\n",
              "      </script>\n",
              "    </div>\n",
              "  </div>\n",
              "  "
            ]
          },
          "metadata": {},
          "execution_count": 23
        }
      ],
      "source": [
        "df.groupby('age')[features].mean()"
      ]
    },
    {
      "cell_type": "code",
      "source": [
        "sns.distplot(df['smoking'], kde=False)\n",
        "plt.show()"
      ],
      "metadata": {
        "colab": {
          "base_uri": "https://localhost:8080/",
          "height": 279
        },
        "id": "n-RBcm60toO_",
        "outputId": "ebe22179-8da5-49bc-ff91-62432a340576"
      },
      "id": "n-RBcm60toO_",
      "execution_count": 24,
      "outputs": [
        {
          "output_type": "display_data",
          "data": {
            "text/plain": [
              "<Figure size 432x288 with 1 Axes>"
            ],
            "image/png": "[encoded data removed]"
          },
          "metadata": {
            "needs_background": "light"
          }
        }
      ]
    },
    {
      "cell_type": "code",
      "source": [
        "df.groupby('smoking')[features].mean()"
      ],
      "metadata": {
        "colab": {
          "base_uri": "https://localhost:8080/",
          "height": 207
        },
        "id": "Vn0vR_F7truc",
        "outputId": "9529cd98-0bec-4aaf-b43e-735cb6a06b5b"
      },
      "id": "Vn0vR_F7truc",
      "execution_count": 25,
      "outputs": [
        {
          "output_type": "execute_result",
          "data": {
            "text/plain": [
              "               age   anaemia  creatinine_phosphokinase  diabetes  \\\n",
              "smoking                                                            \n",
              "0        60.681448  0.467980                580.226601   0.46798   \n",
              "1        61.156250  0.354167                585.250000   0.31250   \n",
              "\n",
              "         ejection_fraction  high_blood_pressure      platelets  \\\n",
              "smoking                                                          \n",
              "0                38.630542             0.369458  261462.209261   \n",
              "1                36.927083             0.312500  267366.898646   \n",
              "\n",
              "         serum_creatinine  serum_sodium       sex  smoking        time  \\\n",
              "smoking                                                                  \n",
              "0                1.413350    136.610837  0.502463      0.0  131.477833   \n",
              "1                1.352708    136.656250  0.958333      1.0  127.687500   \n",
              "\n",
              "         DEATH_EVENT  \n",
              "smoking               \n",
              "0           0.325123  \n",
              "1           0.312500  "
            ],
            "text/html": [
              "\n",
              "  <div id=\"df-dc555eeb-2c35-4cbf-80a2-8e81314d7a65\">\n",
              "    <div class=\"colab-df-container\">\n",
              "      <div>\n",
              "<style scoped>\n",
              "    .dataframe tbody tr th:only-of-type {\n",
              "        vertical-align: middle;\n",
              "    }\n",
              "\n",
              "    .dataframe tbody tr th {\n",
              "        vertical-align: top;\n",
              "    }\n",
              "\n",
              "    .dataframe thead th {\n",
              "        text-align: right;\n",
              "    }\n",
              "</style>\n",
              "<table border=\"1\" class=\"dataframe\">\n",
              "  <thead>\n",
              "    <tr style=\"text-align: right;\">\n",
              "      <th></th>\n",
              "      <th>age</th>\n",
              "      <th>anaemia</th>\n",
              "      <th>creatinine_phosphokinase</th>\n",
              "      <th>diabetes</th>\n",
              "      <th>ejection_fraction</th>\n",
              "      <th>high_blood_pressure</th>\n",
              "      <th>platelets</th>\n",
              "      <th>serum_creatinine</th>\n",
              "      <th>serum_sodium</th>\n",
              "      <th>sex</th>\n",
              "      <th>smoking</th>\n",
              "      <th>time</th>\n",
              "      <th>DEATH_EVENT</th>\n",
              "    </tr>\n",
              "    <tr>\n",
              "      <th>smoking</th>\n",
              "      <th></th>\n",
              "      <th></th>\n",
              "      <th></th>\n",
              "      <th></th>\n",
              "      <th></th>\n",
              "      <th></th>\n",
              "      <th></th>\n",
              "      <th></th>\n",
              "      <th></th>\n",
              "      <th></th>\n",
              "      <th></th>\n",
              "      <th></th>\n",
              "      <th></th>\n",
              "    </tr>\n",
              "  </thead>\n",
              "  <tbody>\n",
              "    <tr>\n",
              "      <th>0</th>\n",
              "      <td>60.681448</td>\n",
              "      <td>0.467980</td>\n",
              "      <td>580.226601</td>\n",
              "      <td>0.46798</td>\n",
              "      <td>38.630542</td>\n",
              "      <td>0.369458</td>\n",
              "      <td>261462.209261</td>\n",
              "      <td>1.413350</td>\n",
              "      <td>136.610837</td>\n",
              "      <td>0.502463</td>\n",
              "      <td>0.0</td>\n",
              "      <td>131.477833</td>\n",
              "      <td>0.325123</td>\n",
              "    </tr>\n",
              "    <tr>\n",
              "      <th>1</th>\n",
              "      <td>61.156250</td>\n",
              "      <td>0.354167</td>\n",
              "      <td>585.250000</td>\n",
              "      <td>0.31250</td>\n",
              "      <td>36.927083</td>\n",
              "      <td>0.312500</td>\n",
              "      <td>267366.898646</td>\n",
              "      <td>1.352708</td>\n",
              "      <td>136.656250</td>\n",
              "      <td>0.958333</td>\n",
              "      <td>1.0</td>\n",
              "      <td>127.687500</td>\n",
              "      <td>0.312500</td>\n",
              "    </tr>\n",
              "  </tbody>\n",
              "</table>\n",
              "</div>\n",
              "      <button class=\"colab-df-convert\" onclick=\"convertToInteractive('df-dc555eeb-2c35-4cbf-80a2-8e81314d7a65')\"\n",
              "              title=\"Convert this dataframe to an interactive table.\"\n",
              "              style=\"display:none;\">\n",
              "        \n",
              "  <svg xmlns=\"http://www.w3.org/2000/svg\" height=\"24px\"viewBox=\"0 0 24 24\"\n",
              "       width=\"24px\">\n",
              "    <path d=\"M0 0h24v24H0V0z\" fill=\"none\"/>\n",
              "    <path d=\"M18.56 5.44l.94 2.06.94-2.06 2.06-.94-2.06-.94-.94-2.06-.94 2.06-2.06.94zm-11 1L8.5 8.5l.94-2.06 2.06-.94-2.06-.94L8.5 2.5l-.94 2.06-2.06.94zm10 10l.94 2.06.94-2.06 2.06-.94-2.06-.94-.94-2.06-.94 2.06-2.06.94z\"/><path d=\"M17.41 7.96l-1.37-1.37c-.4-.4-.92-.59-1.43-.59-.52 0-1.04.2-1.43.59L10.3 9.45l-7.72 7.72c-.78.78-.78 2.05 0 2.83L4 21.41c.39.39.9.59 1.41.59.51 0 1.02-.2 1.41-.59l7.78-7.78 2.81-2.81c.8-.78.8-2.07 0-2.86zM5.41 20L4 18.59l7.72-7.72 1.47 1.35L5.41 20z\"/>\n",
              "  </svg>\n",
              "      </button>\n",
              "      \n",
              "  <style>\n",
              "    .colab-df-container {\n",
              "      display:flex;\n",
              "      flex-wrap:wrap;\n",
              "      gap: 12px;\n",
              "    }\n",
              "\n",
              "    .colab-df-convert {\n",
              "      background-color: #E8F0FE;\n",
              "      border: none;\n",
              "      border-radius: 50%;\n",
              "      cursor: pointer;\n",
              "      display: none;\n",
              "      fill: #1967D2;\n",
              "      height: 32px;\n",
              "      padding: 0 0 0 0;\n",
              "      width: 32px;\n",
              "    }\n",
              "\n",
              "    .colab-df-convert:hover {\n",
              "      background-color: #E2EBFA;\n",
              "      box-shadow: 0px 1px 2px rgba(60, 64, 67, 0.3), 0px 1px 3px 1px rgba(60, 64, 67, 0.15);\n",
              "      fill: #174EA6;\n",
              "    }\n",
              "\n",
              "    [theme=dark] .colab-df-convert {\n",
              "      background-color: #3B4455;\n",
              "      fill: #D2E3FC;\n",
              "    }\n",
              "\n",
              "    [theme=dark] .colab-df-convert:hover {\n",
              "      background-color: #434B5C;\n",
              "      box-shadow: 0px 1px 3px 1px rgba(0, 0, 0, 0.15);\n",
              "      filter: drop-shadow(0px 1px 2px rgba(0, 0, 0, 0.3));\n",
              "      fill: #FFFFFF;\n",
              "    }\n",
              "  </style>\n",
              "\n",
              "      <script>\n",
              "        const buttonEl =\n",
              "          document.querySelector('#df-dc555eeb-2c35-4cbf-80a2-8e81314d7a65 button.colab-df-convert');\n",
              "        buttonEl.style.display =\n",
              "          google.colab.kernel.accessAllowed ? 'block' : 'none';\n",
              "\n",
              "        async function convertToInteractive(key) {\n",
              "          const element = document.querySelector('#df-dc555eeb-2c35-4cbf-80a2-8e81314d7a65');\n",
              "          const dataTable =\n",
              "            await google.colab.kernel.invokeFunction('convertToInteractive',\n",
              "                                                     [key], {});\n",
              "          if (!dataTable) return;\n",
              "\n",
              "          const docLinkHtml = 'Like what you see? Visit the ' +\n",
              "            '<a target=\"_blank\" href=https://colab.research.google.com/notebooks/data_table.ipynb>data table notebook</a>'\n",
              "            + ' to learn more about interactive tables.';\n",
              "          element.innerHTML = '';\n",
              "          dataTable['output_type'] = 'display_data';\n",
              "          await google.colab.output.renderOutput(dataTable, element);\n",
              "          const docLink = document.createElement('div');\n",
              "          docLink.innerHTML = docLinkHtml;\n",
              "          element.appendChild(docLink);\n",
              "        }\n",
              "      </script>\n",
              "    </div>\n",
              "  </div>\n",
              "  "
            ]
          },
          "metadata": {},
          "execution_count": 25
        }
      ]
    },
    {
      "cell_type": "markdown",
      "source": [
        "#### Just like above, the lines of code below appears to be using the groupby function in the pandas library to group a dataframe (df) by the column 'smoking' and then calculating the mean of certain features for each group.\n",
        "\n",
        "#### The groupby function in pandas allows you to group a dataframe by one or more columns and then apply a function to each group. In this case, the dataframe (df) is grouped by the column 'smoking', and the mean of certain features is calculated for each group.\n",
        "\n",
        "### The [features] part of the code specifies which columns or features to include in the calculation.\n",
        "### For example, if features is a list containing the column names ['col1', 'col2'], the mean of 'col1' and 'col2' will\n",
        "### be calculated for each group.\n",
        "\n",
        "### The result of this operation is a new dataframe that contains the mean of the specified features for\n",
        "### each group, with one row for each unique value in the 'smoking' column."
      ],
      "metadata": {
        "id": "4XqPI1MbuBl_"
      },
      "id": "4XqPI1MbuBl_"
    },
    {
      "cell_type": "code",
      "source": [
        "sns.distplot(df['diabetes'], kde=False)\n",
        "plt.show()"
      ],
      "metadata": {
        "colab": {
          "base_uri": "https://localhost:8080/",
          "height": 279
        },
        "id": "xJ-ZIMd-twyL",
        "outputId": "a3f09780-d6e8-4185-a111-e8f7ad9dc77b"
      },
      "id": "xJ-ZIMd-twyL",
      "execution_count": 26,
      "outputs": [
        {
          "output_type": "display_data",
          "data": {
            "text/plain": [
              "<Figure size 432x288 with 1 Axes>"
            ],
            "image/png": "[encoded data removed]"
          },
          "metadata": {
            "needs_background": "light"
          }
        }
      ]
    },
    {
      "cell_type": "markdown",
      "source": [
        "## same for diabetes"
      ],
      "metadata": {
        "id": "d8QO3uAKuuYS"
      },
      "id": "d8QO3uAKuuYS"
    },
    {
      "cell_type": "code",
      "source": [
        "df.groupby('diabetes')[features].mean()"
      ],
      "metadata": {
        "colab": {
          "base_uri": "https://localhost:8080/",
          "height": 207
        },
        "id": "4fgWtv7FtzN6",
        "outputId": "978bb849-64e0-4d8b-8737-591e3a5e93e3"
      },
      "id": "4fgWtv7FtzN6",
      "execution_count": 27,
      "outputs": [
        {
          "output_type": "execute_result",
          "data": {
            "text/plain": [
              "                age   anaemia  creatinine_phosphokinase  diabetes  \\\n",
              "diabetes                                                            \n",
              "0         61.850575  0.436782                589.752874       0.0   \n",
              "1         59.418672  0.424000                570.824000       1.0   \n",
              "\n",
              "          ejection_fraction  high_blood_pressure      platelets  \\\n",
              "diabetes                                                          \n",
              "0                 38.132184             0.356322  255728.324598   \n",
              "1                 38.016000             0.344000  273978.578160   \n",
              "\n",
              "          serum_creatinine  serum_sodium       sex  smoking        time  \\\n",
              "diabetes                                                                  \n",
              "0                  1.43500     136.95977  0.712644  0.37931  128.045977   \n",
              "1                  1.33664     136.16000  0.560000  0.24000  133.344000   \n",
              "\n",
              "          DEATH_EVENT  \n",
              "diabetes               \n",
              "0            0.321839  \n",
              "1            0.320000  "
            ],
            "text/html": [
              "\n",
              "  <div id=\"df-f8492fe5-cab6-422d-88b7-3d4f469b8977\">\n",
              "    <div class=\"colab-df-container\">\n",
              "      <div>\n",
              "<style scoped>\n",
              "    .dataframe tbody tr th:only-of-type {\n",
              "        vertical-align: middle;\n",
              "    }\n",
              "\n",
              "    .dataframe tbody tr th {\n",
              "        vertical-align: top;\n",
              "    }\n",
              "\n",
              "    .dataframe thead th {\n",
              "        text-align: right;\n",
              "    }\n",
              "</style>\n",
              "<table border=\"1\" class=\"dataframe\">\n",
              "  <thead>\n",
              "    <tr style=\"text-align: right;\">\n",
              "      <th></th>\n",
              "      <th>age</th>\n",
              "      <th>anaemia</th>\n",
              "      <th>creatinine_phosphokinase</th>\n",
              "      <th>diabetes</th>\n",
              "      <th>ejection_fraction</th>\n",
              "      <th>high_blood_pressure</th>\n",
              "      <th>platelets</th>\n",
              "      <th>serum_creatinine</th>\n",
              "      <th>serum_sodium</th>\n",
              "      <th>sex</th>\n",
              "      <th>smoking</th>\n",
              "      <th>time</th>\n",
              "      <th>DEATH_EVENT</th>\n",
              "    </tr>\n",
              "    <tr>\n",
              "      <th>diabetes</th>\n",
              "      <th></th>\n",
              "      <th></th>\n",
              "      <th></th>\n",
              "      <th></th>\n",
              "      <th></th>\n",
              "      <th></th>\n",
              "      <th></th>\n",
              "      <th></th>\n",
              "      <th></th>\n",
              "      <th></th>\n",
              "      <th></th>\n",
              "      <th></th>\n",
              "      <th></th>\n",
              "    </tr>\n",
              "  </thead>\n",
              "  <tbody>\n",
              "    <tr>\n",
              "      <th>0</th>\n",
              "      <td>61.850575</td>\n",
              "      <td>0.436782</td>\n",
              "      <td>589.752874</td>\n",
              "      <td>0.0</td>\n",
              "      <td>38.132184</td>\n",
              "      <td>0.356322</td>\n",
              "      <td>255728.324598</td>\n",
              "      <td>1.43500</td>\n",
              "      <td>136.95977</td>\n",
              "      <td>0.712644</td>\n",
              "      <td>0.37931</td>\n",
              "      <td>128.045977</td>\n",
              "      <td>0.321839</td>\n",
              "    </tr>\n",
              "    <tr>\n",
              "      <th>1</th>\n",
              "      <td>59.418672</td>\n",
              "      <td>0.424000</td>\n",
              "      <td>570.824000</td>\n",
              "      <td>1.0</td>\n",
              "      <td>38.016000</td>\n",
              "      <td>0.344000</td>\n",
              "      <td>273978.578160</td>\n",
              "      <td>1.33664</td>\n",
              "      <td>136.16000</td>\n",
              "      <td>0.560000</td>\n",
              "      <td>0.24000</td>\n",
              "      <td>133.344000</td>\n",
              "      <td>0.320000</td>\n",
              "    </tr>\n",
              "  </tbody>\n",
              "</table>\n",
              "</div>\n",
              "      <button class=\"colab-df-convert\" onclick=\"convertToInteractive('df-f8492fe5-cab6-422d-88b7-3d4f469b8977')\"\n",
              "              title=\"Convert this dataframe to an interactive table.\"\n",
              "              style=\"display:none;\">\n",
              "        \n",
              "  <svg xmlns=\"http://www.w3.org/2000/svg\" height=\"24px\"viewBox=\"0 0 24 24\"\n",
              "       width=\"24px\">\n",
              "    <path d=\"M0 0h24v24H0V0z\" fill=\"none\"/>\n",
              "    <path d=\"M18.56 5.44l.94 2.06.94-2.06 2.06-.94-2.06-.94-.94-2.06-.94 2.06-2.06.94zm-11 1L8.5 8.5l.94-2.06 2.06-.94-2.06-.94L8.5 2.5l-.94 2.06-2.06.94zm10 10l.94 2.06.94-2.06 2.06-.94-2.06-.94-.94-2.06-.94 2.06-2.06.94z\"/><path d=\"M17.41 7.96l-1.37-1.37c-.4-.4-.92-.59-1.43-.59-.52 0-1.04.2-1.43.59L10.3 9.45l-7.72 7.72c-.78.78-.78 2.05 0 2.83L4 21.41c.39.39.9.59 1.41.59.51 0 1.02-.2 1.41-.59l7.78-7.78 2.81-2.81c.8-.78.8-2.07 0-2.86zM5.41 20L4 18.59l7.72-7.72 1.47 1.35L5.41 20z\"/>\n",
              "  </svg>\n",
              "      </button>\n",
              "      \n",
              "  <style>\n",
              "    .colab-df-container {\n",
              "      display:flex;\n",
              "      flex-wrap:wrap;\n",
              "      gap: 12px;\n",
              "    }\n",
              "\n",
              "    .colab-df-convert {\n",
              "      background-color: #E8F0FE;\n",
              "      border: none;\n",
              "      border-radius: 50%;\n",
              "      cursor: pointer;\n",
              "      display: none;\n",
              "      fill: #1967D2;\n",
              "      height: 32px;\n",
              "      padding: 0 0 0 0;\n",
              "      width: 32px;\n",
              "    }\n",
              "\n",
              "    .colab-df-convert:hover {\n",
              "      background-color: #E2EBFA;\n",
              "      box-shadow: 0px 1px 2px rgba(60, 64, 67, 0.3), 0px 1px 3px 1px rgba(60, 64, 67, 0.15);\n",
              "      fill: #174EA6;\n",
              "    }\n",
              "\n",
              "    [theme=dark] .colab-df-convert {\n",
              "      background-color: #3B4455;\n",
              "      fill: #D2E3FC;\n",
              "    }\n",
              "\n",
              "    [theme=dark] .colab-df-convert:hover {\n",
              "      background-color: #434B5C;\n",
              "      box-shadow: 0px 1px 3px 1px rgba(0, 0, 0, 0.15);\n",
              "      filter: drop-shadow(0px 1px 2px rgba(0, 0, 0, 0.3));\n",
              "      fill: #FFFFFF;\n",
              "    }\n",
              "  </style>\n",
              "\n",
              "      <script>\n",
              "        const buttonEl =\n",
              "          document.querySelector('#df-f8492fe5-cab6-422d-88b7-3d4f469b8977 button.colab-df-convert');\n",
              "        buttonEl.style.display =\n",
              "          google.colab.kernel.accessAllowed ? 'block' : 'none';\n",
              "\n",
              "        async function convertToInteractive(key) {\n",
              "          const element = document.querySelector('#df-f8492fe5-cab6-422d-88b7-3d4f469b8977');\n",
              "          const dataTable =\n",
              "            await google.colab.kernel.invokeFunction('convertToInteractive',\n",
              "                                                     [key], {});\n",
              "          if (!dataTable) return;\n",
              "\n",
              "          const docLinkHtml = 'Like what you see? Visit the ' +\n",
              "            '<a target=\"_blank\" href=https://colab.research.google.com/notebooks/data_table.ipynb>data table notebook</a>'\n",
              "            + ' to learn more about interactive tables.';\n",
              "          element.innerHTML = '';\n",
              "          dataTable['output_type'] = 'display_data';\n",
              "          await google.colab.output.renderOutput(dataTable, element);\n",
              "          const docLink = document.createElement('div');\n",
              "          docLink.innerHTML = docLinkHtml;\n",
              "          element.appendChild(docLink);\n",
              "        }\n",
              "      </script>\n",
              "    </div>\n",
              "  </div>\n",
              "  "
            ]
          },
          "metadata": {},
          "execution_count": 27
        }
      ]
    },
    {
      "cell_type": "markdown",
      "source": [
        "## The pie chart is intended to visualize the relationship between the presence or \n",
        "### absence of anemia (as indicated by the 'sex' column) and death events (as indicated by the 'DEATH_EVENT' column).\n",
        "\n",
        "### The 'sex' column appears to be used as a proxy for the presence or absence of anemia, with a value \n",
        "### of 1 indicating the presence of anemia and a value of 0 indicating the absence of anemia. The 'DEATH_EVENT' column \n",
        "### is a binary column that indicates whether a death event occurred (value of 1) or did not occur (value of 0).\n",
        "\n",
        "### The pie chart shows the number of rows in each of four categories:\n",
        "\n",
        "### 1. true_anaemia_nodeath: rows in which the value of 'sex' is 1 (indicating the presence of anemia) \n",
        "### and the value of 'DEATH_EVENT' is 0 (indicating no death event occurred)\n",
        "\n",
        "\n",
        "### 2. true_anaemia_death: rows in which the value of 'sex' is 1 \n",
        "###     (indicating the presence of anemia) and the value of 'DEATH_EVENT' is 1 (indicating a death event occurred)\n",
        "### 3. false_anaemia_nodeath: rows in which the value of 'sex' is 0 \n",
        "###     (indicating the absence of anemia) and the value of 'DEATH_EVENT' is 0 (indicating no death event occurred)\n",
        "### 4. false_anaemia_death: rows in which the value of 'sex' is 0\n",
        "###     (indicating the absence of anemia) and the value of 'DEATH_EVENT' is 1\n",
        "###     (indicating a death event occurred)\n",
        "### 5. The pie chart shows the proportion of rows in each of these categories as \n",
        "### a percentage of the total number of rows. It is intended to provide a visual representation of the relationship between anemia and death events.\n"
      ],
      "metadata": {
        "id": "_45SKhTEu3Fd"
      },
      "id": "_45SKhTEu3Fd"
    },
    {
      "cell_type": "code",
      "source": [
        "\n",
        "import seaborn as sns\n",
        "# Create a new dataframe with the counts of rows in each of the four categories\n",
        "df_counts = pd.DataFrame({'Category': ['true_anaemia_nodeath','true_anaemia_death', 'false_anaemia_nodeath', 'false_anaemia_death'], 'Count': values})\n",
        "\n",
        "# Create a bar plot using the 'Category' column as the x axis and the 'Count' column as the y axis\n",
        "sns.barplot(x='Category', y='Count', data=df_counts)\n",
        "\n",
        "# Set the x-axis tick labels to be vertical\n",
        "plt.xticks(rotation=90)\n",
        "\n",
        "# Add space between the bars\n",
        "plt.tight_layout()\n",
        "\n",
        "# Show the plot\n",
        "plt.show()\n"
      ],
      "metadata": {
        "colab": {
          "base_uri": "https://localhost:8080/",
          "height": 256
        },
        "id": "1sre4Wfeu-GV",
        "outputId": "9d6f19d6-792a-44c2-e400-127b960161d2"
      },
      "id": "1sre4Wfeu-GV",
      "execution_count": 32,
      "outputs": [
        {
          "output_type": "error",
          "ename": "NameError",
          "evalue": "ignored",
          "traceback": [
            "\u001b[0;31m---------------------------------------------------------------------------\u001b[0m",
            "\u001b[0;31mNameError\u001b[0m                                 Traceback (most recent call last)",
            "\u001b[0;32m<ipython-input-32-54eb30990aa0>\u001b[0m in \u001b[0;36m<module>\u001b[0;34m\u001b[0m\n\u001b[1;32m      1\u001b[0m \u001b[0;32mimport\u001b[0m \u001b[0mseaborn\u001b[0m \u001b[0;32mas\u001b[0m \u001b[0msns\u001b[0m\u001b[0;34m\u001b[0m\u001b[0;34m\u001b[0m\u001b[0m\n\u001b[1;32m      2\u001b[0m \u001b[0;31m# Create a new dataframe with the counts of rows in each of the four categories\u001b[0m\u001b[0;34m\u001b[0m\u001b[0;34m\u001b[0m\u001b[0;34m\u001b[0m\u001b[0m\n\u001b[0;32m----> 3\u001b[0;31m \u001b[0mdf_counts\u001b[0m \u001b[0;34m=\u001b[0m \u001b[0mpd\u001b[0m\u001b[0;34m.\u001b[0m\u001b[0mDataFrame\u001b[0m\u001b[0;34m(\u001b[0m\u001b[0;34m{\u001b[0m\u001b[0;34m'Category'\u001b[0m\u001b[0;34m:\u001b[0m \u001b[0;34m[\u001b[0m\u001b[0;34m'true_anaemia_nodeath'\u001b[0m\u001b[0;34m,\u001b[0m\u001b[0;34m'true_anaemia_death'\u001b[0m\u001b[0;34m,\u001b[0m \u001b[0;34m'false_anaemia_nodeath'\u001b[0m\u001b[0;34m,\u001b[0m \u001b[0;34m'false_anaemia_death'\u001b[0m\u001b[0;34m]\u001b[0m\u001b[0;34m,\u001b[0m \u001b[0;34m'Count'\u001b[0m\u001b[0;34m:\u001b[0m \u001b[0mvalues\u001b[0m\u001b[0;34m}\u001b[0m\u001b[0;34m)\u001b[0m\u001b[0;34m\u001b[0m\u001b[0;34m\u001b[0m\u001b[0m\n\u001b[0m\u001b[1;32m      4\u001b[0m \u001b[0;34m\u001b[0m\u001b[0m\n\u001b[1;32m      5\u001b[0m \u001b[0;31m# Create a bar plot using the 'Category' column as the x axis and the 'Count' column as the y axis\u001b[0m\u001b[0;34m\u001b[0m\u001b[0;34m\u001b[0m\u001b[0;34m\u001b[0m\u001b[0m\n",
            "\u001b[0;31mNameError\u001b[0m: name 'values' is not defined"
          ]
        }
      ]
    },
    {
      "cell_type": "markdown",
      "source": [
        "## In this case, the 'sex' column is being used as a proxy for smoking status, \n",
        "### and the 'DEATH_EVENT' column is a binary column indicating whether a death event \n",
        "### occurred (value of 1) or did not occur (value of 0).\n",
        "\n",
        "### The bar plot shows the distribution of rows in each of these categories,\n",
        "### but it does not directly show the correlation between smoking status and death events.\n",
        "### To measure the correlation between these variables, you would need to use a different \n",
        "### statistical analysis method, \n",
        "### such as a scatter plot, Pearson's correlation coefficient, or a linear regression model.\n",
        "\n",
        "#### First, smoking damages the blood vessels and can lead to the development of atherosclerosis, which is a condition in which the arteries become narrowed\n",
        "### and clogged with plaque. This can make it more difficult for blood to flow to the heart and can eventually lead to heart failure.\n",
        "\n",
        "### Second, smoking damages the lining of the blood vessels and can cause inflammation, which can contribute to the development of heart failure.\n",
        "\n",
        "### Finally, smoking can increase the risk of developing other conditions that can lead to heart failure, such as high blood pressure, diabetes, and obesity.\n",
        "\n",
        "### The graph provided shows the relationship between smoking and the risk of developing heart failure over time. As you can see,\n",
        "### the risk of developing heart failure increases with age, and the risk is much higher for smokers than it is for non-smokers.\n",
        "### This illustrates the strong connection between smoking and heart failure, and underscores the importance of quitting smoking to\n",
        "### reduce the risk of developing this serious condition"
      ],
      "metadata": {
        "id": "_pHq1VxzvG6t"
      },
      "id": "_pHq1VxzvG6t"
    },
    {
      "cell_type": "code",
      "source": [
        "true_smoking = df[df[\"sex\"]==1]\n",
        "false_smoking = df[df[\"sex\"]==0]\n",
        "\n",
        "true_smoking_nodeath = true_smoking[df[\"DEATH_EVENT\"]==0]\n",
        "true_smoking_death = true_smoking[df[\"DEATH_EVENT\"]==1]\n",
        "false_smoking_nodeath = false_smoking[df[\"DEATH_EVENT\"]==0]\n",
        "false_smoking_death = false_smoking[df[\"DEATH_EVENT\"]==1]\n",
        "\n",
        "labels = ['true_smoking_nodeath','true_smoking_death', 'false_smoking_nodeath', 'false_smoking_death']\n",
        "values = [len(true_smoking[df[\"DEATH_EVENT\"]==0]),len(true_smoking[df[\"DEATH_EVENT\"]==1]),\n",
        "         len(false_smoking[df[\"DEATH_EVENT\"]==0]),len(false_smoking[df[\"DEATH_EVENT\"]==1])]\n",
        "fig = go.Figure(data=[go.Pie(labels=labels, values=values, hole=.4)])\n",
        "fig.update_layout(\n",
        "    title_text=\"smoking analysis\")\n",
        "fig.show()"
      ],
      "metadata": {
        "colab": {
          "base_uri": "https://localhost:8080/",
          "height": 542
        },
        "id": "NG0sIymU4Orc",
        "outputId": "c7bfb191-be9f-4cf2-e0de-b6d5f1687c8b"
      },
      "id": "NG0sIymU4Orc",
      "execution_count": 45,
      "outputs": [
        {
          "output_type": "display_data",
          "data": {
            "text/html": [
              "<html>\n",
              "<head><meta charset=\"utf-8\" /></head>\n",
              "<body>\n",
              "    <div>            <script src=\"https://cdnjs.cloudflare.com/ajax/libs/mathjax/2.7.5/MathJax.js?config=TeX-AMS-MML_SVG\"></script><script type=\"text/javascript\">if (window.MathJax) {MathJax.Hub.Config({SVG: {font: \"STIX-Web\"}});}</script>                <script type=\"text/javascript\">window.PlotlyConfig = {MathJaxConfig: 'local'};</script>\n",
              "        <script src=\"https://cdn.plot.ly/plotly-2.8.3.min.js\"></script>                <div id=\"5aca45ae-eab7-48ea-8f51-c5aca69d9c92\" class=\"plotly-graph-div\" style=\"height:525px; width:100%;\"></div>            <script type=\"text/javascript\">                                    window.PLOTLYENV=window.PLOTLYENV || {};                                    if (document.getElementById(\"5aca45ae-eab7-48ea-8f51-c5aca69d9c92\")) {                    Plotly.newPlot(                        \"5aca45ae-eab7-48ea-8f51-c5aca69d9c92\",                        [{\"hole\":0.4,\"labels\":[\"true_smoking_nodeath\",\"true_smoking_death\",\"false_smoking_nodeath\",\"false_smoking_death\"],\"values\":[132,62,71,34],\"type\":\"pie\"}],                        {\"template\":{\"data\":{\"bar\":[{\"error_x\":{\"color\":\"#2a3f5f\"},\"error_y\":{\"color\":\"#2a3f5f\"},\"marker\":{\"line\":{\"color\":\"#E5ECF6\",\"width\":0.5},\"pattern\":{\"fillmode\":\"overlay\",\"size\":10,\"solidity\":0.2}},\"type\":\"bar\"}],\"barpolar\":[{\"marker\":{\"line\":{\"color\":\"#E5ECF6\",\"width\":0.5},\"pattern\":{\"fillmode\":\"overlay\",\"size\":10,\"solidity\":0.2}},\"type\":\"barpolar\"}],\"carpet\":[{\"aaxis\":{\"endlinecolor\":\"#2a3f5f\",\"gridcolor\":\"white\",\"linecolor\":\"white\",\"minorgridcolor\":\"white\",\"startlinecolor\":\"#2a3f5f\"},\"baxis\":{\"endlinecolor\":\"#2a3f5f\",\"gridcolor\":\"white\",\"linecolor\":\"white\",\"minorgridcolor\":\"white\",\"startlinecolor\":\"#2a3f5f\"},\"type\":\"carpet\"}],\"choropleth\":[{\"colorbar\":{\"outlinewidth\":0,\"ticks\":\"\"},\"type\":\"choropleth\"}],\"contour\":[{\"colorbar\":{\"outlinewidth\":0,\"ticks\":\"\"},\"colorscale\":[[0.0,\"#0d0887\"],[0.1111111111111111,\"#46039f\"],[0.2222222222222222,\"#7201a8\"],[0.3333333333333333,\"#9c179e\"],[0.4444444444444444,\"#bd3786\"],[0.5555555555555556,\"#d8576b\"],[0.6666666666666666,\"#ed7953\"],[0.7777777777777778,\"#fb9f3a\"],[0.8888888888888888,\"#fdca26\"],[1.0,\"#f0f921\"]],\"type\":\"contour\"}],\"contourcarpet\":[{\"colorbar\":{\"outlinewidth\":0,\"ticks\":\"\"},\"type\":\"contourcarpet\"}],\"heatmap\":[{\"colorbar\":{\"outlinewidth\":0,\"ticks\":\"\"},\"colorscale\":[[0.0,\"#0d0887\"],[0.1111111111111111,\"#46039f\"],[0.2222222222222222,\"#7201a8\"],[0.3333333333333333,\"#9c179e\"],[0.4444444444444444,\"#bd3786\"],[0.5555555555555556,\"#d8576b\"],[0.6666666666666666,\"#ed7953\"],[0.7777777777777778,\"#fb9f3a\"],[0.8888888888888888,\"#fdca26\"],[1.0,\"#f0f921\"]],\"type\":\"heatmap\"}],\"heatmapgl\":[{\"colorbar\":{\"outlinewidth\":0,\"ticks\":\"\"},\"colorscale\":[[0.0,\"#0d0887\"],[0.1111111111111111,\"#46039f\"],[0.2222222222222222,\"#7201a8\"],[0.3333333333333333,\"#9c179e\"],[0.4444444444444444,\"#bd3786\"],[0.5555555555555556,\"#d8576b\"],[0.6666666666666666,\"#ed7953\"],[0.7777777777777778,\"#fb9f3a\"],[0.8888888888888888,\"#fdca26\"],[1.0,\"#f0f921\"]],\"type\":\"heatmapgl\"}],\"histogram\":[{\"marker\":{\"pattern\":{\"fillmode\":\"overlay\",\"size\":10,\"solidity\":0.2}},\"type\":\"histogram\"}],\"histogram2d\":[{\"colorbar\":{\"outlinewidth\":0,\"ticks\":\"\"},\"colorscale\":[[0.0,\"#0d0887\"],[0.1111111111111111,\"#46039f\"],[0.2222222222222222,\"#7201a8\"],[0.3333333333333333,\"#9c179e\"],[0.4444444444444444,\"#bd3786\"],[0.5555555555555556,\"#d8576b\"],[0.6666666666666666,\"#ed7953\"],[0.7777777777777778,\"#fb9f3a\"],[0.8888888888888888,\"#fdca26\"],[1.0,\"#f0f921\"]],\"type\":\"histogram2d\"}],\"histogram2dcontour\":[{\"colorbar\":{\"outlinewidth\":0,\"ticks\":\"\"},\"colorscale\":[[0.0,\"#0d0887\"],[0.1111111111111111,\"#46039f\"],[0.2222222222222222,\"#7201a8\"],[0.3333333333333333,\"#9c179e\"],[0.4444444444444444,\"#bd3786\"],[0.5555555555555556,\"#d8576b\"],[0.6666666666666666,\"#ed7953\"],[0.7777777777777778,\"#fb9f3a\"],[0.8888888888888888,\"#fdca26\"],[1.0,\"#f0f921\"]],\"type\":\"histogram2dcontour\"}],\"mesh3d\":[{\"colorbar\":{\"outlinewidth\":0,\"ticks\":\"\"},\"type\":\"mesh3d\"}],\"parcoords\":[{\"line\":{\"colorbar\":{\"outlinewidth\":0,\"ticks\":\"\"}},\"type\":\"parcoords\"}],\"pie\":[{\"automargin\":true,\"type\":\"pie\"}],\"scatter\":[{\"marker\":{\"colorbar\":{\"outlinewidth\":0,\"ticks\":\"\"}},\"type\":\"scatter\"}],\"scatter3d\":[{\"line\":{\"colorbar\":{\"outlinewidth\":0,\"ticks\":\"\"}},\"marker\":{\"colorbar\":{\"outlinewidth\":0,\"ticks\":\"\"}},\"type\":\"scatter3d\"}],\"scattercarpet\":[{\"marker\":{\"colorbar\":{\"outlinewidth\":0,\"ticks\":\"\"}},\"type\":\"scattercarpet\"}],\"scattergeo\":[{\"marker\":{\"colorbar\":{\"outlinewidth\":0,\"ticks\":\"\"}},\"type\":\"scattergeo\"}],\"scattergl\":[{\"marker\":{\"colorbar\":{\"outlinewidth\":0,\"ticks\":\"\"}},\"type\":\"scattergl\"}],\"scattermapbox\":[{\"marker\":{\"colorbar\":{\"outlinewidth\":0,\"ticks\":\"\"}},\"type\":\"scattermapbox\"}],\"scatterpolar\":[{\"marker\":{\"colorbar\":{\"outlinewidth\":0,\"ticks\":\"\"}},\"type\":\"scatterpolar\"}],\"scatterpolargl\":[{\"marker\":{\"colorbar\":{\"outlinewidth\":0,\"ticks\":\"\"}},\"type\":\"scatterpolargl\"}],\"scatterternary\":[{\"marker\":{\"colorbar\":{\"outlinewidth\":0,\"ticks\":\"\"}},\"type\":\"scatterternary\"}],\"surface\":[{\"colorbar\":{\"outlinewidth\":0,\"ticks\":\"\"},\"colorscale\":[[0.0,\"#0d0887\"],[0.1111111111111111,\"#46039f\"],[0.2222222222222222,\"#7201a8\"],[0.3333333333333333,\"#9c179e\"],[0.4444444444444444,\"#bd3786\"],[0.5555555555555556,\"#d8576b\"],[0.6666666666666666,\"#ed7953\"],[0.7777777777777778,\"#fb9f3a\"],[0.8888888888888888,\"#fdca26\"],[1.0,\"#f0f921\"]],\"type\":\"surface\"}],\"table\":[{\"cells\":{\"fill\":{\"color\":\"#EBF0F8\"},\"line\":{\"color\":\"white\"}},\"header\":{\"fill\":{\"color\":\"#C8D4E3\"},\"line\":{\"color\":\"white\"}},\"type\":\"table\"}]},\"layout\":{\"annotationdefaults\":{\"arrowcolor\":\"#2a3f5f\",\"arrowhead\":0,\"arrowwidth\":1},\"autotypenumbers\":\"strict\",\"coloraxis\":{\"colorbar\":{\"outlinewidth\":0,\"ticks\":\"\"}},\"colorscale\":{\"diverging\":[[0,\"#8e0152\"],[0.1,\"#c51b7d\"],[0.2,\"#de77ae\"],[0.3,\"#f1b6da\"],[0.4,\"#fde0ef\"],[0.5,\"#f7f7f7\"],[0.6,\"#e6f5d0\"],[0.7,\"#b8e186\"],[0.8,\"#7fbc41\"],[0.9,\"#4d9221\"],[1,\"#276419\"]],\"sequential\":[[0.0,\"#0d0887\"],[0.1111111111111111,\"#46039f\"],[0.2222222222222222,\"#7201a8\"],[0.3333333333333333,\"#9c179e\"],[0.4444444444444444,\"#bd3786\"],[0.5555555555555556,\"#d8576b\"],[0.6666666666666666,\"#ed7953\"],[0.7777777777777778,\"#fb9f3a\"],[0.8888888888888888,\"#fdca26\"],[1.0,\"#f0f921\"]],\"sequentialminus\":[[0.0,\"#0d0887\"],[0.1111111111111111,\"#46039f\"],[0.2222222222222222,\"#7201a8\"],[0.3333333333333333,\"#9c179e\"],[0.4444444444444444,\"#bd3786\"],[0.5555555555555556,\"#d8576b\"],[0.6666666666666666,\"#ed7953\"],[0.7777777777777778,\"#fb9f3a\"],[0.8888888888888888,\"#fdca26\"],[1.0,\"#f0f921\"]]},\"colorway\":[\"#636efa\",\"#EF553B\",\"#00cc96\",\"#ab63fa\",\"#FFA15A\",\"#19d3f3\",\"#FF6692\",\"#B6E880\",\"#FF97FF\",\"#FECB52\"],\"font\":{\"color\":\"#2a3f5f\"},\"geo\":{\"bgcolor\":\"white\",\"lakecolor\":\"white\",\"landcolor\":\"#E5ECF6\",\"showlakes\":true,\"showland\":true,\"subunitcolor\":\"white\"},\"hoverlabel\":{\"align\":\"left\"},\"hovermode\":\"closest\",\"mapbox\":{\"style\":\"light\"},\"paper_bgcolor\":\"white\",\"plot_bgcolor\":\"#E5ECF6\",\"polar\":{\"angularaxis\":{\"gridcolor\":\"white\",\"linecolor\":\"white\",\"ticks\":\"\"},\"bgcolor\":\"#E5ECF6\",\"radialaxis\":{\"gridcolor\":\"white\",\"linecolor\":\"white\",\"ticks\":\"\"}},\"scene\":{\"xaxis\":{\"backgroundcolor\":\"#E5ECF6\",\"gridcolor\":\"white\",\"gridwidth\":2,\"linecolor\":\"white\",\"showbackground\":true,\"ticks\":\"\",\"zerolinecolor\":\"white\"},\"yaxis\":{\"backgroundcolor\":\"#E5ECF6\",\"gridcolor\":\"white\",\"gridwidth\":2,\"linecolor\":\"white\",\"showbackground\":true,\"ticks\":\"\",\"zerolinecolor\":\"white\"},\"zaxis\":{\"backgroundcolor\":\"#E5ECF6\",\"gridcolor\":\"white\",\"gridwidth\":2,\"linecolor\":\"white\",\"showbackground\":true,\"ticks\":\"\",\"zerolinecolor\":\"white\"}},\"shapedefaults\":{\"line\":{\"color\":\"#2a3f5f\"}},\"ternary\":{\"aaxis\":{\"gridcolor\":\"white\",\"linecolor\":\"white\",\"ticks\":\"\"},\"baxis\":{\"gridcolor\":\"white\",\"linecolor\":\"white\",\"ticks\":\"\"},\"bgcolor\":\"#E5ECF6\",\"caxis\":{\"gridcolor\":\"white\",\"linecolor\":\"white\",\"ticks\":\"\"}},\"title\":{\"x\":0.05},\"xaxis\":{\"automargin\":true,\"gridcolor\":\"white\",\"linecolor\":\"white\",\"ticks\":\"\",\"title\":{\"standoff\":15},\"zerolinecolor\":\"white\",\"zerolinewidth\":2},\"yaxis\":{\"automargin\":true,\"gridcolor\":\"white\",\"linecolor\":\"white\",\"ticks\":\"\",\"title\":{\"standoff\":15},\"zerolinecolor\":\"white\",\"zerolinewidth\":2}}},\"title\":{\"text\":\"smoking analysis\"}},                        {\"responsive\": true}                    ).then(function(){\n",
              "                            \n",
              "var gd = document.getElementById('5aca45ae-eab7-48ea-8f51-c5aca69d9c92');\n",
              "var x = new MutationObserver(function (mutations, observer) {{\n",
              "        var display = window.getComputedStyle(gd).display;\n",
              "        if (!display || display === 'none') {{\n",
              "            console.log([gd, 'removed!']);\n",
              "            Plotly.purge(gd);\n",
              "            observer.disconnect();\n",
              "        }}\n",
              "}});\n",
              "\n",
              "// Listen for the removal of the full notebook cells\n",
              "var notebookContainer = gd.closest('#notebook-container');\n",
              "if (notebookContainer) {{\n",
              "    x.observe(notebookContainer, {childList: true});\n",
              "}}\n",
              "\n",
              "// Listen for the clearing of the current output cell\n",
              "var outputEl = gd.closest('.output');\n",
              "if (outputEl) {{\n",
              "    x.observe(outputEl, {childList: true});\n",
              "}}\n",
              "\n",
              "                        })                };                            </script>        </div>\n",
              "</body>\n",
              "</html>"
            ]
          },
          "metadata": {}
        }
      ]
    },
    {
      "cell_type": "code",
      "source": [
        "\n",
        "import seaborn as sns\n",
        "# Create a new dataframe with the counts and percentages of rows in each of the four categories\n",
        "df_counts = pd.DataFrame({'Category': ['true_smoking_nodeath','true_smoking_death', 'false_smoking_nodeath', 'false_smoking_death'], 'Count': values })\n",
        "df_counts['Percentage'] = df_counts['Count'] / df_counts['Count'].sum()\n",
        "\n",
        "# Create a bar plot using the 'Category' column as the x axis and the 'Percentage' column as the y axis\n",
        "sns.barplot(x='Category', y='Percentage', data=df_counts)\n",
        "\n",
        "# Set the x-axis tick labels to be vertical\n",
        "plt.xticks(rotation=90)\n",
        "\n",
        "# Add space between the bars\n",
        "plt.tight_layout()\n",
        "\n",
        "# Show the plot\n",
        "plt.show()\n"
      ],
      "metadata": {
        "id": "-Uase7emvKXb",
        "outputId": "7f1f4881-24fd-458a-eb70-9f4ee0b4ac8b",
        "colab": {
          "base_uri": "https://localhost:8080/",
          "height": 297
        }
      },
      "id": "-Uase7emvKXb",
      "execution_count": 46,
      "outputs": [
        {
          "output_type": "display_data",
          "data": {
            "text/plain": [
              "<Figure size 432x288 with 1 Axes>"
            ],
            "image/png": "[encoded data removed]"
          },
          "metadata": {
            "needs_background": "light"
          }
        }
      ]
    },
    {
      "cell_type": "code",
      "source": [
        "df.time.mean(),df.time.std()"
      ],
      "metadata": {
        "colab": {
          "base_uri": "https://localhost:8080/"
        },
        "id": "mYdECpPyvhzq",
        "outputId": "e003b595-549a-4eac-f92e-9233f5347541"
      },
      "id": "mYdECpPyvhzq",
      "execution_count": 47,
      "outputs": [
        {
          "output_type": "execute_result",
          "data": {
            "text/plain": [
              "(130.2608695652174, 77.61420795029339)"
            ]
          },
          "metadata": {},
          "execution_count": 47
        }
      ]
    },
    {
      "cell_type": "code",
      "source": [
        "upperlimit =df.time.mean()+df.time.std()\n",
        "lowerlimit =df.time.mean()-df.time.std()"
      ],
      "metadata": {
        "id": "y5ElfrMovlB4"
      },
      "id": "y5ElfrMovlB4",
      "execution_count": 48,
      "outputs": []
    },
    {
      "cell_type": "code",
      "source": [
        "df.columns"
      ],
      "metadata": {
        "colab": {
          "base_uri": "https://localhost:8080/"
        },
        "id": "8hoCCNP1vozV",
        "outputId": "b67a6370-dc1c-4fb9-da53-18c4e8de58be"
      },
      "id": "8hoCCNP1vozV",
      "execution_count": 49,
      "outputs": [
        {
          "output_type": "execute_result",
          "data": {
            "text/plain": [
              "Index(['age', 'anaemia', 'creatinine_phosphokinase', 'diabetes',\n",
              "       'ejection_fraction', 'high_blood_pressure', 'platelets',\n",
              "       'serum_creatinine', 'serum_sodium', 'sex', 'smoking', 'time',\n",
              "       'DEATH_EVENT'],\n",
              "      dtype='object')"
            ]
          },
          "metadata": {},
          "execution_count": 49
        }
      ]
    },
    {
      "cell_type": "code",
      "source": [
        "cols_to_scale = ['age',  'creatinine_phosphokinase', \n",
        "       'ejection_fraction', 'platelets',\n",
        "       'serum_creatinine', 'serum_sodium', 'time']\n",
        "from sklearn.preprocessing import MinMaxScaler\n",
        "scaler = MinMaxScaler()\n",
        "df[cols_to_scale] = scaler.fit_transform(df[cols_to_scale])"
      ],
      "metadata": {
        "id": "lrkysYyavrbA"
      },
      "id": "lrkysYyavrbA",
      "execution_count": 50,
      "outputs": []
    },
    {
      "cell_type": "code",
      "source": [
        "X=df.drop(['DEATH_EVENT'],axis='columns')\n",
        "y=df['DEATH_EVENT']"
      ],
      "metadata": {
        "id": "P9H6x2hqvuds"
      },
      "id": "P9H6x2hqvuds",
      "execution_count": 51,
      "outputs": []
    },
    {
      "cell_type": "code",
      "source": [
        "from imblearn.over_sampling import SMOTE\n",
        "smote = SMOTE(sampling_strategy='auto')\n",
        "X_sm, y_sm = smote.fit_resample(X, y)\n",
        "\n",
        "y_sm.value_counts()"
      ],
      "metadata": {
        "colab": {
          "base_uri": "https://localhost:8080/"
        },
        "id": "9RrphmPXv49p",
        "outputId": "b337410e-54e9-49ea-fc2f-408bd7411af2"
      },
      "id": "9RrphmPXv49p",
      "execution_count": 52,
      "outputs": [
        {
          "output_type": "execute_result",
          "data": {
            "text/plain": [
              "1    203\n",
              "0    203\n",
              "Name: DEATH_EVENT, dtype: int64"
            ]
          },
          "metadata": {},
          "execution_count": 52
        }
      ]
    },
    {
      "cell_type": "code",
      "source": [
        "from sklearn.model_selection import train_test_split\n",
        "X_train, X_test, y_train, y_test = train_test_split(X_sm, y_sm,test_size=0.2,random_state=5)"
      ],
      "metadata": {
        "id": "2jAovtz_v-4y"
      },
      "id": "2jAovtz_v-4y",
      "execution_count": 53,
      "outputs": []
    },
    {
      "cell_type": "code",
      "execution_count": 53,
      "id": "5ee2d58a",
      "metadata": {
        "execution": {
          "iopub.execute_input": "2022-12-04T11:40:40.351312Z",
          "iopub.status.busy": "2022-12-04T11:40:40.350811Z",
          "iopub.status.idle": "2022-12-04T11:40:40.377862Z",
          "shell.execute_reply": "2022-12-04T11:40:40.376405Z"
        },
        "papermill": {
          "duration": 0.046771,
          "end_time": "2022-12-04T11:40:40.380646",
          "exception": false,
          "start_time": "2022-12-04T11:40:40.333875",
          "status": "completed"
        },
        "tags": [],
        "id": "5ee2d58a"
      },
      "outputs": [],
      "source": []
    },
    {
      "cell_type": "code",
      "execution_count": 54,
      "id": "d9de1655",
      "metadata": {
        "execution": {
          "iopub.execute_input": "2022-12-04T11:40:40.412564Z",
          "iopub.status.busy": "2022-12-04T11:40:40.412066Z",
          "iopub.status.idle": "2022-12-04T11:40:40.421910Z",
          "shell.execute_reply": "2022-12-04T11:40:40.420466Z"
        },
        "papermill": {
          "duration": 0.02867,
          "end_time": "2022-12-04T11:40:40.424425",
          "exception": false,
          "start_time": "2022-12-04T11:40:40.395755",
          "status": "completed"
        },
        "tags": [],
        "colab": {
          "base_uri": "https://localhost:8080/"
        },
        "id": "d9de1655",
        "outputId": "ad5456d4-a270-4d4e-945e-8c59dc100791"
      },
      "outputs": [
        {
          "output_type": "execute_result",
          "data": {
            "text/plain": [
              "(0.4493269379545103, 0.2762071457305815)"
            ]
          },
          "metadata": {},
          "execution_count": 54
        }
      ],
      "source": [
        "df.time.mean(),df.time.std()"
      ]
    },
    {
      "cell_type": "code",
      "execution_count": 55,
      "id": "2ef0fefd",
      "metadata": {
        "execution": {
          "iopub.execute_input": "2022-12-04T11:40:40.456615Z",
          "iopub.status.busy": "2022-12-04T11:40:40.456166Z",
          "iopub.status.idle": "2022-12-04T11:40:40.463066Z",
          "shell.execute_reply": "2022-12-04T11:40:40.461769Z"
        },
        "papermill": {
          "duration": 0.025929,
          "end_time": "2022-12-04T11:40:40.465538",
          "exception": false,
          "start_time": "2022-12-04T11:40:40.439609",
          "status": "completed"
        },
        "tags": [],
        "id": "2ef0fefd"
      },
      "outputs": [],
      "source": [
        "upperlimit =df.time.mean()+df.time.std()\n",
        "lowerlimit =df.time.mean()-df.time.std()"
      ]
    },
    {
      "cell_type": "code",
      "execution_count": 56,
      "id": "a88d7c56",
      "metadata": {
        "execution": {
          "iopub.execute_input": "2022-12-04T11:40:40.499728Z",
          "iopub.status.busy": "2022-12-04T11:40:40.499309Z",
          "iopub.status.idle": "2022-12-04T11:40:40.507312Z",
          "shell.execute_reply": "2022-12-04T11:40:40.505943Z"
        },
        "papermill": {
          "duration": 0.028139,
          "end_time": "2022-12-04T11:40:40.509784",
          "exception": false,
          "start_time": "2022-12-04T11:40:40.481645",
          "status": "completed"
        },
        "tags": [],
        "colab": {
          "base_uri": "https://localhost:8080/"
        },
        "id": "a88d7c56",
        "outputId": "39049ad0-6668-4184-ec73-a78679d65d20"
      },
      "outputs": [
        {
          "output_type": "execute_result",
          "data": {
            "text/plain": [
              "Index(['age', 'anaemia', 'creatinine_phosphokinase', 'diabetes',\n",
              "       'ejection_fraction', 'high_blood_pressure', 'platelets',\n",
              "       'serum_creatinine', 'serum_sodium', 'sex', 'smoking', 'time',\n",
              "       'DEATH_EVENT'],\n",
              "      dtype='object')"
            ]
          },
          "metadata": {},
          "execution_count": 56
        }
      ],
      "source": [
        "df.columns"
      ]
    },
    {
      "cell_type": "code",
      "execution_count": 57,
      "id": "e10e53a5",
      "metadata": {
        "execution": {
          "iopub.execute_input": "2022-12-04T11:40:40.542892Z",
          "iopub.status.busy": "2022-12-04T11:40:40.542383Z",
          "iopub.status.idle": "2022-12-04T11:40:40.721488Z",
          "shell.execute_reply": "2022-12-04T11:40:40.719991Z"
        },
        "papermill": {
          "duration": 0.200028,
          "end_time": "2022-12-04T11:40:40.725416",
          "exception": false,
          "start_time": "2022-12-04T11:40:40.525388",
          "status": "completed"
        },
        "tags": [],
        "id": "e10e53a5"
      },
      "outputs": [],
      "source": [
        "cols_to_scale = ['age',  'creatinine_phosphokinase', \n",
        "       'ejection_fraction', 'platelets',\n",
        "       'serum_creatinine', 'serum_sodium', 'time']\n",
        "from sklearn.preprocessing import MinMaxScaler\n",
        "scaler = MinMaxScaler()\n",
        "df[cols_to_scale] = scaler.fit_transform(df[cols_to_scale])"
      ]
    },
    {
      "cell_type": "code",
      "execution_count": 58,
      "id": "57c758a0",
      "metadata": {
        "execution": {
          "iopub.execute_input": "2022-12-04T11:40:40.765924Z",
          "iopub.status.busy": "2022-12-04T11:40:40.765426Z",
          "iopub.status.idle": "2022-12-04T11:40:40.773604Z",
          "shell.execute_reply": "2022-12-04T11:40:40.772448Z"
        },
        "papermill": {
          "duration": 0.030239,
          "end_time": "2022-12-04T11:40:40.776815",
          "exception": false,
          "start_time": "2022-12-04T11:40:40.746576",
          "status": "completed"
        },
        "tags": [],
        "id": "57c758a0"
      },
      "outputs": [],
      "source": [
        "X=df.drop(['DEATH_EVENT'],axis='columns')\n",
        "y=df['DEATH_EVENT']"
      ]
    },
    {
      "cell_type": "code",
      "execution_count": 59,
      "id": "b175f344",
      "metadata": {
        "execution": {
          "iopub.execute_input": "2022-12-04T11:40:40.813611Z",
          "iopub.status.busy": "2022-12-04T11:40:40.811761Z",
          "iopub.status.idle": "2022-12-04T11:40:40.819616Z",
          "shell.execute_reply": "2022-12-04T11:40:40.818647Z"
        },
        "papermill": {
          "duration": 0.030518,
          "end_time": "2022-12-04T11:40:40.824909",
          "exception": false,
          "start_time": "2022-12-04T11:40:40.794391",
          "status": "completed"
        },
        "tags": [],
        "colab": {
          "base_uri": "https://localhost:8080/"
        },
        "id": "b175f344",
        "outputId": "4e3948c8-5d46-48bd-a291-8375d3bad7ad"
      },
      "outputs": [
        {
          "output_type": "execute_result",
          "data": {
            "text/plain": [
              "(299, 12)"
            ]
          },
          "metadata": {},
          "execution_count": 59
        }
      ],
      "source": [
        "X.shape"
      ]
    },
    {
      "cell_type": "code",
      "execution_count": 60,
      "id": "cb27fd18",
      "metadata": {
        "execution": {
          "iopub.execute_input": "2022-12-04T11:40:40.863091Z",
          "iopub.status.busy": "2022-12-04T11:40:40.862091Z",
          "iopub.status.idle": "2022-12-04T11:40:40.869726Z",
          "shell.execute_reply": "2022-12-04T11:40:40.868618Z"
        },
        "papermill": {
          "duration": 0.027797,
          "end_time": "2022-12-04T11:40:40.872286",
          "exception": false,
          "start_time": "2022-12-04T11:40:40.844489",
          "status": "completed"
        },
        "tags": [],
        "colab": {
          "base_uri": "https://localhost:8080/"
        },
        "id": "cb27fd18",
        "outputId": "1df02bc3-12e7-4df1-e7ea-326fe1d989b6"
      },
      "outputs": [
        {
          "output_type": "execute_result",
          "data": {
            "text/plain": [
              "(299,)"
            ]
          },
          "metadata": {},
          "execution_count": 60
        }
      ],
      "source": [
        "y.shape"
      ]
    },
    {
      "cell_type": "code",
      "execution_count": 61,
      "id": "5b2bf86f",
      "metadata": {
        "execution": {
          "iopub.execute_input": "2022-12-04T11:40:40.909558Z",
          "iopub.status.busy": "2022-12-04T11:40:40.908538Z",
          "iopub.status.idle": "2022-12-04T11:40:41.397486Z",
          "shell.execute_reply": "2022-12-04T11:40:41.396459Z"
        },
        "papermill": {
          "duration": 0.510809,
          "end_time": "2022-12-04T11:40:41.400362",
          "exception": false,
          "start_time": "2022-12-04T11:40:40.889553",
          "status": "completed"
        },
        "tags": [],
        "colab": {
          "base_uri": "https://localhost:8080/"
        },
        "id": "5b2bf86f",
        "outputId": "342b2ffc-d6ac-4b9d-ea19-9ff110a3564a"
      },
      "outputs": [
        {
          "output_type": "execute_result",
          "data": {
            "text/plain": [
              "1    203\n",
              "0    203\n",
              "Name: DEATH_EVENT, dtype: int64"
            ]
          },
          "metadata": {},
          "execution_count": 61
        }
      ],
      "source": [
        "from imblearn.over_sampling import SMOTE\n",
        "smote = SMOTE(sampling_strategy='minority')\n",
        "X_sm, y_sm = smote.fit_resample(X, y)\n",
        "\n",
        "y_sm.value_counts()"
      ]
    },
    {
      "cell_type": "code",
      "execution_count": 62,
      "id": "90d0ae7d",
      "metadata": {
        "execution": {
          "iopub.execute_input": "2022-12-04T11:40:41.435522Z",
          "iopub.status.busy": "2022-12-04T11:40:41.434687Z",
          "iopub.status.idle": "2022-12-04T11:40:41.443073Z",
          "shell.execute_reply": "2022-12-04T11:40:41.441977Z"
        },
        "papermill": {
          "duration": 0.029057,
          "end_time": "2022-12-04T11:40:41.445876",
          "exception": false,
          "start_time": "2022-12-04T11:40:41.416819",
          "status": "completed"
        },
        "tags": [],
        "id": "90d0ae7d"
      },
      "outputs": [],
      "source": [
        "from sklearn.model_selection import train_test_split\n",
        "X_train, X_test, y_train, y_test = train_test_split(X_sm, y_sm,test_size=0.2,random_state=5)"
      ]
    },
    {
      "cell_type": "markdown",
      "id": "d49a72b5",
      "metadata": {
        "papermill": {
          "duration": 0.015543,
          "end_time": "2022-12-04T11:40:41.477539",
          "exception": false,
          "start_time": "2022-12-04T11:40:41.461996",
          "status": "completed"
        },
        "tags": [],
        "id": "d49a72b5"
      },
      "source": [
        "# Machine learing analysis"
      ]
    },
    {
      "cell_type": "code",
      "execution_count": 63,
      "id": "0166e4e9",
      "metadata": {
        "execution": {
          "iopub.execute_input": "2022-12-04T11:40:41.512480Z",
          "iopub.status.busy": "2022-12-04T11:40:41.511587Z",
          "iopub.status.idle": "2022-12-04T11:40:41.638175Z",
          "shell.execute_reply": "2022-12-04T11:40:41.636845Z"
        },
        "papermill": {
          "duration": 0.147285,
          "end_time": "2022-12-04T11:40:41.641419",
          "exception": false,
          "start_time": "2022-12-04T11:40:41.494134",
          "status": "completed"
        },
        "tags": [],
        "id": "0166e4e9"
      },
      "outputs": [],
      "source": [
        "from sklearn.model_selection import ShuffleSplit\n",
        "from sklearn.ensemble import RandomForestClassifier\n",
        "from sklearn.tree import DecisionTreeClassifier\n",
        "from sklearn.metrics import classification_report\n",
        "from sklearn.linear_model import LogisticRegression\n",
        "from xgboost import XGBClassifier\n",
        "from sklearn import svm\n",
        "from sklearn.naive_bayes import GaussianNB\n",
        "from sklearn.naive_bayes import MultinomialNB\n",
        "\n",
        "\n",
        "model_params = {\n",
        "             \n",
        "    \n",
        "    'random_forest': {\n",
        "        'model': RandomForestClassifier(),\n",
        "        'params' : {\n",
        "            'n_estimators': [1,5,10]\n",
        "        }\n",
        "    },\n",
        "    'logistic_regression' : {\n",
        "        'model': LogisticRegression(solver='liblinear',multi_class='auto'),\n",
        "        'params': {\n",
        "            'C': [1,5,10]\n",
        "        }\n",
        "    },\n",
        "    'svm': {\n",
        "        'model': svm.SVC(gamma='auto'),\n",
        "        'params' : {\n",
        "            'C': [1,10,20],\n",
        "            'kernel': ['rbf','linear']\n",
        "        }  \n",
        "    },\n",
        "   'naive_bayes_gaussian': {\n",
        "        'model': GaussianNB(),\n",
        "        'params': {}\n",
        "    },\n",
        "    'naive_bayes_multinomial': {\n",
        "        'model': MultinomialNB(),\n",
        "        'params': {}\n",
        "    },\n",
        "    'decision_tree': {\n",
        "        'model': DecisionTreeClassifier(),\n",
        "        'params': {\n",
        "            'criterion': ['gini','entropy'],\n",
        "        }   \n",
        "    },\n",
        "    \n",
        "       'XGB_Classifier':{\n",
        "        'model':XGBClassifier(),\n",
        "        'params':{\n",
        "            'base_score':[0.5]\n",
        "            \n",
        "        }\n",
        "    } \n",
        "        \n",
        "     \n",
        "}\n"
      ]
    },
    {
      "cell_type": "code",
      "execution_count": 64,
      "id": "d31796e3",
      "metadata": {
        "execution": {
          "iopub.execute_input": "2022-12-04T11:40:41.675992Z",
          "iopub.status.busy": "2022-12-04T11:40:41.675567Z",
          "iopub.status.idle": "2022-12-04T11:40:44.095336Z",
          "shell.execute_reply": "2022-12-04T11:40:44.094259Z"
        },
        "papermill": {
          "duration": 2.44024,
          "end_time": "2022-12-04T11:40:44.098229",
          "exception": false,
          "start_time": "2022-12-04T11:40:41.657989",
          "status": "completed"
        },
        "tags": [],
        "colab": {
          "base_uri": "https://localhost:8080/",
          "height": 269
        },
        "id": "d31796e3",
        "outputId": "f4ffb05e-192f-44d4-dbc0-a11fd9fb8eb0"
      },
      "outputs": [
        {
          "output_type": "execute_result",
          "data": {
            "text/plain": [
              "                     model  best_score                   best_params\n",
              "0            random_forest    0.833333          {'n_estimators': 10}\n",
              "1      logistic_regression    0.810000                      {'C': 5}\n",
              "2                      svm    0.830000  {'C': 1, 'kernel': 'linear'}\n",
              "3     naive_bayes_gaussian    0.756667                            {}\n",
              "4  naive_bayes_multinomial    0.663333                            {}\n",
              "5            decision_tree    0.773333         {'criterion': 'gini'}\n",
              "6           XGB_Classifier    0.840000           {'base_score': 0.5}"
            ],
            "text/html": [
              "\n",
              "  <div id=\"df-fb86eaae-4afa-444d-9aa6-8cdb9ed4f10e\">\n",
              "    <div class=\"colab-df-container\">\n",
              "      <div>\n",
              "<style scoped>\n",
              "    .dataframe tbody tr th:only-of-type {\n",
              "        vertical-align: middle;\n",
              "    }\n",
              "\n",
              "    .dataframe tbody tr th {\n",
              "        vertical-align: top;\n",
              "    }\n",
              "\n",
              "    .dataframe thead th {\n",
              "        text-align: right;\n",
              "    }\n",
              "</style>\n",
              "<table border=\"1\" class=\"dataframe\">\n",
              "  <thead>\n",
              "    <tr style=\"text-align: right;\">\n",
              "      <th></th>\n",
              "      <th>model</th>\n",
              "      <th>best_score</th>\n",
              "      <th>best_params</th>\n",
              "    </tr>\n",
              "  </thead>\n",
              "  <tbody>\n",
              "    <tr>\n",
              "      <th>0</th>\n",
              "      <td>random_forest</td>\n",
              "      <td>0.833333</td>\n",
              "      <td>{'n_estimators': 10}</td>\n",
              "    </tr>\n",
              "    <tr>\n",
              "      <th>1</th>\n",
              "      <td>logistic_regression</td>\n",
              "      <td>0.810000</td>\n",
              "      <td>{'C': 5}</td>\n",
              "    </tr>\n",
              "    <tr>\n",
              "      <th>2</th>\n",
              "      <td>svm</td>\n",
              "      <td>0.830000</td>\n",
              "      <td>{'C': 1, 'kernel': 'linear'}</td>\n",
              "    </tr>\n",
              "    <tr>\n",
              "      <th>3</th>\n",
              "      <td>naive_bayes_gaussian</td>\n",
              "      <td>0.756667</td>\n",
              "      <td>{}</td>\n",
              "    </tr>\n",
              "    <tr>\n",
              "      <th>4</th>\n",
              "      <td>naive_bayes_multinomial</td>\n",
              "      <td>0.663333</td>\n",
              "      <td>{}</td>\n",
              "    </tr>\n",
              "    <tr>\n",
              "      <th>5</th>\n",
              "      <td>decision_tree</td>\n",
              "      <td>0.773333</td>\n",
              "      <td>{'criterion': 'gini'}</td>\n",
              "    </tr>\n",
              "    <tr>\n",
              "      <th>6</th>\n",
              "      <td>XGB_Classifier</td>\n",
              "      <td>0.840000</td>\n",
              "      <td>{'base_score': 0.5}</td>\n",
              "    </tr>\n",
              "  </tbody>\n",
              "</table>\n",
              "</div>\n",
              "      <button class=\"colab-df-convert\" onclick=\"convertToInteractive('df-fb86eaae-4afa-444d-9aa6-8cdb9ed4f10e')\"\n",
              "              title=\"Convert this dataframe to an interactive table.\"\n",
              "              style=\"display:none;\">\n",
              "        \n",
              "  <svg xmlns=\"http://www.w3.org/2000/svg\" height=\"24px\"viewBox=\"0 0 24 24\"\n",
              "       width=\"24px\">\n",
              "    <path d=\"M0 0h24v24H0V0z\" fill=\"none\"/>\n",
              "    <path d=\"M18.56 5.44l.94 2.06.94-2.06 2.06-.94-2.06-.94-.94-2.06-.94 2.06-2.06.94zm-11 1L8.5 8.5l.94-2.06 2.06-.94-2.06-.94L8.5 2.5l-.94 2.06-2.06.94zm10 10l.94 2.06.94-2.06 2.06-.94-2.06-.94-.94-2.06-.94 2.06-2.06.94z\"/><path d=\"M17.41 7.96l-1.37-1.37c-.4-.4-.92-.59-1.43-.59-.52 0-1.04.2-1.43.59L10.3 9.45l-7.72 7.72c-.78.78-.78 2.05 0 2.83L4 21.41c.39.39.9.59 1.41.59.51 0 1.02-.2 1.41-.59l7.78-7.78 2.81-2.81c.8-.78.8-2.07 0-2.86zM5.41 20L4 18.59l7.72-7.72 1.47 1.35L5.41 20z\"/>\n",
              "  </svg>\n",
              "      </button>\n",
              "      \n",
              "  <style>\n",
              "    .colab-df-container {\n",
              "      display:flex;\n",
              "      flex-wrap:wrap;\n",
              "      gap: 12px;\n",
              "    }\n",
              "\n",
              "    .colab-df-convert {\n",
              "      background-color: #E8F0FE;\n",
              "      border: none;\n",
              "      border-radius: 50%;\n",
              "      cursor: pointer;\n",
              "      display: none;\n",
              "      fill: #1967D2;\n",
              "      height: 32px;\n",
              "      padding: 0 0 0 0;\n",
              "      width: 32px;\n",
              "    }\n",
              "\n",
              "    .colab-df-convert:hover {\n",
              "      background-color: #E2EBFA;\n",
              "      box-shadow: 0px 1px 2px rgba(60, 64, 67, 0.3), 0px 1px 3px 1px rgba(60, 64, 67, 0.15);\n",
              "      fill: #174EA6;\n",
              "    }\n",
              "\n",
              "    [theme=dark] .colab-df-convert {\n",
              "      background-color: #3B4455;\n",
              "      fill: #D2E3FC;\n",
              "    }\n",
              "\n",
              "    [theme=dark] .colab-df-convert:hover {\n",
              "      background-color: #434B5C;\n",
              "      box-shadow: 0px 1px 3px 1px rgba(0, 0, 0, 0.15);\n",
              "      filter: drop-shadow(0px 1px 2px rgba(0, 0, 0, 0.3));\n",
              "      fill: #FFFFFF;\n",
              "    }\n",
              "  </style>\n",
              "\n",
              "      <script>\n",
              "        const buttonEl =\n",
              "          document.querySelector('#df-fb86eaae-4afa-444d-9aa6-8cdb9ed4f10e button.colab-df-convert');\n",
              "        buttonEl.style.display =\n",
              "          google.colab.kernel.accessAllowed ? 'block' : 'none';\n",
              "\n",
              "        async function convertToInteractive(key) {\n",
              "          const element = document.querySelector('#df-fb86eaae-4afa-444d-9aa6-8cdb9ed4f10e');\n",
              "          const dataTable =\n",
              "            await google.colab.kernel.invokeFunction('convertToInteractive',\n",
              "                                                     [key], {});\n",
              "          if (!dataTable) return;\n",
              "\n",
              "          const docLinkHtml = 'Like what you see? Visit the ' +\n",
              "            '<a target=\"_blank\" href=https://colab.research.google.com/notebooks/data_table.ipynb>data table notebook</a>'\n",
              "            + ' to learn more about interactive tables.';\n",
              "          element.innerHTML = '';\n",
              "          dataTable['output_type'] = 'display_data';\n",
              "          await google.colab.output.renderOutput(dataTable, element);\n",
              "          const docLink = document.createElement('div');\n",
              "          docLink.innerHTML = docLinkHtml;\n",
              "          element.appendChild(docLink);\n",
              "        }\n",
              "      </script>\n",
              "    </div>\n",
              "  </div>\n",
              "  "
            ]
          },
          "metadata": {},
          "execution_count": 64
        }
      ],
      "source": [
        "from sklearn.model_selection import GridSearchCV\n",
        "scores = []\n",
        "cv = ShuffleSplit(n_splits=5, test_size=0.2, random_state=0)\n",
        "for model_name, mp in model_params.items():\n",
        "    clf =  GridSearchCV(mp['model'], mp['params'], cv=cv, return_train_score=False)\n",
        "    clf.fit(X,y)\n",
        "    scores.append({\n",
        "        'model': model_name,\n",
        "        'best_score': clf.best_score_,\n",
        "        'best_params': clf.best_params_\n",
        "    })\n",
        "    \n",
        "df = pd.DataFrame(scores,columns=['model','best_score','best_params'])\n",
        "df"
      ]
    },
    {
      "cell_type": "code",
      "execution_count": 65,
      "id": "7695513d",
      "metadata": {
        "execution": {
          "iopub.execute_input": "2022-12-04T11:40:44.137435Z",
          "iopub.status.busy": "2022-12-04T11:40:44.136935Z",
          "iopub.status.idle": "2022-12-04T11:40:44.155336Z",
          "shell.execute_reply": "2022-12-04T11:40:44.153852Z"
        },
        "papermill": {
          "duration": 0.043181,
          "end_time": "2022-12-04T11:40:44.158497",
          "exception": false,
          "start_time": "2022-12-04T11:40:44.115316",
          "status": "completed"
        },
        "tags": [],
        "colab": {
          "base_uri": "https://localhost:8080/"
        },
        "id": "7695513d",
        "outputId": "379a9c4f-2ad2-4ea9-a9df-8bdd22b4d9a6"
      },
      "outputs": [
        {
          "output_type": "execute_result",
          "data": {
            "text/plain": [
              "SVC()"
            ]
          },
          "metadata": {},
          "execution_count": 65
        }
      ],
      "source": [
        "model=svm.SVC()\n",
        "model.fit(X_train, y_train)\n"
      ]
    },
    {
      "cell_type": "code",
      "execution_count": 66,
      "id": "524c1dec",
      "metadata": {
        "execution": {
          "iopub.execute_input": "2022-12-04T11:40:44.193633Z",
          "iopub.status.busy": "2022-12-04T11:40:44.193105Z",
          "iopub.status.idle": "2022-12-04T11:40:44.205761Z",
          "shell.execute_reply": "2022-12-04T11:40:44.204548Z"
        },
        "papermill": {
          "duration": 0.033155,
          "end_time": "2022-12-04T11:40:44.208186",
          "exception": false,
          "start_time": "2022-12-04T11:40:44.175031",
          "status": "completed"
        },
        "tags": [],
        "colab": {
          "base_uri": "https://localhost:8080/"
        },
        "id": "524c1dec",
        "outputId": "59c2b3cc-6bf7-4a2c-fc38-0ef85e3cbae7"
      },
      "outputs": [
        {
          "output_type": "execute_result",
          "data": {
            "text/plain": [
              "0.8048780487804879"
            ]
          },
          "metadata": {},
          "execution_count": 66
        }
      ],
      "source": [
        "model.score( X_test, y_test)"
      ]
    },
    {
      "cell_type": "code",
      "execution_count": 67,
      "id": "23b34c8a",
      "metadata": {
        "execution": {
          "iopub.execute_input": "2022-12-04T11:40:44.243697Z",
          "iopub.status.busy": "2022-12-04T11:40:44.242920Z",
          "iopub.status.idle": "2022-12-04T11:40:44.252858Z",
          "shell.execute_reply": "2022-12-04T11:40:44.251635Z"
        },
        "papermill": {
          "duration": 0.031666,
          "end_time": "2022-12-04T11:40:44.256226",
          "exception": false,
          "start_time": "2022-12-04T11:40:44.224560",
          "status": "completed"
        },
        "tags": [],
        "id": "23b34c8a"
      },
      "outputs": [],
      "source": [
        "y_predicted = model.predict(X_test)"
      ]
    },
    {
      "cell_type": "code",
      "execution_count": 68,
      "id": "4692fe42",
      "metadata": {
        "execution": {
          "iopub.execute_input": "2022-12-04T11:40:44.291789Z",
          "iopub.status.busy": "2022-12-04T11:40:44.291064Z",
          "iopub.status.idle": "2022-12-04T11:40:44.299591Z",
          "shell.execute_reply": "2022-12-04T11:40:44.298241Z"
        },
        "papermill": {
          "duration": 0.0292,
          "end_time": "2022-12-04T11:40:44.302034",
          "exception": false,
          "start_time": "2022-12-04T11:40:44.272834",
          "status": "completed"
        },
        "tags": [],
        "colab": {
          "base_uri": "https://localhost:8080/"
        },
        "id": "4692fe42",
        "outputId": "450a9da4-eaa1-4f38-be38-c4ea364414d3"
      },
      "outputs": [
        {
          "output_type": "execute_result",
          "data": {
            "text/plain": [
              "array([0, 1, 1, 0, 1])"
            ]
          },
          "metadata": {},
          "execution_count": 68
        }
      ],
      "source": [
        "y_predicted[:5]"
      ]
    },
    {
      "cell_type": "code",
      "execution_count": 69,
      "id": "3c49754c",
      "metadata": {
        "execution": {
          "iopub.execute_input": "2022-12-04T11:40:44.338256Z",
          "iopub.status.busy": "2022-12-04T11:40:44.337505Z",
          "iopub.status.idle": "2022-12-04T11:40:44.345420Z",
          "shell.execute_reply": "2022-12-04T11:40:44.344079Z"
        },
        "papermill": {
          "duration": 0.029655,
          "end_time": "2022-12-04T11:40:44.348364",
          "exception": false,
          "start_time": "2022-12-04T11:40:44.318709",
          "status": "completed"
        },
        "tags": [],
        "colab": {
          "base_uri": "https://localhost:8080/"
        },
        "id": "3c49754c",
        "outputId": "b5923c4c-274d-41e1-d9fe-b8a01968bfcc"
      },
      "outputs": [
        {
          "output_type": "execute_result",
          "data": {
            "text/plain": [
              "284    0\n",
              "71     0\n",
              "49     1\n",
              "335    1\n",
              "43     0\n",
              "Name: DEATH_EVENT, dtype: int64"
            ]
          },
          "metadata": {},
          "execution_count": 69
        }
      ],
      "source": [
        "y_test[:5]"
      ]
    },
    {
      "cell_type": "code",
      "execution_count": 70,
      "id": "415d8330",
      "metadata": {
        "execution": {
          "iopub.execute_input": "2022-12-04T11:40:44.387907Z",
          "iopub.status.busy": "2022-12-04T11:40:44.387405Z",
          "iopub.status.idle": "2022-12-04T11:40:44.402520Z",
          "shell.execute_reply": "2022-12-04T11:40:44.400273Z"
        },
        "papermill": {
          "duration": 0.037755,
          "end_time": "2022-12-04T11:40:44.405365",
          "exception": false,
          "start_time": "2022-12-04T11:40:44.367610",
          "status": "completed"
        },
        "tags": [],
        "colab": {
          "base_uri": "https://localhost:8080/"
        },
        "id": "415d8330",
        "outputId": "49774cc3-b26c-4513-9a44-486e50e558cd"
      },
      "outputs": [
        {
          "output_type": "stream",
          "name": "stdout",
          "text": [
            "              precision    recall  f1-score   support\n",
            "\n",
            "           0       0.81      0.81      0.81        42\n",
            "           1       0.80      0.80      0.80        40\n",
            "\n",
            "    accuracy                           0.80        82\n",
            "   macro avg       0.80      0.80      0.80        82\n",
            "weighted avg       0.80      0.80      0.80        82\n",
            "\n"
          ]
        }
      ],
      "source": [
        "from sklearn.metrics import confusion_matrix , classification_report\n",
        "\n",
        "print(classification_report(y_test,y_predicted))"
      ]
    },
    {
      "cell_type": "code",
      "execution_count": 71,
      "id": "c9d67c96",
      "metadata": {
        "execution": {
          "iopub.execute_input": "2022-12-04T11:40:44.442636Z",
          "iopub.status.busy": "2022-12-04T11:40:44.442116Z",
          "iopub.status.idle": "2022-12-04T11:40:44.449496Z",
          "shell.execute_reply": "2022-12-04T11:40:44.448254Z"
        },
        "papermill": {
          "duration": 0.029313,
          "end_time": "2022-12-04T11:40:44.452353",
          "exception": false,
          "start_time": "2022-12-04T11:40:44.423040",
          "status": "completed"
        },
        "tags": [],
        "colab": {
          "base_uri": "https://localhost:8080/"
        },
        "id": "c9d67c96",
        "outputId": "ed6b14aa-0fd2-4f63-8a3d-eb63dca2a71c"
      },
      "outputs": [
        {
          "output_type": "stream",
          "name": "stdout",
          "text": [
            "<function mean_squared_error at 0x7f09559994c0>: 0.1951219512195122\n"
          ]
        }
      ],
      "source": [
        "from sklearn.metrics import mean_squared_error\n",
        "mse = mean_squared_error(y_test,y_predicted)\n",
        "print(f'{mean_squared_error}: {mse}')"
      ]
    },
    {
      "cell_type": "code",
      "execution_count": 72,
      "id": "31db954d",
      "metadata": {
        "execution": {
          "iopub.execute_input": "2022-12-04T11:40:44.490512Z",
          "iopub.status.busy": "2022-12-04T11:40:44.489137Z",
          "iopub.status.idle": "2022-12-04T11:40:44.791455Z",
          "shell.execute_reply": "2022-12-04T11:40:44.789958Z"
        },
        "papermill": {
          "duration": 0.324667,
          "end_time": "2022-12-04T11:40:44.794423",
          "exception": false,
          "start_time": "2022-12-04T11:40:44.469756",
          "status": "completed"
        },
        "tags": [],
        "colab": {
          "base_uri": "https://localhost:8080/",
          "height": 460
        },
        "id": "31db954d",
        "outputId": "44e1d7d3-ab93-403b-fe59-f09325fe4012"
      },
      "outputs": [
        {
          "output_type": "execute_result",
          "data": {
            "text/plain": [
              "Text(69.0, 0.5, 'Truth')"
            ]
          },
          "metadata": {},
          "execution_count": 72
        },
        {
          "output_type": "display_data",
          "data": {
            "text/plain": [
              "<Figure size 720x504 with 2 Axes>"
            ],
            "image/png": "[encoded data removed]"
          },
          "metadata": {
            "needs_background": "light"
          }
        }
      ],
      "source": [
        "y_predicted = model.predict(X_test)\n",
        "from sklearn.metrics import confusion_matrix\n",
        "cm = confusion_matrix(y_test, y_predicted)\n",
        "plt.figure(figsize = (10,7))\n",
        "sns.heatmap(cm, annot=True)\n",
        "plt.xlabel('Predicted')\n",
        "plt.ylabel('Truth')"
      ]
    },
    {
      "cell_type": "code",
      "execution_count": 72,
      "id": "de096c3b",
      "metadata": {
        "papermill": {
          "duration": 0.017075,
          "end_time": "2022-12-04T11:40:44.829055",
          "exception": false,
          "start_time": "2022-12-04T11:40:44.811980",
          "status": "completed"
        },
        "tags": [],
        "id": "de096c3b"
      },
      "outputs": [],
      "source": []
    },
    {
      "cell_type": "markdown",
      "id": "05074d02",
      "metadata": {
        "papermill": {
          "duration": 0.01737,
          "end_time": "2022-12-04T11:40:44.864232",
          "exception": false,
          "start_time": "2022-12-04T11:40:44.846862",
          "status": "completed"
        },
        "tags": [],
        "id": "05074d02"
      },
      "source": [
        "# Deep learning analysis"
      ]
    },
    {
      "cell_type": "code",
      "execution_count": 73,
      "id": "54527409",
      "metadata": {
        "execution": {
          "iopub.execute_input": "2022-12-04T11:40:44.903199Z",
          "iopub.status.busy": "2022-12-04T11:40:44.902754Z",
          "iopub.status.idle": "2022-12-04T11:41:14.021444Z",
          "shell.execute_reply": "2022-12-04T11:41:14.019901Z"
        },
        "papermill": {
          "duration": 29.141729,
          "end_time": "2022-12-04T11:41:14.024562",
          "exception": false,
          "start_time": "2022-12-04T11:40:44.882833",
          "status": "completed"
        },
        "tags": [],
        "colab": {
          "base_uri": "https://localhost:8080/"
        },
        "id": "54527409",
        "outputId": "0b1538ad-9702-45a6-fa23-e034a431a361"
      },
      "outputs": [
        {
          "output_type": "stream",
          "name": "stdout",
          "text": [
            "Epoch 1/100\n",
            "81/81 - 2s - loss: 0.7159 - accuracy: 0.4660 - 2s/epoch - 20ms/step\n",
            "Epoch 2/100\n",
            "81/81 - 0s - loss: 0.7094 - accuracy: 0.4660 - 197ms/epoch - 2ms/step\n",
            "Epoch 3/100\n",
            "81/81 - 0s - loss: 0.6936 - accuracy: 0.5093 - 170ms/epoch - 2ms/step\n",
            "Epoch 4/100\n",
            "81/81 - 0s - loss: 0.7000 - accuracy: 0.5000 - 194ms/epoch - 2ms/step\n",
            "Epoch 5/100\n",
            "81/81 - 0s - loss: 0.6880 - accuracy: 0.5340 - 172ms/epoch - 2ms/step\n",
            "Epoch 6/100\n",
            "81/81 - 0s - loss: 0.6966 - accuracy: 0.5062 - 169ms/epoch - 2ms/step\n",
            "Epoch 7/100\n",
            "81/81 - 0s - loss: 0.6929 - accuracy: 0.4938 - 183ms/epoch - 2ms/step\n",
            "Epoch 8/100\n",
            "81/81 - 0s - loss: 0.6922 - accuracy: 0.4877 - 182ms/epoch - 2ms/step\n",
            "Epoch 9/100\n",
            "81/81 - 0s - loss: 0.6852 - accuracy: 0.5216 - 159ms/epoch - 2ms/step\n",
            "Epoch 10/100\n",
            "81/81 - 0s - loss: 0.7017 - accuracy: 0.4753 - 191ms/epoch - 2ms/step\n",
            "Epoch 11/100\n",
            "81/81 - 0s - loss: 0.6760 - accuracy: 0.5802 - 155ms/epoch - 2ms/step\n",
            "Epoch 12/100\n",
            "81/81 - 0s - loss: 0.6914 - accuracy: 0.5494 - 163ms/epoch - 2ms/step\n",
            "Epoch 13/100\n",
            "81/81 - 0s - loss: 0.6799 - accuracy: 0.5185 - 174ms/epoch - 2ms/step\n",
            "Epoch 14/100\n",
            "81/81 - 0s - loss: 0.6813 - accuracy: 0.5340 - 213ms/epoch - 3ms/step\n",
            "Epoch 15/100\n",
            "81/81 - 0s - loss: 0.6932 - accuracy: 0.5556 - 156ms/epoch - 2ms/step\n",
            "Epoch 16/100\n",
            "81/81 - 0s - loss: 0.6876 - accuracy: 0.5463 - 181ms/epoch - 2ms/step\n",
            "Epoch 17/100\n",
            "81/81 - 0s - loss: 0.6690 - accuracy: 0.5802 - 167ms/epoch - 2ms/step\n",
            "Epoch 18/100\n",
            "81/81 - 0s - loss: 0.6746 - accuracy: 0.5370 - 163ms/epoch - 2ms/step\n",
            "Epoch 19/100\n",
            "81/81 - 0s - loss: 0.6642 - accuracy: 0.5926 - 178ms/epoch - 2ms/step\n",
            "Epoch 20/100\n",
            "81/81 - 0s - loss: 0.6489 - accuracy: 0.6019 - 186ms/epoch - 2ms/step\n",
            "Epoch 21/100\n",
            "81/81 - 0s - loss: 0.6197 - accuracy: 0.6636 - 193ms/epoch - 2ms/step\n",
            "Epoch 22/100\n",
            "81/81 - 0s - loss: 0.6148 - accuracy: 0.6543 - 172ms/epoch - 2ms/step\n",
            "Epoch 23/100\n",
            "81/81 - 0s - loss: 0.6043 - accuracy: 0.6944 - 141ms/epoch - 2ms/step\n",
            "Epoch 24/100\n",
            "81/81 - 0s - loss: 0.5569 - accuracy: 0.7438 - 169ms/epoch - 2ms/step\n",
            "Epoch 25/100\n",
            "81/81 - 0s - loss: 0.5982 - accuracy: 0.7068 - 196ms/epoch - 2ms/step\n",
            "Epoch 26/100\n",
            "81/81 - 0s - loss: 0.6116 - accuracy: 0.7253 - 159ms/epoch - 2ms/step\n",
            "Epoch 27/100\n",
            "81/81 - 0s - loss: 0.6140 - accuracy: 0.7068 - 204ms/epoch - 3ms/step\n",
            "Epoch 28/100\n",
            "81/81 - 0s - loss: 0.5231 - accuracy: 0.7438 - 165ms/epoch - 2ms/step\n",
            "Epoch 29/100\n",
            "81/81 - 0s - loss: 0.5617 - accuracy: 0.6914 - 172ms/epoch - 2ms/step\n",
            "Epoch 30/100\n",
            "81/81 - 0s - loss: 0.5469 - accuracy: 0.7315 - 170ms/epoch - 2ms/step\n",
            "Epoch 31/100\n",
            "81/81 - 0s - loss: 0.5539 - accuracy: 0.7562 - 160ms/epoch - 2ms/step\n",
            "Epoch 32/100\n",
            "81/81 - 0s - loss: 0.5328 - accuracy: 0.7963 - 156ms/epoch - 2ms/step\n",
            "Epoch 33/100\n",
            "81/81 - 0s - loss: 0.4926 - accuracy: 0.7901 - 201ms/epoch - 2ms/step\n",
            "Epoch 34/100\n",
            "81/81 - 0s - loss: 0.4961 - accuracy: 0.7716 - 161ms/epoch - 2ms/step\n",
            "Epoch 35/100\n",
            "81/81 - 0s - loss: 0.4829 - accuracy: 0.8148 - 157ms/epoch - 2ms/step\n",
            "Epoch 36/100\n",
            "81/81 - 0s - loss: 0.4783 - accuracy: 0.8025 - 163ms/epoch - 2ms/step\n",
            "Epoch 37/100\n",
            "81/81 - 0s - loss: 0.4644 - accuracy: 0.8364 - 167ms/epoch - 2ms/step\n",
            "Epoch 38/100\n",
            "81/81 - 0s - loss: 0.4990 - accuracy: 0.7963 - 162ms/epoch - 2ms/step\n",
            "Epoch 39/100\n",
            "81/81 - 0s - loss: 0.4561 - accuracy: 0.8056 - 194ms/epoch - 2ms/step\n",
            "Epoch 40/100\n",
            "81/81 - 0s - loss: 0.4688 - accuracy: 0.8241 - 149ms/epoch - 2ms/step\n",
            "Epoch 41/100\n",
            "81/81 - 0s - loss: 0.4758 - accuracy: 0.8056 - 175ms/epoch - 2ms/step\n",
            "Epoch 42/100\n",
            "81/81 - 0s - loss: 0.4456 - accuracy: 0.8302 - 167ms/epoch - 2ms/step\n",
            "Epoch 43/100\n",
            "81/81 - 0s - loss: 0.4432 - accuracy: 0.8148 - 169ms/epoch - 2ms/step\n",
            "Epoch 44/100\n",
            "81/81 - 0s - loss: 0.4611 - accuracy: 0.8025 - 169ms/epoch - 2ms/step\n",
            "Epoch 45/100\n",
            "81/81 - 0s - loss: 0.4707 - accuracy: 0.8272 - 207ms/epoch - 3ms/step\n",
            "Epoch 46/100\n",
            "81/81 - 0s - loss: 0.4688 - accuracy: 0.8148 - 162ms/epoch - 2ms/step\n",
            "Epoch 47/100\n",
            "81/81 - 0s - loss: 0.4017 - accuracy: 0.8333 - 163ms/epoch - 2ms/step\n",
            "Epoch 48/100\n",
            "81/81 - 0s - loss: 0.4041 - accuracy: 0.8549 - 166ms/epoch - 2ms/step\n",
            "Epoch 49/100\n",
            "81/81 - 0s - loss: 0.4403 - accuracy: 0.8210 - 182ms/epoch - 2ms/step\n",
            "Epoch 50/100\n",
            "81/81 - 0s - loss: 0.4342 - accuracy: 0.8364 - 172ms/epoch - 2ms/step\n",
            "Epoch 51/100\n",
            "81/81 - 0s - loss: 0.4567 - accuracy: 0.8086 - 149ms/epoch - 2ms/step\n",
            "Epoch 52/100\n",
            "81/81 - 0s - loss: 0.4318 - accuracy: 0.8519 - 156ms/epoch - 2ms/step\n",
            "Epoch 53/100\n",
            "81/81 - 0s - loss: 0.4271 - accuracy: 0.8241 - 184ms/epoch - 2ms/step\n",
            "Epoch 54/100\n",
            "81/81 - 0s - loss: 0.4127 - accuracy: 0.8272 - 177ms/epoch - 2ms/step\n",
            "Epoch 55/100\n",
            "81/81 - 0s - loss: 0.4587 - accuracy: 0.8086 - 168ms/epoch - 2ms/step\n",
            "Epoch 56/100\n",
            "81/81 - 0s - loss: 0.4047 - accuracy: 0.8488 - 171ms/epoch - 2ms/step\n",
            "Epoch 57/100\n",
            "81/81 - 0s - loss: 0.3984 - accuracy: 0.8395 - 170ms/epoch - 2ms/step\n",
            "Epoch 58/100\n",
            "81/81 - 0s - loss: 0.4034 - accuracy: 0.8549 - 171ms/epoch - 2ms/step\n",
            "Epoch 59/100\n",
            "81/81 - 0s - loss: 0.4271 - accuracy: 0.8395 - 159ms/epoch - 2ms/step\n",
            "Epoch 60/100\n",
            "81/81 - 0s - loss: 0.3572 - accuracy: 0.8580 - 182ms/epoch - 2ms/step\n",
            "Epoch 61/100\n",
            "81/81 - 0s - loss: 0.4510 - accuracy: 0.8333 - 155ms/epoch - 2ms/step\n",
            "Epoch 62/100\n",
            "81/81 - 0s - loss: 0.4251 - accuracy: 0.8457 - 168ms/epoch - 2ms/step\n",
            "Epoch 63/100\n",
            "81/81 - 0s - loss: 0.3877 - accuracy: 0.8488 - 178ms/epoch - 2ms/step\n",
            "Epoch 64/100\n",
            "81/81 - 0s - loss: 0.4177 - accuracy: 0.8549 - 164ms/epoch - 2ms/step\n",
            "Epoch 65/100\n",
            "81/81 - 0s - loss: 0.4068 - accuracy: 0.8333 - 160ms/epoch - 2ms/step\n",
            "Epoch 66/100\n",
            "81/81 - 0s - loss: 0.3784 - accuracy: 0.8395 - 144ms/epoch - 2ms/step\n",
            "Epoch 67/100\n",
            "81/81 - 0s - loss: 0.4133 - accuracy: 0.8364 - 160ms/epoch - 2ms/step\n",
            "Epoch 68/100\n",
            "81/81 - 0s - loss: 0.3501 - accuracy: 0.8488 - 166ms/epoch - 2ms/step\n",
            "Epoch 69/100\n",
            "81/81 - 0s - loss: 0.3556 - accuracy: 0.8611 - 170ms/epoch - 2ms/step\n",
            "Epoch 70/100\n",
            "81/81 - 0s - loss: 0.3902 - accuracy: 0.8519 - 177ms/epoch - 2ms/step\n",
            "Epoch 71/100\n",
            "81/81 - 0s - loss: 0.3972 - accuracy: 0.8457 - 166ms/epoch - 2ms/step\n",
            "Epoch 72/100\n",
            "81/81 - 0s - loss: 0.3251 - accuracy: 0.8580 - 181ms/epoch - 2ms/step\n",
            "Epoch 73/100\n",
            "81/81 - 0s - loss: 0.3810 - accuracy: 0.8302 - 156ms/epoch - 2ms/step\n",
            "Epoch 74/100\n",
            "81/81 - 0s - loss: 0.3893 - accuracy: 0.8549 - 172ms/epoch - 2ms/step\n",
            "Epoch 75/100\n",
            "81/81 - 0s - loss: 0.3985 - accuracy: 0.8611 - 167ms/epoch - 2ms/step\n",
            "Epoch 76/100\n",
            "81/81 - 0s - loss: 0.4106 - accuracy: 0.8457 - 166ms/epoch - 2ms/step\n",
            "Epoch 77/100\n",
            "81/81 - 0s - loss: 0.3851 - accuracy: 0.8395 - 192ms/epoch - 2ms/step\n",
            "Epoch 78/100\n",
            "81/81 - 0s - loss: 0.3332 - accuracy: 0.8735 - 164ms/epoch - 2ms/step\n",
            "Epoch 79/100\n",
            "81/81 - 0s - loss: 0.3733 - accuracy: 0.8426 - 154ms/epoch - 2ms/step\n",
            "Epoch 80/100\n",
            "81/81 - 0s - loss: 0.3965 - accuracy: 0.8611 - 154ms/epoch - 2ms/step\n",
            "Epoch 81/100\n",
            "81/81 - 0s - loss: 0.4004 - accuracy: 0.8580 - 160ms/epoch - 2ms/step\n",
            "Epoch 82/100\n",
            "81/81 - 0s - loss: 0.4018 - accuracy: 0.8395 - 182ms/epoch - 2ms/step\n",
            "Epoch 83/100\n",
            "81/81 - 0s - loss: 0.3571 - accuracy: 0.8426 - 203ms/epoch - 3ms/step\n",
            "Epoch 84/100\n",
            "81/81 - 0s - loss: 0.3399 - accuracy: 0.8735 - 186ms/epoch - 2ms/step\n",
            "Epoch 85/100\n",
            "81/81 - 0s - loss: 0.3870 - accuracy: 0.8364 - 156ms/epoch - 2ms/step\n",
            "Epoch 86/100\n",
            "81/81 - 0s - loss: 0.3645 - accuracy: 0.8611 - 172ms/epoch - 2ms/step\n",
            "Epoch 87/100\n",
            "81/81 - 0s - loss: 0.3662 - accuracy: 0.8704 - 173ms/epoch - 2ms/step\n",
            "Epoch 88/100\n",
            "81/81 - 0s - loss: 0.3663 - accuracy: 0.8580 - 176ms/epoch - 2ms/step\n",
            "Epoch 89/100\n",
            "81/81 - 0s - loss: 0.3208 - accuracy: 0.8611 - 163ms/epoch - 2ms/step\n",
            "Epoch 90/100\n",
            "81/81 - 0s - loss: 0.3724 - accuracy: 0.8611 - 159ms/epoch - 2ms/step\n",
            "Epoch 91/100\n",
            "81/81 - 0s - loss: 0.3581 - accuracy: 0.8611 - 154ms/epoch - 2ms/step\n",
            "Epoch 92/100\n",
            "81/81 - 0s - loss: 0.3583 - accuracy: 0.8457 - 167ms/epoch - 2ms/step\n",
            "Epoch 93/100\n",
            "81/81 - 0s - loss: 0.3942 - accuracy: 0.8179 - 157ms/epoch - 2ms/step\n",
            "Epoch 94/100\n",
            "81/81 - 0s - loss: 0.3825 - accuracy: 0.8519 - 150ms/epoch - 2ms/step\n",
            "Epoch 95/100\n",
            "81/81 - 0s - loss: 0.3846 - accuracy: 0.8519 - 166ms/epoch - 2ms/step\n",
            "Epoch 96/100\n",
            "81/81 - 0s - loss: 0.3400 - accuracy: 0.8333 - 152ms/epoch - 2ms/step\n",
            "Epoch 97/100\n",
            "81/81 - 0s - loss: 0.3529 - accuracy: 0.8549 - 170ms/epoch - 2ms/step\n",
            "Epoch 98/100\n",
            "81/81 - 0s - loss: 0.3060 - accuracy: 0.8580 - 166ms/epoch - 2ms/step\n",
            "Epoch 99/100\n",
            "81/81 - 0s - loss: 0.2849 - accuracy: 0.8765 - 192ms/epoch - 2ms/step\n",
            "Epoch 100/100\n",
            "81/81 - 0s - loss: 0.3440 - accuracy: 0.8519 - 158ms/epoch - 2ms/step\n"
          ]
        }
      ],
      "source": [
        "import tensorflow as tf\n",
        "from tensorflow import keras\n",
        "from tensorflow.keras import layers\n",
        "from tensorflow.keras.models import Sequential\n",
        "mode = keras.Sequential([\n",
        "    keras.layers.Dense(64, input_dim=12, activation='relu'),\n",
        "    keras.layers.Dropout(0.5),#Dropout Layer\n",
        "    keras.layers.Dense(32, activation='relu'),\n",
        "    keras.layers.Dropout(0.5),#Dropout Layer\n",
        "    keras.layers.Dense(32, activation='relu'),\n",
        "    keras.layers.Dropout(0.5),#Dropout Layer\n",
        "    keras.layers.Dense(32, activation='relu'),\n",
        "    keras.layers.Dropout(0.5),#Dropout Layer\n",
        "    keras.layers.Dense(16, activation='relu'),\n",
        "    keras.layers.Dropout(0.5),#Dropout Layer\n",
        "    keras.layers.Dense(1, activation='sigmoid')\n",
        "])\n",
        "\n",
        "mode.compile(loss='binary_crossentropy', optimizer='adam', metrics=['accuracy'])\n",
        "\n",
        "history =mode.fit(X_train, y_train, epochs=100,verbose=2 ,batch_size=4)"
      ]
    },
    {
      "cell_type": "code",
      "execution_count": 74,
      "id": "578564d6",
      "metadata": {
        "execution": {
          "iopub.execute_input": "2022-12-04T11:41:14.085434Z",
          "iopub.status.busy": "2022-12-04T11:41:14.084724Z",
          "iopub.status.idle": "2022-12-04T11:41:14.556162Z",
          "shell.execute_reply": "2022-12-04T11:41:14.554818Z"
        },
        "papermill": {
          "duration": 0.504427,
          "end_time": "2022-12-04T11:41:14.559083",
          "exception": false,
          "start_time": "2022-12-04T11:41:14.054656",
          "status": "completed"
        },
        "tags": [],
        "id": "578564d6",
        "colab": {
          "base_uri": "https://localhost:8080/",
          "height": 573
        },
        "outputId": "c76d7961-daa0-4485-c62b-75c2d3944baa"
      },
      "outputs": [
        {
          "output_type": "display_data",
          "data": {
            "text/plain": [
              "<Figure size 432x288 with 1 Axes>"
            ],
            "image/png": "[encoded data removed]"
          },
          "metadata": {
            "needs_background": "light"
          }
        },
        {
          "output_type": "display_data",
          "data": {
            "text/plain": [
              "<Figure size 432x288 with 1 Axes>"
            ],
            "image/png": "[encoded data removed]"
          },
          "metadata": {
            "needs_background": "light"
          }
        }
      ],
      "source": [
        "# summarize history for loss\n",
        "plt.plot(history.history['loss'])\n",
        "#plt.plot(history.history['val_loss'])\n",
        "plt.title('model loss')\n",
        "plt.ylabel('loss')\n",
        "plt.xlabel('epoch')\n",
        "plt.legend(['Train', 'Validation'], loc='upper left')\n",
        "plt.show()\n",
        "# summarize history for loss\n",
        "plt.plot(history.history['accuracy'])\n",
        "#plt.plot(history.history['val_loss'])\n",
        "plt.title('model accuracy')\n",
        "plt.ylabel('accuracy')\n",
        "plt.xlabel('epoch')\n",
        "plt.legend(['Train', 'Validation'], loc='upper left')\n",
        "plt.show()"
      ]
    },
    {
      "cell_type": "code",
      "execution_count": 75,
      "id": "0d4a6ef9",
      "metadata": {
        "execution": {
          "iopub.execute_input": "2022-12-04T11:41:14.622390Z",
          "iopub.status.busy": "2022-12-04T11:41:14.620885Z",
          "iopub.status.idle": "2022-12-04T11:41:14.935844Z",
          "shell.execute_reply": "2022-12-04T11:41:14.934271Z"
        },
        "papermill": {
          "duration": 0.350066,
          "end_time": "2022-12-04T11:41:14.939428",
          "exception": false,
          "start_time": "2022-12-04T11:41:14.589362",
          "status": "completed"
        },
        "tags": [],
        "id": "0d4a6ef9",
        "colab": {
          "base_uri": "https://localhost:8080/"
        },
        "outputId": "fda93973-efa2-492d-fd69-a118e759be8b"
      },
      "outputs": [
        {
          "output_type": "stream",
          "name": "stdout",
          "text": [
            "3/3 [==============================] - 0s 4ms/step - loss: 0.4430 - accuracy: 0.8049\n"
          ]
        },
        {
          "output_type": "execute_result",
          "data": {
            "text/plain": [
              "[0.4430338144302368, 0.8048780560493469]"
            ]
          },
          "metadata": {},
          "execution_count": 75
        }
      ],
      "source": [
        "mode.evaluate(X_test, y_test)"
      ]
    },
    {
      "cell_type": "code",
      "execution_count": 76,
      "id": "68c4ed26",
      "metadata": {
        "execution": {
          "iopub.execute_input": "2022-12-04T11:41:15.002442Z",
          "iopub.status.busy": "2022-12-04T11:41:15.001752Z",
          "iopub.status.idle": "2022-12-04T11:41:15.248070Z",
          "shell.execute_reply": "2022-12-04T11:41:15.246529Z"
        },
        "papermill": {
          "duration": 0.282731,
          "end_time": "2022-12-04T11:41:15.252514",
          "exception": false,
          "start_time": "2022-12-04T11:41:14.969783",
          "status": "completed"
        },
        "tags": [],
        "id": "68c4ed26",
        "colab": {
          "base_uri": "https://localhost:8080/"
        },
        "outputId": "22910657-0192-42db-92c0-c139ceac1f84"
      },
      "outputs": [
        {
          "output_type": "stream",
          "name": "stdout",
          "text": [
            "3/3 [==============================] - 0s 4ms/step\n"
          ]
        }
      ],
      "source": [
        "y_predicated=mode.predict(X_test).reshape(-1)\n"
      ]
    },
    {
      "cell_type": "code",
      "execution_count": 77,
      "id": "cd0ebec4",
      "metadata": {
        "execution": {
          "iopub.execute_input": "2022-12-04T11:41:15.322008Z",
          "iopub.status.busy": "2022-12-04T11:41:15.320916Z",
          "iopub.status.idle": "2022-12-04T11:41:15.327349Z",
          "shell.execute_reply": "2022-12-04T11:41:15.326259Z"
        },
        "papermill": {
          "duration": 0.041543,
          "end_time": "2022-12-04T11:41:15.330238",
          "exception": false,
          "start_time": "2022-12-04T11:41:15.288695",
          "status": "completed"
        },
        "tags": [],
        "id": "cd0ebec4"
      },
      "outputs": [],
      "source": [
        "y_predicated=np.round(y_predicated)\n",
        "#y_predicated"
      ]
    },
    {
      "cell_type": "code",
      "execution_count": 78,
      "id": "c64512a6",
      "metadata": {
        "execution": {
          "iopub.execute_input": "2022-12-04T11:41:15.393325Z",
          "iopub.status.busy": "2022-12-04T11:41:15.392052Z",
          "iopub.status.idle": "2022-12-04T11:41:15.405138Z",
          "shell.execute_reply": "2022-12-04T11:41:15.403388Z"
        },
        "papermill": {
          "duration": 0.04714,
          "end_time": "2022-12-04T11:41:15.407551",
          "exception": false,
          "start_time": "2022-12-04T11:41:15.360411",
          "status": "completed"
        },
        "tags": [],
        "id": "c64512a6",
        "colab": {
          "base_uri": "https://localhost:8080/"
        },
        "outputId": "c529f252-11c9-4733-8001-17e7361d35bd"
      },
      "outputs": [
        {
          "output_type": "stream",
          "name": "stdout",
          "text": [
            "              precision    recall  f1-score   support\n",
            "\n",
            "           0       0.88      0.71      0.79        42\n",
            "           1       0.75      0.90      0.82        40\n",
            "\n",
            "    accuracy                           0.80        82\n",
            "   macro avg       0.82      0.81      0.80        82\n",
            "weighted avg       0.82      0.80      0.80        82\n",
            "\n"
          ]
        }
      ],
      "source": [
        "print(classification_report(y_test, y_predicated))"
      ]
    },
    {
      "cell_type": "code",
      "execution_count": 79,
      "id": "690f83f0",
      "metadata": {
        "execution": {
          "iopub.execute_input": "2022-12-04T11:41:15.475007Z",
          "iopub.status.busy": "2022-12-04T11:41:15.473763Z",
          "iopub.status.idle": "2022-12-04T11:41:15.796664Z",
          "shell.execute_reply": "2022-12-04T11:41:15.795325Z"
        },
        "papermill": {
          "duration": 0.360224,
          "end_time": "2022-12-04T11:41:15.799574",
          "exception": false,
          "start_time": "2022-12-04T11:41:15.439350",
          "status": "completed"
        },
        "tags": [],
        "id": "690f83f0",
        "colab": {
          "base_uri": "https://localhost:8080/",
          "height": 460
        },
        "outputId": "06b1e3cc-bfd6-4fa8-8e8c-d4fbbd072bff"
      },
      "outputs": [
        {
          "output_type": "execute_result",
          "data": {
            "text/plain": [
              "Text(42.0, 0.5, 'Truth')"
            ]
          },
          "metadata": {},
          "execution_count": 79
        },
        {
          "output_type": "display_data",
          "data": {
            "text/plain": [
              "<Figure size 504x504 with 2 Axes>"
            ],
            "image/png": "[encoded data removed]"
          },
          "metadata": {
            "needs_background": "light"
          }
        }
      ],
      "source": [
        "y_predicated = model.predict(X_test)\n",
        "from sklearn.metrics import confusion_matrix\n",
        "cm = confusion_matrix(y_test, y_predicated)\n",
        "plt.figure(figsize = (7,7))\n",
        "sns.heatmap(cm, annot=True)\n",
        "plt.xlabel('Predicted')\n",
        "plt.ylabel('Truth')"
      ]
    },
    {
      "cell_type": "code",
      "execution_count": 80,
      "id": "4172f7c5",
      "metadata": {
        "execution": {
          "iopub.execute_input": "2022-12-04T11:41:15.869709Z",
          "iopub.status.busy": "2022-12-04T11:41:15.868849Z",
          "iopub.status.idle": "2022-12-04T11:41:15.881324Z",
          "shell.execute_reply": "2022-12-04T11:41:15.880127Z"
        },
        "papermill": {
          "duration": 0.050615,
          "end_time": "2022-12-04T11:41:15.884289",
          "exception": false,
          "start_time": "2022-12-04T11:41:15.833674",
          "status": "completed"
        },
        "tags": [],
        "id": "4172f7c5"
      },
      "outputs": [],
      "source": [
        "xp = model.predict(X_train)"
      ]
    },
    {
      "cell_type": "code",
      "execution_count": 81,
      "id": "d1137113",
      "metadata": {
        "execution": {
          "iopub.execute_input": "2022-12-04T11:41:15.952269Z",
          "iopub.status.busy": "2022-12-04T11:41:15.950971Z",
          "iopub.status.idle": "2022-12-04T11:41:15.957431Z",
          "shell.execute_reply": "2022-12-04T11:41:15.955831Z"
        },
        "papermill": {
          "duration": 0.04328,
          "end_time": "2022-12-04T11:41:15.960311",
          "exception": false,
          "start_time": "2022-12-04T11:41:15.917031",
          "status": "completed"
        },
        "tags": [],
        "id": "d1137113"
      },
      "outputs": [],
      "source": [
        "Y_pre = np.append(xp, y_predicated)\n",
        "model_resul = pd.DataFrame(Y_pre)\n"
      ]
    },
    {
      "cell_type": "code",
      "execution_count": 82,
      "id": "4df21521",
      "metadata": {
        "execution": {
          "iopub.execute_input": "2022-12-04T11:41:16.027851Z",
          "iopub.status.busy": "2022-12-04T11:41:16.026614Z",
          "iopub.status.idle": "2022-12-04T11:41:16.295981Z",
          "shell.execute_reply": "2022-12-04T11:41:16.294568Z"
        },
        "papermill": {
          "duration": 0.305991,
          "end_time": "2022-12-04T11:41:16.298601",
          "exception": false,
          "start_time": "2022-12-04T11:41:15.992610",
          "status": "completed"
        },
        "tags": [],
        "id": "4df21521",
        "colab": {
          "base_uri": "https://localhost:8080/",
          "height": 392
        },
        "outputId": "030e5ff1-2f11-42ed-cf96-1c67f9d4bfd1"
      },
      "outputs": [
        {
          "output_type": "execute_result",
          "data": {
            "text/plain": [
              "Text(0, 0.5, 'cases_number')"
            ]
          },
          "metadata": {},
          "execution_count": 82
        },
        {
          "output_type": "display_data",
          "data": {
            "text/plain": [
              "<Figure size 504x432 with 1 Axes>"
            ],
            "image/png": "[encoded data removed]"
          },
          "metadata": {
            "needs_background": "light"
          }
        }
      ],
      "source": [
        "model_resul.plot.hist(figsize=(7,6))\n",
        "\n",
        "plt.ylabel('cases_number')"
      ]
    },
    {
      "cell_type": "markdown",
      "source": [
        "# Model using Long Short Term Memory networks (LTSM) analysis\n",
        "Long Short Term Memory networks – usually just called “LSTMs” – are a special kind of Recurrent Neural Networks(RNN), capable of learning long-term dependencies. They were introduced by Hochreiter & Schmidhuber (1997), and were refined and popularized by many people in following work.1 They work tremendously well on a large variety of problems, and are now widely used.\n",
        "\n",
        "LSTMs are explicitly designed to avoid the long-term dependency problem. Remembering information for long periods of time is practically their default behavior, not something they struggle to learn!\n",
        "\n",
        "All recurrent neural networks have the form of a chain of repeating modules of neural network. In standard RNNs, this repeating module will have a very simple structure, such as a single tanh layer.\n",
        "\n",
        "Reference : https://colah.github.io/posts/2015-08-Understanding-LSTMs/"
      ],
      "metadata": {
        "id": "LuhzXL-SF4vl"
      },
      "id": "LuhzXL-SF4vl"
    },
    {
      "cell_type": "code",
      "source": [
        "import pandas_datareader as reader\n",
        "import datetime as datetime\n",
        "from sklearn.preprocessing import MinMaxScaler\n",
        "from tensorflow.keras.models import Sequential\n",
        "from keras import Sequential\n",
        "from keras.layers import LSTM\n",
        "from keras.layers import Dense, Dropout\n",
        "from keras.utils.vis_utils import plot_model\n",
        "from sklearn.model_selection import train_test_split"
      ],
      "metadata": {
        "id": "E6e9cZjTHViA"
      },
      "id": "E6e9cZjTHViA",
      "execution_count": 83,
      "outputs": []
    },
    {
      "cell_type": "code",
      "source": [
        "# Read the data again in case we changed it\n",
        "df=pd.read_csv(dataset)"
      ],
      "metadata": {
        "id": "7IESSHOhGGS8"
      },
      "id": "7IESSHOhGGS8",
      "execution_count": 84,
      "outputs": []
    },
    {
      "cell_type": "code",
      "source": [
        "df.head()"
      ],
      "metadata": {
        "id": "qoaqERyoGPO3",
        "colab": {
          "base_uri": "https://localhost:8080/",
          "height": 270
        },
        "outputId": "d55f82f5-edb9-4683-b75b-64932805ea06"
      },
      "id": "qoaqERyoGPO3",
      "execution_count": 85,
      "outputs": [
        {
          "output_type": "execute_result",
          "data": {
            "text/plain": [
              "    age  anaemia  creatinine_phosphokinase  diabetes  ejection_fraction  \\\n",
              "0  75.0        0                       582         0                 20   \n",
              "1  55.0        0                      7861         0                 38   \n",
              "2  65.0        0                       146         0                 20   \n",
              "3  50.0        1                       111         0                 20   \n",
              "4  65.0        1                       160         1                 20   \n",
              "\n",
              "   high_blood_pressure  platelets  serum_creatinine  serum_sodium  sex  \\\n",
              "0                    1  265000.00               1.9           130    1   \n",
              "1                    0  263358.03               1.1           136    1   \n",
              "2                    0  162000.00               1.3           129    1   \n",
              "3                    0  210000.00               1.9           137    1   \n",
              "4                    0  327000.00               2.7           116    0   \n",
              "\n",
              "   smoking  time  DEATH_EVENT  \n",
              "0        0     4            1  \n",
              "1        0     6            1  \n",
              "2        1     7            1  \n",
              "3        0     7            1  \n",
              "4        0     8            1  "
            ],
            "text/html": [
              "\n",
              "  <div id=\"df-643f52aa-ef56-493e-8fc8-f924a2411693\">\n",
              "    <div class=\"colab-df-container\">\n",
              "      <div>\n",
              "<style scoped>\n",
              "    .dataframe tbody tr th:only-of-type {\n",
              "        vertical-align: middle;\n",
              "    }\n",
              "\n",
              "    .dataframe tbody tr th {\n",
              "        vertical-align: top;\n",
              "    }\n",
              "\n",
              "    .dataframe thead th {\n",
              "        text-align: right;\n",
              "    }\n",
              "</style>\n",
              "<table border=\"1\" class=\"dataframe\">\n",
              "  <thead>\n",
              "    <tr style=\"text-align: right;\">\n",
              "      <th></th>\n",
              "      <th>age</th>\n",
              "      <th>anaemia</th>\n",
              "      <th>creatinine_phosphokinase</th>\n",
              "      <th>diabetes</th>\n",
              "      <th>ejection_fraction</th>\n",
              "      <th>high_blood_pressure</th>\n",
              "      <th>platelets</th>\n",
              "      <th>serum_creatinine</th>\n",
              "      <th>serum_sodium</th>\n",
              "      <th>sex</th>\n",
              "      <th>smoking</th>\n",
              "      <th>time</th>\n",
              "      <th>DEATH_EVENT</th>\n",
              "    </tr>\n",
              "  </thead>\n",
              "  <tbody>\n",
              "    <tr>\n",
              "      <th>0</th>\n",
              "      <td>75.0</td>\n",
              "      <td>0</td>\n",
              "      <td>582</td>\n",
              "      <td>0</td>\n",
              "      <td>20</td>\n",
              "      <td>1</td>\n",
              "      <td>265000.00</td>\n",
              "      <td>1.9</td>\n",
              "      <td>130</td>\n",
              "      <td>1</td>\n",
              "      <td>0</td>\n",
              "      <td>4</td>\n",
              "      <td>1</td>\n",
              "    </tr>\n",
              "    <tr>\n",
              "      <th>1</th>\n",
              "      <td>55.0</td>\n",
              "      <td>0</td>\n",
              "      <td>7861</td>\n",
              "      <td>0</td>\n",
              "      <td>38</td>\n",
              "      <td>0</td>\n",
              "      <td>263358.03</td>\n",
              "      <td>1.1</td>\n",
              "      <td>136</td>\n",
              "      <td>1</td>\n",
              "      <td>0</td>\n",
              "      <td>6</td>\n",
              "      <td>1</td>\n",
              "    </tr>\n",
              "    <tr>\n",
              "      <th>2</th>\n",
              "      <td>65.0</td>\n",
              "      <td>0</td>\n",
              "      <td>146</td>\n",
              "      <td>0</td>\n",
              "      <td>20</td>\n",
              "      <td>0</td>\n",
              "      <td>162000.00</td>\n",
              "      <td>1.3</td>\n",
              "      <td>129</td>\n",
              "      <td>1</td>\n",
              "      <td>1</td>\n",
              "      <td>7</td>\n",
              "      <td>1</td>\n",
              "    </tr>\n",
              "    <tr>\n",
              "      <th>3</th>\n",
              "      <td>50.0</td>\n",
              "      <td>1</td>\n",
              "      <td>111</td>\n",
              "      <td>0</td>\n",
              "      <td>20</td>\n",
              "      <td>0</td>\n",
              "      <td>210000.00</td>\n",
              "      <td>1.9</td>\n",
              "      <td>137</td>\n",
              "      <td>1</td>\n",
              "      <td>0</td>\n",
              "      <td>7</td>\n",
              "      <td>1</td>\n",
              "    </tr>\n",
              "    <tr>\n",
              "      <th>4</th>\n",
              "      <td>65.0</td>\n",
              "      <td>1</td>\n",
              "      <td>160</td>\n",
              "      <td>1</td>\n",
              "      <td>20</td>\n",
              "      <td>0</td>\n",
              "      <td>327000.00</td>\n",
              "      <td>2.7</td>\n",
              "      <td>116</td>\n",
              "      <td>0</td>\n",
              "      <td>0</td>\n",
              "      <td>8</td>\n",
              "      <td>1</td>\n",
              "    </tr>\n",
              "  </tbody>\n",
              "</table>\n",
              "</div>\n",
              "      <button class=\"colab-df-convert\" onclick=\"convertToInteractive('df-643f52aa-ef56-493e-8fc8-f924a2411693')\"\n",
              "              title=\"Convert this dataframe to an interactive table.\"\n",
              "              style=\"display:none;\">\n",
              "        \n",
              "  <svg xmlns=\"http://www.w3.org/2000/svg\" height=\"24px\"viewBox=\"0 0 24 24\"\n",
              "       width=\"24px\">\n",
              "    <path d=\"M0 0h24v24H0V0z\" fill=\"none\"/>\n",
              "    <path d=\"M18.56 5.44l.94 2.06.94-2.06 2.06-.94-2.06-.94-.94-2.06-.94 2.06-2.06.94zm-11 1L8.5 8.5l.94-2.06 2.06-.94-2.06-.94L8.5 2.5l-.94 2.06-2.06.94zm10 10l.94 2.06.94-2.06 2.06-.94-2.06-.94-.94-2.06-.94 2.06-2.06.94z\"/><path d=\"M17.41 7.96l-1.37-1.37c-.4-.4-.92-.59-1.43-.59-.52 0-1.04.2-1.43.59L10.3 9.45l-7.72 7.72c-.78.78-.78 2.05 0 2.83L4 21.41c.39.39.9.59 1.41.59.51 0 1.02-.2 1.41-.59l7.78-7.78 2.81-2.81c.8-.78.8-2.07 0-2.86zM5.41 20L4 18.59l7.72-7.72 1.47 1.35L5.41 20z\"/>\n",
              "  </svg>\n",
              "      </button>\n",
              "      \n",
              "  <style>\n",
              "    .colab-df-container {\n",
              "      display:flex;\n",
              "      flex-wrap:wrap;\n",
              "      gap: 12px;\n",
              "    }\n",
              "\n",
              "    .colab-df-convert {\n",
              "      background-color: #E8F0FE;\n",
              "      border: none;\n",
              "      border-radius: 50%;\n",
              "      cursor: pointer;\n",
              "      display: none;\n",
              "      fill: #1967D2;\n",
              "      height: 32px;\n",
              "      padding: 0 0 0 0;\n",
              "      width: 32px;\n",
              "    }\n",
              "\n",
              "    .colab-df-convert:hover {\n",
              "      background-color: #E2EBFA;\n",
              "      box-shadow: 0px 1px 2px rgba(60, 64, 67, 0.3), 0px 1px 3px 1px rgba(60, 64, 67, 0.15);\n",
              "      fill: #174EA6;\n",
              "    }\n",
              "\n",
              "    [theme=dark] .colab-df-convert {\n",
              "      background-color: #3B4455;\n",
              "      fill: #D2E3FC;\n",
              "    }\n",
              "\n",
              "    [theme=dark] .colab-df-convert:hover {\n",
              "      background-color: #434B5C;\n",
              "      box-shadow: 0px 1px 3px 1px rgba(0, 0, 0, 0.15);\n",
              "      filter: drop-shadow(0px 1px 2px rgba(0, 0, 0, 0.3));\n",
              "      fill: #FFFFFF;\n",
              "    }\n",
              "  </style>\n",
              "\n",
              "      <script>\n",
              "        const buttonEl =\n",
              "          document.querySelector('#df-643f52aa-ef56-493e-8fc8-f924a2411693 button.colab-df-convert');\n",
              "        buttonEl.style.display =\n",
              "          google.colab.kernel.accessAllowed ? 'block' : 'none';\n",
              "\n",
              "        async function convertToInteractive(key) {\n",
              "          const element = document.querySelector('#df-643f52aa-ef56-493e-8fc8-f924a2411693');\n",
              "          const dataTable =\n",
              "            await google.colab.kernel.invokeFunction('convertToInteractive',\n",
              "                                                     [key], {});\n",
              "          if (!dataTable) return;\n",
              "\n",
              "          const docLinkHtml = 'Like what you see? Visit the ' +\n",
              "            '<a target=\"_blank\" href=https://colab.research.google.com/notebooks/data_table.ipynb>data table notebook</a>'\n",
              "            + ' to learn more about interactive tables.';\n",
              "          element.innerHTML = '';\n",
              "          dataTable['output_type'] = 'display_data';\n",
              "          await google.colab.output.renderOutput(dataTable, element);\n",
              "          const docLink = document.createElement('div');\n",
              "          docLink.innerHTML = docLinkHtml;\n",
              "          element.appendChild(docLink);\n",
              "        }\n",
              "      </script>\n",
              "    </div>\n",
              "  </div>\n",
              "  "
            ]
          },
          "metadata": {},
          "execution_count": 85
        }
      ]
    },
    {
      "cell_type": "code",
      "source": [
        "x_train, x_test, y_train, y_test = train_test_split(df[[\"age\",\"anaemia\",\"creatinine_phosphokinase\",\"diabetes\",\"ejection_fraction\",\"high_blood_pressure\",\"platelets\",\n",
        "                                                        \"serum_creatinine\", \"serum_sodium\",\"sex\", \"smoking\", \t\"time\" \t]], df[\"DEATH_EVENT\"], test_size=0.15, random_state=42)"
      ],
      "metadata": {
        "id": "9m39g5HXF8jx"
      },
      "id": "9m39g5HXF8jx",
      "execution_count": 86,
      "outputs": []
    },
    {
      "cell_type": "code",
      "source": [
        "print(x_train)\n",
        "print(x_test)"
      ],
      "metadata": {
        "id": "U8z7VvYuG5Vj",
        "colab": {
          "base_uri": "https://localhost:8080/"
        },
        "outputId": "ad040a72-a462-46da-d603-c77d25c8e58b"
      },
      "id": "U8z7VvYuG5Vj",
      "execution_count": 87,
      "outputs": [
        {
          "output_type": "stream",
          "name": "stdout",
          "text": [
            "        age  anaemia  creatinine_phosphokinase  diabetes  ejection_fraction  \\\n",
            "197  65.000        0                       167         0                 30   \n",
            "210  70.000        0                       212         1                 17   \n",
            "288  65.000        0                       892         1                 35   \n",
            "219  55.000        0                       582         1                 35   \n",
            "178  63.000        1                       122         1                 60   \n",
            "..      ...      ...                       ...       ...                ...   \n",
            "188  60.667        1                       151         1                 40   \n",
            "71   58.000        0                       582         1                 35   \n",
            "106  55.000        0                       748         0                 45   \n",
            "270  44.000        0                       582         1                 30   \n",
            "102  80.000        0                       898         0                 25   \n",
            "\n",
            "     high_blood_pressure  platelets  serum_creatinine  serum_sodium  sex  \\\n",
            "197                    0  259000.00               0.8           138    0   \n",
            "210                    1  389000.00               1.0           136    1   \n",
            "288                    0  263358.03               1.1           142    0   \n",
            "219                    1  371000.00               0.7           140    0   \n",
            "178                    0  267000.00               1.2           145    1   \n",
            "..                   ...        ...               ...           ...  ...   \n",
            "188                    1  201000.00               1.0           136    0   \n",
            "71                     0  122000.00               0.9           139    1   \n",
            "106                    0  263000.00               1.3           137    1   \n",
            "270                    1  263358.03               1.6           130    1   \n",
            "102                    0  149000.00               1.1           144    1   \n",
            "\n",
            "     smoking  time  \n",
            "197        0   186  \n",
            "210        1   188  \n",
            "288        0   256  \n",
            "219        0   197  \n",
            "178        0   147  \n",
            "..       ...   ...  \n",
            "188        0   172  \n",
            "71         1    71  \n",
            "106        0    88  \n",
            "270        1   244  \n",
            "102        1    87  \n",
            "\n",
            "[254 rows x 12 columns]\n",
            "      age  anaemia  creatinine_phosphokinase  diabetes  ejection_fraction  \\\n",
            "281  70.0        0                       582         0                 40   \n",
            "265  50.0        1                       298         0                 35   \n",
            "164  45.0        0                      2442         1                 30   \n",
            "9    80.0        1                       123         0                 35   \n",
            "77   42.0        0                       102         1                 40   \n",
            "278  50.0        1                      1051         1                 30   \n",
            "93   60.0        1                       154         0                 25   \n",
            "109  45.0        0                       292         1                 35   \n",
            "5    90.0        1                        47         0                 40   \n",
            "173  50.0        1                       115         0                 20   \n",
            "97   70.0        1                        59         0                 60   \n",
            "195  77.0        1                       418         0                 45   \n",
            "184  58.0        1                       145         0                 25   \n",
            "154  65.0        1                       335         0                 35   \n",
            "57   60.0        1                       607         0                 40   \n",
            "60   45.0        0                      7702         1                 25   \n",
            "147  64.0        0                      1610         0                 60   \n",
            "108  63.0        0                       936         0                 38   \n",
            "63   45.0        0                       582         0                 35   \n",
            "140  80.0        0                       805         0                 38   \n",
            "155  60.0        1                       231         1                 25   \n",
            "104  60.0        0                        53         0                 50   \n",
            "247  64.0        0                       143         0                 25   \n",
            "46   51.0        0                      1380         0                 25   \n",
            "42   70.0        0                       571         1                 45   \n",
            "275  45.0        0                       582         0                 38   \n",
            "280  70.0        0                      2695         1                 40   \n",
            "116  60.0        1                        96         1                 60   \n",
            "213  48.0        1                       131         1                 30   \n",
            "236  75.0        0                       119         0                 50   \n",
            "17   45.0        0                       582         0                 14   \n",
            "239  55.0        1                       180         0                 45   \n",
            "33   50.0        1                       159         1                 30   \n",
            "24   75.0        0                       582         1                 30   \n",
            "45   50.0        0                       582         1                 38   \n",
            "7    60.0        1                       315         1                 60   \n",
            "113  70.0        1                       143         0                 60   \n",
            "194  45.0        0                       582         0                 20   \n",
            "111  55.0        0                        60         0                 35   \n",
            "92   42.0        0                       582         0                 60   \n",
            "75   60.0        1                        47         0                 20   \n",
            "82   60.0        1                        76         1                 25   \n",
            "118  65.0        1                       113         1                 60   \n",
            "76   70.0        0                        92         0                 60   \n",
            "129  53.0        1                       270         1                 35   \n",
            "\n",
            "     high_blood_pressure  platelets  serum_creatinine  serum_sodium  sex  \\\n",
            "281                    0   51000.00              2.70           136    1   \n",
            "265                    0  362000.00              0.90           140    1   \n",
            "164                    0  334000.00              1.10           139    1   \n",
            "9                      1  388000.00              9.40           133    1   \n",
            "77                     0  237000.00              1.20           140    1   \n",
            "278                    0  232000.00              0.70           136    0   \n",
            "93                     0  210000.00              1.70           135    1   \n",
            "109                    0  850000.00              1.30           142    1   \n",
            "5                      1  204000.00              2.10           132    1   \n",
            "173                    0  189000.00              0.80           139    1   \n",
            "97                     0  255000.00              1.10           136    0   \n",
            "195                    0  223000.00              1.80           145    1   \n",
            "184                    0  219000.00              1.20           137    1   \n",
            "154                    1  235000.00              0.80           136    0   \n",
            "57                     0  216000.00              0.60           138    1   \n",
            "60                     1  390000.00              1.00           139    1   \n",
            "147                    0  242000.00              1.00           137    1   \n",
            "108                    0  304000.00              1.10           133    1   \n",
            "63                     0  385000.00              1.00           145    1   \n",
            "140                    0  263358.03              1.10           134    1   \n",
            "155                    0  194000.00              1.70           140    1   \n",
            "104                    1  286000.00              2.30           143    0   \n",
            "247                    0  246000.00              2.40           135    1   \n",
            "46                     1  271000.00              0.90           130    1   \n",
            "42                     1  185000.00              1.20           139    1   \n",
            "275                    1  422000.00              0.80           137    0   \n",
            "280                    0  241000.00              1.00           137    1   \n",
            "116                    1  271000.00              0.70           136    0   \n",
            "213                    1  244000.00              1.60           130    0   \n",
            "236                    1  248000.00              1.10           148    1   \n",
            "17                     0  166000.00              0.80           127    1   \n",
            "239                    0  263358.03              1.18           137    1   \n",
            "33                     0  302000.00              1.20           138    0   \n",
            "24                     1  263358.03              1.83           134    0   \n",
            "45                     0  310000.00              1.90           135    1   \n",
            "7                      0  454000.00              1.10           131    1   \n",
            "113                    0  351000.00              1.30           137    0   \n",
            "194                    1  126000.00              1.60           135    1   \n",
            "111                    0  228000.00              1.20           135    1   \n",
            "92                     0  263358.03              1.18           137    0   \n",
            "75                     0  204000.00              0.70           139    1   \n",
            "82                     0  196000.00              2.50           132    0   \n",
            "118                    1  203000.00              0.90           140    0   \n",
            "76                     1  317000.00              0.80           140    0   \n",
            "129                    0  227000.00              3.40           145    1   \n",
            "\n",
            "     smoking  time  \n",
            "281        1   250  \n",
            "265        1   240  \n",
            "164        0   129  \n",
            "9          1    10  \n",
            "77         0    74  \n",
            "278        0   246  \n",
            "93         0    82  \n",
            "109        1    88  \n",
            "5          1     8  \n",
            "173        0   146  \n",
            "97         0    85  \n",
            "195        0   180  \n",
            "184        1   170  \n",
            "154        0   120  \n",
            "57         1    54  \n",
            "60         0    60  \n",
            "147        0   113  \n",
            "108        1    88  \n",
            "63         0    61  \n",
            "140        0   109  \n",
            "155        0   120  \n",
            "104        0    87  \n",
            "247        0   214  \n",
            "46         0    38  \n",
            "42         1    33  \n",
            "275        0   245  \n",
            "280        0   247  \n",
            "116        0    94  \n",
            "213        0   193  \n",
            "236        0   209  \n",
            "17         0    14  \n",
            "239        1   211  \n",
            "33         0    29  \n",
            "24         0    23  \n",
            "45         1    35  \n",
            "7          1    10  \n",
            "113        0    90  \n",
            "194        0   180  \n",
            "111        1    90  \n",
            "92         0    82  \n",
            "75         1    73  \n",
            "82         0    77  \n",
            "118        0    94  \n",
            "76         1    74  \n",
            "129        0   105  \n"
          ]
        }
      ]
    },
    {
      "cell_type": "code",
      "source": [
        "print(y_train)\n",
        "print(y_test)"
      ],
      "metadata": {
        "id": "unVTbaSBG8vs",
        "colab": {
          "base_uri": "https://localhost:8080/"
        },
        "outputId": "b7385fe1-2878-4f73-b953-83150c784b5f"
      },
      "id": "unVTbaSBG8vs",
      "execution_count": 88,
      "outputs": [
        {
          "output_type": "stream",
          "name": "stdout",
          "text": [
            "197    0\n",
            "210    0\n",
            "288    0\n",
            "219    0\n",
            "178    0\n",
            "      ..\n",
            "188    0\n",
            "71     0\n",
            "106    0\n",
            "270    0\n",
            "102    0\n",
            "Name: DEATH_EVENT, Length: 254, dtype: int64\n",
            "281    0\n",
            "265    0\n",
            "164    1\n",
            "9      1\n",
            "77     0\n",
            "278    0\n",
            "93     1\n",
            "109    0\n",
            "5      1\n",
            "173    0\n",
            "97     0\n",
            "195    1\n",
            "184    1\n",
            "154    0\n",
            "57     0\n",
            "60     1\n",
            "147    0\n",
            "108    0\n",
            "63     1\n",
            "140    1\n",
            "155    0\n",
            "104    0\n",
            "247    0\n",
            "46     1\n",
            "42     1\n",
            "275    0\n",
            "280    0\n",
            "116    0\n",
            "213    1\n",
            "236    0\n",
            "17     1\n",
            "239    0\n",
            "33     0\n",
            "24     1\n",
            "45     1\n",
            "7      1\n",
            "113    1\n",
            "194    1\n",
            "111    0\n",
            "92     0\n",
            "75     1\n",
            "82     1\n",
            "118    0\n",
            "76     0\n",
            "129    0\n",
            "Name: DEATH_EVENT, dtype: int64\n"
          ]
        }
      ]
    },
    {
      "cell_type": "code",
      "source": [
        "#Model Architecture\n",
        "lstm = Sequential()\n",
        "lstm.add(LSTM(32, input_shape=(1, x_train.shape[1]), activation=\"relu\", return_sequences=False))\n",
        "lstm.add(Dense(1))\n",
        "#An optimizer is used to help improve upon the Loss function, while the Loss function gives us information on \n",
        "#how the model did on training.\n",
        "lstm.compile(loss=\"mean_squared_error\", optimizer=\"adam\")"
      ],
      "metadata": {
        "id": "yyvAKPYLHCrT"
      },
      "id": "yyvAKPYLHCrT",
      "execution_count": 89,
      "outputs": []
    },
    {
      "cell_type": "code",
      "source": [
        "plot_model(lstm, show_shapes=True, show_layer_names=True)"
      ],
      "metadata": {
        "id": "zS0UBiSQHqEJ",
        "colab": {
          "base_uri": "https://localhost:8080/",
          "height": 312
        },
        "outputId": "f226f6c2-7106-408d-c79a-67f92d9509e1"
      },
      "id": "zS0UBiSQHqEJ",
      "execution_count": 90,
      "outputs": [
        {
          "output_type": "execute_result",
          "data": {
            "image/png": "[encoded data removed]",
            "text/plain": [
              "<IPython.core.display.Image object>"
            ]
          },
          "metadata": {},
          "execution_count": 90
        }
      ]
    },
    {
      "cell_type": "code",
      "source": [
        "xtrain = np.array(x_train)\n",
        "xtrain = xtrain.reshape(xtrain.shape[0], 1, xtrain.shape[1]) #Reshape data to align with parameter\n",
        "#Here we start training the model by setting it to iterate over the entire dataset a 100 times, with a batch size of 8\n",
        "history = lstm.fit(xtrain, y_train, epochs = 100, batch_size = 8, verbose = 1, shuffle = False)"
      ],
      "metadata": {
        "id": "YqcwrBojHwVX",
        "colab": {
          "base_uri": "https://localhost:8080/"
        },
        "outputId": "3735c608-6de0-43dd-a077-41d7b5a79d46"
      },
      "id": "YqcwrBojHwVX",
      "execution_count": 91,
      "outputs": [
        {
          "output_type": "stream",
          "name": "stdout",
          "text": [
            "Epoch 1/100\n",
            "32/32 [==============================] - 1s 3ms/step - loss: 162285424.0000\n",
            "Epoch 2/100\n",
            "32/32 [==============================] - 0s 3ms/step - loss: 50863684.0000\n",
            "Epoch 3/100\n",
            "32/32 [==============================] - 0s 3ms/step - loss: 8468058.0000\n",
            "Epoch 4/100\n",
            "32/32 [==============================] - 0s 2ms/step - loss: 341776.8438\n",
            "Epoch 5/100\n",
            "32/32 [==============================] - 0s 3ms/step - loss: 4910.2354\n",
            "Epoch 6/100\n",
            "32/32 [==============================] - 0s 2ms/step - loss: 2850.2375\n",
            "Epoch 7/100\n",
            "32/32 [==============================] - 0s 3ms/step - loss: 2492.8560\n",
            "Epoch 8/100\n",
            "32/32 [==============================] - 0s 3ms/step - loss: 2460.9446\n",
            "Epoch 9/100\n",
            "32/32 [==============================] - 0s 3ms/step - loss: 2429.7834\n",
            "Epoch 10/100\n",
            "32/32 [==============================] - 0s 4ms/step - loss: 2400.1704\n",
            "Epoch 11/100\n",
            "32/32 [==============================] - 0s 3ms/step - loss: 2368.6553\n",
            "Epoch 12/100\n",
            "32/32 [==============================] - 0s 3ms/step - loss: 2335.7454\n",
            "Epoch 13/100\n",
            "32/32 [==============================] - 0s 3ms/step - loss: 2301.5603\n",
            "Epoch 14/100\n",
            "32/32 [==============================] - 0s 3ms/step - loss: 2266.2310\n",
            "Epoch 15/100\n",
            "32/32 [==============================] - 0s 3ms/step - loss: 2229.7959\n",
            "Epoch 16/100\n",
            "32/32 [==============================] - 0s 3ms/step - loss: 2192.3921\n",
            "Epoch 17/100\n",
            "32/32 [==============================] - 0s 3ms/step - loss: 2154.0774\n",
            "Epoch 18/100\n",
            "32/32 [==============================] - 0s 3ms/step - loss: 2114.9597\n",
            "Epoch 19/100\n",
            "32/32 [==============================] - 0s 3ms/step - loss: 2075.1211\n",
            "Epoch 20/100\n",
            "32/32 [==============================] - 0s 3ms/step - loss: 2034.6027\n",
            "Epoch 21/100\n",
            "32/32 [==============================] - 0s 3ms/step - loss: 1993.5225\n",
            "Epoch 22/100\n",
            "32/32 [==============================] - 0s 3ms/step - loss: 1951.9180\n",
            "Epoch 23/100\n",
            "32/32 [==============================] - 0s 3ms/step - loss: 1909.8878\n",
            "Epoch 24/100\n",
            "32/32 [==============================] - 0s 3ms/step - loss: 1867.4585\n",
            "Epoch 25/100\n",
            "32/32 [==============================] - 0s 3ms/step - loss: 1824.7568\n",
            "Epoch 26/100\n",
            "32/32 [==============================] - 0s 3ms/step - loss: 1781.8027\n",
            "Epoch 27/100\n",
            "32/32 [==============================] - 0s 3ms/step - loss: 1738.6576\n",
            "Epoch 28/100\n",
            "32/32 [==============================] - 0s 3ms/step - loss: 1695.4106\n",
            "Epoch 29/100\n",
            "32/32 [==============================] - 0s 3ms/step - loss: 1652.0870\n",
            "Epoch 30/100\n",
            "32/32 [==============================] - 0s 3ms/step - loss: 1608.7620\n",
            "Epoch 31/100\n",
            "32/32 [==============================] - 0s 3ms/step - loss: 1565.4896\n",
            "Epoch 32/100\n",
            "32/32 [==============================] - 0s 4ms/step - loss: 1522.3206\n",
            "Epoch 33/100\n",
            "32/32 [==============================] - 0s 3ms/step - loss: 1479.2921\n",
            "Epoch 34/100\n",
            "32/32 [==============================] - 0s 4ms/step - loss: 1436.4763\n",
            "Epoch 35/100\n",
            "32/32 [==============================] - 0s 3ms/step - loss: 1393.9285\n",
            "Epoch 36/100\n",
            "32/32 [==============================] - 0s 3ms/step - loss: 1351.6522\n",
            "Epoch 37/100\n",
            "32/32 [==============================] - 0s 3ms/step - loss: 1309.7190\n",
            "Epoch 38/100\n",
            "32/32 [==============================] - 0s 3ms/step - loss: 1268.1804\n",
            "Epoch 39/100\n",
            "32/32 [==============================] - 0s 4ms/step - loss: 1227.0752\n",
            "Epoch 40/100\n",
            "32/32 [==============================] - 0s 3ms/step - loss: 1186.4188\n",
            "Epoch 41/100\n",
            "32/32 [==============================] - 0s 3ms/step - loss: 1146.2574\n",
            "Epoch 42/100\n",
            "32/32 [==============================] - 0s 3ms/step - loss: 1106.6334\n",
            "Epoch 43/100\n",
            "32/32 [==============================] - 0s 4ms/step - loss: 1067.5826\n",
            "Epoch 44/100\n",
            "32/32 [==============================] - 0s 3ms/step - loss: 1029.1288\n",
            "Epoch 45/100\n",
            "32/32 [==============================] - 0s 3ms/step - loss: 991.2980\n",
            "Epoch 46/100\n",
            "32/32 [==============================] - 0s 3ms/step - loss: 954.1238\n",
            "Epoch 47/100\n",
            "32/32 [==============================] - 0s 3ms/step - loss: 917.6421\n",
            "Epoch 48/100\n",
            "32/32 [==============================] - 0s 3ms/step - loss: 881.8502\n",
            "Epoch 49/100\n",
            "32/32 [==============================] - 0s 2ms/step - loss: 846.7785\n",
            "Epoch 50/100\n",
            "32/32 [==============================] - 0s 3ms/step - loss: 812.4575\n",
            "Epoch 51/100\n",
            "32/32 [==============================] - 0s 3ms/step - loss: 778.9185\n",
            "Epoch 52/100\n",
            "32/32 [==============================] - 0s 3ms/step - loss: 746.1389\n",
            "Epoch 53/100\n",
            "32/32 [==============================] - 0s 4ms/step - loss: 714.1592\n",
            "Epoch 54/100\n",
            "32/32 [==============================] - 0s 3ms/step - loss: 682.9898\n",
            "Epoch 55/100\n",
            "32/32 [==============================] - 0s 3ms/step - loss: 652.6304\n",
            "Epoch 56/100\n",
            "32/32 [==============================] - 0s 3ms/step - loss: 623.0880\n",
            "Epoch 57/100\n",
            "32/32 [==============================] - 0s 3ms/step - loss: 594.3845\n",
            "Epoch 58/100\n",
            "32/32 [==============================] - 0s 3ms/step - loss: 566.5228\n",
            "Epoch 59/100\n",
            "32/32 [==============================] - 0s 4ms/step - loss: 539.4956\n",
            "Epoch 60/100\n",
            "32/32 [==============================] - 0s 3ms/step - loss: 513.3191\n",
            "Epoch 61/100\n",
            "32/32 [==============================] - 0s 3ms/step - loss: 487.9755\n",
            "Epoch 62/100\n",
            "32/32 [==============================] - 0s 3ms/step - loss: 463.4712\n",
            "Epoch 63/100\n",
            "32/32 [==============================] - 0s 3ms/step - loss: 439.8104\n",
            "Epoch 64/100\n",
            "32/32 [==============================] - 0s 3ms/step - loss: 416.9901\n",
            "Epoch 65/100\n",
            "32/32 [==============================] - 0s 3ms/step - loss: 394.9985\n",
            "Epoch 66/100\n",
            "32/32 [==============================] - 0s 4ms/step - loss: 373.8215\n",
            "Epoch 67/100\n",
            "32/32 [==============================] - 0s 3ms/step - loss: 353.4676\n",
            "Epoch 68/100\n",
            "32/32 [==============================] - 0s 3ms/step - loss: 333.9097\n",
            "Epoch 69/100\n",
            "32/32 [==============================] - 0s 3ms/step - loss: 315.1464\n",
            "Epoch 70/100\n",
            "32/32 [==============================] - 0s 3ms/step - loss: 297.1700\n",
            "Epoch 71/100\n",
            "32/32 [==============================] - 0s 3ms/step - loss: 279.9607\n",
            "Epoch 72/100\n",
            "32/32 [==============================] - 0s 3ms/step - loss: 263.5142\n",
            "Epoch 73/100\n",
            "32/32 [==============================] - 0s 3ms/step - loss: 247.7975\n",
            "Epoch 74/100\n",
            "32/32 [==============================] - 0s 3ms/step - loss: 232.8107\n",
            "Epoch 75/100\n",
            "32/32 [==============================] - 0s 3ms/step - loss: 218.5393\n",
            "Epoch 76/100\n",
            "32/32 [==============================] - 0s 3ms/step - loss: 204.9549\n",
            "Epoch 77/100\n",
            "32/32 [==============================] - 0s 3ms/step - loss: 192.0446\n",
            "Epoch 78/100\n",
            "32/32 [==============================] - 0s 3ms/step - loss: 179.8000\n",
            "Epoch 79/100\n",
            "32/32 [==============================] - 0s 4ms/step - loss: 168.1867\n",
            "Epoch 80/100\n",
            "32/32 [==============================] - 0s 3ms/step - loss: 157.1946\n",
            "Epoch 81/100\n",
            "32/32 [==============================] - 0s 3ms/step - loss: 146.8022\n",
            "Epoch 82/100\n",
            "32/32 [==============================] - 0s 4ms/step - loss: 136.9977\n",
            "Epoch 83/100\n",
            "32/32 [==============================] - 0s 3ms/step - loss: 127.7511\n",
            "Epoch 84/100\n",
            "32/32 [==============================] - 0s 4ms/step - loss: 119.0476\n",
            "Epoch 85/100\n",
            "32/32 [==============================] - 0s 3ms/step - loss: 110.8580\n",
            "Epoch 86/100\n",
            "32/32 [==============================] - 0s 3ms/step - loss: 103.1745\n",
            "Epoch 87/100\n",
            "32/32 [==============================] - 0s 3ms/step - loss: 95.9786\n",
            "Epoch 88/100\n",
            "32/32 [==============================] - 0s 3ms/step - loss: 89.2402\n",
            "Epoch 89/100\n",
            "32/32 [==============================] - 0s 3ms/step - loss: 82.9441\n",
            "Epoch 90/100\n",
            "32/32 [==============================] - 0s 3ms/step - loss: 77.0684\n",
            "Epoch 91/100\n",
            "32/32 [==============================] - 0s 3ms/step - loss: 71.5952\n",
            "Epoch 92/100\n",
            "32/32 [==============================] - 0s 3ms/step - loss: 66.5090\n",
            "Epoch 93/100\n",
            "32/32 [==============================] - 0s 3ms/step - loss: 61.7791\n",
            "Epoch 94/100\n",
            "32/32 [==============================] - 0s 3ms/step - loss: 57.3975\n",
            "Epoch 95/100\n",
            "32/32 [==============================] - 0s 3ms/step - loss: 53.3434\n",
            "Epoch 96/100\n",
            "32/32 [==============================] - 0s 3ms/step - loss: 49.5939\n",
            "Epoch 97/100\n",
            "32/32 [==============================] - 0s 3ms/step - loss: 46.1366\n",
            "Epoch 98/100\n",
            "32/32 [==============================] - 0s 3ms/step - loss: 42.9521\n",
            "Epoch 99/100\n",
            "32/32 [==============================] - 0s 3ms/step - loss: 40.0263\n",
            "Epoch 100/100\n",
            "32/32 [==============================] - 0s 3ms/step - loss: 37.3374\n"
          ]
        }
      ]
    },
    {
      "cell_type": "code",
      "source": [
        "#Convert to a np array so that we can use it in our LSTM Model.\n",
        "xtest = np.array(x_test)\n",
        "#Now we need to reshape our data because our dataset is 2D but the LSTM Model expects a 3D shape\n",
        "xtest = xtest.reshape(xtest.shape[0], 1, xtest.shape[1]) #Reshape data to align with parameter\n",
        "#Next we need to get the models death event\n",
        "model_pred = lstm.predict(xtest)\n",
        "model_pred;"
      ],
      "metadata": {
        "id": "y5yUTawOH3z-",
        "colab": {
          "base_uri": "https://localhost:8080/"
        },
        "outputId": "15f097ec-860d-4033-ea42-23af11e7b181"
      },
      "id": "y5yUTawOH3z-",
      "execution_count": 92,
      "outputs": [
        {
          "output_type": "stream",
          "name": "stdout",
          "text": [
            "2/2 [==============================] - 0s 6ms/step\n"
          ]
        }
      ]
    },
    {
      "cell_type": "code",
      "source": [
        "### correlation with age"
      ],
      "metadata": {
        "id": "7d7-CJA2IojS"
      },
      "id": "7d7-CJA2IojS",
      "execution_count": 93,
      "outputs": []
    },
    {
      "cell_type": "code",
      "source": [
        "sns.lineplot(data=df, x=\"age\", y=\"DEATH_EVENT\")"
      ],
      "metadata": {
        "id": "2nF25uOoH8Ho",
        "colab": {
          "base_uri": "https://localhost:8080/",
          "height": 297
        },
        "outputId": "6f605c05-a6e8-49ef-8676-e0bfa84b8690"
      },
      "id": "2nF25uOoH8Ho",
      "execution_count": 94,
      "outputs": [
        {
          "output_type": "execute_result",
          "data": {
            "text/plain": [
              "<matplotlib.axes._subplots.AxesSubplot at 0x7f08f0d16370>"
            ]
          },
          "metadata": {},
          "execution_count": 94
        },
        {
          "output_type": "display_data",
          "data": {
            "text/plain": [
              "<Figure size 432x288 with 1 Axes>"
            ],
            "image/png": "[encoded data removed]"
          },
          "metadata": {
            "needs_background": "light"
          }
        }
      ]
    },
    {
      "cell_type": "code",
      "source": [
        "sns.lineplot(data=df, x=\"high_blood_pressure\", y=\"DEATH_EVENT\")"
      ],
      "metadata": {
        "id": "gtZOzfRQIe3E",
        "colab": {
          "base_uri": "https://localhost:8080/",
          "height": 298
        },
        "outputId": "791b1046-1d2d-4b13-e49f-b4987b4f793a"
      },
      "id": "gtZOzfRQIe3E",
      "execution_count": 95,
      "outputs": [
        {
          "output_type": "execute_result",
          "data": {
            "text/plain": [
              "<matplotlib.axes._subplots.AxesSubplot at 0x7f08f115f640>"
            ]
          },
          "metadata": {},
          "execution_count": 95
        },
        {
          "output_type": "display_data",
          "data": {
            "text/plain": [
              "<Figure size 432x288 with 1 Axes>"
            ],
            "image/png": "[encoded data removed]"
          },
          "metadata": {
            "needs_background": "light"
          }
        }
      ]
    },
    {
      "cell_type": "markdown",
      "source": [
        "## correlation with time"
      ],
      "metadata": {
        "id": "Jrw8QrvXIxbG"
      },
      "id": "Jrw8QrvXIxbG"
    },
    {
      "cell_type": "code",
      "source": [
        "sns.lineplot(data=df, x=\"time\", y=\"DEATH_EVENT\")"
      ],
      "metadata": {
        "id": "irmu7SbTIjJQ",
        "colab": {
          "base_uri": "https://localhost:8080/",
          "height": 297
        },
        "outputId": "116f99f9-fa11-427c-8eb9-92e99b9b7f32"
      },
      "id": "irmu7SbTIjJQ",
      "execution_count": 96,
      "outputs": [
        {
          "output_type": "execute_result",
          "data": {
            "text/plain": [
              "<matplotlib.axes._subplots.AxesSubplot at 0x7f08f119d190>"
            ]
          },
          "metadata": {},
          "execution_count": 96
        },
        {
          "output_type": "display_data",
          "data": {
            "text/plain": [
              "<Figure size 432x288 with 1 Axes>"
            ],
            "image/png": "[encoded data removed]"
          },
          "metadata": {
            "needs_background": "light"
          }
        }
      ]
    },
    {
      "cell_type": "code",
      "source": [
        "x_test[\"DEATH_EVENT\"] = model_pred\n",
        "sns.lineplot(data=x_test, x=\"age\", y=\"DEATH_EVENT\")"
      ],
      "metadata": {
        "id": "ldbeJlbdJEGZ",
        "colab": {
          "base_uri": "https://localhost:8080/",
          "height": 297
        },
        "outputId": "2a4555e3-8ca1-47f3-bca9-772fec0ae3ec"
      },
      "id": "ldbeJlbdJEGZ",
      "execution_count": 97,
      "outputs": [
        {
          "output_type": "execute_result",
          "data": {
            "text/plain": [
              "<matplotlib.axes._subplots.AxesSubplot at 0x7f095f143a00>"
            ]
          },
          "metadata": {},
          "execution_count": 97
        },
        {
          "output_type": "display_data",
          "data": {
            "text/plain": [
              "<Figure size 432x288 with 1 Axes>"
            ],
            "image/png": "[encoded data removed]"
          },
          "metadata": {
            "needs_background": "light"
          }
        }
      ]
    },
    {
      "cell_type": "markdown",
      "source": [
        "After analysis, we have noticed that although the LSTM model follows the general trends of the graph, it sometimes over/underestimates the death event greatly.\n"
      ],
      "metadata": {
        "id": "Qp6m7_-iJ8zo"
      },
      "id": "Qp6m7_-iJ8zo"
    },
    {
      "cell_type": "markdown",
      "source": [
        "\n",
        "GOAL\n",
        "\n",
        "Our goal was to analyze death history with two different types of models. In this next part we will be using more layers of an LSTM model than our previous solution. This model will have an additional Dropout layer to further help to prevent overfitting. On our first model, we noticed that our model ws overfitting the data that we had even after training the model multiple times. Using a different and more extensive use of data. We will create and load the same data wuth a different model\n"
      ],
      "metadata": {
        "id": "3PNr56FOKCt_"
      },
      "id": "3PNr56FOKCt_"
    },
    {
      "cell_type": "code",
      "source": [
        "#First we load in the data\n",
        "new_data = pd.read_csv(dataset)\n",
        "new_data.head()\n",
        "#Next we prepare the data\n",
        "scale = MinMaxScaler(feature_range = (0, 1))\n",
        "#Next we reshape the data to be able to fit the liner regression model\n",
        "reshaped_data = new_data['DEATH_EVENT'].values.reshape(-1, 1)\n",
        "scaling_data = scale.fit_transform(reshaped_data)\n",
        "scaling_data"
      ],
      "metadata": {
        "id": "ce5tM8jMJS7J",
        "colab": {
          "base_uri": "https://localhost:8080/"
        },
        "outputId": "77050689-6983-4df4-80e9-88249c87164e"
      },
      "id": "ce5tM8jMJS7J",
      "execution_count": 98,
      "outputs": [
        {
          "output_type": "execute_result",
          "data": {
            "text/plain": [
              "array([[1.],\n",
              "       [1.],\n",
              "       [1.],\n",
              "       [1.],\n",
              "       [1.],\n",
              "       [1.],\n",
              "       [1.],\n",
              "       [1.],\n",
              "       [1.],\n",
              "       [1.],\n",
              "       [1.],\n",
              "       [1.],\n",
              "       [1.],\n",
              "       [1.],\n",
              "       [0.],\n",
              "       [1.],\n",
              "       [1.],\n",
              "       [1.],\n",
              "       [1.],\n",
              "       [1.],\n",
              "       [0.],\n",
              "       [1.],\n",
              "       [1.],\n",
              "       [0.],\n",
              "       [1.],\n",
              "       [1.],\n",
              "       [1.],\n",
              "       [1.],\n",
              "       [1.],\n",
              "       [1.],\n",
              "       [1.],\n",
              "       [1.],\n",
              "       [1.],\n",
              "       [0.],\n",
              "       [1.],\n",
              "       [1.],\n",
              "       [1.],\n",
              "       [1.],\n",
              "       [0.],\n",
              "       [1.],\n",
              "       [1.],\n",
              "       [1.],\n",
              "       [1.],\n",
              "       [0.],\n",
              "       [1.],\n",
              "       [1.],\n",
              "       [1.],\n",
              "       [1.],\n",
              "       [1.],\n",
              "       [1.],\n",
              "       [1.],\n",
              "       [1.],\n",
              "       [1.],\n",
              "       [1.],\n",
              "       [1.],\n",
              "       [1.],\n",
              "       [0.],\n",
              "       [0.],\n",
              "       [1.],\n",
              "       [1.],\n",
              "       [1.],\n",
              "       [1.],\n",
              "       [0.],\n",
              "       [1.],\n",
              "       [0.],\n",
              "       [1.],\n",
              "       [1.],\n",
              "       [1.],\n",
              "       [1.],\n",
              "       [1.],\n",
              "       [0.],\n",
              "       [0.],\n",
              "       [1.],\n",
              "       [0.],\n",
              "       [1.],\n",
              "       [1.],\n",
              "       [0.],\n",
              "       [0.],\n",
              "       [0.],\n",
              "       [0.],\n",
              "       [0.],\n",
              "       [0.],\n",
              "       [1.],\n",
              "       [0.],\n",
              "       [1.],\n",
              "       [0.],\n",
              "       [0.],\n",
              "       [0.],\n",
              "       [0.],\n",
              "       [0.],\n",
              "       [0.],\n",
              "       [0.],\n",
              "       [0.],\n",
              "       [1.],\n",
              "       [0.],\n",
              "       [0.],\n",
              "       [0.],\n",
              "       [0.],\n",
              "       [0.],\n",
              "       [0.],\n",
              "       [0.],\n",
              "       [0.],\n",
              "       [0.],\n",
              "       [0.],\n",
              "       [0.],\n",
              "       [1.],\n",
              "       [0.],\n",
              "       [0.],\n",
              "       [0.],\n",
              "       [0.],\n",
              "       [1.],\n",
              "       [0.],\n",
              "       [0.],\n",
              "       [1.],\n",
              "       [0.],\n",
              "       [0.],\n",
              "       [0.],\n",
              "       [0.],\n",
              "       [0.],\n",
              "       [1.],\n",
              "       [0.],\n",
              "       [0.],\n",
              "       [0.],\n",
              "       [0.],\n",
              "       [1.],\n",
              "       [0.],\n",
              "       [1.],\n",
              "       [0.],\n",
              "       [0.],\n",
              "       [0.],\n",
              "       [0.],\n",
              "       [0.],\n",
              "       [0.],\n",
              "       [0.],\n",
              "       [0.],\n",
              "       [0.],\n",
              "       [0.],\n",
              "       [0.],\n",
              "       [0.],\n",
              "       [0.],\n",
              "       [1.],\n",
              "       [0.],\n",
              "       [0.],\n",
              "       [0.],\n",
              "       [1.],\n",
              "       [0.],\n",
              "       [0.],\n",
              "       [0.],\n",
              "       [1.],\n",
              "       [0.],\n",
              "       [1.],\n",
              "       [0.],\n",
              "       [0.],\n",
              "       [0.],\n",
              "       [0.],\n",
              "       [0.],\n",
              "       [0.],\n",
              "       [0.],\n",
              "       [0.],\n",
              "       [0.],\n",
              "       [0.],\n",
              "       [0.],\n",
              "       [0.],\n",
              "       [1.],\n",
              "       [1.],\n",
              "       [1.],\n",
              "       [0.],\n",
              "       [1.],\n",
              "       [0.],\n",
              "       [0.],\n",
              "       [0.],\n",
              "       [0.],\n",
              "       [0.],\n",
              "       [0.],\n",
              "       [0.],\n",
              "       [0.],\n",
              "       [0.],\n",
              "       [0.],\n",
              "       [0.],\n",
              "       [0.],\n",
              "       [0.],\n",
              "       [1.],\n",
              "       [1.],\n",
              "       [1.],\n",
              "       [1.],\n",
              "       [1.],\n",
              "       [1.],\n",
              "       [1.],\n",
              "       [0.],\n",
              "       [0.],\n",
              "       [0.],\n",
              "       [0.],\n",
              "       [0.],\n",
              "       [0.],\n",
              "       [1.],\n",
              "       [1.],\n",
              "       [0.],\n",
              "       [0.],\n",
              "       [0.],\n",
              "       [0.],\n",
              "       [0.],\n",
              "       [0.],\n",
              "       [0.],\n",
              "       [0.],\n",
              "       [0.],\n",
              "       [0.],\n",
              "       [0.],\n",
              "       [0.],\n",
              "       [0.],\n",
              "       [0.],\n",
              "       [0.],\n",
              "       [0.],\n",
              "       [0.],\n",
              "       [1.],\n",
              "       [0.],\n",
              "       [0.],\n",
              "       [0.],\n",
              "       [1.],\n",
              "       [0.],\n",
              "       [0.],\n",
              "       [1.],\n",
              "       [0.],\n",
              "       [0.],\n",
              "       [0.],\n",
              "       [0.],\n",
              "       [0.],\n",
              "       [0.],\n",
              "       [0.],\n",
              "       [0.],\n",
              "       [0.],\n",
              "       [1.],\n",
              "       [0.],\n",
              "       [0.],\n",
              "       [0.],\n",
              "       [0.],\n",
              "       [0.],\n",
              "       [0.],\n",
              "       [0.],\n",
              "       [0.],\n",
              "       [0.],\n",
              "       [0.],\n",
              "       [0.],\n",
              "       [0.],\n",
              "       [0.],\n",
              "       [0.],\n",
              "       [0.],\n",
              "       [1.],\n",
              "       [0.],\n",
              "       [0.],\n",
              "       [0.],\n",
              "       [0.],\n",
              "       [0.],\n",
              "       [0.],\n",
              "       [0.],\n",
              "       [0.],\n",
              "       [0.],\n",
              "       [0.],\n",
              "       [0.],\n",
              "       [0.],\n",
              "       [0.],\n",
              "       [0.],\n",
              "       [0.],\n",
              "       [1.],\n",
              "       [0.],\n",
              "       [0.],\n",
              "       [0.],\n",
              "       [1.],\n",
              "       [0.],\n",
              "       [0.],\n",
              "       [0.],\n",
              "       [0.],\n",
              "       [0.],\n",
              "       [0.],\n",
              "       [0.],\n",
              "       [0.],\n",
              "       [0.],\n",
              "       [0.],\n",
              "       [0.],\n",
              "       [0.],\n",
              "       [0.],\n",
              "       [0.],\n",
              "       [0.],\n",
              "       [0.],\n",
              "       [0.],\n",
              "       [0.],\n",
              "       [0.],\n",
              "       [0.],\n",
              "       [0.],\n",
              "       [0.],\n",
              "       [0.],\n",
              "       [0.],\n",
              "       [0.],\n",
              "       [0.],\n",
              "       [0.],\n",
              "       [0.],\n",
              "       [0.],\n",
              "       [0.],\n",
              "       [0.],\n",
              "       [0.]])"
            ]
          },
          "metadata": {},
          "execution_count": 98
        }
      ]
    },
    {
      "cell_type": "code",
      "source": [
        "#Create empty arrays to store data to train\n",
        "xtrain = []\n",
        "ytrain = []\n",
        "length_of_scale = len(scaling_data)\n",
        "#We want to start prediction from 50 days to the end of the length of the scaled dataset\n",
        "#We are going to fill the data by starting at the 50th index and iterate until the end of the scaled data\n",
        "for values in range(50, length_of_scale):\n",
        "  #Append values to the train dataset array, we are trying to set the model to train the first 50 values and append that to xtrain\n",
        "  #Then from the 51st value that we already know we are going to set that to ytrain so that our model will be ble to predict the next values \n",
        "  xtrain.append(scaling_data[values - 50 : values, 0])\n",
        "  ytrain.append(scaling_data[values, 0])"
      ],
      "metadata": {
        "id": "eKTn3jkPJVwC"
      },
      "id": "eKTn3jkPJVwC",
      "execution_count": 99,
      "outputs": []
    },
    {
      "cell_type": "code",
      "source": [
        "#Next we start convert the data to an array\n",
        "xtrain = np.array(xtrain)\n",
        "#Now we need to reshape our data because our dataset is 2D but the LSTM Model expects a 3D shape just like our previous model\n",
        "xtrain = np.reshape(xtrain, (xtrain.shape[0], xtrain.shape[1], 1))\n",
        "ytrain = np.array(ytrain) #Converting the data to an array\n",
        "#To start building the Model, we will need to couple of things.\n",
        "#We will need to build layers. We are going to create about 7 layers for our model\n",
        "second_model = Sequential()\n",
        "second_model.add(LSTM(40, input_shape = (xtrain.shape[1], 1), return_sequences = True))\n",
        "#The Dropout layer is used to randomly sets input units to 0 with a frequency of rate\n",
        "#at each step during training time. I am adding this so as to helps prevent overfitting.\n",
        "second_model.add(Dropout(0.4))\n",
        "#Adding another lader to the model to aid in prediction\n",
        "second_model.add(LSTM(40, return_sequences = True))\n",
        "#The Dropout layer is used to randomly sets input units to 0 with a frequency of rate\n",
        "#at each step during training time. I am adding this so as to helps prevent overfitting.\n",
        "second_model.add(Dropout(0.4))\n",
        "second_model.add(LSTM(40))\n",
        "second_model.add(Dropout(0.4))\n",
        "#This will serve as the neuron that will predict the closing price value from our data after training\n",
        "second_model.add(Dense(1))\n",
        "#An optimizer is used to help imporove upon the Loss function, while the Loss function gives us information on \n",
        "#how the model did on training.\n",
        "second_model.compile(loss=\"mean_squared_error\", optimizer=\"adam\")\n",
        "second_model.fit(xtrain, ytrain, epochs = 30, batch_size = 25)"
      ],
      "metadata": {
        "id": "MTV-NpmAJiIi",
        "colab": {
          "base_uri": "https://localhost:8080/"
        },
        "outputId": "1d8458f4-7f4f-4721-b734-b91bfc2cebe3"
      },
      "id": "MTV-NpmAJiIi",
      "execution_count": 100,
      "outputs": [
        {
          "output_type": "stream",
          "name": "stdout",
          "text": [
            "Epoch 1/30\n",
            "10/10 [==============================] - 6s 72ms/step - loss: 0.1713\n",
            "Epoch 2/30\n",
            "10/10 [==============================] - 1s 67ms/step - loss: 0.1529\n",
            "Epoch 3/30\n",
            "10/10 [==============================] - 1s 68ms/step - loss: 0.1534\n",
            "Epoch 4/30\n",
            "10/10 [==============================] - 1s 71ms/step - loss: 0.1486\n",
            "Epoch 5/30\n",
            "10/10 [==============================] - 1s 68ms/step - loss: 0.1446\n",
            "Epoch 6/30\n",
            "10/10 [==============================] - 1s 69ms/step - loss: 0.1490\n",
            "Epoch 7/30\n",
            "10/10 [==============================] - 1s 75ms/step - loss: 0.1388\n",
            "Epoch 8/30\n",
            "10/10 [==============================] - 1s 144ms/step - loss: 0.1527\n",
            "Epoch 9/30\n",
            "10/10 [==============================] - 1s 118ms/step - loss: 0.1415\n",
            "Epoch 10/30\n",
            "10/10 [==============================] - 1s 81ms/step - loss: 0.1545\n",
            "Epoch 11/30\n",
            "10/10 [==============================] - 1s 68ms/step - loss: 0.1486\n",
            "Epoch 12/30\n",
            "10/10 [==============================] - 1s 67ms/step - loss: 0.1488\n",
            "Epoch 13/30\n",
            "10/10 [==============================] - 1s 69ms/step - loss: 0.1444\n",
            "Epoch 14/30\n",
            "10/10 [==============================] - 1s 68ms/step - loss: 0.1487\n",
            "Epoch 15/30\n",
            "10/10 [==============================] - 1s 67ms/step - loss: 0.1487\n",
            "Epoch 16/30\n",
            "10/10 [==============================] - 1s 70ms/step - loss: 0.1434\n",
            "Epoch 17/30\n",
            "10/10 [==============================] - 1s 67ms/step - loss: 0.1460\n",
            "Epoch 18/30\n",
            "10/10 [==============================] - 1s 70ms/step - loss: 0.1480\n",
            "Epoch 19/30\n",
            "10/10 [==============================] - 1s 69ms/step - loss: 0.1488\n",
            "Epoch 20/30\n",
            "10/10 [==============================] - 1s 69ms/step - loss: 0.1536\n",
            "Epoch 21/30\n",
            "10/10 [==============================] - 1s 71ms/step - loss: 0.1462\n",
            "Epoch 22/30\n",
            "10/10 [==============================] - 1s 71ms/step - loss: 0.1458\n",
            "Epoch 23/30\n",
            "10/10 [==============================] - 1s 73ms/step - loss: 0.1422\n",
            "Epoch 24/30\n",
            "10/10 [==============================] - 1s 69ms/step - loss: 0.1475\n",
            "Epoch 25/30\n",
            "10/10 [==============================] - 1s 70ms/step - loss: 0.1447\n",
            "Epoch 26/30\n",
            "10/10 [==============================] - 1s 73ms/step - loss: 0.1460\n",
            "Epoch 27/30\n",
            "10/10 [==============================] - 1s 71ms/step - loss: 0.1470\n",
            "Epoch 28/30\n",
            "10/10 [==============================] - 1s 69ms/step - loss: 0.1455\n",
            "Epoch 29/30\n",
            "10/10 [==============================] - 1s 69ms/step - loss: 0.1423\n",
            "Epoch 30/30\n",
            "10/10 [==============================] - 1s 67ms/step - loss: 0.1415\n"
          ]
        },
        {
          "output_type": "execute_result",
          "data": {
            "text/plain": [
              "<keras.callbacks.History at 0x7f095ef3cbb0>"
            ]
          },
          "metadata": {},
          "execution_count": 100
        }
      ]
    },
    {
      "cell_type": "code",
      "source": [
        "#Get test data\n",
        "test = pd.read_csv(dataset) \n",
        "test.head() \n",
        "right_death_values = test['DEATH_EVENT'].values\n",
        "all_data = pd.concat((new_data['DEATH_EVENT'], test['DEATH_EVENT']))\n",
        "all_data.head() \n",
        "all_data_length = len(all_data)\n",
        "test_length = len(test) \n",
        "data_sum = all_data_length - test_length \n",
        "prediction_model = all_data[data_sum - 50 : ].values \n",
        "\n",
        "#Next we need to scale it like before and all we are doing here is repeating the process above\n",
        "prediction_model = prediction_model.reshape(-1, 1) #We need to reshape this model to column without changing its data\n",
        "\n",
        "prediction_model_length = len(prediction_model)\n",
        "prediction_model = scale.transform(prediction_model) #We need to transform because initially we scaled it up before. So now we have to turn it back to data we can use\n",
        "#create new testing variable array\n",
        "new_tester = []\n",
        "#Now we can make predictions with all the data we have, which is what we did earlier, we are just repeating the step\n",
        "for values in range(50, prediction_model_length):\n",
        "  #Populate the array\n",
        "  new_tester.append(prediction_model[values - 50 : values, 0])"
      ],
      "metadata": {
        "id": "_2yxObfDJlBk"
      },
      "id": "_2yxObfDJlBk",
      "execution_count": 105,
      "outputs": []
    },
    {
      "cell_type": "code",
      "source": [
        "#After populating the array, next we \n",
        "new_tester = np.array(new_tester)\n",
        "#Have to reshape new tester to fit the size of a 3D shape\n",
        "new_tester = np.reshape(new_tester, (new_tester.shape[0], new_tester.shape[1], 1))\n",
        "#After gathering all the info now we can predict the stock prices\n",
        "potential_death = second_model.predict(new_tester)\n",
        "#potential_prices = scaler.inverse_transform(potential_prices)\n",
        "revert_deaths = scale.inverse_transform(potential_death)\n",
        "revert_deaths"
      ],
      "metadata": {
        "id": "RJKmWRzvJnp6",
        "colab": {
          "base_uri": "https://localhost:8080/"
        },
        "outputId": "694597bd-a28a-4472-9749-489a4839ac4c"
      },
      "id": "RJKmWRzvJnp6",
      "execution_count": 106,
      "outputs": [
        {
          "output_type": "stream",
          "name": "stdout",
          "text": [
            "10/10 [==============================] - 1s 20ms/step\n"
          ]
        },
        {
          "output_type": "execute_result",
          "data": {
            "text/plain": [
              "array([[0.07817352],\n",
              "       [0.08405893],\n",
              "       [0.09703445],\n",
              "       [0.11573766],\n",
              "       [0.13845396],\n",
              "       [0.16381344],\n",
              "       [0.19094072],\n",
              "       [0.21936442],\n",
              "       [0.24885704],\n",
              "       [0.2792882 ],\n",
              "       [0.31052303],\n",
              "       [0.34236857],\n",
              "       [0.37455872],\n",
              "       [0.40676472],\n",
              "       [0.4387804 ],\n",
              "       [0.45797977],\n",
              "       [0.47527704],\n",
              "       [0.49311185],\n",
              "       [0.5120951 ],\n",
              "       [0.5314924 ],\n",
              "       [0.5508768 ],\n",
              "       [0.55740595],\n",
              "       [0.56232965],\n",
              "       [0.56809527],\n",
              "       [0.5632675 ],\n",
              "       [0.55899745],\n",
              "       [0.55749404],\n",
              "       [0.5589766 ],\n",
              "       [0.5629104 ],\n",
              "       [0.5686116 ],\n",
              "       [0.57549524],\n",
              "       [0.5831385 ],\n",
              "       [0.59126574],\n",
              "       [0.5997054 ],\n",
              "       [0.5958863 ],\n",
              "       [0.59166807],\n",
              "       [0.58960813],\n",
              "       [0.59028345],\n",
              "       [0.59340173],\n",
              "       [0.58612067],\n",
              "       [0.579609  ],\n",
              "       [0.57602775],\n",
              "       [0.57566696],\n",
              "       [0.57805485],\n",
              "       [0.570383  ],\n",
              "       [0.5636408 ],\n",
              "       [0.55997527],\n",
              "       [0.5596754 ],\n",
              "       [0.5622725 ],\n",
              "       [0.5671041 ],\n",
              "       [0.5735571 ],\n",
              "       [0.5815225 ],\n",
              "       [0.59021896],\n",
              "       [0.59938717],\n",
              "       [0.6088354 ],\n",
              "       [0.6184146 ],\n",
              "       [0.62799937],\n",
              "       [0.624811  ],\n",
              "       [0.6089851 ],\n",
              "       [0.5944186 ],\n",
              "       [0.58431286],\n",
              "       [0.5790208 ],\n",
              "       [0.5777717 ],\n",
              "       [0.5675252 ],\n",
              "       [0.5588334 ],\n",
              "       [0.5417984 ],\n",
              "       [0.5282135 ],\n",
              "       [0.51974523],\n",
              "       [0.5163091 ],\n",
              "       [0.51704454],\n",
              "       [0.52097434],\n",
              "       [0.5151419 ],\n",
              "       [0.49977145],\n",
              "       [0.48705998],\n",
              "       [0.46881166],\n",
              "       [0.45595875],\n",
              "       [0.44974592],\n",
              "       [0.4388203 ],\n",
              "       [0.4218788 ],\n",
              "       [0.40009755],\n",
              "       [0.3753402 ],\n",
              "       [0.34933937],\n",
              "       [0.32341328],\n",
              "       [0.30642143],\n",
              "       [0.2903954 ],\n",
              "       [0.28230223],\n",
              "       [0.27321544],\n",
              "       [0.26143563],\n",
              "       [0.24735875],\n",
              "       [0.2317326 ],\n",
              "       [0.21622546],\n",
              "       [0.20125365],\n",
              "       [0.18729115],\n",
              "       [0.1745657 ],\n",
              "       [0.16972823],\n",
              "       [0.16636056],\n",
              "       [0.16195999],\n",
              "       [0.15623493],\n",
              "       [0.14960274],\n",
              "       [0.14262263],\n",
              "       [0.13576153],\n",
              "       [0.12932809],\n",
              "       [0.12348214],\n",
              "       [0.11827113],\n",
              "       [0.11367017],\n",
              "       [0.10961564],\n",
              "       [0.11248101],\n",
              "       [0.11548993],\n",
              "       [0.11678775],\n",
              "       [0.11637942],\n",
              "       [0.11452037],\n",
              "       [0.11854145],\n",
              "       [0.1222306 ],\n",
              "       [0.12370574],\n",
              "       [0.13045701],\n",
              "       [0.1356019 ],\n",
              "       [0.13806112],\n",
              "       [0.13793305],\n",
              "       [0.13605346],\n",
              "       [0.13323258],\n",
              "       [0.13696924],\n",
              "       [0.14055943],\n",
              "       [0.14223395],\n",
              "       [0.14198641],\n",
              "       [0.13998534],\n",
              "       [0.1441108 ],\n",
              "       [0.14769036],\n",
              "       [0.15628639],\n",
              "       [0.1625531 ],\n",
              "       [0.16492693],\n",
              "       [0.1638814 ],\n",
              "       [0.1604924 ],\n",
              "       [0.15579829],\n",
              "       [0.1507173 ],\n",
              "       [0.14544283],\n",
              "       [0.14052428],\n",
              "       [0.1357722 ],\n",
              "       [0.13133653],\n",
              "       [0.12717065],\n",
              "       [0.12321562],\n",
              "       [0.11941968],\n",
              "       [0.12225904],\n",
              "       [0.12514675],\n",
              "       [0.12605417],\n",
              "       [0.12497857],\n",
              "       [0.1290311 ],\n",
              "       [0.13216034],\n",
              "       [0.13287006],\n",
              "       [0.13138264],\n",
              "       [0.1354476 ],\n",
              "       [0.13879277],\n",
              "       [0.14734282],\n",
              "       [0.15375517],\n",
              "       [0.15652874],\n",
              "       [0.15612994],\n",
              "       [0.15358679],\n",
              "       [0.15001954],\n",
              "       [0.14582443],\n",
              "       [0.14159721],\n",
              "       [0.13754472],\n",
              "       [0.13372491],\n",
              "       [0.13025738],\n",
              "       [0.12677473],\n",
              "       [0.12337828],\n",
              "       [0.12672557],\n",
              "       [0.13721848],\n",
              "       [0.15355845],\n",
              "       [0.16540386],\n",
              "       [0.17904536],\n",
              "       [0.18727598],\n",
              "       [0.18977927],\n",
              "       [0.18765594],\n",
              "       [0.18279289],\n",
              "       [0.17661722],\n",
              "       [0.17009501],\n",
              "       [0.16391571],\n",
              "       [0.15800504],\n",
              "       [0.15269767],\n",
              "       [0.14762712],\n",
              "       [0.14283933],\n",
              "       [0.13822758],\n",
              "       [0.1337104 ],\n",
              "       [0.13585132],\n",
              "       [0.14533843],\n",
              "       [0.16071244],\n",
              "       [0.1801732 ],\n",
              "       [0.20229273],\n",
              "       [0.2261683 ],\n",
              "       [0.25132886],\n",
              "       [0.26739395],\n",
              "       [0.27390164],\n",
              "       [0.27308664],\n",
              "       [0.26712704],\n",
              "       [0.25832728],\n",
              "       [0.24818745],\n",
              "       [0.24568497],\n",
              "       [0.2516009 ],\n",
              "       [0.25545725],\n",
              "       [0.25468767],\n",
              "       [0.24964301],\n",
              "       [0.24112181],\n",
              "       [0.23072584],\n",
              "       [0.21916045],\n",
              "       [0.20734188],\n",
              "       [0.19573829],\n",
              "       [0.1846127 ],\n",
              "       [0.17409034],\n",
              "       [0.16421367],\n",
              "       [0.15498176],\n",
              "       [0.14637549],\n",
              "       [0.13837186],\n",
              "       [0.13095039],\n",
              "       [0.12409507],\n",
              "       [0.1177935 ],\n",
              "       [0.11861365],\n",
              "       [0.11986333],\n",
              "       [0.11953489],\n",
              "       [0.11733714],\n",
              "       [0.12086767],\n",
              "       [0.12364143],\n",
              "       [0.12428889],\n",
              "       [0.1300672 ],\n",
              "       [0.13456342],\n",
              "       [0.13636751],\n",
              "       [0.13579896],\n",
              "       [0.1336769 ],\n",
              "       [0.13078007],\n",
              "       [0.12766516],\n",
              "       [0.12465185],\n",
              "       [0.1218728 ],\n",
              "       [0.11933844],\n",
              "       [0.1236245 ],\n",
              "       [0.12817395],\n",
              "       [0.13064173],\n",
              "       [0.13080664],\n",
              "       [0.1291741 ],\n",
              "       [0.12639898],\n",
              "       [0.12304434],\n",
              "       [0.11951067],\n",
              "       [0.11591688],\n",
              "       [0.11253485],\n",
              "       [0.10940602],\n",
              "       [0.10652466],\n",
              "       [0.10386285],\n",
              "       [0.10138674],\n",
              "       [0.09919491],\n",
              "       [0.09711397],\n",
              "       [0.10137568],\n",
              "       [0.10570392],\n",
              "       [0.10809158],\n",
              "       [0.10840116],\n",
              "       [0.10717921],\n",
              "       [0.10508683],\n",
              "       [0.10266754],\n",
              "       [0.10028505],\n",
              "       [0.09813751],\n",
              "       [0.09629869],\n",
              "       [0.09476213],\n",
              "       [0.09347814],\n",
              "       [0.09238069],\n",
              "       [0.09140468],\n",
              "       [0.09049553],\n",
              "       [0.0896132 ],\n",
              "       [0.09507008],\n",
              "       [0.10061172],\n",
              "       [0.10395019],\n",
              "       [0.10509451],\n",
              "       [0.1113279 ],\n",
              "       [0.11668018],\n",
              "       [0.1193689 ],\n",
              "       [0.11974242],\n",
              "       [0.11866471],\n",
              "       [0.11661272],\n",
              "       [0.11427619],\n",
              "       [0.11198804],\n",
              "       [0.1099022 ],\n",
              "       [0.10805036],\n",
              "       [0.10639447],\n",
              "       [0.10486694],\n",
              "       [0.10339728],\n",
              "       [0.10192746],\n",
              "       [0.10053979],\n",
              "       [0.0989587 ],\n",
              "       [0.09731901],\n",
              "       [0.09563313],\n",
              "       [0.09392245],\n",
              "       [0.09221314],\n",
              "       [0.09053265],\n",
              "       [0.088907  ],\n",
              "       [0.08735906],\n",
              "       [0.08590738],\n",
              "       [0.08456574],\n",
              "       [0.08334312],\n",
              "       [0.08224401],\n",
              "       [0.08126899],\n",
              "       [0.08041534],\n",
              "       [0.07967767],\n",
              "       [0.07916743],\n",
              "       [0.07862489]], dtype=float32)"
            ]
          },
          "metadata": {},
          "execution_count": 106
        }
      ]
    },
    {
      "cell_type": "code",
      "source": [
        "#Plot predictions\n",
        "plt.plot(right_death_values, color = 'green')\n",
        "plt.plot(revert_deaths, color = 'blue')\n",
        "plt.xlabel(\"Number of Deaths \", fontweight = \"bold\")\n",
        "plt.ylabel(\"Probability of Dying\", fontweight = \"bold\")"
      ],
      "metadata": {
        "id": "weT-uU6SJp_z",
        "colab": {
          "base_uri": "https://localhost:8080/",
          "height": 297
        },
        "outputId": "fd1b06e5-103d-473f-a825-ac06c5783526"
      },
      "id": "weT-uU6SJp_z",
      "execution_count": 107,
      "outputs": [
        {
          "output_type": "execute_result",
          "data": {
            "text/plain": [
              "Text(0, 0.5, 'Probability of Dying')"
            ]
          },
          "metadata": {},
          "execution_count": 107
        },
        {
          "output_type": "display_data",
          "data": {
            "text/plain": [
              "<Figure size 432x288 with 1 Axes>"
            ],
            "image/png": "[encoded data removed]"
          },
          "metadata": {
            "needs_background": "light"
          }
        }
      ]
    },
    {
      "cell_type": "code",
      "source": [
        "df.head()"
      ],
      "metadata": {
        "colab": {
          "base_uri": "https://localhost:8080/",
          "height": 270
        },
        "id": "aH13EggRmIy_",
        "outputId": "0593afe3-7ac5-4170-ad98-9bd10b06f6eb"
      },
      "id": "aH13EggRmIy_",
      "execution_count": 108,
      "outputs": [
        {
          "output_type": "execute_result",
          "data": {
            "text/plain": [
              "    age  anaemia  creatinine_phosphokinase  diabetes  ejection_fraction  \\\n",
              "0  75.0        0                       582         0                 20   \n",
              "1  55.0        0                      7861         0                 38   \n",
              "2  65.0        0                       146         0                 20   \n",
              "3  50.0        1                       111         0                 20   \n",
              "4  65.0        1                       160         1                 20   \n",
              "\n",
              "   high_blood_pressure  platelets  serum_creatinine  serum_sodium  sex  \\\n",
              "0                    1  265000.00               1.9           130    1   \n",
              "1                    0  263358.03               1.1           136    1   \n",
              "2                    0  162000.00               1.3           129    1   \n",
              "3                    0  210000.00               1.9           137    1   \n",
              "4                    0  327000.00               2.7           116    0   \n",
              "\n",
              "   smoking  time  DEATH_EVENT  \n",
              "0        0     4            1  \n",
              "1        0     6            1  \n",
              "2        1     7            1  \n",
              "3        0     7            1  \n",
              "4        0     8            1  "
            ],
            "text/html": [
              "\n",
              "  <div id=\"df-3252c5b3-ffc3-41d0-8b05-fc83c8c25dc5\">\n",
              "    <div class=\"colab-df-container\">\n",
              "      <div>\n",
              "<style scoped>\n",
              "    .dataframe tbody tr th:only-of-type {\n",
              "        vertical-align: middle;\n",
              "    }\n",
              "\n",
              "    .dataframe tbody tr th {\n",
              "        vertical-align: top;\n",
              "    }\n",
              "\n",
              "    .dataframe thead th {\n",
              "        text-align: right;\n",
              "    }\n",
              "</style>\n",
              "<table border=\"1\" class=\"dataframe\">\n",
              "  <thead>\n",
              "    <tr style=\"text-align: right;\">\n",
              "      <th></th>\n",
              "      <th>age</th>\n",
              "      <th>anaemia</th>\n",
              "      <th>creatinine_phosphokinase</th>\n",
              "      <th>diabetes</th>\n",
              "      <th>ejection_fraction</th>\n",
              "      <th>high_blood_pressure</th>\n",
              "      <th>platelets</th>\n",
              "      <th>serum_creatinine</th>\n",
              "      <th>serum_sodium</th>\n",
              "      <th>sex</th>\n",
              "      <th>smoking</th>\n",
              "      <th>time</th>\n",
              "      <th>DEATH_EVENT</th>\n",
              "    </tr>\n",
              "  </thead>\n",
              "  <tbody>\n",
              "    <tr>\n",
              "      <th>0</th>\n",
              "      <td>75.0</td>\n",
              "      <td>0</td>\n",
              "      <td>582</td>\n",
              "      <td>0</td>\n",
              "      <td>20</td>\n",
              "      <td>1</td>\n",
              "      <td>265000.00</td>\n",
              "      <td>1.9</td>\n",
              "      <td>130</td>\n",
              "      <td>1</td>\n",
              "      <td>0</td>\n",
              "      <td>4</td>\n",
              "      <td>1</td>\n",
              "    </tr>\n",
              "    <tr>\n",
              "      <th>1</th>\n",
              "      <td>55.0</td>\n",
              "      <td>0</td>\n",
              "      <td>7861</td>\n",
              "      <td>0</td>\n",
              "      <td>38</td>\n",
              "      <td>0</td>\n",
              "      <td>263358.03</td>\n",
              "      <td>1.1</td>\n",
              "      <td>136</td>\n",
              "      <td>1</td>\n",
              "      <td>0</td>\n",
              "      <td>6</td>\n",
              "      <td>1</td>\n",
              "    </tr>\n",
              "    <tr>\n",
              "      <th>2</th>\n",
              "      <td>65.0</td>\n",
              "      <td>0</td>\n",
              "      <td>146</td>\n",
              "      <td>0</td>\n",
              "      <td>20</td>\n",
              "      <td>0</td>\n",
              "      <td>162000.00</td>\n",
              "      <td>1.3</td>\n",
              "      <td>129</td>\n",
              "      <td>1</td>\n",
              "      <td>1</td>\n",
              "      <td>7</td>\n",
              "      <td>1</td>\n",
              "    </tr>\n",
              "    <tr>\n",
              "      <th>3</th>\n",
              "      <td>50.0</td>\n",
              "      <td>1</td>\n",
              "      <td>111</td>\n",
              "      <td>0</td>\n",
              "      <td>20</td>\n",
              "      <td>0</td>\n",
              "      <td>210000.00</td>\n",
              "      <td>1.9</td>\n",
              "      <td>137</td>\n",
              "      <td>1</td>\n",
              "      <td>0</td>\n",
              "      <td>7</td>\n",
              "      <td>1</td>\n",
              "    </tr>\n",
              "    <tr>\n",
              "      <th>4</th>\n",
              "      <td>65.0</td>\n",
              "      <td>1</td>\n",
              "      <td>160</td>\n",
              "      <td>1</td>\n",
              "      <td>20</td>\n",
              "      <td>0</td>\n",
              "      <td>327000.00</td>\n",
              "      <td>2.7</td>\n",
              "      <td>116</td>\n",
              "      <td>0</td>\n",
              "      <td>0</td>\n",
              "      <td>8</td>\n",
              "      <td>1</td>\n",
              "    </tr>\n",
              "  </tbody>\n",
              "</table>\n",
              "</div>\n",
              "      <button class=\"colab-df-convert\" onclick=\"convertToInteractive('df-3252c5b3-ffc3-41d0-8b05-fc83c8c25dc5')\"\n",
              "              title=\"Convert this dataframe to an interactive table.\"\n",
              "              style=\"display:none;\">\n",
              "        \n",
              "  <svg xmlns=\"http://www.w3.org/2000/svg\" height=\"24px\"viewBox=\"0 0 24 24\"\n",
              "       width=\"24px\">\n",
              "    <path d=\"M0 0h24v24H0V0z\" fill=\"none\"/>\n",
              "    <path d=\"M18.56 5.44l.94 2.06.94-2.06 2.06-.94-2.06-.94-.94-2.06-.94 2.06-2.06.94zm-11 1L8.5 8.5l.94-2.06 2.06-.94-2.06-.94L8.5 2.5l-.94 2.06-2.06.94zm10 10l.94 2.06.94-2.06 2.06-.94-2.06-.94-.94-2.06-.94 2.06-2.06.94z\"/><path d=\"M17.41 7.96l-1.37-1.37c-.4-.4-.92-.59-1.43-.59-.52 0-1.04.2-1.43.59L10.3 9.45l-7.72 7.72c-.78.78-.78 2.05 0 2.83L4 21.41c.39.39.9.59 1.41.59.51 0 1.02-.2 1.41-.59l7.78-7.78 2.81-2.81c.8-.78.8-2.07 0-2.86zM5.41 20L4 18.59l7.72-7.72 1.47 1.35L5.41 20z\"/>\n",
              "  </svg>\n",
              "      </button>\n",
              "      \n",
              "  <style>\n",
              "    .colab-df-container {\n",
              "      display:flex;\n",
              "      flex-wrap:wrap;\n",
              "      gap: 12px;\n",
              "    }\n",
              "\n",
              "    .colab-df-convert {\n",
              "      background-color: #E8F0FE;\n",
              "      border: none;\n",
              "      border-radius: 50%;\n",
              "      cursor: pointer;\n",
              "      display: none;\n",
              "      fill: #1967D2;\n",
              "      height: 32px;\n",
              "      padding: 0 0 0 0;\n",
              "      width: 32px;\n",
              "    }\n",
              "\n",
              "    .colab-df-convert:hover {\n",
              "      background-color: #E2EBFA;\n",
              "      box-shadow: 0px 1px 2px rgba(60, 64, 67, 0.3), 0px 1px 3px 1px rgba(60, 64, 67, 0.15);\n",
              "      fill: #174EA6;\n",
              "    }\n",
              "\n",
              "    [theme=dark] .colab-df-convert {\n",
              "      background-color: #3B4455;\n",
              "      fill: #D2E3FC;\n",
              "    }\n",
              "\n",
              "    [theme=dark] .colab-df-convert:hover {\n",
              "      background-color: #434B5C;\n",
              "      box-shadow: 0px 1px 3px 1px rgba(0, 0, 0, 0.15);\n",
              "      filter: drop-shadow(0px 1px 2px rgba(0, 0, 0, 0.3));\n",
              "      fill: #FFFFFF;\n",
              "    }\n",
              "  </style>\n",
              "\n",
              "      <script>\n",
              "        const buttonEl =\n",
              "          document.querySelector('#df-3252c5b3-ffc3-41d0-8b05-fc83c8c25dc5 button.colab-df-convert');\n",
              "        buttonEl.style.display =\n",
              "          google.colab.kernel.accessAllowed ? 'block' : 'none';\n",
              "\n",
              "        async function convertToInteractive(key) {\n",
              "          const element = document.querySelector('#df-3252c5b3-ffc3-41d0-8b05-fc83c8c25dc5');\n",
              "          const dataTable =\n",
              "            await google.colab.kernel.invokeFunction('convertToInteractive',\n",
              "                                                     [key], {});\n",
              "          if (!dataTable) return;\n",
              "\n",
              "          const docLinkHtml = 'Like what you see? Visit the ' +\n",
              "            '<a target=\"_blank\" href=https://colab.research.google.com/notebooks/data_table.ipynb>data table notebook</a>'\n",
              "            + ' to learn more about interactive tables.';\n",
              "          element.innerHTML = '';\n",
              "          dataTable['output_type'] = 'display_data';\n",
              "          await google.colab.output.renderOutput(dataTable, element);\n",
              "          const docLink = document.createElement('div');\n",
              "          docLink.innerHTML = docLinkHtml;\n",
              "          element.appendChild(docLink);\n",
              "        }\n",
              "      </script>\n",
              "    </div>\n",
              "  </div>\n",
              "  "
            ]
          },
          "metadata": {},
          "execution_count": 108
        }
      ]
    },
    {
      "cell_type": "markdown",
      "source": [
        "## Hypothesis Testing on heart failure\n",
        "\n",
        "#### How related to blood pressure\n",
        "\n",
        "---\n",
        "\n",
        "\n",
        "\n",
        "---\n",
        "\n"
      ],
      "metadata": {
        "id": "l2gHG35Vl6yF"
      },
      "id": "l2gHG35Vl6yF"
    },
    {
      "cell_type": "code",
      "source": [
        "import pandas as pd\n",
        "from scipy import stats\n",
        "from statsmodels.stats import weightstats as stests"
      ],
      "metadata": {
        "id": "I9L_jlIulg8J"
      },
      "id": "I9L_jlIulg8J",
      "execution_count": 109,
      "outputs": []
    },
    {
      "cell_type": "code",
      "source": [
        "ztest ,pval = stests.ztest(df['high_blood_pressure'], x2=None, value=12)\n",
        "print(float(pval))\n",
        "if pval<0.05:\n",
        "    print(\"reject null hypothesis\")\n",
        "else:\n",
        "    print(\"accept null hypothesis\")"
      ],
      "metadata": {
        "colab": {
          "base_uri": "https://localhost:8080/"
        },
        "id": "rAD7YIRvmcwH",
        "outputId": "53a7d38a-c529-4da3-dec8-d720aa6590ae"
      },
      "id": "rAD7YIRvmcwH",
      "execution_count": 110,
      "outputs": [
        {
          "output_type": "stream",
          "name": "stdout",
          "text": [
            "0.0\n",
            "reject null hypothesis\n"
          ]
        }
      ]
    },
    {
      "cell_type": "code",
      "source": [
        "from scipy.stats import ttest_ind\n",
        "df1 = np.genfromtxt(dataset,  delimiter=\",\")\n",
        "df2 = np.genfromtxt(dataset,  delimiter=\",\")\n",
        "print(df1)\n",
        "print(\"df2 data :-\\n\")\n",
        "print(df2)\n",
        "df1_mean = np.mean(df1)\n",
        "df2_mean = np.mean(df2)\n",
        "print(\"df1 mean value:\",df1_mean)\n",
        "print(\"df2 mean value:\",df2_mean)\n",
        "df1_std = np.std(df1)\n",
        "df2_std = np.std(df2)\n",
        "print(\"df1 std value:\",df1_std)\n",
        "print(\"df2 std value:\",df2_std)\n",
        "ttest,pval = ttest_ind(df1,df2)\n",
        "print(\"p-value\",pval)\n",
        "if pval.all() <0.05:\n",
        "  print(\"we reject null hypothesis\")\n",
        "else:\n",
        "  print(\"we accept null hypothesis\")\n",
        "if pval.any() <0.05:\n",
        "  print(\"we reject null hypothesis\")\n",
        "else:\n",
        "  print(\"we accept null hypothesis\")"
      ],
      "metadata": {
        "colab": {
          "base_uri": "https://localhost:8080/"
        },
        "id": "Vx070YVAnNp_",
        "outputId": "9cc09e7a-29f8-40cc-a541-dcf02432634a"
      },
      "id": "Vx070YVAnNp_",
      "execution_count": 111,
      "outputs": [
        {
          "output_type": "stream",
          "name": "stdout",
          "text": [
            "[[      nan       nan       nan ...       nan       nan       nan]\n",
            " [7.500e+01 0.000e+00 5.820e+02 ... 0.000e+00 4.000e+00 1.000e+00]\n",
            " [5.500e+01 0.000e+00 7.861e+03 ... 0.000e+00 6.000e+00 1.000e+00]\n",
            " ...\n",
            " [4.500e+01 0.000e+00 2.060e+03 ... 0.000e+00 2.780e+02 0.000e+00]\n",
            " [4.500e+01 0.000e+00 2.413e+03 ... 1.000e+00 2.800e+02 0.000e+00]\n",
            " [5.000e+01 0.000e+00 1.960e+02 ... 1.000e+00 2.850e+02 0.000e+00]]\n",
            "df2 data :-\n",
            "\n",
            "[[      nan       nan       nan ...       nan       nan       nan]\n",
            " [7.500e+01 0.000e+00 5.820e+02 ... 0.000e+00 4.000e+00 1.000e+00]\n",
            " [5.500e+01 0.000e+00 7.861e+03 ... 0.000e+00 6.000e+00 1.000e+00]\n",
            " ...\n",
            " [4.500e+01 0.000e+00 2.060e+03 ... 0.000e+00 2.780e+02 0.000e+00]\n",
            " [4.500e+01 0.000e+00 2.413e+03 ... 1.000e+00 2.800e+02 0.000e+00]\n",
            " [5.000e+01 0.000e+00 1.960e+02 ... 1.000e+00 2.850e+02 0.000e+00]]\n",
            "df1 mean value: nan\n",
            "df2 mean value: nan\n",
            "df1 std value: nan\n",
            "df2 std value: nan\n",
            "p-value [nan nan nan nan nan nan nan nan nan nan nan nan nan]\n",
            "we accept null hypothesis\n",
            "we accept null hypothesis\n"
          ]
        }
      ]
    },
    {
      "cell_type": "code",
      "source": [
        "print(df.columns.values.tolist())"
      ],
      "metadata": {
        "colab": {
          "base_uri": "https://localhost:8080/"
        },
        "id": "WSztUSfZoL0e",
        "outputId": "37f7a4d4-1046-431b-e05f-8d34e9dc37ff"
      },
      "id": "WSztUSfZoL0e",
      "execution_count": 112,
      "outputs": [
        {
          "output_type": "stream",
          "name": "stdout",
          "text": [
            "['age', 'anaemia', 'creatinine_phosphokinase', 'diabetes', 'ejection_fraction', 'high_blood_pressure', 'platelets', 'serum_creatinine', 'serum_sodium', 'sex', 'smoking', 'time', 'DEATH_EVENT']\n"
          ]
        }
      ]
    },
    {
      "cell_type": "code",
      "source": [],
      "metadata": {
        "id": "388GnolOnwrN"
      },
      "id": "388GnolOnwrN",
      "execution_count": 112,
      "outputs": []
    },
    {
      "cell_type": "markdown",
      "source": [
        "\n",
        "\n",
        "LSTM COMPARISON\n",
        "\n",
        "As you can see, this new LSTM model with more layers gave use a better heart failure prediction. Through Neural Networks, we set up predictions as to how likely someone is to have a heart failure as they age. On our second model, the Blue line serves as our predicted heart failures over the time scale. We an say with high level of confidence that our second approximation supersedes the first.\n",
        "\n",
        "THEOREM\n",
        "\n",
        "We suspected that the more layers we add and the more neurons we use for the model, the better our model and approximation will become. We created a random sampling of our dataset. With all this data, we were ready to create the perfect neural network. We had all the data that we needed and we knew that there was a set optimal number of layers and neurons that our model needed to create the perfect configuration. As you can tell by our previous model, some of our predictions were overfitted. On this next model, we solved this problem by providing the model with the exact amount of neurons and layers that it needed to do the job. The result was the Neural Network predicting a better closing price estimation over the time scale.\n",
        "\n",
        "CONCLUSION\n",
        "\n",
        "In conclusion, with the use of machine learning, we have successfuly analyzed and predicted the heart failures based on factors stated diabetes, age, smoking, sex, serum sodium levels, serum creatinine levels, platelets levels, creatinine phosphokinase levels. This prediction was derived with the analysis of the columns of the given dataset. We then factored in thanks to these parameters, With all these parameters factored in, a great esimation to what the probability of having a heart attack looks like based on using all the above fearture parameters. Although this model yielded a pretty close estimation, the probability of having a heart attack varies across different individuals, their health habits, their genetics etc. These factors can not be predicted ahead of time because of the nature of situations. Through Machine Learning algorithms, technology is able to saves us time and money in the sense that we can look at historical data and a specific case and give advice on what an individual needs to do to prevent a heart attack.\n"
      ],
      "metadata": {
        "id": "QwVlc3B5xLzW"
      },
      "id": "QwVlc3B5xLzW"
    },
    {
      "cell_type": "code",
      "source": [
        "from google.colab import drive\n",
        "drive.mount('/content/drive')"
      ],
      "metadata": {
        "id": "7LfsiTeMNhho",
        "colab": {
          "base_uri": "https://localhost:8080/"
        },
        "outputId": "c3eaf8a9-ca42-4de0-d81a-011c742a3a40"
      },
      "id": "7LfsiTeMNhho",
      "execution_count": 113,
      "outputs": [
        {
          "output_type": "stream",
          "name": "stdout",
          "text": [
            "Mounted at /content/drive\n"
          ]
        }
      ]
    },
    {
      "cell_type": "code",
      "source": [
        "! pwd "
      ],
      "metadata": {
        "id": "KC5y9jMkEuZj",
        "colab": {
          "base_uri": "https://localhost:8080/"
        },
        "outputId": "4a812974-0ffd-4a4b-b0cb-81ad9aa29dd6"
      },
      "id": "KC5y9jMkEuZj",
      "execution_count": 114,
      "outputs": [
        {
          "output_type": "stream",
          "name": "stdout",
          "text": [
            "/content\n"
          ]
        }
      ]
    },
    {
      "cell_type": "code",
      "source": [
        "%%shell\n",
        "jupyter nbconvert --to html /content/heart_failure_prediction.ipynb"
      ],
      "metadata": {
        "id": "8z71yv5vEvw9"
      },
      "id": "8z71yv5vEvw9",
      "execution_count": null,
      "outputs": []
    },
    {
      "cell_type": "code",
      "source": [],
      "metadata": {
        "id": "0ukoEjOQPTCW"
      },
      "id": "0ukoEjOQPTCW",
      "execution_count": null,
      "outputs": []
    }
  ],
  "metadata": {
    "kernelspec": {
      "display_name": "Python 3 (ipykernel)",
      "language": "python",
      "name": "python3"
    },
    "language_info": {
      "codemirror_mode": {
        "name": "ipython",
        "version": 3
      },
      "file_extension": ".py",
      "mimetype": "text/x-python",
      "name": "python",
      "nbconvert_exporter": "python",
      "pygments_lexer": "ipython3",
      "version": "3.9.7"
    },
    "papermill": {
      "default_parameters": {},
      "duration": 57.531594,
      "end_time": "2022-12-04T11:41:19.514568",
      "environment_variables": {},
      "exception": null,
      "input_path": "__notebook__.ipynb",
      "output_path": "__notebook__.ipynb",
      "parameters": {},
      "start_time": "2022-12-04T11:40:21.982974",
      "version": "2.3.4"
    },
    "colab": {
      "provenance": []
    }
  },
  "nbformat": 4,
  "nbformat_minor": 5
}